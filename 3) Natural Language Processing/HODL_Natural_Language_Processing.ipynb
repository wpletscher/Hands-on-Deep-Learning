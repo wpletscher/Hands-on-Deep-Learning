{
 "cells": [
  {
   "cell_type": "markdown",
   "metadata": {
    "id": "96IhDX79u9HG"
   },
   "source": [
    "Notebook created by [Florian Grötschla](https://disco.ethz.ch/members/fgroetschla)\n",
    "\n",
    "<br>\n",
    "\n",
    "Updated:<br>\n",
    "For FS2024 by [Andreas Plesner](https://disco.ethz.ch/members/aplesner)<br>\n",
    "For HS2024 [Frédéric Berdoz](https://disco.ethz.ch/members/fberdoz)<br>\n",
    "For FS2025 by [Frédéric Berdoz](https://disco.ethz.ch/members/fberdoz) & [Till Aczel](https://disco.ethz.ch/members/taczel)\n"
   ]
  },
  {
   "cell_type": "code",
   "execution_count": 1,
   "metadata": {
    "ExecuteTime": {
     "end_time": "2025-02-19T12:44:57.947714Z",
     "start_time": "2025-02-19T12:44:57.942017Z"
    }
   },
   "outputs": [],
   "source": [
    "# Uncomment for Colab\n",
    "# !pip install datasets\n",
    "# !pip install accelerate --upgrade\n",
    "# !pip install transformers\n",
    "# !pip install evaluate\n",
    "\n",
    "# Uncomment for Snowflake\n",
    "import os\n",
    "import getpass\n",
    "user = getpass.getuser()\n",
    "cache_dir = os.path.join(\"/scratch\", user)\n",
    "os.makedirs(cache_dir, exist_ok=True)\n",
    "\n",
    "hf_cache_dir = os.path.join(cache_dir, \"hugging_face\")\n",
    "os.makedirs(hf_cache_dir, exist_ok=True)\n",
    "os.environ[\"HF_HOME\"] = os.path.abspath(hf_cache_dir)\n",
    "os.environ[\"HF_HUB_CACHE\"] = os.path.abspath(hf_cache_dir)\n",
    "\n",
    "import nltk\n",
    "nltk_cache_dir = os.path.join(cache_dir, \"nltk\")\n",
    "os.makedirs(nltk_cache_dir, exist_ok=True)\n",
    "nltk.data.path.clear()\n",
    "nltk.data.path.append(nltk_cache_dir)"
   ]
  },
  {
   "cell_type": "markdown",
   "metadata": {
    "id": "F-t5usKM7yRC"
   },
   "source": [
    "# Hands-On Deep Learning - Natural Language Processing\n",
    "In this session you will deal with Natural Language Processing (NLP). The whole notebook is structured as follows:\n",
    "\n",
    "*   Warmup: Word embeddings\n",
    "*   Tokenization\n",
    "*   Generative language models\n",
    "*   Sentiment analysis\n",
    "*   Pretrained models\n",
    "*   Finetuning\n",
    "\n",
    "Some of the things we will do are rather open-ended and you are always invited to test the models with your own input. Try to give it ambigious information, check for edge cases, break things and have fun.\n",
    "\n"
   ]
  },
  {
   "cell_type": "markdown",
   "metadata": {
    "id": "WFCPSh5n8esf"
   },
   "source": [
    "## Warmup: Word embeddings"
   ]
  },
  {
   "cell_type": "markdown",
   "metadata": {
    "id": "wz8AUI7Pazu-"
   },
   "source": [
    "As is commonplace for Natural Language Processing (NLP), we start our journey with a dataset containing text written by humans. Linguists and NLP researchers usually refer to such a dataset as a \"text corpus\" (plural: text corpora). There are a lot of datasets to choose from. For our introductory examples, we will look at the Brown corpus. It consists of one million words of American English texts printed in 1961 that linguists revised at Brown University. In the following, we use the Natural Language Toolkit (NLTK) that already provides the dataset for us. Let's import it!"
   ]
  },
  {
   "cell_type": "code",
   "execution_count": 3,
   "metadata": {
    "ExecuteTime": {
     "end_time": "2025-02-19T12:44:59.779732Z",
     "start_time": "2025-02-19T12:44:59.770986Z"
    },
    "id": "5WN6hOd0gjox"
   },
   "outputs": [
    {
     "name": "stderr",
     "output_type": "stream",
     "text": [
      "[nltk_data] Downloading package brown to /scratch/hodl_104fs25/nltk...\n",
      "[nltk_data]   Package brown is already up-to-date!\n",
      "[nltk_data] Downloading package punkt to /scratch/hodl_104fs25/nltk...\n",
      "[nltk_data]   Package punkt is already up-to-date!\n",
      "[nltk_data] Downloading package punkt_tab to\n",
      "[nltk_data]     /scratch/hodl_104fs25/nltk...\n",
      "[nltk_data]   Package punkt_tab is already up-to-date!\n"
     ]
    },
    {
     "data": {
      "text/plain": [
       "True"
      ]
     },
     "execution_count": 3,
     "metadata": {},
     "output_type": "execute_result"
    }
   ],
   "source": [
    "import nltk\n",
    "from nltk.corpus import brown\n",
    "\n",
    "nltk.download('brown', download_dir=nltk_cache_dir)\n",
    "nltk.download('punkt', download_dir=nltk_cache_dir)\n",
    "nltk.download('punkt_tab', download_dir=nltk_cache_dir)"
   ]
  },
  {
   "cell_type": "markdown",
   "metadata": {
    "id": "zmzAnGX2gp0t"
   },
   "source": [
    "We can now access the sentences by using `brown.sents()`. Every sentence is a list of words, for example the first one is:"
   ]
  },
  {
   "cell_type": "code",
   "execution_count": 4,
   "metadata": {
    "ExecuteTime": {
     "end_time": "2025-02-19T12:44:59.995862Z",
     "start_time": "2025-02-19T12:44:59.851846Z"
    },
    "id": "mFZ5Eed-hKEo"
   },
   "outputs": [
    {
     "name": "stdout",
     "output_type": "stream",
     "text": [
      "['The', 'Fulton', 'County', 'Grand', 'Jury', 'said', 'Friday', 'an', 'investigation', 'of', \"Atlanta's\", 'recent', 'primary', 'election', 'produced', '``', 'no', 'evidence', \"''\", 'that', 'any', 'irregularities', 'took', 'place', '.']\n"
     ]
    }
   ],
   "source": [
    "print(brown.sents()[0])"
   ]
  },
  {
   "cell_type": "markdown",
   "metadata": {
    "id": "VLoTUIDNhV-3"
   },
   "source": [
    "We could think of a lot of tasks to solve on this dataset. A very general one is to find \"embeddings\" for words in the corpus such that words that are \"similar\" to each other are close in the embedding space.\n",
    "\n",
    "Let's go into more detail and understand what this means. Embeddings are real-valued vectors of a certain size (the exact size depends on the task, and we are free to choose it). Assume that we decided to have vectors of size 100 for every unique word. Next, we define what it means to be \"close\" for these vectors. For that, we use cosine similarity, a measure that is defined over the cosine of angles between the two vectors."
   ]
  },
  {
   "cell_type": "markdown",
   "metadata": {
    "id": "I4sUtb3pEwVi"
   },
   "source": [
    "The embeddings are useful as they encode (hopefully a lot of) the meaning and information that a word bears. We can use them to directly compare words while they remain at a fixed size. Let's look at an example to get some more intuition."
   ]
  },
  {
   "cell_type": "markdown",
   "metadata": {
    "id": "W9FqlAqCHJDE"
   },
   "source": [
    "### Word2Vec"
   ]
  },
  {
   "cell_type": "markdown",
   "metadata": {
    "id": "3ChFjQU1HfTt"
   },
   "source": [
    "Word2Vec does exactly what the name suggests. It maps words to vector embeddings with the desirable properties we mentioned before. Training works in an unsupervised fashion, meaning that we don't need any labels and can just pass our text corpus to Word2Vec for training. The output is a simple mapping from words that are contained in the corpus to its vector embedding, where every entry of the vectors is in [-1, 1]. Embeddings are generated by maximizing the similarity between words that appear close to each other (for example in the same sentence). This approach follows the distributional hypothesis about language formulated by Harris in 1954:\n",
    "\n",
    "\n",
    "> The Distributional Hypothesis is that words that occur in the same contexts tend to have similar meanings.\n",
    "\n",
    "\n",
    "The gensim package provides all we need to train our first Word2Vec model:"
   ]
  },
  {
   "cell_type": "code",
   "execution_count": 5,
   "metadata": {
    "ExecuteTime": {
     "end_time": "2025-02-19T12:45:00.124098Z",
     "start_time": "2025-02-19T12:44:59.998786Z"
    },
    "id": "fs-59MsuaDeV"
   },
   "outputs": [],
   "source": [
    "from gensim.models import Word2Vec"
   ]
  },
  {
   "cell_type": "markdown",
   "metadata": {
    "id": "AzpD2Zq3aQ2t"
   },
   "source": [
    "Training the model is easy, we just pass the text corpus (this can take a few seconds to a minutes):"
   ]
  },
  {
   "cell_type": "code",
   "execution_count": 6,
   "metadata": {
    "ExecuteTime": {
     "end_time": "2025-02-19T12:45:14.242664Z",
     "start_time": "2025-02-19T12:45:00.125732Z"
    },
    "id": "giKTgbfhaYEQ"
   },
   "outputs": [],
   "source": [
    "# We fix the seed to ensure consistent output for these exercises\n",
    "model = Word2Vec(brown.sents(), seed=1)"
   ]
  },
  {
   "cell_type": "markdown",
   "metadata": {
    "id": "ODjvj_s6al-Z"
   },
   "source": [
    "Accessing the word vectors is straightforward:"
   ]
  },
  {
   "cell_type": "code",
   "execution_count": 7,
   "metadata": {
    "ExecuteTime": {
     "end_time": "2025-02-19T12:45:14.253782Z",
     "start_time": "2025-02-19T12:45:14.245345Z"
    },
    "id": "0t6_99kaavE7"
   },
   "outputs": [
    {
     "data": {
      "text/plain": [
       "array([-0.16110793,  0.60717964,  0.35359114,  0.19399843, -0.14956428,\n",
       "       -0.15904284,  0.3373386 ,  0.8684063 , -0.45276743, -0.6252778 ,\n",
       "       -0.02872451, -0.2684673 ,  0.14317995, -0.01572894,  0.32939652,\n",
       "       -0.17730021,  0.19286442, -0.1933357 , -0.16676264, -0.6083555 ,\n",
       "        0.07171609, -0.09315867,  0.4031362 ,  0.32085806, -0.22603804,\n",
       "        0.04289477, -0.2756158 , -0.01236506, -0.09356611,  0.06808332,\n",
       "        0.35972595, -0.46165773,  0.18316193, -0.26290238, -0.15758924,\n",
       "        0.04136357,  0.296428  ,  0.07451594, -0.0850405 ,  0.0073288 ,\n",
       "        0.27170032, -0.37403065, -0.17936584,  0.22977334,  0.05468909,\n",
       "       -0.33383423, -0.09168457, -0.16568802,  0.18261364,  0.27883175,\n",
       "       -0.03269152, -0.5111636 , -0.47575036, -0.16967015,  0.01233291,\n",
       "       -0.0642975 ,  0.2701164 ,  0.12167313, -0.3073011 , -0.06892833,\n",
       "       -0.12041195,  0.0768855 ,  0.22326234,  0.03755995, -0.30161384,\n",
       "        0.31543094,  0.18327174,  0.40036267, -0.3730802 ,  0.5238399 ,\n",
       "        0.23556353,  0.24648525,  0.33295316, -0.0885687 ,  0.14405218,\n",
       "        0.14043471,  0.01669551, -0.09268461, -0.03206665, -0.05830537,\n",
       "       -0.2915541 ,  0.04959731, -0.01318778,  0.48452812,  0.03331468,\n",
       "       -0.07618301, -0.03415838,  0.24850893,  0.19905397,  0.2556721 ,\n",
       "        0.25799644, -0.08040076, -0.05296097, -0.23064601,  0.25702098,\n",
       "        0.08717343,  0.18257159, -0.17744225,  0.03137992, -0.03271526],\n",
       "      dtype=float32)"
      ]
     },
     "execution_count": 7,
     "metadata": {},
     "output_type": "execute_result"
    }
   ],
   "source": [
    "model.wv['machine']"
   ]
  },
  {
   "cell_type": "markdown",
   "metadata": {
    "id": "z1-NPiaAbCg_"
   },
   "source": [
    "With the default setting, the model produced vectors of size 100. While the embedding of the word `machine` is not very interesting on its own, we can now compare it to other words (by computing the cosine similarity)."
   ]
  },
  {
   "cell_type": "code",
   "execution_count": 8,
   "metadata": {
    "ExecuteTime": {
     "end_time": "2025-02-19T12:45:14.277148Z",
     "start_time": "2025-02-19T12:45:14.257393Z"
    },
    "id": "eJCK-Y2ibBrV"
   },
   "outputs": [
    {
     "data": {
      "text/plain": [
       "0.7761395"
      ]
     },
     "execution_count": 8,
     "metadata": {},
     "output_type": "execute_result"
    }
   ],
   "source": [
    "model.wv.similarity('machine', 'learning')"
   ]
  },
  {
   "cell_type": "markdown",
   "metadata": {
    "id": "aZnjtozKbrtB"
   },
   "source": [
    "Not too bad, even in 1963, there seems to be some connection between machines and learning. What if we want to find the three closest words from the corpus?"
   ]
  },
  {
   "cell_type": "code",
   "execution_count": 10,
   "metadata": {
    "ExecuteTime": {
     "end_time": "2025-02-19T12:45:14.340357Z",
     "start_time": "2025-02-19T12:45:14.278742Z"
    },
    "id": "uSRYpbB2bqzo"
   },
   "outputs": [
    {
     "data": {
      "text/plain": [
       "[('slipping', 0.9568922519683838),\n",
       " ('rush', 0.9528999328613281),\n",
       " ('portrayal', 0.9512049555778503)]"
      ]
     },
     "execution_count": 10,
     "metadata": {},
     "output_type": "execute_result"
    }
   ],
   "source": [
    "model.wv.most_similar(positive=['machine'], topn=3)"
   ]
  },
  {
   "cell_type": "markdown",
   "metadata": {
    "id": "hXq-MiA3cafX"
   },
   "source": [
    "Okay, it looks like machines and flames were often used together."
   ]
  },
  {
   "cell_type": "markdown",
   "metadata": {
    "id": "b36QmXdnT84T"
   },
   "source": [
    "#### **Exercise 1**\n",
    "Find a word with a lower similarity to `machine` than `learning`."
   ]
  },
  {
   "cell_type": "code",
   "execution_count": 36,
   "metadata": {
    "tags": [
     "exercise"
    ]
   },
   "outputs": [
    {
     "data": {
      "text/plain": [
       "0.58601403"
      ]
     },
     "execution_count": 36,
     "metadata": {},
     "output_type": "execute_result"
    }
   ],
   "source": [
    "###### Exercise ######\n",
    "model.wv.similarity('machine', 'word')  # Should be lower than 0.79 "
   ]
  },
  {
   "cell_type": "markdown",
   "metadata": {
    "id": "_MBhMlxZcsHL"
   },
   "source": [
    "You may already have noticed that we passed `machine` as a \"positive\" word, meaning we want to maximize closeness to it. We can give negative examples to find words that maximize the distance to these. Sometimes it is even possible to do arithmetic with these embeddings.\n",
    "\n",
    "For example: If you take the embedding of the word `Germany`, subtract `Berlin` from it, and add `Paris`, you get `France`. In other words, we want to compute the most similar word embedding to\n",
    "```\n",
    "Germany - Berlin + Paris\n",
    "```\n",
    "So let's do just that."
   ]
  },
  {
   "cell_type": "code",
   "execution_count": 34,
   "metadata": {
    "ExecuteTime": {
     "end_time": "2025-02-19T12:45:14.368351Z",
     "start_time": "2025-02-19T12:45:14.358880Z"
    },
    "id": "es_2DyijIPwK"
   },
   "outputs": [
    {
     "data": {
      "text/plain": [
       "[('France', 0.9240944385528564)]"
      ]
     },
     "execution_count": 34,
     "metadata": {},
     "output_type": "execute_result"
    }
   ],
   "source": [
    "model.wv.most_similar(positive=['Germany', 'Paris'], negative=['Berlin'], topn=1)"
   ]
  },
  {
   "cell_type": "markdown",
   "metadata": {
    "id": "mH9EwMaCIyRa"
   },
   "source": [
    "Sometimes words can have multiple meanings (such words are also called homonyms). The word `arm` can be a body part or a weapon. If we look at the closest words to it, we find that it mainly refers to the body part:"
   ]
  },
  {
   "cell_type": "code",
   "execution_count": 37,
   "metadata": {
    "ExecuteTime": {
     "end_time": "2025-02-19T12:45:14.379022Z",
     "start_time": "2025-02-19T12:45:14.370775Z"
    },
    "id": "2f0d3ZrhJRH5"
   },
   "outputs": [
    {
     "data": {
      "text/plain": [
       "[(\"father's\", 0.9685064554214478),\n",
       " ('mouth', 0.9513696432113647),\n",
       " ('clothes', 0.9500321745872498),\n",
       " ('fingers', 0.9456374645233154),\n",
       " ('lap', 0.9446326494216919),\n",
       " ('knees', 0.944530725479126),\n",
       " ('lips', 0.9434366822242737),\n",
       " ('chair', 0.9346094131469727),\n",
       " ('throat', 0.9332626461982727),\n",
       " ('hat', 0.9315555095672607)]"
      ]
     },
     "execution_count": 37,
     "metadata": {},
     "output_type": "execute_result"
    }
   ],
   "source": [
    "model.wv.most_similar(positive=['arm'], topn=10)"
   ]
  },
  {
   "cell_type": "markdown",
   "metadata": {
    "id": "2A5Zb4U4JWRR"
   },
   "source": [
    "#### **Exercise 2**\n",
    "Now it's up to you, find an expression that returns the closest words that are also weapons:"
   ]
  },
  {
   "cell_type": "code",
   "execution_count": 109,
   "metadata": {
    "ExecuteTime": {
     "end_time": "2025-02-19T12:45:14.389381Z",
     "start_time": "2025-02-19T12:45:14.382015Z"
    },
    "id": "1aXQB-2UcZt8",
    "tags": [
     "exercise"
    ]
   },
   "outputs": [
    {
     "data": {
      "text/plain": [
       "[('desk', 0.9277215003967285),\n",
       " ('dinner', 0.924517810344696),\n",
       " ('shot', 0.9238730072975159),\n",
       " ('hat', 0.9187799692153931),\n",
       " ('patient', 0.9164566397666931),\n",
       " ('pocket', 0.9154877662658691),\n",
       " ('uncle', 0.9117914438247681),\n",
       " ('wedding', 0.9109753370285034),\n",
       " ('train', 0.9101942777633667),\n",
       " ('bedroom', 0.9089393615722656),\n",
       " ('nose', 0.9089046716690063),\n",
       " ('ship', 0.906600296497345),\n",
       " ('shoulder', 0.9063599109649658),\n",
       " ('London', 0.9062537550926208),\n",
       " ('horse', 0.9050155878067017),\n",
       " ('rifle', 0.9041222929954529),\n",
       " ('trip', 0.9035778641700745),\n",
       " ('feather', 0.9028747081756592),\n",
       " ('hips', 0.9014105200767517),\n",
       " ('stall', 0.8979692459106445),\n",
       " ('streetcar', 0.8979504704475403),\n",
       " ('office', 0.8974058032035828),\n",
       " ('bed', 0.8964762687683105),\n",
       " ('knees', 0.8956819176673889),\n",
       " ('neck', 0.8956053853034973),\n",
       " ('wind', 0.8955543637275696),\n",
       " ('gun', 0.8953450322151184),\n",
       " ('broken', 0.8940654397010803),\n",
       " ('ball', 0.8934748768806458),\n",
       " ('envelope', 0.8934171795845032)]"
      ]
     },
     "execution_count": 109,
     "metadata": {},
     "output_type": "execute_result"
    }
   ],
   "source": [
    "###### Exercise ######\n",
    "model.wv.most_similar(positive=['arm', 'war', 'steel', 'death'], negative=['human'], topn=30)"
   ]
  },
  {
   "cell_type": "markdown",
   "metadata": {
    "id": "Q5FKB_ef1mZ8"
   },
   "source": [
    "You may have noticed that you get an error if you try to look up a word that is not in the corpus. This is, of course, because we only get embeddings for words we have already seen. So what can we do if we also want to be able to deal with new words? The answer is a more general approach for tokenization!"
   ]
  },
  {
   "cell_type": "markdown",
   "metadata": {
    "id": "vlPbromQKY34"
   },
   "source": [
    "## Tokenization"
   ]
  },
  {
   "cell_type": "markdown",
   "metadata": {
    "id": "yNig9MoVLgjL"
   },
   "source": [
    "In our previous examples, we used the Brown text corpus, which was conveniently split into sentences and words. When computing embeddings for words with Word2Vec, we could take these separate words and hand them over to the algorithm.\n",
    "\n",
    "When confronted with text data in the real world, we will have to extract these words ourselves and deal with all the exceptional cases that may arise. Look at this excerpt from the official ETH Twitter. What is a good list of words here?\n",
    "\n",
    "``` Yesterday and today our first-year students received the #ETHHoodie after passing their exams. 🎉 We congratulate you all and wish you a lot of success for the future! ```\n",
    "\n",
    "It is unclear how to deal with punctuation marks, numbers, hyphens, emojis, or other special characters. Under some circumstances, we might also want to remove characters like apostrophes. Finding good representations is crucial for any downstream machine-learning task we want to apply. And it might not even be words that we are trying to identify, but we might like to work on the level of sentences or single characters! What if we want to find embeddings for tuples of words like \"machine learning\" or \"San Francisco\"?\n",
    "\n",
    "There are many ways to split text into single pieces. NLP researches call these meaningful and immutable pieces \"tokens,\" and the process of transforming text into a stream of tokens is called \"tokenization\".\n",
    "\n",
    "Of course, many tokenizers already exist that can handle all the intricacies of punctuation and special characters. Some of them are already packaged with nltk.\n",
    "\n",
    "When we tokenize our tweet, we get this representation:"
   ]
  },
  {
   "cell_type": "code",
   "execution_count": 110,
   "metadata": {
    "ExecuteTime": {
     "end_time": "2025-02-19T12:45:14.474159Z",
     "start_time": "2025-02-19T12:45:14.448310Z"
    },
    "id": "EKjbFpWLw-Lv"
   },
   "outputs": [
    {
     "name": "stdout",
     "output_type": "stream",
     "text": [
      "['Yesterday', 'and', 'today', 'our', 'first-year', 'students', 'received', 'the', '#', 'ETHHoodie', 'after', 'passing', 'their', 'exams', '.', '🎉', 'We', 'congratulate', 'you', 'all', 'and', 'wish', 'you', 'a', 'lot', 'of', 'success', 'for', 'the', 'future', '!']\n"
     ]
    }
   ],
   "source": [
    "import nltk.tokenize\n",
    "\n",
    "text = 'Yesterday and today our first-year students received the #ETHHoodie after passing their exams. 🎉 We congratulate you all and wish you a lot of success for the future!'\n",
    "print(nltk.tokenize.word_tokenize(text))"
   ]
  },
  {
   "cell_type": "markdown",
   "metadata": {
    "id": "8pE5lgcY0vMV"
   },
   "source": [
    "Notice how punctuation is automatically identified (and that the `#` is split from the tag too). We are not just splitting the text on white spaces here."
   ]
  },
  {
   "cell_type": "markdown",
   "metadata": {
    "id": "EDYwvBxPZbRg"
   },
   "source": [
    "Here are some other challenging cases:"
   ]
  },
  {
   "cell_type": "code",
   "execution_count": 111,
   "metadata": {
    "ExecuteTime": {
     "end_time": "2025-02-19T12:45:14.478914Z",
     "start_time": "2025-02-19T12:45:14.475576Z"
    },
    "id": "zXDXqueFZhXe"
   },
   "outputs": [
    {
     "name": "stdout",
     "output_type": "stream",
     "text": [
      "['are', \"n't\", 'dos', 'and', \"don'ts\"]\n",
      "['Mr.', 'Smith', 'bought', 'a', 'U.K.', 'newspaper', '.']\n",
      "['She', 'said', ',', \"'Hello\", 'there', '!', \"'\", 'and', 'waved', '.']\n",
      "['It', \"'s\", '3:45', 'p.m.', 'on', 'Jan', '.']\n"
     ]
    }
   ],
   "source": [
    "print(nltk.tokenize.word_tokenize(\"aren't dos and don'ts\"))\n",
    "print(nltk.tokenize.word_tokenize(\"Mr. Smith bought a U.K. newspaper.\"))\n",
    "print(nltk.tokenize.word_tokenize(\"She said, 'Hello there!' and waved.\"))\n",
    "print(nltk.tokenize.word_tokenize(\"It's 3:45 p.m. on Jan.\"))"
   ]
  },
  {
   "cell_type": "markdown",
   "metadata": {
    "id": "lYHCLz1E6AGW"
   },
   "source": [
    "Getting meaningful representations for these requires some thought and is something you probably do not want to do on your own but use a library. Especially because every language is different. German is notoriously challenging because of its compound nouns. For example, for most tasks, you would probably like to split the word `Prüfungsplanstelle` into the three words it is made up of."
   ]
  },
  {
   "cell_type": "markdown",
   "metadata": {
    "id": "kszLDKK2VEo2"
   },
   "source": [
    "There are many more advanced tokenizers like SpaCy that provide language-specific tokenization and can be customized with your own rules."
   ]
  },
  {
   "cell_type": "markdown",
   "metadata": {
    "id": "HSn1rwdJ1Uda"
   },
   "source": [
    "### Modern Tokenizer"
   ]
  },
  {
   "cell_type": "markdown",
   "metadata": {
    "id": "yeWrrTLeJSNv"
   },
   "source": [
    "\n",
    "Bidirectional Encoder Representations from Transformers ([BERT](https://en.wikipedia.org/wiki/BERT_(language_model))) was developed by Google and is a family of machine learning models that are based on transformers. We will see how to use (pretrained) versions of this later. For now, we focus on its tokenization to exemplify the workflow and changes we need for language models."
   ]
  },
  {
   "cell_type": "markdown",
   "metadata": {
    "id": "K9ZS_NUOMm4E"
   },
   "source": [
    "We usually want to use a fixed-size vocabulary when building large language models. This enables us to represent every token with an element from a fixed size set of vectors that we can pass to the model (we also need these vectors to be of fixed size, because our neural networks can only deal with fixed-size inputs). For example, we can build a list of all words in the vocabulary and use the index of a word in this list to identify it. Also, because a language model can not infer much information from an identifier it has never seen during training, the vocabulary size must stay fixed. At the same time, we want to feed arbitrary words to the language model after it has been trained. But how can we encode arbitrary words with a vocabulary that has a fixed size? (More about this in a moment)\n",
    "In essence, the tokenizer now has two steps:\n",
    "\n",
    "1.   We \"train\" the tokenizer on some corpus and generate the vocabulary. Different languages usually require different tokenizers as they create different vocabularies of common words. There are also multilingual tokenizers; a tradeoff we must always keep in mind is the size of the resulting vocabulary. Smaller is generally better.\n",
    "2.   After the training, we can run the tokenizer on arbitrary input and get a sequence of tokens.\n",
    "\n",
    "\n"
   ]
  },
  {
   "cell_type": "markdown",
   "metadata": {
    "id": "jpzvlZ8TP_8M"
   },
   "source": [
    "Let's look at an example to understand what's going on here. We can use pretrained versions of the tokenizer for BERT:"
   ]
  },
  {
   "cell_type": "code",
   "execution_count": 112,
   "metadata": {
    "ExecuteTime": {
     "end_time": "2025-02-19T12:45:17.424253Z",
     "start_time": "2025-02-19T12:45:14.493555Z"
    },
    "id": "RFfwGF6i2gRV"
   },
   "outputs": [],
   "source": [
    "%%capture\n",
    "import torch\n",
    "from transformers import BertTokenizer\n",
    "\n",
    "tokenizer = BertTokenizer.from_pretrained('bert-base-uncased')"
   ]
  },
  {
   "cell_type": "markdown",
   "metadata": {
    "id": "1zAAOvF4QU9i"
   },
   "source": [
    "With everything set up, we can look at the BERT tokenization of our tweet:"
   ]
  },
  {
   "cell_type": "code",
   "execution_count": 113,
   "metadata": {
    "ExecuteTime": {
     "end_time": "2025-02-19T12:45:17.434253Z",
     "start_time": "2025-02-19T12:45:17.426696Z"
    },
    "id": "YKarR5Gx29hy"
   },
   "outputs": [
    {
     "name": "stdout",
     "output_type": "stream",
     "text": [
      "['yesterday', 'and', 'today', 'our', 'first', '-', 'year', 'students', 'received', 'the', '#', 'et', '##hh', '##ood', '##ie', 'after', 'passing', 'their', 'exams', '.', '[UNK]', 'we', 'cong', '##rat', '##ulate', 'you', 'all', 'and', 'wish', 'you', 'a', 'lot', 'of', 'success', 'for', 'the', 'future', '!']\n"
     ]
    }
   ],
   "source": [
    "tokenized_text = tokenizer.tokenize(text)\n",
    "print(tokenized_text)"
   ]
  },
  {
   "cell_type": "markdown",
   "metadata": {
    "id": "1fF2yYBoQ9dR"
   },
   "source": [
    "We can see several things here:\n",
    "\n",
    "*   The output is entirely in lower case. This is beneficial in a lot of tasks, but there are also BERT tokenizers that keep capitalization. We imported the `bert-base-uncased` tokenizer. You can also test the `cased` version.\n",
    "*   What are these tokens starting with `##`? They appear, for example, for the word `congratulate`, which is split into `cong`, `##rat` and `##ulate`. This is because `congratulate` is not part of the vocabulary and thus split into meaningful substrings. Tokens that start with `##` indicate that the following characters are a suffix to the previous word. By doing so, we can encode arbitrary words by splitting them into small pieces that exist in our vocabulary!\n",
    "*   BERT also has a set of special tokens. Here we see `[UNK]`. This represents an \"unknown\" input, in our case, an emoji. Adding all existing emojis to the vocabulary would inflate it massively, so they are replaced by a mention of something unknown in the input.\n",
    "\n"
   ]
  },
  {
   "cell_type": "markdown",
   "metadata": {
    "id": "Ks_fiPym191v"
   },
   "source": [
    "Now it's your turn to play around with BERT tokenization and check how different words are represented as tokens. You could try the more complicated examples we mentioned before or try to input text in other languages. Could some of the representations cause problems for the downstream tasks later on?"
   ]
  },
  {
   "cell_type": "code",
   "execution_count": 116,
   "metadata": {
    "ExecuteTime": {
     "end_time": "2025-02-19T12:45:17.447632Z",
     "start_time": "2025-02-19T12:45:17.436346Z"
    },
    "id": "Wnwpq7H02mfO"
   },
   "outputs": [
    {
     "data": {
      "text/plain": [
       "['don',\n",
       " '##de',\n",
       " 'est',\n",
       " '##a',\n",
       " 'la',\n",
       " 'bi',\n",
       " '##bl',\n",
       " '##iot',\n",
       " '##eca',\n",
       " '?',\n",
       " 'la',\n",
       " 'bi',\n",
       " '##bl',\n",
       " '##iot',\n",
       " '##eca',\n",
       " 'est',\n",
       " '##a',\n",
       " 'en',\n",
       " 'la',\n",
       " 'ciudad',\n",
       " 'de',\n",
       " 'mexico',\n",
       " '.']"
      ]
     },
     "execution_count": 116,
     "metadata": {},
     "output_type": "execute_result"
    }
   ],
   "source": [
    "tokenizer.tokenize('Donde esta la biblioteca? La biblioteca esta en la ciudad de Mexico.')"
   ]
  },
  {
   "cell_type": "markdown",
   "metadata": {
    "id": "_2LSXAw619sw"
   },
   "source": [
    "To finish up with BERT tokenization, let's inspect the vocabulary. We can access it with `tokenizer.vocab`. It contains the representations and their ids. Let's look at the representations:"
   ]
  },
  {
   "cell_type": "code",
   "execution_count": 117,
   "metadata": {
    "ExecuteTime": {
     "end_time": "2025-02-19T12:45:17.511030Z",
     "start_time": "2025-02-19T12:45:17.450109Z"
    },
    "id": "JeaGgvcg3LQr"
   },
   "outputs": [
    {
     "data": {
      "text/plain": [
       "odict_keys(['[PAD]', '[unused0]', '[unused1]', '[unused2]', '[unused3]', '[unused4]', '[unused5]', '[unused6]', '[unused7]', '[unused8]', '[unused9]', '[unused10]', '[unused11]', '[unused12]', '[unused13]', '[unused14]', '[unused15]', '[unused16]', '[unused17]', '[unused18]', '[unused19]', '[unused20]', '[unused21]', '[unused22]', '[unused23]', '[unused24]', '[unused25]', '[unused26]', '[unused27]', '[unused28]', '[unused29]', '[unused30]', '[unused31]', '[unused32]', '[unused33]', '[unused34]', '[unused35]', '[unused36]', '[unused37]', '[unused38]', '[unused39]', '[unused40]', '[unused41]', '[unused42]', '[unused43]', '[unused44]', '[unused45]', '[unused46]', '[unused47]', '[unused48]', '[unused49]', '[unused50]', '[unused51]', '[unused52]', '[unused53]', '[unused54]', '[unused55]', '[unused56]', '[unused57]', '[unused58]', '[unused59]', '[unused60]', '[unused61]', '[unused62]', '[unused63]', '[unused64]', '[unused65]', '[unused66]', '[unused67]', '[unused68]', '[unused69]', '[unused70]', '[unused71]', '[unused72]', '[unused73]', '[unused74]', '[unused75]', '[unused76]', '[unused77]', '[unused78]', '[unused79]', '[unused80]', '[unused81]', '[unused82]', '[unused83]', '[unused84]', '[unused85]', '[unused86]', '[unused87]', '[unused88]', '[unused89]', '[unused90]', '[unused91]', '[unused92]', '[unused93]', '[unused94]', '[unused95]', '[unused96]', '[unused97]', '[unused98]', '[UNK]', '[CLS]', '[SEP]', '[MASK]', '[unused99]', '[unused100]', '[unused101]', '[unused102]', '[unused103]', '[unused104]', '[unused105]', '[unused106]', '[unused107]', '[unused108]', '[unused109]', '[unused110]', '[unused111]', '[unused112]', '[unused113]', '[unused114]', '[unused115]', '[unused116]', '[unused117]', '[unused118]', '[unused119]', '[unused120]', '[unused121]', '[unused122]', '[unused123]', '[unused124]', '[unused125]', '[unused126]', '[unused127]', '[unused128]', '[unused129]', '[unused130]', '[unused131]', '[unused132]', '[unused133]', '[unused134]', '[unused135]', '[unused136]', '[unused137]', '[unused138]', '[unused139]', '[unused140]', '[unused141]', '[unused142]', '[unused143]', '[unused144]', '[unused145]', '[unused146]', '[unused147]', '[unused148]', '[unused149]', '[unused150]', '[unused151]', '[unused152]', '[unused153]', '[unused154]', '[unused155]', '[unused156]', '[unused157]', '[unused158]', '[unused159]', '[unused160]', '[unused161]', '[unused162]', '[unused163]', '[unused164]', '[unused165]', '[unused166]', '[unused167]', '[unused168]', '[unused169]', '[unused170]', '[unused171]', '[unused172]', '[unused173]', '[unused174]', '[unused175]', '[unused176]', '[unused177]', '[unused178]', '[unused179]', '[unused180]', '[unused181]', '[unused182]', '[unused183]', '[unused184]', '[unused185]', '[unused186]', '[unused187]', '[unused188]', '[unused189]', '[unused190]', '[unused191]', '[unused192]', '[unused193]', '[unused194]', '[unused195]', '[unused196]', '[unused197]', '[unused198]', '[unused199]', '[unused200]', '[unused201]', '[unused202]', '[unused203]', '[unused204]', '[unused205]', '[unused206]', '[unused207]', '[unused208]', '[unused209]', '[unused210]', '[unused211]', '[unused212]', '[unused213]', '[unused214]', '[unused215]', '[unused216]', '[unused217]', '[unused218]', '[unused219]', '[unused220]', '[unused221]', '[unused222]', '[unused223]', '[unused224]', '[unused225]', '[unused226]', '[unused227]', '[unused228]', '[unused229]', '[unused230]', '[unused231]', '[unused232]', '[unused233]', '[unused234]', '[unused235]', '[unused236]', '[unused237]', '[unused238]', '[unused239]', '[unused240]', '[unused241]', '[unused242]', '[unused243]', '[unused244]', '[unused245]', '[unused246]', '[unused247]', '[unused248]', '[unused249]', '[unused250]', '[unused251]', '[unused252]', '[unused253]', '[unused254]', '[unused255]', '[unused256]', '[unused257]', '[unused258]', '[unused259]', '[unused260]', '[unused261]', '[unused262]', '[unused263]', '[unused264]', '[unused265]', '[unused266]', '[unused267]', '[unused268]', '[unused269]', '[unused270]', '[unused271]', '[unused272]', '[unused273]', '[unused274]', '[unused275]', '[unused276]', '[unused277]', '[unused278]', '[unused279]', '[unused280]', '[unused281]', '[unused282]', '[unused283]', '[unused284]', '[unused285]', '[unused286]', '[unused287]', '[unused288]', '[unused289]', '[unused290]', '[unused291]', '[unused292]', '[unused293]', '[unused294]', '[unused295]', '[unused296]', '[unused297]', '[unused298]', '[unused299]', '[unused300]', '[unused301]', '[unused302]', '[unused303]', '[unused304]', '[unused305]', '[unused306]', '[unused307]', '[unused308]', '[unused309]', '[unused310]', '[unused311]', '[unused312]', '[unused313]', '[unused314]', '[unused315]', '[unused316]', '[unused317]', '[unused318]', '[unused319]', '[unused320]', '[unused321]', '[unused322]', '[unused323]', '[unused324]', '[unused325]', '[unused326]', '[unused327]', '[unused328]', '[unused329]', '[unused330]', '[unused331]', '[unused332]', '[unused333]', '[unused334]', '[unused335]', '[unused336]', '[unused337]', '[unused338]', '[unused339]', '[unused340]', '[unused341]', '[unused342]', '[unused343]', '[unused344]', '[unused345]', '[unused346]', '[unused347]', '[unused348]', '[unused349]', '[unused350]', '[unused351]', '[unused352]', '[unused353]', '[unused354]', '[unused355]', '[unused356]', '[unused357]', '[unused358]', '[unused359]', '[unused360]', '[unused361]', '[unused362]', '[unused363]', '[unused364]', '[unused365]', '[unused366]', '[unused367]', '[unused368]', '[unused369]', '[unused370]', '[unused371]', '[unused372]', '[unused373]', '[unused374]', '[unused375]', '[unused376]', '[unused377]', '[unused378]', '[unused379]', '[unused380]', '[unused381]', '[unused382]', '[unused383]', '[unused384]', '[unused385]', '[unused386]', '[unused387]', '[unused388]', '[unused389]', '[unused390]', '[unused391]', '[unused392]', '[unused393]', '[unused394]', '[unused395]', '[unused396]', '[unused397]', '[unused398]', '[unused399]', '[unused400]', '[unused401]', '[unused402]', '[unused403]', '[unused404]', '[unused405]', '[unused406]', '[unused407]', '[unused408]', '[unused409]', '[unused410]', '[unused411]', '[unused412]', '[unused413]', '[unused414]', '[unused415]', '[unused416]', '[unused417]', '[unused418]', '[unused419]', '[unused420]', '[unused421]', '[unused422]', '[unused423]', '[unused424]', '[unused425]', '[unused426]', '[unused427]', '[unused428]', '[unused429]', '[unused430]', '[unused431]', '[unused432]', '[unused433]', '[unused434]', '[unused435]', '[unused436]', '[unused437]', '[unused438]', '[unused439]', '[unused440]', '[unused441]', '[unused442]', '[unused443]', '[unused444]', '[unused445]', '[unused446]', '[unused447]', '[unused448]', '[unused449]', '[unused450]', '[unused451]', '[unused452]', '[unused453]', '[unused454]', '[unused455]', '[unused456]', '[unused457]', '[unused458]', '[unused459]', '[unused460]', '[unused461]', '[unused462]', '[unused463]', '[unused464]', '[unused465]', '[unused466]', '[unused467]', '[unused468]', '[unused469]', '[unused470]', '[unused471]', '[unused472]', '[unused473]', '[unused474]', '[unused475]', '[unused476]', '[unused477]', '[unused478]', '[unused479]', '[unused480]', '[unused481]', '[unused482]', '[unused483]', '[unused484]', '[unused485]', '[unused486]', '[unused487]', '[unused488]', '[unused489]', '[unused490]', '[unused491]', '[unused492]', '[unused493]', '[unused494]', '[unused495]', '[unused496]', '[unused497]', '[unused498]', '[unused499]', '[unused500]', '[unused501]', '[unused502]', '[unused503]', '[unused504]', '[unused505]', '[unused506]', '[unused507]', '[unused508]', '[unused509]', '[unused510]', '[unused511]', '[unused512]', '[unused513]', '[unused514]', '[unused515]', '[unused516]', '[unused517]', '[unused518]', '[unused519]', '[unused520]', '[unused521]', '[unused522]', '[unused523]', '[unused524]', '[unused525]', '[unused526]', '[unused527]', '[unused528]', '[unused529]', '[unused530]', '[unused531]', '[unused532]', '[unused533]', '[unused534]', '[unused535]', '[unused536]', '[unused537]', '[unused538]', '[unused539]', '[unused540]', '[unused541]', '[unused542]', '[unused543]', '[unused544]', '[unused545]', '[unused546]', '[unused547]', '[unused548]', '[unused549]', '[unused550]', '[unused551]', '[unused552]', '[unused553]', '[unused554]', '[unused555]', '[unused556]', '[unused557]', '[unused558]', '[unused559]', '[unused560]', '[unused561]', '[unused562]', '[unused563]', '[unused564]', '[unused565]', '[unused566]', '[unused567]', '[unused568]', '[unused569]', '[unused570]', '[unused571]', '[unused572]', '[unused573]', '[unused574]', '[unused575]', '[unused576]', '[unused577]', '[unused578]', '[unused579]', '[unused580]', '[unused581]', '[unused582]', '[unused583]', '[unused584]', '[unused585]', '[unused586]', '[unused587]', '[unused588]', '[unused589]', '[unused590]', '[unused591]', '[unused592]', '[unused593]', '[unused594]', '[unused595]', '[unused596]', '[unused597]', '[unused598]', '[unused599]', '[unused600]', '[unused601]', '[unused602]', '[unused603]', '[unused604]', '[unused605]', '[unused606]', '[unused607]', '[unused608]', '[unused609]', '[unused610]', '[unused611]', '[unused612]', '[unused613]', '[unused614]', '[unused615]', '[unused616]', '[unused617]', '[unused618]', '[unused619]', '[unused620]', '[unused621]', '[unused622]', '[unused623]', '[unused624]', '[unused625]', '[unused626]', '[unused627]', '[unused628]', '[unused629]', '[unused630]', '[unused631]', '[unused632]', '[unused633]', '[unused634]', '[unused635]', '[unused636]', '[unused637]', '[unused638]', '[unused639]', '[unused640]', '[unused641]', '[unused642]', '[unused643]', '[unused644]', '[unused645]', '[unused646]', '[unused647]', '[unused648]', '[unused649]', '[unused650]', '[unused651]', '[unused652]', '[unused653]', '[unused654]', '[unused655]', '[unused656]', '[unused657]', '[unused658]', '[unused659]', '[unused660]', '[unused661]', '[unused662]', '[unused663]', '[unused664]', '[unused665]', '[unused666]', '[unused667]', '[unused668]', '[unused669]', '[unused670]', '[unused671]', '[unused672]', '[unused673]', '[unused674]', '[unused675]', '[unused676]', '[unused677]', '[unused678]', '[unused679]', '[unused680]', '[unused681]', '[unused682]', '[unused683]', '[unused684]', '[unused685]', '[unused686]', '[unused687]', '[unused688]', '[unused689]', '[unused690]', '[unused691]', '[unused692]', '[unused693]', '[unused694]', '[unused695]', '[unused696]', '[unused697]', '[unused698]', '[unused699]', '[unused700]', '[unused701]', '[unused702]', '[unused703]', '[unused704]', '[unused705]', '[unused706]', '[unused707]', '[unused708]', '[unused709]', '[unused710]', '[unused711]', '[unused712]', '[unused713]', '[unused714]', '[unused715]', '[unused716]', '[unused717]', '[unused718]', '[unused719]', '[unused720]', '[unused721]', '[unused722]', '[unused723]', '[unused724]', '[unused725]', '[unused726]', '[unused727]', '[unused728]', '[unused729]', '[unused730]', '[unused731]', '[unused732]', '[unused733]', '[unused734]', '[unused735]', '[unused736]', '[unused737]', '[unused738]', '[unused739]', '[unused740]', '[unused741]', '[unused742]', '[unused743]', '[unused744]', '[unused745]', '[unused746]', '[unused747]', '[unused748]', '[unused749]', '[unused750]', '[unused751]', '[unused752]', '[unused753]', '[unused754]', '[unused755]', '[unused756]', '[unused757]', '[unused758]', '[unused759]', '[unused760]', '[unused761]', '[unused762]', '[unused763]', '[unused764]', '[unused765]', '[unused766]', '[unused767]', '[unused768]', '[unused769]', '[unused770]', '[unused771]', '[unused772]', '[unused773]', '[unused774]', '[unused775]', '[unused776]', '[unused777]', '[unused778]', '[unused779]', '[unused780]', '[unused781]', '[unused782]', '[unused783]', '[unused784]', '[unused785]', '[unused786]', '[unused787]', '[unused788]', '[unused789]', '[unused790]', '[unused791]', '[unused792]', '[unused793]', '[unused794]', '[unused795]', '[unused796]', '[unused797]', '[unused798]', '[unused799]', '[unused800]', '[unused801]', '[unused802]', '[unused803]', '[unused804]', '[unused805]', '[unused806]', '[unused807]', '[unused808]', '[unused809]', '[unused810]', '[unused811]', '[unused812]', '[unused813]', '[unused814]', '[unused815]', '[unused816]', '[unused817]', '[unused818]', '[unused819]', '[unused820]', '[unused821]', '[unused822]', '[unused823]', '[unused824]', '[unused825]', '[unused826]', '[unused827]', '[unused828]', '[unused829]', '[unused830]', '[unused831]', '[unused832]', '[unused833]', '[unused834]', '[unused835]', '[unused836]', '[unused837]', '[unused838]', '[unused839]', '[unused840]', '[unused841]', '[unused842]', '[unused843]', '[unused844]', '[unused845]', '[unused846]', '[unused847]', '[unused848]', '[unused849]', '[unused850]', '[unused851]', '[unused852]', '[unused853]', '[unused854]', '[unused855]', '[unused856]', '[unused857]', '[unused858]', '[unused859]', '[unused860]', '[unused861]', '[unused862]', '[unused863]', '[unused864]', '[unused865]', '[unused866]', '[unused867]', '[unused868]', '[unused869]', '[unused870]', '[unused871]', '[unused872]', '[unused873]', '[unused874]', '[unused875]', '[unused876]', '[unused877]', '[unused878]', '[unused879]', '[unused880]', '[unused881]', '[unused882]', '[unused883]', '[unused884]', '[unused885]', '[unused886]', '[unused887]', '[unused888]', '[unused889]', '[unused890]', '[unused891]', '[unused892]', '[unused893]', '[unused894]', '[unused895]', '[unused896]', '[unused897]', '[unused898]', '[unused899]', '[unused900]', '[unused901]', '[unused902]', '[unused903]', '[unused904]', '[unused905]', '[unused906]', '[unused907]', '[unused908]', '[unused909]', '[unused910]', '[unused911]', '[unused912]', '[unused913]', '[unused914]', '[unused915]', '[unused916]', '[unused917]', '[unused918]', '[unused919]', '[unused920]', '[unused921]', '[unused922]', '[unused923]', '[unused924]', '[unused925]', '[unused926]', '[unused927]', '[unused928]', '[unused929]', '[unused930]', '[unused931]', '[unused932]', '[unused933]', '[unused934]', '[unused935]', '[unused936]', '[unused937]', '[unused938]', '[unused939]', '[unused940]', '[unused941]', '[unused942]', '[unused943]', '[unused944]', '[unused945]', '[unused946]', '[unused947]', '[unused948]', '[unused949]', '[unused950]', '[unused951]', '[unused952]', '[unused953]', '[unused954]', '[unused955]', '[unused956]', '[unused957]', '[unused958]', '[unused959]', '[unused960]', '[unused961]', '[unused962]', '[unused963]', '[unused964]', '[unused965]', '[unused966]', '[unused967]', '[unused968]', '[unused969]', '[unused970]', '[unused971]', '[unused972]', '[unused973]', '[unused974]', '[unused975]', '[unused976]', '[unused977]', '[unused978]', '[unused979]', '[unused980]', '[unused981]', '[unused982]', '[unused983]', '[unused984]', '[unused985]', '[unused986]', '[unused987]', '[unused988]', '[unused989]', '[unused990]', '[unused991]', '[unused992]', '[unused993]', '!', '\"', '#', '$', '%', '&', \"'\", '(', ')', '*', '+', ',', '-', '.', '/', '0', '1', '2', '3', '4', '5', '6', '7', '8', '9', ':', ';', '<', '=', '>', '?', '@', '[', '\\\\', ']', '^', '_', '`', 'a', 'b', 'c', 'd', 'e', 'f', 'g', 'h', 'i', 'j', 'k', 'l', 'm', 'n', 'o', 'p', 'q', 'r', 's', 't', 'u', 'v', 'w', 'x', 'y', 'z', '{', '|', '}', '~', '¡', '¢', '£', '¤', '¥', '¦', '§', '¨', '©', 'ª', '«', '¬', '®', '°', '±', '²', '³', '´', 'µ', '¶', '·', '¹', 'º', '»', '¼', '½', '¾', '¿', '×', 'ß', 'æ', 'ð', '÷', 'ø', 'þ', 'đ', 'ħ', 'ı', 'ł', 'ŋ', 'œ', 'ƒ', 'ɐ', 'ɑ', 'ɒ', 'ɔ', 'ɕ', 'ə', 'ɛ', 'ɡ', 'ɣ', 'ɨ', 'ɪ', 'ɫ', 'ɬ', 'ɯ', 'ɲ', 'ɴ', 'ɹ', 'ɾ', 'ʀ', 'ʁ', 'ʂ', 'ʃ', 'ʉ', 'ʊ', 'ʋ', 'ʌ', 'ʎ', 'ʐ', 'ʑ', 'ʒ', 'ʔ', 'ʰ', 'ʲ', 'ʳ', 'ʷ', 'ʸ', 'ʻ', 'ʼ', 'ʾ', 'ʿ', 'ˈ', 'ː', 'ˡ', 'ˢ', 'ˣ', 'ˤ', 'α', 'β', 'γ', 'δ', 'ε', 'ζ', 'η', 'θ', 'ι', 'κ', 'λ', 'μ', 'ν', 'ξ', 'ο', 'π', 'ρ', 'ς', 'σ', 'τ', 'υ', 'φ', 'χ', 'ψ', 'ω', 'а', 'б', 'в', 'г', 'д', 'е', 'ж', 'з', 'и', 'к', 'л', 'м', 'н', 'о', 'п', 'р', 'с', 'т', 'у', 'ф', 'х', 'ц', 'ч', 'ш', 'щ', 'ъ', 'ы', 'ь', 'э', 'ю', 'я', 'ђ', 'є', 'і', 'ј', 'љ', 'њ', 'ћ', 'ӏ', 'ա', 'բ', 'գ', 'դ', 'ե', 'թ', 'ի', 'լ', 'կ', 'հ', 'մ', 'յ', 'ն', 'ո', 'պ', 'ս', 'վ', 'տ', 'ր', 'ւ', 'ք', '־', 'א', 'ב', 'ג', 'ד', 'ה', 'ו', 'ז', 'ח', 'ט', 'י', 'ך', 'כ', 'ל', 'ם', 'מ', 'ן', 'נ', 'ס', 'ע', 'ף', 'פ', 'ץ', 'צ', 'ק', 'ר', 'ש', 'ת', '،', 'ء', 'ا', 'ب', 'ة', 'ت', 'ث', 'ج', 'ح', 'خ', 'د', 'ذ', 'ر', 'ز', 'س', 'ش', 'ص', 'ض', 'ط', 'ظ', 'ع', 'غ', 'ـ', 'ف', 'ق', 'ك', 'ل', 'م', 'ن', 'ه', 'و', 'ى', 'ي', 'ٹ', 'پ', 'چ', 'ک', 'گ', 'ں', 'ھ', 'ہ', 'ی', 'ے', 'अ', 'आ', 'उ', 'ए', 'क', 'ख', 'ग', 'च', 'ज', 'ट', 'ड', 'ण', 'त', 'थ', 'द', 'ध', 'न', 'प', 'ब', 'भ', 'म', 'य', 'र', 'ल', 'व', 'श', 'ष', 'स', 'ह', 'ा', 'ि', 'ी', 'ो', '।', '॥', 'ং', 'অ', 'আ', 'ই', 'উ', 'এ', 'ও', 'ক', 'খ', 'গ', 'চ', 'ছ', 'জ', 'ট', 'ড', 'ণ', 'ত', 'থ', 'দ', 'ধ', 'ন', 'প', 'ব', 'ভ', 'ম', 'য', 'র', 'ল', 'শ', 'ষ', 'স', 'হ', 'া', 'ি', 'ী', 'ে', 'க', 'ச', 'ட', 'த', 'ந', 'ன', 'ப', 'ம', 'ய', 'ர', 'ல', 'ள', 'வ', 'ா', 'ி', 'ு', 'ே', 'ை', 'ನ', 'ರ', 'ಾ', 'ක', 'ය', 'ර', 'ල', 'ව', 'ා', 'ก', 'ง', 'ต', 'ท', 'น', 'พ', 'ม', 'ย', 'ร', 'ล', 'ว', 'ส', 'อ', 'า', 'เ', '་', '།', 'ག', 'ང', 'ད', 'ན', 'པ', 'བ', 'མ', 'འ', 'ར', 'ལ', 'ས', 'မ', 'ა', 'ბ', 'გ', 'დ', 'ე', 'ვ', 'თ', 'ი', 'კ', 'ლ', 'მ', 'ნ', 'ო', 'რ', 'ს', 'ტ', 'უ', 'ᄀ', 'ᄂ', 'ᄃ', 'ᄅ', 'ᄆ', 'ᄇ', 'ᄉ', 'ᄊ', 'ᄋ', 'ᄌ', 'ᄎ', 'ᄏ', 'ᄐ', 'ᄑ', 'ᄒ', 'ᅡ', 'ᅢ', 'ᅥ', 'ᅦ', 'ᅧ', 'ᅩ', 'ᅪ', 'ᅭ', 'ᅮ', 'ᅯ', 'ᅲ', 'ᅳ', 'ᅴ', 'ᅵ', 'ᆨ', 'ᆫ', 'ᆯ', 'ᆷ', 'ᆸ', 'ᆼ', 'ᴬ', 'ᴮ', 'ᴰ', 'ᴵ', 'ᴺ', 'ᵀ', 'ᵃ', 'ᵇ', 'ᵈ', 'ᵉ', 'ᵍ', 'ᵏ', 'ᵐ', 'ᵒ', 'ᵖ', 'ᵗ', 'ᵘ', 'ᵢ', 'ᵣ', 'ᵤ', 'ᵥ', 'ᶜ', 'ᶠ', '‐', '‑', '‒', '–', '—', '―', '‖', '‘', '’', '‚', '“', '”', '„', '†', '‡', '•', '…', '‰', '′', '″', '›', '‿', '⁄', '⁰', 'ⁱ', '⁴', '⁵', '⁶', '⁷', '⁸', '⁹', '⁺', '⁻', 'ⁿ', '₀', '₁', '₂', '₃', '₄', '₅', '₆', '₇', '₈', '₉', '₊', '₍', '₎', 'ₐ', 'ₑ', 'ₒ', 'ₓ', 'ₕ', 'ₖ', 'ₗ', 'ₘ', 'ₙ', 'ₚ', 'ₛ', 'ₜ', '₤', '₩', '€', '₱', '₹', 'ℓ', '№', 'ℝ', '™', '⅓', '⅔', '←', '↑', '→', '↓', '↔', '↦', '⇄', '⇌', '⇒', '∂', '∅', '∆', '∇', '∈', '−', '∗', '∘', '√', '∞', '∧', '∨', '∩', '∪', '≈', '≡', '≤', '≥', '⊂', '⊆', '⊕', '⊗', '⋅', '─', '│', '■', '▪', '●', '★', '☆', '☉', '♠', '♣', '♥', '♦', '♭', '♯', '⟨', '⟩', 'ⱼ', '⺩', '⺼', '⽥', '、', '。', '〈', '〉', '《', '》', '「', '」', '『', '』', '〜', 'あ', 'い', 'う', 'え', 'お', 'か', 'き', 'く', 'け', 'こ', 'さ', 'し', 'す', 'せ', 'そ', 'た', 'ち', 'っ', 'つ', 'て', 'と', 'な', 'に', 'ぬ', 'ね', 'の', 'は', 'ひ', 'ふ', 'へ', 'ほ', 'ま', 'み', 'む', 'め', 'も', 'や', 'ゆ', 'よ', 'ら', 'り', 'る', 'れ', 'ろ', 'を', 'ん', 'ァ', 'ア', 'ィ', 'イ', 'ウ', 'ェ', 'エ', 'オ', 'カ', 'キ', 'ク', 'ケ', 'コ', 'サ', 'シ', 'ス', 'セ', 'タ', 'チ', 'ッ', 'ツ', 'テ', 'ト', 'ナ', 'ニ', 'ノ', 'ハ', 'ヒ', 'フ', 'ヘ', 'ホ', 'マ', 'ミ', 'ム', 'メ', 'モ', 'ャ', 'ュ', 'ョ', 'ラ', 'リ', 'ル', 'レ', 'ロ', 'ワ', 'ン', '・', 'ー', '一', '三', '上', '下', '不', '世', '中', '主', '久', '之', '也', '事', '二', '五', '井', '京', '人', '亻', '仁', '介', '代', '仮', '伊', '会', '佐', '侍', '保', '信', '健', '元', '光', '八', '公', '内', '出', '分', '前', '劉', '力', '加', '勝', '北', '区', '十', '千', '南', '博', '原', '口', '古', '史', '司', '合', '吉', '同', '名', '和', '囗', '四', '国', '國', '土', '地', '坂', '城', '堂', '場', '士', '夏', '外', '大', '天', '太', '夫', '奈', '女', '子', '学', '宀', '宇', '安', '宗', '定', '宣', '宮', '家', '宿', '寺', '將', '小', '尚', '山', '岡', '島', '崎', '川', '州', '巿', '帝', '平', '年', '幸', '广', '弘', '張', '彳', '後', '御', '德', '心', '忄', '志', '忠', '愛', '成', '我', '戦', '戸', '手', '扌', '政', '文', '新', '方', '日', '明', '星', '春', '昭', '智', '曲', '書', '月', '有', '朝', '木', '本', '李', '村', '東', '松', '林', '森', '楊', '樹', '橋', '歌', '止', '正', '武', '比', '氏', '民', '水', '氵', '氷', '永', '江', '沢', '河', '治', '法', '海', '清', '漢', '瀬', '火', '版', '犬', '王', '生', '田', '男', '疒', '発', '白', '的', '皇', '目', '相', '省', '真', '石', '示', '社', '神', '福', '禾', '秀', '秋', '空', '立', '章', '竹', '糹', '美', '義', '耳', '良', '艹', '花', '英', '華', '葉', '藤', '行', '街', '西', '見', '訁', '語', '谷', '貝', '貴', '車', '軍', '辶', '道', '郎', '郡', '部', '都', '里', '野', '金', '鈴', '镇', '長', '門', '間', '阝', '阿', '陳', '陽', '雄', '青', '面', '風', '食', '香', '馬', '高', '龍', '龸', 'ﬁ', 'ﬂ', '！', '（', '）', '，', '－', '．', '／', '：', '？', '～', 'the', 'of', 'and', 'in', 'to', 'was', 'he', 'is', 'as', 'for', 'on', 'with', 'that', 'it', 'his', 'by', 'at', 'from', 'her', '##s', 'she', 'you', 'had', 'an', 'were', 'but', 'be', 'this', 'are', 'not', 'my', 'they', 'one', 'which', 'or', 'have', 'him', 'me', 'first', 'all', 'also', 'their', 'has', 'up', 'who', 'out', 'been', 'when', 'after', 'there', 'into', 'new', 'two', 'its', '##a', 'time', 'would', 'no', 'what', 'about', 'said', 'we', 'over', 'then', 'other', 'so', 'more', '##e', 'can', 'if', 'like', 'back', 'them', 'only', 'some', 'could', '##i', 'where', 'just', '##ing', 'during', 'before', '##n', 'do', '##o', 'made', 'school', 'through', 'than', 'now', 'years', 'most', 'world', 'may', 'between', 'down', 'well', 'three', '##d', 'year', 'while', 'will', '##ed', '##r', '##y', 'later', '##t', 'city', 'under', 'around', 'did', 'such', 'being', 'used', 'state', 'people', 'part', 'know', 'against', 'your', 'many', 'second', 'university', 'both', 'national', '##er', 'these', 'don', 'known', 'off', 'way', 'until', 're', 'how', 'even', 'get', 'head', '...', 'didn', '##ly', 'team', 'american', 'because', 'de', '##l', 'born', 'united', 'film', 'since', 'still', 'long', 'work', 'south', 'us', 'became', 'any', 'high', 'again', 'day', 'family', 'see', 'right', 'man', 'eyes', 'house', 'season', 'war', 'states', 'including', 'took', 'life', 'north', 'same', 'each', 'called', 'name', 'much', 'place', 'however', 'go', 'four', 'group', 'another', 'found', 'won', 'area', 'here', 'going', '10', 'away', 'series', 'left', 'home', 'music', 'best', 'make', 'hand', 'number', 'company', 'several', 'never', 'last', 'john', '000', 'very', 'album', 'take', 'end', 'good', 'too', 'following', 'released', 'game', 'played', 'little', 'began', 'district', '##m', 'old', 'want', 'those', 'side', 'held', 'own', 'early', 'county', 'll', 'league', 'use', 'west', '##u', 'face', 'think', '##es', '2010', 'government', '##h', 'march', 'came', 'small', 'general', 'town', 'june', '##on', 'line', 'based', 'something', '##k', 'september', 'thought', 'looked', 'along', 'international', '2011', 'air', 'july', 'club', 'went', 'january', 'october', 'our', 'august', 'april', 'york', '12', 'few', '2012', '2008', 'east', 'show', 'member', 'college', '2009', 'father', 'public', '##us', 'come', 'men', 'five', 'set', 'station', 'church', '##c', 'next', 'former', 'november', 'room', 'party', 'located', 'december', '2013', 'age', 'got', '2007', '##g', 'system', 'let', 'love', '2006', 'though', 'every', '2014', 'look', 'song', 'water', 'century', 'without', 'body', 'black', 'night', 'within', 'great', 'women', 'single', 've', 'building', 'large', 'population', 'river', 'named', 'band', 'white', 'started', '##an', 'once', '15', '20', 'should', '18', '2015', 'service', 'top', 'built', 'british', 'open', 'death', 'king', 'moved', 'local', 'times', 'children', 'february', 'book', 'why', '11', 'door', 'need', 'president', 'order', 'final', 'road', 'wasn', 'although', 'due', 'major', 'died', 'village', 'third', 'knew', '2016', 'asked', 'turned', 'st', 'wanted', 'say', '##p', 'together', 'received', 'main', 'son', 'served', 'different', '##en', 'behind', 'himself', 'felt', 'members', 'power', 'football', 'law', 'voice', 'play', '##in', 'near', 'park', 'history', '30', 'having', '2005', '16', '##man', 'saw', 'mother', '##al', 'army', 'point', 'front', 'help', 'english', 'street', 'art', 'late', 'hands', 'games', 'award', '##ia', 'young', '14', 'put', 'published', 'country', 'division', 'across', 'told', '13', 'often', 'ever', 'french', 'london', 'center', 'six', 'red', '2017', 'led', 'days', 'include', 'light', '25', 'find', 'tell', 'among', 'species', 'really', 'according', 'central', 'half', '2004', 'form', 'original', 'gave', 'office', 'making', 'enough', 'lost', 'full', 'opened', 'must', 'included', 'live', 'given', 'german', 'player', 'run', 'business', 'woman', 'community', 'cup', 'might', 'million', 'land', '2000', 'court', 'development', '17', 'short', 'round', 'ii', 'km', 'seen', 'class', 'story', 'always', 'become', 'sure', 'research', 'almost', 'director', 'council', 'la', '##2', 'career', 'things', 'using', 'island', '##z', 'couldn', 'car', '##is', '24', 'close', 'force', '##1', 'better', 'free', 'support', 'control', 'field', 'students', '2003', 'education', 'married', '##b', 'nothing', 'worked', 'others', 'record', 'big', 'inside', 'level', 'anything', 'continued', 'give', 'james', '##3', 'military', 'established', 'non', 'returned', 'feel', 'does', 'title', 'written', 'thing', 'feet', 'william', 'far', 'co', 'association', 'hard', 'already', '2002', '##ra', 'championship', 'human', 'western', '100', '##na', 'department', 'hall', 'role', 'various', 'production', '21', '19', 'heart', '2001', 'living', 'fire', 'version', '##ers', '##f', 'television', 'royal', '##4', 'produced', 'working', 'act', 'case', 'society', 'region', 'present', 'radio', 'period', 'looking', 'least', 'total', 'keep', 'england', 'wife', 'program', 'per', 'brother', 'mind', 'special', '22', '##le', 'am', 'works', 'soon', '##6', 'political', 'george', 'services', 'taken', 'created', '##7', 'further', 'able', 'reached', 'david', 'union', 'joined', 'upon', 'done', 'important', 'social', 'information', 'either', '##ic', '##x', 'appeared', 'position', 'ground', 'lead', 'rock', 'dark', 'election', '23', 'board', 'france', 'hair', 'course', 'arms', 'site', 'police', 'girl', 'instead', 'real', 'sound', '##v', 'words', 'moment', '##te', 'someone', '##8', 'summer', 'project', 'announced', 'san', 'less', 'wrote', 'past', 'followed', '##5', 'blue', 'founded', 'al', 'finally', 'india', 'taking', 'records', 'america', '##ne', '1999', 'design', 'considered', 'northern', 'god', 'stop', 'battle', 'toward', 'european', 'outside', 'described', 'track', 'today', 'playing', 'language', '28', 'call', '26', 'heard', 'professional', 'low', 'australia', 'miles', 'california', 'win', 'yet', 'green', '##ie', 'trying', 'blood', '##ton', 'southern', 'science', 'maybe', 'everything', 'match', 'square', '27', 'mouth', 'video', 'race', 'recorded', 'leave', 'above', '##9', 'daughter', 'points', 'space', '1998', 'museum', 'change', 'middle', 'common', '##0', 'move', 'tv', 'post', '##ta', 'lake', 'seven', 'tried', 'elected', 'closed', 'ten', 'paul', 'minister', '##th', 'months', 'start', 'chief', 'return', 'canada', 'person', 'sea', 'release', 'similar', 'modern', 'brought', 'rest', 'hit', 'formed', 'mr', '##la', '1997', 'floor', 'event', 'doing', 'thomas', '1996', 'robert', 'care', 'killed', 'training', 'star', 'week', 'needed', 'turn', 'finished', 'railway', 'rather', 'news', 'health', 'sent', 'example', 'ran', 'term', 'michael', 'coming', 'currently', 'yes', 'forces', 'despite', 'gold', 'areas', '50', 'stage', 'fact', '29', 'dead', 'says', 'popular', '2018', 'originally', 'germany', 'probably', 'developed', 'result', 'pulled', 'friend', 'stood', 'money', 'running', 'mi', 'signed', 'word', 'songs', 'child', 'eventually', 'met', 'tour', 'average', 'teams', 'minutes', 'festival', 'current', 'deep', 'kind', '1995', 'decided', 'usually', 'eastern', 'seemed', '##ness', 'episode', 'bed', 'added', 'table', 'indian', 'private', 'charles', 'route', 'available', 'idea', 'throughout', 'centre', 'addition', 'appointed', 'style', '1994', 'books', 'eight', 'construction', 'press', 'mean', 'wall', 'friends', 'remained', 'schools', 'study', '##ch', '##um', 'institute', 'oh', 'chinese', 'sometimes', 'events', 'possible', '1992', 'australian', 'type', 'brown', 'forward', 'talk', 'process', 'food', 'debut', 'seat', 'performance', 'committee', 'features', 'character', 'arts', 'herself', 'else', 'lot', 'strong', 'russian', 'range', 'hours', 'peter', 'arm', '##da', 'morning', 'dr', 'sold', '##ry', 'quickly', 'directed', '1993', 'guitar', 'china', '##w', '31', 'list', '##ma', 'performed', 'media', 'uk', 'players', 'smile', '##rs', 'myself', '40', 'placed', 'coach', 'province', 'towards', 'wouldn', 'leading', 'whole', 'boy', 'official', 'designed', 'grand', 'census', '##el', 'europe', 'attack', 'japanese', 'henry', '1991', '##re', '##os', 'cross', 'getting', 'alone', 'action', 'lower', 'network', 'wide', 'washington', 'japan', '1990', 'hospital', 'believe', 'changed', 'sister', '##ar', 'hold', 'gone', 'sir', 'hadn', 'ship', '##ka', 'studies', 'academy', 'shot', 'rights', 'below', 'base', 'bad', 'involved', 'kept', 'largest', '##ist', 'bank', 'future', 'especially', 'beginning', 'mark', 'movement', 'section', 'female', 'magazine', 'plan', 'professor', 'lord', 'longer', '##ian', 'sat', 'walked', 'hill', 'actually', 'civil', 'energy', 'model', 'families', 'size', 'thus', 'aircraft', 'completed', 'includes', 'data', 'captain', '##or', 'fight', 'vocals', 'featured', 'richard', 'bridge', 'fourth', '1989', 'officer', 'stone', 'hear', '##ism', 'means', 'medical', 'groups', 'management', 'self', 'lips', 'competition', 'entire', 'lived', 'technology', 'leaving', 'federal', 'tournament', 'bit', 'passed', 'hot', 'independent', 'awards', 'kingdom', 'mary', 'spent', 'fine', 'doesn', 'reported', '##ling', 'jack', 'fall', 'raised', 'itself', 'stay', 'true', 'studio', '1988', 'sports', 'replaced', 'paris', 'systems', 'saint', 'leader', 'theatre', 'whose', 'market', 'capital', 'parents', 'spanish', 'canadian', 'earth', '##ity', 'cut', 'degree', 'writing', 'bay', 'christian', 'awarded', 'natural', 'higher', 'bill', '##as', 'coast', 'provided', 'previous', 'senior', 'ft', 'valley', 'organization', 'stopped', 'onto', 'countries', 'parts', 'conference', 'queen', 'security', 'interest', 'saying', 'allowed', 'master', 'earlier', 'phone', 'matter', 'smith', 'winning', 'try', 'happened', 'moving', 'campaign', 'los', '##ley', 'breath', 'nearly', 'mid', '1987', 'certain', 'girls', 'date', 'italian', 'african', 'standing', 'fell', 'artist', '##ted', 'shows', 'deal', 'mine', 'industry', '1986', '##ng', 'everyone', 'republic', 'provide', 'collection', 'library', 'student', '##ville', 'primary', 'owned', 'older', 'via', 'heavy', '1st', 'makes', '##able', 'attention', 'anyone', 'africa', '##ri', 'stated', 'length', 'ended', 'fingers', 'command', 'staff', 'skin', 'foreign', 'opening', 'governor', 'okay', 'medal', 'kill', 'sun', 'cover', 'job', '1985', 'introduced', 'chest', 'hell', 'feeling', '##ies', 'success', 'meet', 'reason', 'standard', 'meeting', 'novel', '1984', 'trade', 'source', 'buildings', '##land', 'rose', 'guy', 'goal', '##ur', 'chapter', 'native', 'husband', 'previously', 'unit', 'limited', 'entered', 'weeks', 'producer', 'operations', 'mountain', 'takes', 'covered', 'forced', 'related', 'roman', 'complete', 'successful', 'key', 'texas', 'cold', '##ya', 'channel', '1980', 'traditional', 'films', 'dance', 'clear', 'approximately', '500', 'nine', 'van', 'prince', 'question', 'active', 'tracks', 'ireland', 'regional', 'silver', 'author', 'personal', 'sense', 'operation', '##ine', 'economic', '1983', 'holding', 'twenty', 'isbn', 'additional', 'speed', 'hour', 'edition', 'regular', 'historic', 'places', 'whom', 'shook', 'movie', 'km²', 'secretary', 'prior', 'report', 'chicago', 'read', 'foundation', 'view', 'engine', 'scored', '1982', 'units', 'ask', 'airport', 'property', 'ready', 'immediately', 'lady', 'month', 'listed', 'contract', '##de', 'manager', 'themselves', 'lines', '##ki', 'navy', 'writer', 'meant', '##ts', 'runs', '##ro', 'practice', 'championships', 'singer', 'glass', 'commission', 'required', 'forest', 'starting', 'culture', 'generally', 'giving', 'access', 'attended', 'test', 'couple', 'stand', 'catholic', 'martin', 'caught', 'executive', '##less', 'eye', '##ey', 'thinking', 'chair', 'quite', 'shoulder', '1979', 'hope', 'decision', 'plays', 'defeated', 'municipality', 'whether', 'structure', 'offered', 'slowly', 'pain', 'ice', 'direction', '##ion', 'paper', 'mission', '1981', 'mostly', '200', 'noted', 'individual', 'managed', 'nature', 'lives', 'plant', '##ha', 'helped', 'except', 'studied', 'computer', 'figure', 'relationship', 'issue', 'significant', 'loss', 'die', 'smiled', 'gun', 'ago', 'highest', '1972', '##am', 'male', 'bring', 'goals', 'mexico', 'problem', 'distance', 'commercial', 'completely', 'location', 'annual', 'famous', 'drive', '1976', 'neck', '1978', 'surface', 'caused', 'italy', 'understand', 'greek', 'highway', 'wrong', 'hotel', 'comes', 'appearance', 'joseph', 'double', 'issues', 'musical', 'companies', 'castle', 'income', 'review', 'assembly', 'bass', 'initially', 'parliament', 'artists', 'experience', '1974', 'particular', 'walk', 'foot', 'engineering', 'talking', 'window', 'dropped', '##ter', 'miss', 'baby', 'boys', 'break', '1975', 'stars', 'edge', 'remember', 'policy', 'carried', 'train', 'stadium', 'bar', 'sex', 'angeles', 'evidence', '##ge', 'becoming', 'assistant', 'soviet', '1977', 'upper', 'step', 'wing', '1970', 'youth', 'financial', 'reach', '##ll', 'actor', 'numerous', '##se', '##st', 'nodded', 'arrived', '##ation', 'minute', '##nt', 'believed', 'sorry', 'complex', 'beautiful', 'victory', 'associated', 'temple', '1968', '1973', 'chance', 'perhaps', 'metal', '##son', '1945', 'bishop', '##et', 'lee', 'launched', 'particularly', 'tree', 'le', 'retired', 'subject', 'prize', 'contains', 'yeah', 'theory', 'empire', '##ce', 'suddenly', 'waiting', 'trust', 'recording', '##to', 'happy', 'terms', 'camp', 'champion', '1971', 'religious', 'pass', 'zealand', 'names', '2nd', 'port', 'ancient', 'tom', 'corner', 'represented', 'watch', 'legal', 'anti', 'justice', 'cause', 'watched', 'brothers', '45', 'material', 'changes', 'simply', 'response', 'louis', 'fast', '##ting', 'answer', '60', 'historical', '1969', 'stories', 'straight', 'create', 'feature', 'increased', 'rate', 'administration', 'virginia', 'el', 'activities', 'cultural', 'overall', 'winner', 'programs', 'basketball', 'legs', 'guard', 'beyond', 'cast', 'doctor', 'mm', 'flight', 'results', 'remains', 'cost', 'effect', 'winter', '##ble', 'larger', 'islands', 'problems', 'chairman', 'grew', 'commander', 'isn', '1967', 'pay', 'failed', 'selected', 'hurt', 'fort', 'box', 'regiment', 'majority', 'journal', '35', 'edward', 'plans', '##ke', '##ni', 'shown', 'pretty', 'irish', 'characters', 'directly', 'scene', 'likely', 'operated', 'allow', 'spring', '##j', 'junior', 'matches', 'looks', 'mike', 'houses', 'fellow', '##tion', 'beach', 'marriage', '##ham', '##ive', 'rules', 'oil', '65', 'florida', 'expected', 'nearby', 'congress', 'sam', 'peace', 'recent', 'iii', 'wait', 'subsequently', 'cell', '##do', 'variety', 'serving', 'agreed', 'please', 'poor', 'joe', 'pacific', 'attempt', 'wood', 'democratic', 'piece', 'prime', '##ca', 'rural', 'mile', 'touch', 'appears', 'township', '1964', '1966', 'soldiers', '##men', '##ized', '1965', 'pennsylvania', 'closer', 'fighting', 'claimed', 'score', 'jones', 'physical', 'editor', '##ous', 'filled', 'genus', 'specific', 'sitting', 'super', 'mom', '##va', 'therefore', 'supported', 'status', 'fear', 'cases', 'store', 'meaning', 'wales', 'minor', 'spain', 'tower', 'focus', 'vice', 'frank', 'follow', 'parish', 'separate', 'golden', 'horse', 'fifth', 'remaining', 'branch', '32', 'presented', 'stared', '##id', 'uses', 'secret', 'forms', '##co', 'baseball', 'exactly', '##ck', 'choice', 'note', 'discovered', 'travel', 'composed', 'truth', 'russia', 'ball', 'color', 'kiss', 'dad', 'wind', 'continue', 'ring', 'referred', 'numbers', 'digital', 'greater', '##ns', 'metres', 'slightly', 'direct', 'increase', '1960', 'responsible', 'crew', 'rule', 'trees', 'troops', '##no', 'broke', 'goes', 'individuals', 'hundred', 'weight', 'creek', 'sleep', 'memory', 'defense', 'provides', 'ordered', 'code', 'value', 'jewish', 'windows', '1944', 'safe', 'judge', 'whatever', 'corps', 'realized', 'growing', 'pre', '##ga', 'cities', 'alexander', 'gaze', 'lies', 'spread', 'scott', 'letter', 'showed', 'situation', 'mayor', 'transport', 'watching', 'workers', 'extended', '##li', 'expression', 'normal', '##ment', 'chart', 'multiple', 'border', '##ba', 'host', '##ner', 'daily', 'mrs', 'walls', 'piano', '##ko', 'heat', 'cannot', '##ate', 'earned', 'products', 'drama', 'era', 'authority', 'seasons', 'join', 'grade', '##io', 'sign', 'difficult', 'machine', '1963', 'territory', 'mainly', '##wood', 'stations', 'squadron', '1962', 'stepped', 'iron', '19th', '##led', 'serve', 'appear', 'sky', 'speak', 'broken', 'charge', 'knowledge', 'kilometres', 'removed', 'ships', 'article', 'campus', 'simple', '##ty', 'pushed', 'britain', '##ve', 'leaves', 'recently', 'cd', 'soft', 'boston', 'latter', 'easy', 'acquired', 'poland', '##sa', 'quality', 'officers', 'presence', 'planned', 'nations', 'mass', 'broadcast', 'jean', 'share', 'image', 'influence', 'wild', 'offer', 'emperor', 'electric', 'reading', 'headed', 'ability', 'promoted', 'yellow', 'ministry', '1942', 'throat', 'smaller', 'politician', '##by', 'latin', 'spoke', 'cars', 'williams', 'males', 'lack', 'pop', '80', '##ier', 'acting', 'seeing', 'consists', '##ti', 'estate', '1961', 'pressure', 'johnson', 'newspaper', 'jr', 'chris', 'olympics', 'online', 'conditions', 'beat', 'elements', 'walking', 'vote', '##field', 'needs', 'carolina', 'text', 'featuring', 'global', 'block', 'shirt', 'levels', 'francisco', 'purpose', 'females', 'et', 'dutch', 'duke', 'ahead', 'gas', 'twice', 'safety', 'serious', 'turning', 'highly', 'lieutenant', 'firm', 'maria', 'amount', 'mixed', 'daniel', 'proposed', 'perfect', 'agreement', 'affairs', '3rd', 'seconds', 'contemporary', 'paid', '1943', 'prison', 'save', 'kitchen', 'label', 'administrative', 'intended', 'constructed', 'academic', 'nice', 'teacher', 'races', '1956', 'formerly', 'corporation', 'ben', 'nation', 'issued', 'shut', '1958', 'drums', 'housing', 'victoria', 'seems', 'opera', '1959', 'graduated', 'function', 'von', 'mentioned', 'picked', 'build', 'recognized', 'shortly', 'protection', 'picture', 'notable', 'exchange', 'elections', '1980s', 'loved', 'percent', 'racing', 'fish', 'elizabeth', 'garden', 'volume', 'hockey', '1941', 'beside', 'settled', '##ford', '1940', 'competed', 'replied', 'drew', '1948', 'actress', 'marine', 'scotland', 'steel', 'glanced', 'farm', 'steve', '1957', 'risk', 'tonight', 'positive', 'magic', 'singles', 'effects', 'gray', 'screen', 'dog', '##ja', 'residents', 'bus', 'sides', 'none', 'secondary', 'literature', 'polish', 'destroyed', 'flying', 'founder', 'households', '1939', 'lay', 'reserve', 'usa', 'gallery', '##ler', '1946', 'industrial', 'younger', 'approach', 'appearances', 'urban', 'ones', '1950', 'finish', 'avenue', 'powerful', 'fully', 'growth', 'page', 'honor', 'jersey', 'projects', 'advanced', 'revealed', 'basic', '90', 'infantry', 'pair', 'equipment', 'visit', '33', 'evening', 'search', 'grant', 'effort', 'solo', 'treatment', 'buried', 'republican', 'primarily', 'bottom', 'owner', '1970s', 'israel', 'gives', 'jim', 'dream', 'bob', 'remain', 'spot', '70', 'notes', 'produce', 'champions', 'contact', 'ed', 'soul', 'accepted', 'ways', 'del', '##ally', 'losing', 'split', 'price', 'capacity', 'basis', 'trial', 'questions', '##ina', '1955', '20th', 'guess', 'officially', 'memorial', 'naval', 'initial', '##ization', 'whispered', 'median', 'engineer', '##ful', 'sydney', '##go', 'columbia', 'strength', '300', '1952', 'tears', 'senate', '00', 'card', 'asian', 'agent', '1947', 'software', '44', 'draw', 'warm', 'supposed', 'com', 'pro', '##il', 'transferred', 'leaned', '##at', 'candidate', 'escape', 'mountains', 'asia', 'potential', 'activity', 'entertainment', 'seem', 'traffic', 'jackson', 'murder', '36', 'slow', 'product', 'orchestra', 'haven', 'agency', 'bbc', 'taught', 'website', 'comedy', 'unable', 'storm', 'planning', 'albums', 'rugby', 'environment', 'scientific', 'grabbed', 'protect', '##hi', 'boat', 'typically', '1954', '1953', 'damage', 'principal', 'divided', 'dedicated', 'mount', 'ohio', '##berg', 'pick', 'fought', 'driver', '##der', 'empty', 'shoulders', 'sort', 'thank', 'berlin', 'prominent', 'account', 'freedom', 'necessary', 'efforts', 'alex', 'headquarters', 'follows', 'alongside', 'des', 'simon', 'andrew', 'suggested', 'operating', 'learning', 'steps', '1949', 'sweet', 'technical', 'begin', 'easily', '34', 'teeth', 'speaking', 'settlement', 'scale', '##sh', 'renamed', 'ray', 'max', 'enemy', 'semi', 'joint', 'compared', '##rd', 'scottish', 'leadership', 'analysis', 'offers', 'georgia', 'pieces', 'captured', 'animal', 'deputy', 'guest', 'organized', '##lin', 'tony', 'combined', 'method', 'challenge', '1960s', 'huge', 'wants', 'battalion', 'sons', 'rise', 'crime', 'types', 'facilities', 'telling', 'path', '1951', 'platform', 'sit', '1990s', '##lo', 'tells', 'assigned', 'rich', 'pull', '##ot', 'commonly', 'alive', '##za', 'letters', 'concept', 'conducted', 'wearing', 'happen', 'bought', 'becomes', 'holy', 'gets', 'ocean', 'defeat', 'languages', 'purchased', 'coffee', 'occurred', 'titled', '##q', 'declared', 'applied', 'sciences', 'concert', 'sounds', 'jazz', 'brain', '##me', 'painting', 'fleet', 'tax', 'nick', '##ius', 'michigan', 'count', 'animals', 'leaders', 'episodes', '##line', 'content', '##den', 'birth', '##it', 'clubs', '64', 'palace', 'critical', 'refused', 'fair', 'leg', 'laughed', 'returning', 'surrounding', 'participated', 'formation', 'lifted', 'pointed', 'connected', 'rome', 'medicine', 'laid', 'taylor', 'santa', 'powers', 'adam', 'tall', 'shared', 'focused', 'knowing', 'yards', 'entrance', 'falls', '##wa', 'calling', '##ad', 'sources', 'chosen', 'beneath', 'resources', 'yard', '##ite', 'nominated', 'silence', 'zone', 'defined', '##que', 'gained', 'thirty', '38', 'bodies', 'moon', '##ard', 'adopted', 'christmas', 'widely', 'register', 'apart', 'iran', 'premier', 'serves', 'du', 'unknown', 'parties', '##les', 'generation', '##ff', 'continues', 'quick', 'fields', 'brigade', 'quiet', 'teaching', 'clothes', 'impact', 'weapons', 'partner', 'flat', 'theater', 'supreme', '1938', '37', 'relations', '##tor', 'plants', 'suffered', '1936', 'wilson', 'kids', 'begins', '##age', '1918', 'seats', 'armed', 'internet', 'models', 'worth', 'laws', '400', 'communities', 'classes', 'background', 'knows', 'thanks', 'quarter', 'reaching', 'humans', 'carry', 'killing', 'format', 'kong', 'hong', 'setting', '75', 'architecture', 'disease', 'railroad', 'inc', 'possibly', 'wish', 'arthur', 'thoughts', 'harry', 'doors', 'density', '##di', 'crowd', 'illinois', 'stomach', 'tone', 'unique', 'reports', 'anyway', '##ir', 'liberal', 'der', 'vehicle', 'thick', 'dry', 'drug', 'faced', 'largely', 'facility', 'theme', 'holds', 'creation', 'strange', 'colonel', '##mi', 'revolution', 'bell', 'politics', 'turns', 'silent', 'rail', 'relief', 'independence', 'combat', 'shape', 'write', 'determined', 'sales', 'learned', '4th', 'finger', 'oxford', 'providing', '1937', 'heritage', 'fiction', 'situated', 'designated', 'allowing', 'distribution', 'hosted', '##est', 'sight', 'interview', 'estimated', 'reduced', '##ria', 'toronto', 'footballer', 'keeping', 'guys', 'damn', 'claim', 'motion', 'sport', 'sixth', 'stayed', '##ze', 'en', 'rear', 'receive', 'handed', 'twelve', 'dress', 'audience', 'granted', 'brazil', '##well', 'spirit', '##ated', 'noticed', 'etc', 'olympic', 'representative', 'eric', 'tight', 'trouble', 'reviews', 'drink', 'vampire', 'missing', 'roles', 'ranked', 'newly', 'household', 'finals', 'wave', 'critics', '##ee', 'phase', 'massachusetts', 'pilot', 'unlike', 'philadelphia', 'bright', 'guns', 'crown', 'organizations', 'roof', '42', 'respectively', 'clearly', 'tongue', 'marked', 'circle', 'fox', 'korea', 'bronze', 'brian', 'expanded', 'sexual', 'supply', 'yourself', 'inspired', 'labour', 'fc', '##ah', 'reference', 'vision', 'draft', 'connection', 'brand', 'reasons', '1935', 'classic', 'driving', 'trip', 'jesus', 'cells', 'entry', '1920', 'neither', 'trail', 'claims', 'atlantic', 'orders', 'labor', 'nose', 'afraid', 'identified', 'intelligence', 'calls', 'cancer', 'attacked', 'passing', 'stephen', 'positions', 'imperial', 'grey', 'jason', '39', 'sunday', '48', 'swedish', 'avoid', 'extra', 'uncle', 'message', 'covers', 'allows', 'surprise', 'materials', 'fame', 'hunter', '##ji', '1930', 'citizens', 'figures', 'davis', 'environmental', 'confirmed', 'shit', 'titles', 'di', 'performing', 'difference', 'acts', 'attacks', '##ov', 'existing', 'votes', 'opportunity', 'nor', 'shop', 'entirely', 'trains', 'opposite', 'pakistan', '##pa', 'develop', 'resulted', 'representatives', 'actions', 'reality', 'pressed', '##ish', 'barely', 'wine', 'conversation', 'faculty', 'northwest', 'ends', 'documentary', 'nuclear', 'stock', 'grace', 'sets', 'eat', 'alternative', '##ps', 'bag', 'resulting', 'creating', 'surprised', 'cemetery', '1919', 'drop', 'finding', 'sarah', 'cricket', 'streets', 'tradition', 'ride', '1933', 'exhibition', 'target', 'ear', 'explained', 'rain', 'composer', 'injury', 'apartment', 'municipal', 'educational', 'occupied', 'netherlands', 'clean', 'billion', 'constitution', 'learn', '1914', 'maximum', 'classical', 'francis', 'lose', 'opposition', 'jose', 'ontario', 'bear', 'core', 'hills', 'rolled', 'ending', 'drawn', 'permanent', 'fun', '##tes', '##lla', 'lewis', 'sites', 'chamber', 'ryan', '##way', 'scoring', 'height', '1934', '##house', 'lyrics', 'staring', '55', 'officials', '1917', 'snow', 'oldest', '##tic', 'orange', '##ger', 'qualified', 'interior', 'apparently', 'succeeded', 'thousand', 'dinner', 'lights', 'existence', 'fans', 'heavily', '41', 'greatest', 'conservative', 'send', 'bowl', 'plus', 'enter', 'catch', '##un', 'economy', 'duty', '1929', 'speech', 'authorities', 'princess', 'performances', 'versions', 'shall', 'graduate', 'pictures', 'effective', 'remembered', 'poetry', 'desk', 'crossed', 'starring', 'starts', 'passenger', 'sharp', '##ant', 'acres', 'ass', 'weather', 'falling', 'rank', 'fund', 'supporting', 'check', 'adult', 'publishing', 'heads', 'cm', 'southeast', 'lane', '##burg', 'application', 'bc', '##ura', 'les', 'condition', 'transfer', 'prevent', 'display', 'ex', 'regions', 'earl', 'federation', 'cool', 'relatively', 'answered', 'besides', '1928', 'obtained', 'portion', '##town', 'mix', '##ding', 'reaction', 'liked', 'dean', 'express', 'peak', '1932', '##tte', 'counter', 'religion', 'chain', 'rare', 'miller', 'convention', 'aid', 'lie', 'vehicles', 'mobile', 'perform', 'squad', 'wonder', 'lying', 'crazy', 'sword', '##ping', 'attempted', 'centuries', 'weren', 'philosophy', 'category', '##ize', 'anna', 'interested', '47', 'sweden', 'wolf', 'frequently', 'abandoned', 'kg', 'literary', 'alliance', 'task', 'entitled', '##ay', 'threw', 'promotion', 'factory', 'tiny', 'soccer', 'visited', 'matt', 'fm', 'achieved', '52', 'defence', 'internal', 'persian', '43', 'methods', '##ging', 'arrested', 'otherwise', 'cambridge', 'programming', 'villages', 'elementary', 'districts', 'rooms', 'criminal', 'conflict', 'worry', 'trained', '1931', 'attempts', 'waited', 'signal', 'bird', 'truck', 'subsequent', 'programme', '##ol', 'ad', '49', 'communist', 'details', 'faith', 'sector', 'patrick', 'carrying', 'laugh', '##ss', 'controlled', 'korean', 'showing', 'origin', 'fuel', 'evil', '1927', '##ent', 'brief', 'identity', 'darkness', 'address', 'pool', 'missed', 'publication', 'web', 'planet', 'ian', 'anne', 'wings', 'invited', '##tt', 'briefly', 'standards', 'kissed', '##be', 'ideas', 'climate', 'causing', 'walter', 'worse', 'albert', 'articles', 'winners', 'desire', 'aged', 'northeast', 'dangerous', 'gate', 'doubt', '1922', 'wooden', 'multi', '##ky', 'poet', 'rising', 'funding', '46', 'communications', 'communication', 'violence', 'copies', 'prepared', 'ford', 'investigation', 'skills', '1924', 'pulling', 'electronic', '##ak', '##ial', '##han', 'containing', 'ultimately', 'offices', 'singing', 'understanding', 'restaurant', 'tomorrow', 'fashion', 'christ', 'ward', 'da', 'pope', 'stands', '5th', 'flow', 'studios', 'aired', 'commissioned', 'contained', 'exist', 'fresh', 'americans', '##per', 'wrestling', 'approved', 'kid', 'employed', 'respect', 'suit', '1925', 'angel', 'asking', 'increasing', 'frame', 'angry', 'selling', '1950s', 'thin', 'finds', '##nd', 'temperature', 'statement', 'ali', 'explain', 'inhabitants', 'towns', 'extensive', 'narrow', '51', 'jane', 'flowers', 'images', 'promise', 'somewhere', 'object', 'fly', 'closely', '##ls', '1912', 'bureau', 'cape', '1926', 'weekly', 'presidential', 'legislative', '1921', '##ai', '##au', 'launch', 'founding', '##ny', '978', '##ring', 'artillery', 'strike', 'un', 'institutions', 'roll', 'writers', 'landing', 'chose', 'kevin', 'anymore', 'pp', '##ut', 'attorney', 'fit', 'dan', 'billboard', 'receiving', 'agricultural', 'breaking', 'sought', 'dave', 'admitted', 'lands', 'mexican', '##bury', 'charlie', 'specifically', 'hole', 'iv', 'howard', 'credit', 'moscow', 'roads', 'accident', '1923', 'proved', 'wear', 'struck', 'hey', 'guards', 'stuff', 'slid', 'expansion', '1915', 'cat', 'anthony', '##kin', 'melbourne', 'opposed', 'sub', 'southwest', 'architect', 'failure', 'plane', '1916', '##ron', 'map', 'camera', 'tank', 'listen', 'regarding', 'wet', 'introduction', 'metropolitan', 'link', 'ep', 'fighter', 'inch', 'grown', 'gene', 'anger', 'fixed', 'buy', 'dvd', 'khan', 'domestic', 'worldwide', 'chapel', 'mill', 'functions', 'examples', '##head', 'developing', '1910', 'turkey', 'hits', 'pocket', 'antonio', 'papers', 'grow', 'unless', 'circuit', '18th', 'concerned', 'attached', 'journalist', 'selection', 'journey', 'converted', 'provincial', 'painted', 'hearing', 'aren', 'bands', 'negative', 'aside', 'wondered', 'knight', 'lap', 'survey', 'ma', '##ow', 'noise', 'billy', '##ium', 'shooting', 'guide', 'bedroom', 'priest', 'resistance', 'motor', 'homes', 'sounded', 'giant', '##mer', '150', 'scenes', 'equal', 'comic', 'patients', 'hidden', 'solid', 'actual', 'bringing', 'afternoon', 'touched', 'funds', 'wedding', 'consisted', 'marie', 'canal', 'sr', 'kim', 'treaty', 'turkish', 'recognition', 'residence', 'cathedral', 'broad', 'knees', 'incident', 'shaped', 'fired', 'norwegian', 'handle', 'cheek', 'contest', 'represent', '##pe', 'representing', 'beauty', '##sen', 'birds', 'advantage', 'emergency', 'wrapped', 'drawing', 'notice', 'pink', 'broadcasting', '##ong', 'somehow', 'bachelor', 'seventh', 'collected', 'registered', 'establishment', 'alan', 'assumed', 'chemical', 'personnel', 'roger', 'retirement', 'jeff', 'portuguese', 'wore', 'tied', 'device', 'threat', 'progress', 'advance', '##ised', 'banks', 'hired', 'manchester', 'nfl', 'teachers', 'structures', 'forever', '##bo', 'tennis', 'helping', 'saturday', 'sale', 'applications', 'junction', 'hip', 'incorporated', 'neighborhood', 'dressed', 'ceremony', '##ds', 'influenced', 'hers', 'visual', 'stairs', 'decades', 'inner', 'kansas', 'hung', 'hoped', 'gain', 'scheduled', 'downtown', 'engaged', 'austria', 'clock', 'norway', 'certainly', 'pale', 'protected', '1913', 'victor', 'employees', 'plate', 'putting', 'surrounded', '##ists', 'finishing', 'blues', 'tropical', '##ries', 'minnesota', 'consider', 'philippines', 'accept', '54', 'retrieved', '1900', 'concern', 'anderson', 'properties', 'institution', 'gordon', 'successfully', 'vietnam', '##dy', 'backing', 'outstanding', 'muslim', 'crossing', 'folk', 'producing', 'usual', 'demand', 'occurs', 'observed', 'lawyer', 'educated', '##ana', 'kelly', 'string', 'pleasure', 'budget', 'items', 'quietly', 'colorado', 'philip', 'typical', '##worth', 'derived', '600', 'survived', 'asks', 'mental', '##ide', '56', 'jake', 'jews', 'distinguished', 'ltd', '1911', 'sri', 'extremely', '53', 'athletic', 'loud', 'thousands', 'worried', 'shadow', 'transportation', 'horses', 'weapon', 'arena', 'importance', 'users', 'tim', 'objects', 'contributed', 'dragon', 'douglas', 'aware', 'senator', 'johnny', 'jordan', 'sisters', 'engines', 'flag', 'investment', 'samuel', 'shock', 'capable', 'clark', 'row', 'wheel', 'refers', 'session', 'familiar', 'biggest', 'wins', 'hate', 'maintained', 'drove', 'hamilton', 'request', 'expressed', 'injured', 'underground', 'churches', 'walker', 'wars', 'tunnel', 'passes', 'stupid', 'agriculture', 'softly', 'cabinet', 'regarded', 'joining', 'indiana', '##ea', '##ms', 'push', 'dates', 'spend', 'behavior', 'woods', 'protein', 'gently', 'chase', 'morgan', 'mention', 'burning', 'wake', 'combination', 'occur', 'mirror', 'leads', 'jimmy', 'indeed', 'impossible', 'singapore', 'paintings', 'covering', '##nes', 'soldier', 'locations', 'attendance', 'sell', 'historian', 'wisconsin', 'invasion', 'argued', 'painter', 'diego', 'changing', 'egypt', '##don', 'experienced', 'inches', '##ku', 'missouri', 'vol', 'grounds', 'spoken', 'switzerland', '##gan', 'reform', 'rolling', 'ha', 'forget', 'massive', 'resigned', 'burned', 'allen', 'tennessee', 'locked', 'values', 'improved', '##mo', 'wounded', 'universe', 'sick', 'dating', 'facing', 'pack', 'purchase', 'user', '##pur', 'moments', '##ul', 'merged', 'anniversary', '1908', 'coal', 'brick', 'understood', 'causes', 'dynasty', 'queensland', 'establish', 'stores', 'crisis', 'promote', 'hoping', 'views', 'cards', 'referee', 'extension', '##si', 'raise', 'arizona', 'improve', 'colonial', 'formal', 'charged', '##rt', 'palm', 'lucky', 'hide', 'rescue', 'faces', '95', 'feelings', 'candidates', 'juan', '##ell', 'goods', '6th', 'courses', 'weekend', '59', 'luke', 'cash', 'fallen', '##om', 'delivered', 'affected', 'installed', 'carefully', 'tries', 'swiss', 'hollywood', 'costs', 'lincoln', 'responsibility', '##he', 'shore', 'file', 'proper', 'normally', 'maryland', 'assistance', 'jump', 'constant', 'offering', 'friendly', 'waters', 'persons', 'realize', 'contain', 'trophy', '800', 'partnership', 'factor', '58', 'musicians', 'cry', 'bound', 'oregon', 'indicated', 'hero', 'houston', 'medium', '##ure', 'consisting', 'somewhat', '##ara', '57', 'cycle', '##che', 'beer', 'moore', 'frederick', 'gotten', 'eleven', 'worst', 'weak', 'approached', 'arranged', 'chin', 'loan', 'universal', 'bond', 'fifteen', 'pattern', 'disappeared', '##ney', 'translated', '##zed', 'lip', 'arab', 'capture', 'interests', 'insurance', '##chi', 'shifted', 'cave', 'prix', 'warning', 'sections', 'courts', 'coat', 'plot', 'smell', 'feed', 'golf', 'favorite', 'maintain', 'knife', 'vs', 'voted', 'degrees', 'finance', 'quebec', 'opinion', 'translation', 'manner', 'ruled', 'operate', 'productions', 'choose', 'musician', 'discovery', 'confused', 'tired', 'separated', 'stream', 'techniques', 'committed', 'attend', 'ranking', 'kings', 'throw', 'passengers', 'measure', 'horror', 'fan', 'mining', 'sand', 'danger', 'salt', 'calm', 'decade', 'dam', 'require', 'runner', '##ik', 'rush', 'associate', 'greece', '##ker', 'rivers', 'consecutive', 'matthew', '##ski', 'sighed', 'sq', 'documents', 'steam', 'edited', 'closing', 'tie', 'accused', '1905', '##ini', 'islamic', 'distributed', 'directors', 'organisation', 'bruce', '7th', 'breathing', 'mad', 'lit', 'arrival', 'concrete', 'taste', '08', 'composition', 'shaking', 'faster', 'amateur', 'adjacent', 'stating', '1906', 'twin', 'flew', '##ran', 'tokyo', 'publications', '##tone', 'obviously', 'ridge', 'storage', '1907', 'carl', 'pages', 'concluded', 'desert', 'driven', 'universities', 'ages', 'terminal', 'sequence', 'borough', '250', 'constituency', 'creative', 'cousin', 'economics', 'dreams', 'margaret', 'notably', 'reduce', 'montreal', 'mode', '17th', 'ears', 'saved', 'jan', 'vocal', '##ica', '1909', 'andy', '##jo', 'riding', 'roughly', 'threatened', '##ise', 'meters', 'meanwhile', 'landed', 'compete', 'repeated', 'grass', 'czech', 'regularly', 'charges', 'tea', 'sudden', 'appeal', '##ung', 'solution', 'describes', 'pierre', 'classification', 'glad', 'parking', '##ning', 'belt', 'physics', '99', 'rachel', 'add', 'hungarian', 'participate', 'expedition', 'damaged', 'gift', 'childhood', '85', 'fifty', '##red', 'mathematics', 'jumped', 'letting', 'defensive', 'mph', '##ux', '##gh', 'testing', '##hip', 'hundreds', 'shoot', 'owners', 'matters', 'smoke', 'israeli', 'kentucky', 'dancing', 'mounted', 'grandfather', 'emma', 'designs', 'profit', 'argentina', '##gs', 'truly', 'li', 'lawrence', 'cole', 'begun', 'detroit', 'willing', 'branches', 'smiling', 'decide', 'miami', 'enjoyed', 'recordings', '##dale', 'poverty', 'ethnic', 'gay', '##bi', 'gary', 'arabic', '09', 'accompanied', '##one', '##ons', 'fishing', 'determine', 'residential', 'acid', '##ary', 'alice', 'returns', 'starred', 'mail', '##ang', 'jonathan', 'strategy', '##ue', 'net', 'forty', 'cook', 'businesses', 'equivalent', 'commonwealth', 'distinct', 'ill', '##cy', 'seriously', '##ors', '##ped', 'shift', 'harris', 'replace', 'rio', 'imagine', 'formula', 'ensure', '##ber', 'additionally', 'scheme', 'conservation', 'occasionally', 'purposes', 'feels', 'favor', '##and', '##ore', '1930s', 'contrast', 'hanging', 'hunt', 'movies', '1904', 'instruments', 'victims', 'danish', 'christopher', 'busy', 'demon', 'sugar', 'earliest', 'colony', 'studying', 'balance', 'duties', '##ks', 'belgium', 'slipped', 'carter', '05', 'visible', 'stages', 'iraq', 'fifa', '##im', 'commune', 'forming', 'zero', '07', 'continuing', 'talked', 'counties', 'legend', 'bathroom', 'option', 'tail', 'clay', 'daughters', 'afterwards', 'severe', 'jaw', 'visitors', '##ded', 'devices', 'aviation', 'russell', 'kate', '##vi', 'entering', 'subjects', '##ino', 'temporary', 'swimming', 'forth', 'smooth', 'ghost', 'audio', 'bush', 'operates', 'rocks', 'movements', 'signs', 'eddie', '##tz', 'ann', 'voices', 'honorary', '06', 'memories', 'dallas', 'pure', 'measures', 'racial', 'promised', '66', 'harvard', 'ceo', '16th', 'parliamentary', 'indicate', 'benefit', 'flesh', 'dublin', 'louisiana', '1902', '1901', 'patient', 'sleeping', '1903', 'membership', 'coastal', 'medieval', 'wanting', 'element', 'scholars', 'rice', '62', 'limit', 'survive', 'makeup', 'rating', 'definitely', 'collaboration', 'obvious', '##tan', 'boss', 'ms', 'baron', 'birthday', 'linked', 'soil', 'diocese', '##lan', 'ncaa', '##mann', 'offensive', 'shell', 'shouldn', 'waist', '##tus', 'plain', 'ross', 'organ', 'resolution', 'manufacturing', 'adding', 'relative', 'kennedy', '98', 'whilst', 'moth', 'marketing', 'gardens', 'crash', '72', 'heading', 'partners', 'credited', 'carlos', 'moves', 'cable', '##zi', 'marshall', '##out', 'depending', 'bottle', 'represents', 'rejected', 'responded', 'existed', '04', 'jobs', 'denmark', 'lock', '##ating', 'treated', 'graham', 'routes', 'talent', 'commissioner', 'drugs', 'secure', 'tests', 'reign', 'restored', 'photography', '##gi', 'contributions', 'oklahoma', 'designer', 'disc', 'grin', 'seattle', 'robin', 'paused', 'atlanta', 'unusual', '##gate', 'praised', 'las', 'laughing', 'satellite', 'hungary', 'visiting', '##sky', 'interesting', 'factors', 'deck', 'poems', 'norman', '##water', 'stuck', 'speaker', 'rifle', 'domain', 'premiered', '##her', 'dc', 'comics', 'actors', '01', 'reputation', 'eliminated', '8th', 'ceiling', 'prisoners', 'script', '##nce', 'leather', 'austin', 'mississippi', 'rapidly', 'admiral', 'parallel', 'charlotte', 'guilty', 'tools', 'gender', 'divisions', 'fruit', '##bs', 'laboratory', 'nelson', 'fantasy', 'marry', 'rapid', 'aunt', 'tribe', 'requirements', 'aspects', 'suicide', 'amongst', 'adams', 'bone', 'ukraine', 'abc', 'kick', 'sees', 'edinburgh', 'clothing', 'column', 'rough', 'gods', 'hunting', 'broadway', 'gathered', 'concerns', '##ek', 'spending', 'ty', '12th', 'snapped', 'requires', 'solar', 'bones', 'cavalry', '##tta', 'iowa', 'drinking', 'waste', 'index', 'franklin', 'charity', 'thompson', 'stewart', 'tip', 'flash', 'landscape', 'friday', 'enjoy', 'singh', 'poem', 'listening', '##back', 'eighth', 'fred', 'differences', 'adapted', 'bomb', 'ukrainian', 'surgery', 'corporate', 'masters', 'anywhere', '##more', 'waves', 'odd', 'sean', 'portugal', 'orleans', 'dick', 'debate', 'kent', 'eating', 'puerto', 'cleared', '96', 'expect', 'cinema', '97', 'guitarist', 'blocks', 'electrical', 'agree', 'involving', 'depth', 'dying', 'panel', 'struggle', '##ged', 'peninsula', 'adults', 'novels', 'emerged', 'vienna', 'metro', 'debuted', 'shoes', 'tamil', 'songwriter', 'meets', 'prove', 'beating', 'instance', 'heaven', 'scared', 'sending', 'marks', 'artistic', 'passage', 'superior', '03', 'significantly', 'shopping', '##tive', 'retained', '##izing', 'malaysia', 'technique', 'cheeks', '##ola', 'warren', 'maintenance', 'destroy', 'extreme', 'allied', '120', 'appearing', '##yn', 'fill', 'advice', 'alabama', 'qualifying', 'policies', 'cleveland', 'hat', 'battery', 'smart', 'authors', '10th', 'soundtrack', 'acted', 'dated', 'lb', 'glance', 'equipped', 'coalition', 'funny', 'outer', 'ambassador', 'roy', 'possibility', 'couples', 'campbell', 'dna', 'loose', 'ethan', 'supplies', '1898', 'gonna', '88', 'monster', '##res', 'shake', 'agents', 'frequency', 'springs', 'dogs', 'practices', '61', 'gang', 'plastic', 'easier', 'suggests', 'gulf', 'blade', 'exposed', 'colors', 'industries', 'markets', 'pan', 'nervous', 'electoral', 'charts', 'legislation', 'ownership', '##idae', 'mac', 'appointment', 'shield', 'copy', 'assault', 'socialist', 'abbey', 'monument', 'license', 'throne', 'employment', 'jay', '93', 'replacement', 'charter', 'cloud', 'powered', 'suffering', 'accounts', 'oak', 'connecticut', 'strongly', 'wright', 'colour', 'crystal', '13th', 'context', 'welsh', 'networks', 'voiced', 'gabriel', 'jerry', '##cing', 'forehead', 'mp', '##ens', 'manage', 'schedule', 'totally', 'remix', '##ii', 'forests', 'occupation', 'print', 'nicholas', 'brazilian', 'strategic', 'vampires', 'engineers', '76', 'roots', 'seek', 'correct', 'instrumental', 'und', 'alfred', 'backed', 'hop', '##des', 'stanley', 'robinson', 'traveled', 'wayne', 'welcome', 'austrian', 'achieve', '67', 'exit', 'rates', '1899', 'strip', 'whereas', '##cs', 'sing', 'deeply', 'adventure', 'bobby', 'rick', 'jamie', 'careful', 'components', 'cap', 'useful', 'personality', 'knee', '##shi', 'pushing', 'hosts', '02', 'protest', 'ca', 'ottoman', 'symphony', '##sis', '63', 'boundary', '1890', 'processes', 'considering', 'considerable', 'tons', '##work', '##ft', '##nia', 'cooper', 'trading', 'dear', 'conduct', '91', 'illegal', 'apple', 'revolutionary', 'holiday', 'definition', 'harder', '##van', 'jacob', 'circumstances', 'destruction', '##lle', 'popularity', 'grip', 'classified', 'liverpool', 'donald', 'baltimore', 'flows', 'seeking', 'honour', 'approval', '92', 'mechanical', 'till', 'happening', 'statue', 'critic', 'increasingly', 'immediate', 'describe', 'commerce', 'stare', '##ster', 'indonesia', 'meat', 'rounds', 'boats', 'baker', 'orthodox', 'depression', 'formally', 'worn', 'naked', 'claire', 'muttered', 'sentence', '11th', 'emily', 'document', '77', 'criticism', 'wished', 'vessel', 'spiritual', 'bent', 'virgin', 'parker', 'minimum', 'murray', 'lunch', 'danny', 'printed', 'compilation', 'keyboards', 'false', 'blow', 'belonged', '68', 'raising', '78', 'cutting', '##board', 'pittsburgh', '##up', '9th', 'shadows', '81', 'hated', 'indigenous', 'jon', '15th', 'barry', 'scholar', 'ah', '##zer', 'oliver', '##gy', 'stick', 'susan', 'meetings', 'attracted', 'spell', 'romantic', '##ver', 'ye', '1895', 'photo', 'demanded', 'customers', '##ac', '1896', 'logan', 'revival', 'keys', 'modified', 'commanded', 'jeans', '##ious', 'upset', 'raw', 'phil', 'detective', 'hiding', 'resident', 'vincent', '##bly', 'experiences', 'diamond', 'defeating', 'coverage', 'lucas', 'external', 'parks', 'franchise', 'helen', 'bible', 'successor', 'percussion', 'celebrated', 'il', 'lift', 'profile', 'clan', 'romania', '##ied', 'mills', '##su', 'nobody', 'achievement', 'shrugged', 'fault', '1897', 'rhythm', 'initiative', 'breakfast', 'carbon', '700', '69', 'lasted', 'violent', '74', 'wound', 'ken', 'killer', 'gradually', 'filmed', '°c', 'dollars', 'processing', '94', 'remove', 'criticized', 'guests', 'sang', 'chemistry', '##vin', 'legislature', 'disney', '##bridge', 'uniform', 'escaped', 'integrated', 'proposal', 'purple', 'denied', 'liquid', 'karl', 'influential', 'morris', 'nights', 'stones', 'intense', 'experimental', 'twisted', '71', '84', '##ld', 'pace', 'nazi', 'mitchell', 'ny', 'blind', 'reporter', 'newspapers', '14th', 'centers', 'burn', 'basin', 'forgotten', 'surviving', 'filed', 'collections', 'monastery', 'losses', 'manual', 'couch', 'description', 'appropriate', 'merely', 'tag', 'missions', 'sebastian', 'restoration', 'replacing', 'triple', '73', 'elder', 'julia', 'warriors', 'benjamin', 'julian', 'convinced', 'stronger', 'amazing', 'declined', 'versus', 'merchant', 'happens', 'output', 'finland', 'bare', 'barbara', 'absence', 'ignored', 'dawn', 'injuries', '##port', 'producers', '##ram', '82', 'luis', '##ities', 'kw', 'admit', 'expensive', 'electricity', 'nba', 'exception', 'symbol', '##ving', 'ladies', 'shower', 'sheriff', 'characteristics', '##je', 'aimed', 'button', 'ratio', 'effectively', 'summit', 'angle', 'jury', 'bears', 'foster', 'vessels', 'pants', 'executed', 'evans', 'dozen', 'advertising', 'kicked', 'patrol', '1889', 'competitions', 'lifetime', 'principles', 'athletics', '##logy', 'birmingham', 'sponsored', '89', 'rob', 'nomination', '1893', 'acoustic', '##sm', 'creature', 'longest', '##tra', 'credits', 'harbor', 'dust', 'josh', '##so', 'territories', 'milk', 'infrastructure', 'completion', 'thailand', 'indians', 'leon', 'archbishop', '##sy', 'assist', 'pitch', 'blake', 'arrangement', 'girlfriend', 'serbian', 'operational', 'hence', 'sad', 'scent', 'fur', 'dj', 'sessions', 'hp', 'refer', 'rarely', '##ora', 'exists', '1892', '##ten', 'scientists', 'dirty', 'penalty', 'burst', 'portrait', 'seed', '79', 'pole', 'limits', 'rival', '1894', 'stable', 'alpha', 'grave', 'constitutional', 'alcohol', 'arrest', 'flower', 'mystery', 'devil', 'architectural', 'relationships', 'greatly', 'habitat', '##istic', 'larry', 'progressive', 'remote', 'cotton', '##ics', '##ok', 'preserved', 'reaches', '##ming', 'cited', '86', 'vast', 'scholarship', 'decisions', 'cbs', 'joy', 'teach', '1885', 'editions', 'knocked', 'eve', 'searching', 'partly', 'participation', 'gap', 'animated', 'fate', 'excellent', '##ett', 'na', '87', 'alternate', 'saints', 'youngest', '##ily', 'climbed', '##ita', '##tors', 'suggest', '##ct', 'discussion', 'staying', 'choir', 'lakes', 'jacket', 'revenue', 'nevertheless', 'peaked', 'instrument', 'wondering', 'annually', 'managing', 'neil', '1891', 'signing', 'terry', '##ice', 'apply', 'clinical', 'brooklyn', 'aim', 'catherine', 'fuck', 'farmers', 'figured', 'ninth', 'pride', 'hugh', 'evolution', 'ordinary', 'involvement', 'comfortable', 'shouted', 'tech', 'encouraged', 'taiwan', 'representation', 'sharing', '##lia', '##em', 'panic', 'exact', 'cargo', 'competing', 'fat', 'cried', '83', '1920s', 'occasions', 'pa', 'cabin', 'borders', 'utah', 'marcus', '##isation', 'badly', 'muscles', '##ance', 'victorian', 'transition', 'warner', 'bet', 'permission', '##rin', 'slave', 'terrible', 'similarly', 'shares', 'seth', 'uefa', 'possession', 'medals', 'benefits', 'colleges', 'lowered', 'perfectly', 'mall', 'transit', '##ye', '##kar', 'publisher', '##ened', 'harrison', 'deaths', 'elevation', '##ae', 'asleep', 'machines', 'sigh', 'ash', 'hardly', 'argument', 'occasion', 'parent', 'leo', 'decline', '1888', 'contribution', '##ua', 'concentration', '1000', 'opportunities', 'hispanic', 'guardian', 'extent', 'emotions', 'hips', 'mason', 'volumes', 'bloody', 'controversy', 'diameter', 'steady', 'mistake', 'phoenix', 'identify', 'violin', '##sk', 'departure', 'richmond', 'spin', 'funeral', 'enemies', '1864', 'gear', 'literally', 'connor', 'random', 'sergeant', 'grab', 'confusion', '1865', 'transmission', 'informed', 'op', 'leaning', 'sacred', 'suspended', 'thinks', 'gates', 'portland', 'luck', 'agencies', 'yours', 'hull', 'expert', 'muscle', 'layer', 'practical', 'sculpture', 'jerusalem', 'latest', 'lloyd', 'statistics', 'deeper', 'recommended', 'warrior', 'arkansas', 'mess', 'supports', 'greg', 'eagle', '1880', 'recovered', 'rated', 'concerts', 'rushed', '##ano', 'stops', 'eggs', 'files', 'premiere', 'keith', '##vo', 'delhi', 'turner', 'pit', 'affair', 'belief', 'paint', '##zing', 'mate', '##ach', '##ev', 'victim', '##ology', 'withdrew', 'bonus', 'styles', 'fled', '##ud', 'glasgow', 'technologies', 'funded', 'nbc', 'adaptation', '##ata', 'portrayed', 'cooperation', 'supporters', 'judges', 'bernard', 'justin', 'hallway', 'ralph', '##ick', 'graduating', 'controversial', 'distant', 'continental', 'spider', 'bite', '##ho', 'recognize', 'intention', 'mixing', '##ese', 'egyptian', 'bow', 'tourism', 'suppose', 'claiming', 'tiger', 'dominated', 'participants', 'vi', '##ru', 'nurse', 'partially', 'tape', '##rum', 'psychology', '##rn', 'essential', 'touring', 'duo', 'voting', 'civilian', 'emotional', 'channels', '##king', 'apparent', 'hebrew', '1887', 'tommy', 'carrier', 'intersection', 'beast', 'hudson', '##gar', '##zo', 'lab', 'nova', 'bench', 'discuss', 'costa', '##ered', 'detailed', 'behalf', 'drivers', 'unfortunately', 'obtain', '##lis', 'rocky', '##dae', 'siege', 'friendship', 'honey', '##rian', '1861', 'amy', 'hang', 'posted', 'governments', 'collins', 'respond', 'wildlife', 'preferred', 'operator', '##po', 'laura', 'pregnant', 'videos', 'dennis', 'suspected', 'boots', 'instantly', 'weird', 'automatic', 'businessman', 'alleged', 'placing', 'throwing', 'ph', 'mood', '1862', 'perry', 'venue', 'jet', 'remainder', '##lli', '##ci', 'passion', 'biological', 'boyfriend', '1863', 'dirt', 'buffalo', 'ron', 'segment', 'fa', 'abuse', '##era', 'genre', 'thrown', 'stroke', 'colored', 'stress', 'exercise', 'displayed', '##gen', 'struggled', '##tti', 'abroad', 'dramatic', 'wonderful', 'thereafter', 'madrid', 'component', 'widespread', '##sed', 'tale', 'citizen', 'todd', 'monday', '1886', 'vancouver', 'overseas', 'forcing', 'crying', 'descent', '##ris', 'discussed', 'substantial', 'ranks', 'regime', '1870', 'provinces', 'switch', 'drum', 'zane', 'ted', 'tribes', 'proof', 'lp', 'cream', 'researchers', 'volunteer', 'manor', 'silk', 'milan', 'donated', 'allies', 'venture', 'principle', 'delivery', 'enterprise', '##ves', '##ans', 'bars', 'traditionally', 'witch', 'reminded', 'copper', '##uk', 'pete', 'inter', 'links', 'colin', 'grinned', 'elsewhere', 'competitive', 'frequent', '##oy', 'scream', '##hu', 'tension', 'texts', 'submarine', 'finnish', 'defending', 'defend', 'pat', 'detail', '1884', 'affiliated', 'stuart', 'themes', 'villa', 'periods', 'tool', 'belgian', 'ruling', 'crimes', 'answers', 'folded', 'licensed', 'resort', 'demolished', 'hans', 'lucy', '1881', 'lion', 'traded', 'photographs', 'writes', 'craig', '##fa', 'trials', 'generated', 'beth', 'noble', 'debt', 'percentage', 'yorkshire', 'erected', 'ss', 'viewed', 'grades', 'confidence', 'ceased', 'islam', 'telephone', 'retail', '##ible', 'chile', 'm²', 'roberts', 'sixteen', '##ich', 'commented', 'hampshire', 'innocent', 'dual', 'pounds', 'checked', 'regulations', 'afghanistan', 'sung', 'rico', 'liberty', 'assets', 'bigger', 'options', 'angels', 'relegated', 'tribute', 'wells', 'attending', 'leaf', '##yan', 'butler', 'romanian', 'forum', 'monthly', 'lisa', 'patterns', 'gmina', '##tory', 'madison', 'hurricane', 'rev', '##ians', 'bristol', '##ula', 'elite', 'valuable', 'disaster', 'democracy', 'awareness', 'germans', 'freyja', '##ins', 'loop', 'absolutely', 'paying', 'populations', 'maine', 'sole', 'prayer', 'spencer', 'releases', 'doorway', 'bull', '##ani', 'lover', 'midnight', 'conclusion', '##sson', 'thirteen', 'lily', 'mediterranean', '##lt', 'nhl', 'proud', 'sample', '##hill', 'drummer', 'guinea', '##ova', 'murphy', 'climb', '##ston', 'instant', 'attributed', 'horn', 'ain', 'railways', 'steven', '##ao', 'autumn', 'ferry', 'opponent', 'root', 'traveling', 'secured', 'corridor', 'stretched', 'tales', 'sheet', 'trinity', 'cattle', 'helps', 'indicates', 'manhattan', 'murdered', 'fitted', '1882', 'gentle', 'grandmother', 'mines', 'shocked', 'vegas', 'produces', '##light', 'caribbean', '##ou', 'belong', 'continuous', 'desperate', 'drunk', 'historically', 'trio', 'waved', 'raf', 'dealing', 'nathan', 'bat', 'murmured', 'interrupted', 'residing', 'scientist', 'pioneer', 'harold', 'aaron', '##net', 'delta', 'attempting', 'minority', 'mini', 'believes', 'chorus', 'tend', 'lots', 'eyed', 'indoor', 'load', 'shots', 'updated', 'jail', '##llo', 'concerning', 'connecting', 'wealth', '##ved', 'slaves', 'arrive', 'rangers', 'sufficient', 'rebuilt', '##wick', 'cardinal', 'flood', 'muhammad', 'whenever', 'relation', 'runners', 'moral', 'repair', 'viewers', 'arriving', 'revenge', 'punk', 'assisted', 'bath', 'fairly', 'breathe', 'lists', 'innings', 'illustrated', 'whisper', 'nearest', 'voters', 'clinton', 'ties', 'ultimate', 'screamed', 'beijing', 'lions', 'andre', 'fictional', 'gathering', 'comfort', 'radar', 'suitable', 'dismissed', 'hms', 'ban', 'pine', 'wrist', 'atmosphere', 'voivodeship', 'bid', 'timber', '##ned', '##nan', 'giants', '##ane', 'cameron', 'recovery', 'uss', 'identical', 'categories', 'switched', 'serbia', 'laughter', 'noah', 'ensemble', 'therapy', 'peoples', 'touching', '##off', 'locally', 'pearl', 'platforms', 'everywhere', 'ballet', 'tables', 'lanka', 'herbert', 'outdoor', 'toured', 'derek', '1883', 'spaces', 'contested', 'swept', '1878', 'exclusive', 'slight', 'connections', '##dra', 'winds', 'prisoner', 'collective', 'bangladesh', 'tube', 'publicly', 'wealthy', 'thai', '##ys', 'isolated', 'select', '##ric', 'insisted', 'pen', 'fortune', 'ticket', 'spotted', 'reportedly', 'animation', 'enforcement', 'tanks', '110', 'decides', 'wider', 'lowest', 'owen', '##time', 'nod', 'hitting', '##hn', 'gregory', 'furthermore', 'magazines', 'fighters', 'solutions', '##ery', 'pointing', 'requested', 'peru', 'reed', 'chancellor', 'knights', 'mask', 'worker', 'eldest', 'flames', 'reduction', '1860', 'volunteers', '##tis', 'reporting', '##hl', 'wire', 'advisory', 'endemic', 'origins', 'settlers', 'pursue', 'knock', 'consumer', '1876', 'eu', 'compound', 'creatures', 'mansion', 'sentenced', 'ivan', 'deployed', 'guitars', 'frowned', 'involves', 'mechanism', 'kilometers', 'perspective', 'shops', 'maps', 'terminus', 'duncan', 'alien', 'fist', 'bridges', '##pers', 'heroes', 'fed', 'derby', 'swallowed', '##ros', 'patent', 'sara', 'illness', 'characterized', 'adventures', 'slide', 'hawaii', 'jurisdiction', '##op', 'organised', '##side', 'adelaide', 'walks', 'biology', 'se', '##ties', 'rogers', 'swing', 'tightly', 'boundaries', '##rie', 'prepare', 'implementation', 'stolen', '##sha', 'certified', 'colombia', 'edwards', 'garage', '##mm', 'recalled', '##ball', 'rage', 'harm', 'nigeria', 'breast', '##ren', 'furniture', 'pupils', 'settle', '##lus', 'cuba', 'balls', 'client', 'alaska', '21st', 'linear', 'thrust', 'celebration', 'latino', 'genetic', 'terror', '##cia', '##ening', 'lightning', 'fee', 'witness', 'lodge', 'establishing', 'skull', '##ique', 'earning', 'hood', '##ei', 'rebellion', 'wang', 'sporting', 'warned', 'missile', 'devoted', 'activist', 'porch', 'worship', 'fourteen', 'package', '1871', 'decorated', '##shire', 'housed', '##ock', 'chess', 'sailed', 'doctors', 'oscar', 'joan', 'treat', 'garcia', 'harbour', 'jeremy', '##ire', 'traditions', 'dominant', 'jacques', '##gon', '##wan', 'relocated', '1879', 'amendment', 'sized', 'companion', 'simultaneously', 'volleyball', 'spun', 'acre', 'increases', 'stopping', 'loves', 'belongs', 'affect', 'drafted', 'tossed', 'scout', 'battles', '1875', 'filming', 'shoved', 'munich', 'tenure', 'vertical', 'romance', 'pc', '##cher', 'argue', '##ical', 'craft', 'ranging', 'www', 'opens', 'honest', 'tyler', 'yesterday', 'virtual', '##let', 'muslims', 'reveal', 'snake', 'immigrants', 'radical', 'screaming', 'speakers', 'firing', 'saving', 'belonging', 'ease', 'lighting', 'prefecture', 'blame', 'farmer', 'hungry', 'grows', 'rubbed', 'beam', 'sur', 'subsidiary', '##cha', 'armenian', 'sao', 'dropping', 'conventional', '##fer', 'microsoft', 'reply', 'qualify', 'spots', '1867', 'sweat', 'festivals', '##ken', 'immigration', 'physician', 'discover', 'exposure', 'sandy', 'explanation', 'isaac', 'implemented', '##fish', 'hart', 'initiated', 'connect', 'stakes', 'presents', 'heights', 'householder', 'pleased', 'tourist', 'regardless', 'slip', 'closest', '##ction', 'surely', 'sultan', 'brings', 'riley', 'preparation', 'aboard', 'slammed', 'baptist', 'experiment', 'ongoing', 'interstate', 'organic', 'playoffs', '##ika', '1877', '130', '##tar', 'hindu', 'error', 'tours', 'tier', 'plenty', 'arrangements', 'talks', 'trapped', 'excited', 'sank', 'ho', 'athens', '1872', 'denver', 'welfare', 'suburb', 'athletes', 'trick', 'diverse', 'belly', 'exclusively', 'yelled', '1868', '##med', 'conversion', '##ette', '1874', 'internationally', 'computers', 'conductor', 'abilities', 'sensitive', 'hello', 'dispute', 'measured', 'globe', 'rocket', 'prices', 'amsterdam', 'flights', 'tigers', 'inn', 'municipalities', 'emotion', 'references', '3d', '##mus', 'explains', 'airlines', 'manufactured', 'pm', 'archaeological', '1873', 'interpretation', 'devon', 'comment', '##ites', 'settlements', 'kissing', 'absolute', 'improvement', 'suite', 'impressed', 'barcelona', 'sullivan', 'jefferson', 'towers', 'jesse', 'julie', '##tin', '##lu', 'grandson', 'hi', 'gauge', 'regard', 'rings', 'interviews', 'trace', 'raymond', 'thumb', 'departments', 'burns', 'serial', 'bulgarian', 'scores', 'demonstrated', '##ix', '1866', 'kyle', 'alberta', 'underneath', 'romanized', '##ward', 'relieved', 'acquisition', 'phrase', 'cliff', 'reveals', 'han', 'cuts', 'merger', 'custom', '##dar', 'nee', 'gilbert', 'graduation', '##nts', 'assessment', 'cafe', 'difficulty', 'demands', 'swung', 'democrat', 'jennifer', 'commons', '1940s', 'grove', '##yo', 'completing', 'focuses', 'sum', 'substitute', 'bearing', 'stretch', 'reception', '##py', 'reflected', 'essentially', 'destination', 'pairs', '##ched', 'survival', 'resource', '##bach', 'promoting', 'doubles', 'messages', 'tear', '##down', '##fully', 'parade', 'florence', 'harvey', 'incumbent', 'partial', 'framework', '900', 'pedro', 'frozen', 'procedure', 'olivia', 'controls', '##mic', 'shelter', 'personally', 'temperatures', '##od', 'brisbane', 'tested', 'sits', 'marble', 'comprehensive', 'oxygen', 'leonard', '##kov', 'inaugural', 'iranian', 'referring', 'quarters', 'attitude', '##ivity', 'mainstream', 'lined', 'mars', 'dakota', 'norfolk', 'unsuccessful', '##°', 'explosion', 'helicopter', 'congressional', '##sing', 'inspector', 'bitch', 'seal', 'departed', 'divine', '##ters', 'coaching', 'examination', 'punishment', 'manufacturer', 'sink', 'columns', 'unincorporated', 'signals', 'nevada', 'squeezed', 'dylan', 'dining', 'photos', 'martial', 'manuel', 'eighteen', 'elevator', 'brushed', 'plates', 'ministers', 'ivy', 'congregation', '##len', 'slept', 'specialized', 'taxes', 'curve', 'restricted', 'negotiations', 'likes', 'statistical', 'arnold', 'inspiration', 'execution', 'bold', 'intermediate', 'significance', 'margin', 'ruler', 'wheels', 'gothic', 'intellectual', 'dependent', 'listened', 'eligible', 'buses', 'widow', 'syria', 'earn', 'cincinnati', 'collapsed', 'recipient', 'secrets', 'accessible', 'philippine', 'maritime', 'goddess', 'clerk', 'surrender', 'breaks', 'playoff', 'database', '##ified', '##lon', 'ideal', 'beetle', 'aspect', 'soap', 'regulation', 'strings', 'expand', 'anglo', 'shorter', 'crosses', 'retreat', 'tough', 'coins', 'wallace', 'directions', 'pressing', '##oon', 'shipping', 'locomotives', 'comparison', 'topics', 'nephew', '##mes', 'distinction', 'honors', 'travelled', 'sierra', 'ibn', '##over', 'fortress', 'sa', 'recognised', 'carved', '1869', 'clients', '##dan', 'intent', '##mar', 'coaches', 'describing', 'bread', '##ington', 'beaten', 'northwestern', '##ona', 'merit', 'youtube', 'collapse', 'challenges', 'em', 'historians', 'objective', 'submitted', 'virus', 'attacking', 'drake', 'assume', '##ere', 'diseases', 'marc', 'stem', 'leeds', '##cus', '##ab', 'farming', 'glasses', '##lock', 'visits', 'nowhere', 'fellowship', 'relevant', 'carries', 'restaurants', 'experiments', '101', 'constantly', 'bases', 'targets', 'shah', 'tenth', 'opponents', 'verse', 'territorial', '##ira', 'writings', 'corruption', '##hs', 'instruction', 'inherited', 'reverse', 'emphasis', '##vic', 'employee', 'arch', 'keeps', 'rabbi', 'watson', 'payment', 'uh', '##ala', 'nancy', '##tre', 'venice', 'fastest', 'sexy', 'banned', 'adrian', 'properly', 'ruth', 'touchdown', 'dollar', 'boards', 'metre', 'circles', 'edges', 'favour', 'comments', 'ok', 'travels', 'liberation', 'scattered', 'firmly', '##ular', 'holland', 'permitted', 'diesel', 'kenya', 'den', 'originated', '##ral', 'demons', 'resumed', 'dragged', 'rider', '##rus', 'servant', 'blinked', 'extend', 'torn', '##ias', '##sey', 'input', 'meal', 'everybody', 'cylinder', 'kinds', 'camps', '##fe', 'bullet', 'logic', '##wn', 'croatian', 'evolved', 'healthy', 'fool', 'chocolate', 'wise', 'preserve', 'pradesh', '##ess', 'respective', '1850', '##ew', 'chicken', 'artificial', 'gross', 'corresponding', 'convicted', 'cage', 'caroline', 'dialogue', '##dor', 'narrative', 'stranger', 'mario', 'br', 'christianity', 'failing', 'trent', 'commanding', 'buddhist', '1848', 'maurice', 'focusing', 'yale', 'bike', 'altitude', '##ering', 'mouse', 'revised', '##sley', 'veteran', '##ig', 'pulls', 'theology', 'crashed', 'campaigns', 'legion', '##ability', 'drag', 'excellence', 'customer', 'cancelled', 'intensity', 'excuse', '##lar', 'liga', 'participating', 'contributing', 'printing', '##burn', 'variable', '##rk', 'curious', 'bin', 'legacy', 'renaissance', '##my', 'symptoms', 'binding', 'vocalist', 'dancer', '##nie', 'grammar', 'gospel', 'democrats', 'ya', 'enters', 'sc', 'diplomatic', 'hitler', '##ser', 'clouds', 'mathematical', 'quit', 'defended', 'oriented', '##heim', 'fundamental', 'hardware', 'impressive', 'equally', 'convince', 'confederate', 'guilt', 'chuck', 'sliding', '##ware', 'magnetic', 'narrowed', 'petersburg', 'bulgaria', 'otto', 'phd', 'skill', '##ama', 'reader', 'hopes', 'pitcher', 'reservoir', 'hearts', 'automatically', 'expecting', 'mysterious', 'bennett', 'extensively', 'imagined', 'seeds', 'monitor', 'fix', '##ative', 'journalism', 'struggling', 'signature', 'ranch', 'encounter', 'photographer', 'observation', 'protests', '##pin', 'influences', '##hr', 'calendar', '##all', 'cruz', 'croatia', 'locomotive', 'hughes', 'naturally', 'shakespeare', 'basement', 'hook', 'uncredited', 'faded', 'theories', 'approaches', 'dare', 'phillips', 'filling', 'fury', 'obama', '##ain', 'efficient', 'arc', 'deliver', 'min', 'raid', 'breeding', 'inducted', 'leagues', 'efficiency', 'axis', 'montana', 'eagles', '##ked', 'supplied', 'instructions', 'karen', 'picking', 'indicating', 'trap', 'anchor', 'practically', 'christians', 'tomb', 'vary', 'occasional', 'electronics', 'lords', 'readers', 'newcastle', 'faint', 'innovation', 'collect', 'situations', 'engagement', '160', 'claude', 'mixture', '##feld', 'peer', 'tissue', 'logo', 'lean', '##ration', '°f', 'floors', '##ven', 'architects', 'reducing', '##our', '##ments', 'rope', '1859', 'ottawa', '##har', 'samples', 'banking', 'declaration', 'proteins', 'resignation', 'francois', 'saudi', 'advocate', 'exhibited', 'armor', 'twins', 'divorce', '##ras', 'abraham', 'reviewed', 'jo', 'temporarily', 'matrix', 'physically', 'pulse', 'curled', '##ena', 'difficulties', 'bengal', 'usage', '##ban', 'annie', 'riders', 'certificate', '##pi', 'holes', 'warsaw', 'distinctive', 'jessica', '##mon', 'mutual', '1857', 'customs', 'circular', 'eugene', 'removal', 'loaded', 'mere', 'vulnerable', 'depicted', 'generations', 'dame', 'heir', 'enormous', 'lightly', 'climbing', 'pitched', 'lessons', 'pilots', 'nepal', 'ram', 'google', 'preparing', 'brad', 'louise', 'renowned', '##₂', 'liam', '##ably', 'plaza', 'shaw', 'sophie', 'brilliant', 'bills', '##bar', '##nik', 'fucking', 'mainland', 'server', 'pleasant', 'seized', 'veterans', 'jerked', 'fail', 'beta', 'brush', 'radiation', 'stored', 'warmth', 'southeastern', 'nate', 'sin', 'raced', 'berkeley', 'joke', 'athlete', 'designation', 'trunk', '##low', 'roland', 'qualification', 'archives', 'heels', 'artwork', 'receives', 'judicial', 'reserves', '##bed', 'woke', 'installation', 'abu', 'floating', 'fake', 'lesser', 'excitement', 'interface', 'concentrated', 'addressed', 'characteristic', 'amanda', 'saxophone', 'monk', 'auto', '##bus', 'releasing', 'egg', 'dies', 'interaction', 'defender', 'ce', 'outbreak', 'glory', 'loving', '##bert', 'sequel', 'consciousness', 'http', 'awake', 'ski', 'enrolled', '##ress', 'handling', 'rookie', 'brow', 'somebody', 'biography', 'warfare', 'amounts', 'contracts', 'presentation', 'fabric', 'dissolved', 'challenged', 'meter', 'psychological', 'lt', 'elevated', 'rally', 'accurate', '##tha', 'hospitals', 'undergraduate', 'specialist', 'venezuela', 'exhibit', 'shed', 'nursing', 'protestant', 'fluid', 'structural', 'footage', 'jared', 'consistent', 'prey', '##ska', 'succession', 'reflect', 'exile', 'lebanon', 'wiped', 'suspect', 'shanghai', 'resting', 'integration', 'preservation', 'marvel', 'variant', 'pirates', 'sheep', 'rounded', 'capita', 'sailing', 'colonies', 'manuscript', 'deemed', 'variations', 'clarke', 'functional', 'emerging', 'boxing', 'relaxed', 'curse', 'azerbaijan', 'heavyweight', 'nickname', 'editorial', 'rang', 'grid', 'tightened', 'earthquake', 'flashed', 'miguel', 'rushing', '##ches', 'improvements', 'boxes', 'brooks', '180', 'consumption', 'molecular', 'felix', 'societies', 'repeatedly', 'variation', 'aids', 'civic', 'graphics', 'professionals', 'realm', 'autonomous', 'receiver', 'delayed', 'workshop', 'militia', 'chairs', 'trump', 'canyon', '##point', 'harsh', 'extending', 'lovely', 'happiness', '##jan', 'stake', 'eyebrows', 'embassy', 'wellington', 'hannah', '##ella', 'sony', 'corners', 'bishops', 'swear', 'cloth', 'contents', 'xi', 'namely', 'commenced', '1854', 'stanford', 'nashville', 'courage', 'graphic', 'commitment', 'garrison', '##bin', 'hamlet', 'clearing', 'rebels', 'attraction', 'literacy', 'cooking', 'ruins', 'temples', 'jenny', 'humanity', 'celebrate', 'hasn', 'freight', 'sixty', 'rebel', 'bastard', '##art', 'newton', '##ada', 'deer', '##ges', '##ching', 'smiles', 'delaware', 'singers', '##ets', 'approaching', 'assists', 'flame', '##ph', 'boulevard', 'barrel', 'planted', '##ome', 'pursuit', '##sia', 'consequences', 'posts', 'shallow', 'invitation', 'rode', 'depot', 'ernest', 'kane', 'rod', 'concepts', 'preston', 'topic', 'chambers', 'striking', 'blast', 'arrives', 'descendants', 'montgomery', 'ranges', 'worlds', '##lay', '##ari', 'span', 'chaos', 'praise', '##ag', 'fewer', '1855', 'sanctuary', 'mud', 'fbi', '##ions', 'programmes', 'maintaining', 'unity', 'harper', 'bore', 'handsome', 'closure', 'tournaments', 'thunder', 'nebraska', 'linda', 'facade', 'puts', 'satisfied', 'argentine', 'dale', 'cork', 'dome', 'panama', '##yl', '1858', 'tasks', 'experts', '##ates', 'feeding', 'equation', '##las', '##ida', '##tu', 'engage', 'bryan', '##ax', 'um', 'quartet', 'melody', 'disbanded', 'sheffield', 'blocked', 'gasped', 'delay', 'kisses', 'maggie', 'connects', '##non', 'sts', 'poured', 'creator', 'publishers', '##we', 'guided', 'ellis', 'extinct', 'hug', 'gaining', '##ord', 'complicated', '##bility', 'poll', 'clenched', 'investigate', '##use', 'thereby', 'quantum', 'spine', 'cdp', 'humor', 'kills', 'administered', 'semifinals', '##du', 'encountered', 'ignore', '##bu', 'commentary', '##maker', 'bother', 'roosevelt', '140', 'plains', 'halfway', 'flowing', 'cultures', 'crack', 'imprisoned', 'neighboring', 'airline', '##ses', '##view', '##mate', '##ec', 'gather', 'wolves', 'marathon', 'transformed', '##ill', 'cruise', 'organisations', 'carol', 'punch', 'exhibitions', 'numbered', 'alarm', 'ratings', 'daddy', 'silently', '##stein', 'queens', 'colours', 'impression', 'guidance', 'liu', 'tactical', '##rat', 'marshal', 'della', 'arrow', '##ings', 'rested', 'feared', 'tender', 'owns', 'bitter', 'advisor', 'escort', '##ides', 'spare', 'farms', 'grants', '##ene', 'dragons', 'encourage', 'colleagues', 'cameras', '##und', 'sucked', 'pile', 'spirits', 'prague', 'statements', 'suspension', 'landmark', 'fence', 'torture', 'recreation', 'bags', 'permanently', 'survivors', 'pond', 'spy', 'predecessor', 'bombing', 'coup', '##og', 'protecting', 'transformation', 'glow', '##lands', '##book', 'dug', 'priests', 'andrea', 'feat', 'barn', 'jumping', '##chen', '##ologist', '##con', 'casualties', 'stern', 'auckland', 'pipe', 'serie', 'revealing', 'ba', '##bel', 'trevor', 'mercy', 'spectrum', 'yang', 'consist', 'governing', 'collaborated', 'possessed', 'epic', 'comprises', 'blew', 'shane', '##ack', 'lopez', 'honored', 'magical', 'sacrifice', 'judgment', 'perceived', 'hammer', 'mtv', 'baronet', 'tune', 'das', 'missionary', 'sheets', '350', 'neutral', 'oral', 'threatening', 'attractive', 'shade', 'aims', 'seminary', '##master', 'estates', '1856', 'michel', 'wounds', 'refugees', 'manufacturers', '##nic', 'mercury', 'syndrome', 'porter', '##iya', '##din', 'hamburg', 'identification', 'upstairs', 'purse', 'widened', 'pause', 'cared', 'breathed', 'affiliate', 'santiago', 'prevented', 'celtic', 'fisher', '125', 'recruited', 'byzantine', 'reconstruction', 'farther', '##mp', 'diet', 'sake', 'au', 'spite', 'sensation', '##ert', 'blank', 'separation', '105', '##hon', 'vladimir', 'armies', 'anime', '##lie', 'accommodate', 'orbit', 'cult', 'sofia', 'archive', '##ify', '##box', 'founders', 'sustained', 'disorder', 'honours', 'northeastern', 'mia', 'crops', 'violet', 'threats', 'blanket', 'fires', 'canton', 'followers', 'southwestern', 'prototype', 'voyage', 'assignment', 'altered', 'moderate', 'protocol', 'pistol', '##eo', 'questioned', 'brass', 'lifting', '1852', 'math', 'authored', '##ual', 'doug', 'dimensional', 'dynamic', '##san', '1851', 'pronounced', 'grateful', 'quest', 'uncomfortable', 'boom', 'presidency', 'stevens', 'relating', 'politicians', 'chen', 'barrier', 'quinn', 'diana', 'mosque', 'tribal', 'cheese', 'palmer', 'portions', 'sometime', 'chester', 'treasure', 'wu', 'bend', 'download', 'millions', 'reforms', 'registration', '##osa', 'consequently', 'monitoring', 'ate', 'preliminary', 'brandon', 'invented', 'ps', 'eaten', 'exterior', 'intervention', 'ports', 'documented', 'log', 'displays', 'lecture', 'sally', 'favourite', '##itz', 'vermont', 'lo', 'invisible', 'isle', 'breed', '##ator', 'journalists', 'relay', 'speaks', 'backward', 'explore', 'midfielder', 'actively', 'stefan', 'procedures', 'cannon', 'blond', 'kenneth', 'centered', 'servants', 'chains', 'libraries', 'malcolm', 'essex', 'henri', 'slavery', '##hal', 'facts', 'fairy', 'coached', 'cassie', 'cats', 'washed', 'cop', '##fi', 'announcement', 'item', '2000s', 'vinyl', 'activated', 'marco', 'frontier', 'growled', 'curriculum', '##das', 'loyal', 'accomplished', 'leslie', 'ritual', 'kenny', '##00', 'vii', 'napoleon', 'hollow', 'hybrid', 'jungle', 'stationed', 'friedrich', 'counted', '##ulated', 'platinum', 'theatrical', 'seated', 'col', 'rubber', 'glen', '1840', 'diversity', 'healing', 'extends', 'id', 'provisions', 'administrator', 'columbus', '##oe', 'tributary', 'te', 'assured', 'org', '##uous', 'prestigious', 'examined', 'lectures', 'grammy', 'ronald', 'associations', 'bailey', 'allan', 'essays', 'flute', 'believing', 'consultant', 'proceedings', 'travelling', '1853', 'kit', 'kerala', 'yugoslavia', 'buddy', 'methodist', '##ith', 'burial', 'centres', 'batman', '##nda', 'discontinued', 'bo', 'dock', 'stockholm', 'lungs', 'severely', '##nk', 'citing', 'manga', '##ugh', 'steal', 'mumbai', 'iraqi', 'robot', 'celebrity', 'bride', 'broadcasts', 'abolished', 'pot', 'joel', 'overhead', 'franz', 'packed', 'reconnaissance', 'johann', 'acknowledged', 'introduce', 'handled', 'doctorate', 'developments', 'drinks', 'alley', 'palestine', '##nis', '##aki', 'proceeded', 'recover', 'bradley', 'grain', 'patch', 'afford', 'infection', 'nationalist', 'legendary', '##ath', 'interchange', 'virtually', 'gen', 'gravity', 'exploration', 'amber', 'vital', 'wishes', 'powell', 'doctrine', 'elbow', 'screenplay', '##bird', 'contribute', 'indonesian', 'pet', 'creates', '##com', 'enzyme', 'kylie', 'discipline', 'drops', 'manila', 'hunger', '##ien', 'layers', 'suffer', 'fever', 'bits', 'monica', 'keyboard', 'manages', '##hood', 'searched', 'appeals', '##bad', 'testament', 'grande', 'reid', '##war', 'beliefs', 'congo', '##ification', '##dia', 'si', 'requiring', '##via', 'casey', '1849', 'regret', 'streak', 'rape', 'depends', 'syrian', 'sprint', 'pound', 'tourists', 'upcoming', 'pub', '##xi', 'tense', '##els', 'practiced', 'echo', 'nationwide', 'guild', 'motorcycle', 'liz', '##zar', 'chiefs', 'desired', 'elena', 'bye', 'precious', 'absorbed', 'relatives', 'booth', 'pianist', '##mal', 'citizenship', 'exhausted', 'wilhelm', '##ceae', '##hed', 'noting', 'quarterback', 'urge', 'hectares', '##gue', 'ace', 'holly', '##tal', 'blonde', 'davies', 'parked', 'sustainable', 'stepping', 'twentieth', 'airfield', 'galaxy', 'nest', 'chip', '##nell', 'tan', 'shaft', 'paulo', 'requirement', '##zy', 'paradise', 'tobacco', 'trans', 'renewed', 'vietnamese', '##cker', '##ju', 'suggesting', 'catching', 'holmes', 'enjoying', 'md', 'trips', 'colt', 'holder', 'butterfly', 'nerve', 'reformed', 'cherry', 'bowling', 'trailer', 'carriage', 'goodbye', 'appreciate', 'toy', 'joshua', 'interactive', 'enabled', 'involve', '##kan', 'collar', 'determination', 'bunch', 'facebook', 'recall', 'shorts', 'superintendent', 'episcopal', 'frustration', 'giovanni', 'nineteenth', 'laser', 'privately', 'array', 'circulation', '##ovic', 'armstrong', 'deals', 'painful', 'permit', 'discrimination', '##wi', 'aires', 'retiring', 'cottage', 'ni', '##sta', 'horizon', 'ellen', 'jamaica', 'ripped', 'fernando', 'chapters', 'playstation', 'patron', 'lecturer', 'navigation', 'behaviour', 'genes', 'georgian', 'export', 'solomon', 'rivals', 'swift', 'seventeen', 'rodriguez', 'princeton', 'independently', 'sox', '1847', 'arguing', 'entity', 'casting', 'hank', 'criteria', 'oakland', 'geographic', 'milwaukee', 'reflection', 'expanding', 'conquest', 'dubbed', '##tv', 'halt', 'brave', 'brunswick', 'doi', 'arched', 'curtis', 'divorced', 'predominantly', 'somerset', 'streams', 'ugly', 'zoo', 'horrible', 'curved', 'buenos', 'fierce', 'dictionary', 'vector', 'theological', 'unions', 'handful', 'stability', 'chan', 'punjab', 'segments', '##lly', 'altar', 'ignoring', 'gesture', 'monsters', 'pastor', '##stone', 'thighs', 'unexpected', 'operators', 'abruptly', 'coin', 'compiled', 'associates', 'improving', 'migration', 'pin', '##ose', 'compact', 'collegiate', 'reserved', '##urs', 'quarterfinals', 'roster', 'restore', 'assembled', 'hurry', 'oval', '##cies', '1846', 'flags', 'martha', '##del', 'victories', 'sharply', '##rated', 'argues', 'deadly', 'neo', 'drawings', 'symbols', 'performer', '##iel', 'griffin', 'restrictions', 'editing', 'andrews', 'java', 'journals', 'arabia', 'compositions', 'dee', 'pierce', 'removing', 'hindi', 'casino', 'runway', 'civilians', 'minds', 'nasa', 'hotels', '##zation', 'refuge', 'rent', 'retain', 'potentially', 'conferences', 'suburban', 'conducting', '##tto', '##tions', '##tle', 'descended', 'massacre', '##cal', 'ammunition', 'terrain', 'fork', 'souls', 'counts', 'chelsea', 'durham', 'drives', 'cab', '##bank', 'perth', 'realizing', 'palestinian', 'finn', 'simpson', '##dal', 'betty', '##ule', 'moreover', 'particles', 'cardinals', 'tent', 'evaluation', 'extraordinary', '##oid', 'inscription', '##works', 'wednesday', 'chloe', 'maintains', 'panels', 'ashley', 'trucks', '##nation', 'cluster', 'sunlight', 'strikes', 'zhang', '##wing', 'dialect', 'canon', '##ap', 'tucked', '##ws', 'collecting', '##mas', '##can', '##sville', 'maker', 'quoted', 'evan', 'franco', 'aria', 'buying', 'cleaning', 'eva', 'closet', 'provision', 'apollo', 'clinic', 'rat', '##ez', 'necessarily', 'ac', '##gle', '##ising', 'venues', 'flipped', 'cent', 'spreading', 'trustees', 'checking', 'authorized', '##sco', 'disappointed', '##ado', 'notion', 'duration', 'trumpet', 'hesitated', 'topped', 'brussels', 'rolls', 'theoretical', 'hint', 'define', 'aggressive', 'repeat', 'wash', 'peaceful', 'optical', 'width', 'allegedly', 'mcdonald', 'strict', 'copyright', '##illa', 'investors', 'mar', 'jam', 'witnesses', 'sounding', 'miranda', 'michelle', 'privacy', 'hugo', 'harmony', '##pp', 'valid', 'lynn', 'glared', 'nina', '102', 'headquartered', 'diving', 'boarding', 'gibson', '##ncy', 'albanian', 'marsh', 'routine', 'dealt', 'enhanced', 'er', 'intelligent', 'substance', 'targeted', 'enlisted', 'discovers', 'spinning', 'observations', 'pissed', 'smoking', 'rebecca', 'capitol', 'visa', 'varied', 'costume', 'seemingly', 'indies', 'compensation', 'surgeon', 'thursday', 'arsenal', 'westminster', 'suburbs', 'rid', 'anglican', '##ridge', 'knots', 'foods', 'alumni', 'lighter', 'fraser', 'whoever', 'portal', 'scandal', '##ray', 'gavin', 'advised', 'instructor', 'flooding', 'terrorist', '##ale', 'teenage', 'interim', 'senses', 'duck', 'teen', 'thesis', 'abby', 'eager', 'overcome', '##ile', 'newport', 'glenn', 'rises', 'shame', '##cc', 'prompted', 'priority', 'forgot', 'bomber', 'nicolas', 'protective', '360', 'cartoon', 'katherine', 'breeze', 'lonely', 'trusted', 'henderson', 'richardson', 'relax', 'banner', 'candy', 'palms', 'remarkable', '##rio', 'legends', 'cricketer', 'essay', 'ordained', 'edmund', 'rifles', 'trigger', '##uri', '##away', 'sail', 'alert', '1830', 'audiences', 'penn', 'sussex', 'siblings', 'pursued', 'indianapolis', 'resist', 'rosa', 'consequence', 'succeed', 'avoided', '1845', '##ulation', 'inland', '##tie', '##nna', 'counsel', 'profession', 'chronicle', 'hurried', '##una', 'eyebrow', 'eventual', 'bleeding', 'innovative', 'cure', '##dom', 'committees', 'accounting', 'con', 'scope', 'hardy', 'heather', 'tenor', 'gut', 'herald', 'codes', 'tore', 'scales', 'wagon', '##oo', 'luxury', 'tin', 'prefer', 'fountain', 'triangle', 'bonds', 'darling', 'convoy', 'dried', 'traced', 'beings', 'troy', 'accidentally', 'slam', 'findings', 'smelled', 'joey', 'lawyers', 'outcome', 'steep', 'bosnia', 'configuration', 'shifting', 'toll', 'brook', 'performers', 'lobby', 'philosophical', 'construct', 'shrine', 'aggregate', 'boot', 'cox', 'phenomenon', 'savage', 'insane', 'solely', 'reynolds', 'lifestyle', '##ima', 'nationally', 'holdings', 'consideration', 'enable', 'edgar', 'mo', 'mama', '##tein', 'fights', 'relegation', 'chances', 'atomic', 'hub', 'conjunction', 'awkward', 'reactions', 'currency', 'finale', 'kumar', 'underwent', 'steering', 'elaborate', 'gifts', 'comprising', 'melissa', 'veins', 'reasonable', 'sunshine', 'chi', 'solve', 'trails', 'inhabited', 'elimination', 'ethics', 'huh', 'ana', 'molly', 'consent', 'apartments', 'layout', 'marines', '##ces', 'hunters', 'bulk', '##oma', 'hometown', '##wall', '##mont', 'cracked', 'reads', 'neighbouring', 'withdrawn', 'admission', 'wingspan', 'damned', 'anthology', 'lancashire', 'brands', 'batting', 'forgive', 'cuban', 'awful', '##lyn', '104', 'dimensions', 'imagination', '##ade', 'dante', '##ship', 'tracking', 'desperately', 'goalkeeper', '##yne', 'groaned', 'workshops', 'confident', 'burton', 'gerald', 'milton', 'circus', 'uncertain', 'slope', 'copenhagen', 'sophia', 'fog', 'philosopher', 'portraits', 'accent', 'cycling', 'varying', 'gripped', 'larvae', 'garrett', 'specified', 'scotia', 'mature', 'luther', 'kurt', 'rap', '##kes', 'aerial', '750', 'ferdinand', 'heated', 'es', 'transported', '##shan', 'safely', 'nonetheless', '##orn', '##gal', 'motors', 'demanding', '##sburg', 'startled', '##brook', 'ally', 'generate', 'caps', 'ghana', 'stained', 'demo', 'mentions', 'beds', 'ap', 'afterward', 'diary', '##bling', 'utility', '##iro', 'richards', '1837', 'conspiracy', 'conscious', 'shining', 'footsteps', 'observer', 'cyprus', 'urged', 'loyalty', 'developer', 'probability', 'olive', 'upgraded', 'gym', 'miracle', 'insects', 'graves', '1844', 'ourselves', 'hydrogen', 'amazon', 'katie', 'tickets', 'poets', '##pm', 'planes', '##pan', 'prevention', 'witnessed', 'dense', 'jin', 'randy', 'tang', 'warehouse', 'monroe', 'bang', 'archived', 'elderly', 'investigations', 'alec', 'granite', 'mineral', 'conflicts', 'controlling', 'aboriginal', 'carlo', '##zu', 'mechanics', 'stan', 'stark', 'rhode', 'skirt', 'est', '##berry', 'bombs', 'respected', '##horn', 'imposed', 'limestone', 'deny', 'nominee', 'memphis', 'grabbing', 'disabled', '##als', 'amusement', 'aa', 'frankfurt', 'corn', 'referendum', 'varies', 'slowed', 'disk', 'firms', 'unconscious', 'incredible', 'clue', 'sue', '##zhou', 'twist', '##cio', 'joins', 'idaho', 'chad', 'developers', 'computing', 'destroyer', '103', 'mortal', 'tucker', 'kingston', 'choices', 'yu', 'carson', '1800', 'os', 'whitney', 'geneva', 'pretend', 'dimension', 'staged', 'plateau', 'maya', '##une', 'freestyle', '##bc', 'rovers', 'hiv', '##ids', 'tristan', 'classroom', 'prospect', '##hus', 'honestly', 'diploma', 'lied', 'thermal', 'auxiliary', 'feast', 'unlikely', 'iata', '##tel', 'morocco', 'pounding', 'treasury', 'lithuania', 'considerably', '1841', 'dish', '1812', 'geological', 'matching', 'stumbled', 'destroying', 'marched', 'brien', 'advances', 'cake', 'nicole', 'belle', 'settling', 'measuring', 'directing', '##mie', 'tuesday', 'bassist', 'capabilities', 'stunned', 'fraud', 'torpedo', '##list', '##phone', 'anton', 'wisdom', 'surveillance', 'ruined', '##ulate', 'lawsuit', 'healthcare', 'theorem', 'halls', 'trend', 'aka', 'horizontal', 'dozens', 'acquire', 'lasting', 'swim', 'hawk', 'gorgeous', 'fees', 'vicinity', 'decrease', 'adoption', 'tactics', '##ography', 'pakistani', '##ole', 'draws', '##hall', 'willie', 'burke', 'heath', 'algorithm', 'integral', 'powder', 'elliott', 'brigadier', 'jackie', 'tate', 'varieties', 'darker', '##cho', 'lately', 'cigarette', 'specimens', 'adds', '##ree', '##ensis', '##inger', 'exploded', 'finalist', 'cia', 'murders', 'wilderness', 'arguments', 'nicknamed', 'acceptance', 'onwards', 'manufacture', 'robertson', 'jets', 'tampa', 'enterprises', 'blog', 'loudly', 'composers', 'nominations', '1838', 'ai', 'malta', 'inquiry', 'automobile', 'hosting', 'viii', 'rays', 'tilted', 'grief', 'museums', 'strategies', 'furious', 'euro', 'equality', 'cohen', 'poison', 'surrey', 'wireless', 'governed', 'ridiculous', 'moses', '##esh', '##room', 'vanished', '##ito', 'barnes', 'attract', 'morrison', 'istanbul', '##iness', 'absent', 'rotation', 'petition', 'janet', '##logical', 'satisfaction', 'custody', 'deliberately', 'observatory', 'comedian', 'surfaces', 'pinyin', 'novelist', 'strictly', 'canterbury', 'oslo', 'monks', 'embrace', 'ibm', 'jealous', 'photograph', 'continent', 'dorothy', 'marina', 'doc', 'excess', 'holden', 'allegations', 'explaining', 'stack', 'avoiding', 'lance', 'storyline', 'majesty', 'poorly', 'spike', 'dos', 'bradford', 'raven', 'travis', 'classics', 'proven', 'voltage', 'pillow', 'fists', 'butt', '1842', 'interpreted', '##car', '1839', 'gage', 'telegraph', 'lens', 'promising', 'expelled', 'casual', 'collector', 'zones', '##min', 'silly', 'nintendo', '##kh', '##bra', 'downstairs', 'chef', 'suspicious', 'afl', 'flies', 'vacant', 'uganda', 'pregnancy', 'condemned', 'lutheran', 'estimates', 'cheap', 'decree', 'saxon', 'proximity', 'stripped', 'idiot', 'deposits', 'contrary', 'presenter', 'magnus', 'glacier', 'im', 'offense', 'edwin', '##ori', 'upright', '##long', 'bolt', '##ois', 'toss', 'geographical', '##izes', 'environments', 'delicate', 'marking', 'abstract', 'xavier', 'nails', 'windsor', 'plantation', 'occurring', 'equity', 'saskatchewan', 'fears', 'drifted', 'sequences', 'vegetation', 'revolt', '##stic', '1843', 'sooner', 'fusion', 'opposing', 'nato', 'skating', '1836', 'secretly', 'ruin', 'lease', '##oc', 'edit', '##nne', 'flora', 'anxiety', 'ruby', '##ological', '##mia', 'tel', 'bout', 'taxi', 'emmy', 'frost', 'rainbow', 'compounds', 'foundations', 'rainfall', 'assassination', 'nightmare', 'dominican', '##win', 'achievements', 'deserve', 'orlando', 'intact', 'armenia', '##nte', 'calgary', 'valentine', '106', 'marion', 'proclaimed', 'theodore', 'bells', 'courtyard', 'thigh', 'gonzalez', 'console', 'troop', 'minimal', 'monte', 'everyday', '##ence', '##if', 'supporter', 'terrorism', 'buck', 'openly', 'presbyterian', 'activists', 'carpet', '##iers', 'rubbing', 'uprising', '##yi', 'cute', 'conceived', 'legally', '##cht', 'millennium', 'cello', 'velocity', 'ji', 'rescued', 'cardiff', '1835', 'rex', 'concentrate', 'senators', 'beard', 'rendered', 'glowing', 'battalions', 'scouts', 'competitors', 'sculptor', 'catalogue', 'arctic', 'ion', 'raja', 'bicycle', 'wow', 'glancing', 'lawn', '##woman', 'gentleman', 'lighthouse', 'publish', 'predicted', 'calculated', '##val', 'variants', '##gne', 'strain', '##ui', 'winston', 'deceased', '##nus', 'touchdowns', 'brady', 'caleb', 'sinking', 'echoed', 'crush', 'hon', 'blessed', 'protagonist', 'hayes', 'endangered', 'magnitude', 'editors', '##tine', 'estimate', 'responsibilities', '##mel', 'backup', 'laying', 'consumed', 'sealed', 'zurich', 'lovers', 'frustrated', '##eau', 'ahmed', 'kicking', 'mit', 'treasurer', '1832', 'biblical', 'refuse', 'terrified', 'pump', 'agrees', 'genuine', 'imprisonment', 'refuses', 'plymouth', '##hen', 'lou', '##nen', 'tara', 'trembling', 'antarctic', 'ton', 'learns', '##tas', 'crap', 'crucial', 'faction', 'atop', '##borough', 'wrap', 'lancaster', 'odds', 'hopkins', 'erik', 'lyon', '##eon', 'bros', '##ode', 'snap', 'locality', 'tips', 'empress', 'crowned', 'cal', 'acclaimed', 'chuckled', '##ory', 'clara', 'sends', 'mild', 'towel', '##fl', '##day', '##а', 'wishing', 'assuming', 'interviewed', '##bal', '##die', 'interactions', 'eden', 'cups', 'helena', '##lf', 'indie', 'beck', '##fire', 'batteries', 'filipino', 'wizard', 'parted', '##lam', 'traces', '##born', 'rows', 'idol', 'albany', 'delegates', '##ees', '##sar', 'discussions', '##ex', 'notre', 'instructed', 'belgrade', 'highways', 'suggestion', 'lauren', 'possess', 'orientation', 'alexandria', 'abdul', 'beats', 'salary', 'reunion', 'ludwig', 'alright', 'wagner', 'intimate', 'pockets', 'slovenia', 'hugged', 'brighton', 'merchants', 'cruel', 'stole', 'trek', 'slopes', 'repairs', 'enrollment', 'politically', 'underlying', 'promotional', 'counting', 'boeing', '##bb', 'isabella', 'naming', '##и', 'keen', 'bacteria', 'listing', 'separately', 'belfast', 'ussr', '450', 'lithuanian', 'anybody', 'ribs', 'sphere', 'martinez', 'cock', 'embarrassed', 'proposals', 'fragments', 'nationals', '##fs', '##wski', 'premises', 'fin', '1500', 'alpine', 'matched', 'freely', 'bounded', 'jace', 'sleeve', '##af', 'gaming', 'pier', 'populated', 'evident', '##like', 'frances', 'flooded', '##dle', 'frightened', 'pour', 'trainer', 'framed', 'visitor', 'challenging', 'pig', 'wickets', '##fold', 'infected', 'email', '##pes', 'arose', '##aw', 'reward', 'ecuador', 'oblast', 'vale', 'ch', 'shuttle', '##usa', 'bach', 'rankings', 'forbidden', 'cornwall', 'accordance', 'salem', 'consumers', 'bruno', 'fantastic', 'toes', 'machinery', 'resolved', 'julius', 'remembering', 'propaganda', 'iceland', 'bombardment', 'tide', 'contacts', 'wives', '##rah', 'concerto', 'macdonald', 'albania', 'implement', 'daisy', 'tapped', 'sudan', 'helmet', 'angela', 'mistress', '##lic', 'crop', 'sunk', 'finest', '##craft', 'hostile', '##ute', '##tsu', 'boxer', 'fr', 'paths', 'adjusted', 'habit', 'ballot', 'supervision', 'soprano', '##zen', 'bullets', 'wicked', 'sunset', 'regiments', 'disappear', 'lamp', 'performs', 'app', '##gia', '##oa', 'rabbit', 'digging', 'incidents', 'entries', '##cion', 'dishes', '##oi', 'introducing', '##ati', '##fied', 'freshman', 'slot', 'jill', 'tackles', 'baroque', 'backs', '##iest', 'lone', 'sponsor', 'destiny', 'altogether', 'convert', '##aro', 'consensus', 'shapes', 'demonstration', 'basically', 'feminist', 'auction', 'artifacts', '##bing', 'strongest', 'twitter', 'halifax', '2019', 'allmusic', 'mighty', 'smallest', 'precise', 'alexandra', 'viola', '##los', '##ille', 'manuscripts', '##illo', 'dancers', 'ari', 'managers', 'monuments', 'blades', 'barracks', 'springfield', 'maiden', 'consolidated', 'electron', '##end', 'berry', 'airing', 'wheat', 'nobel', 'inclusion', 'blair', 'payments', 'geography', 'bee', 'cc', 'eleanor', 'react', '##hurst', 'afc', 'manitoba', '##yu', 'su', 'lineup', 'fitness', 'recreational', 'investments', 'airborne', 'disappointment', '##dis', 'edmonton', 'viewing', '##row', 'renovation', '##cast', 'infant', 'bankruptcy', 'roses', 'aftermath', 'pavilion', '##yer', 'carpenter', 'withdrawal', 'ladder', '##hy', 'discussing', 'popped', 'reliable', 'agreements', 'rochester', '##abad', 'curves', 'bombers', '220', 'rao', 'reverend', 'decreased', 'choosing', '107', 'stiff', 'consulting', 'naples', 'crawford', 'tracy', 'ka', 'ribbon', 'cops', '##lee', 'crushed', 'deciding', 'unified', 'teenager', 'accepting', 'flagship', 'explorer', 'poles', 'sanchez', 'inspection', 'revived', 'skilled', 'induced', 'exchanged', 'flee', 'locals', 'tragedy', 'swallow', 'loading', 'hanna', 'demonstrate', '##ela', 'salvador', 'flown', 'contestants', 'civilization', '##ines', 'wanna', 'rhodes', 'fletcher', 'hector', 'knocking', 'considers', '##ough', 'nash', 'mechanisms', 'sensed', 'mentally', 'walt', 'unclear', '##eus', 'renovated', 'madame', '##cks', 'crews', 'governmental', '##hin', 'undertaken', 'monkey', '##ben', '##ato', 'fatal', 'armored', 'copa', 'caves', 'governance', 'grasp', 'perception', 'certification', 'froze', 'damp', 'tugged', 'wyoming', '##rg', '##ero', 'newman', '##lor', 'nerves', 'curiosity', 'graph', '115', '##ami', 'withdraw', 'tunnels', 'dull', 'meredith', 'moss', 'exhibits', 'neighbors', 'communicate', 'accuracy', 'explored', 'raiders', 'republicans', 'secular', 'kat', 'superman', 'penny', 'criticised', '##tch', 'freed', 'update', 'conviction', 'wade', 'ham', 'likewise', 'delegation', 'gotta', 'doll', 'promises', 'technological', 'myth', 'nationality', 'resolve', 'convent', '##mark', 'sharon', 'dig', 'sip', 'coordinator', 'entrepreneur', 'fold', '##dine', 'capability', 'councillor', 'synonym', 'blown', 'swan', 'cursed', '1815', 'jonas', 'haired', 'sofa', 'canvas', 'keeper', 'rivalry', '##hart', 'rapper', 'speedway', 'swords', 'postal', 'maxwell', 'estonia', 'potter', 'recurring', '##nn', '##ave', 'errors', '##oni', 'cognitive', '1834', '##²', 'claws', 'nadu', 'roberto', 'bce', 'wrestler', 'ellie', '##ations', 'infinite', 'ink', '##tia', 'presumably', 'finite', 'staircase', '108', 'noel', 'patricia', 'nacional', '##cation', 'chill', 'eternal', 'tu', 'preventing', 'prussia', 'fossil', 'limbs', '##logist', 'ernst', 'frog', 'perez', 'rene', '##ace', 'pizza', 'prussian', '##ios', '##vy', 'molecules', 'regulatory', 'answering', 'opinions', 'sworn', 'lengths', 'supposedly', 'hypothesis', 'upward', 'habitats', 'seating', 'ancestors', 'drank', 'yield', 'hd', 'synthesis', 'researcher', 'modest', '##var', 'mothers', 'peered', 'voluntary', 'homeland', '##the', 'acclaim', '##igan', 'static', 'valve', 'luxembourg', 'alto', 'carroll', 'fe', 'receptor', 'norton', 'ambulance', '##tian', 'johnston', 'catholics', 'depicting', 'jointly', 'elephant', 'gloria', 'mentor', 'badge', 'ahmad', 'distinguish', 'remarked', 'councils', 'precisely', 'allison', 'advancing', 'detection', 'crowded', '##10', 'cooperative', 'ankle', 'mercedes', 'dagger', 'surrendered', 'pollution', 'commit', 'subway', 'jeffrey', 'lesson', 'sculptures', 'provider', '##fication', 'membrane', 'timothy', 'rectangular', 'fiscal', 'heating', 'teammate', 'basket', 'particle', 'anonymous', 'deployment', '##ple', 'missiles', 'courthouse', 'proportion', 'shoe', 'sec', '##ller', 'complaints', 'forbes', 'blacks', 'abandon', 'remind', 'sizes', 'overwhelming', 'autobiography', 'natalie', '##awa', 'risks', 'contestant', 'countryside', 'babies', 'scorer', 'invaded', 'enclosed', 'proceed', 'hurling', 'disorders', '##cu', 'reflecting', 'continuously', 'cruiser', 'graduates', 'freeway', 'investigated', 'ore', 'deserved', 'maid', 'blocking', 'phillip', 'jorge', 'shakes', 'dove', 'mann', 'variables', 'lacked', 'burden', 'accompanying', 'que', 'consistently', 'organizing', 'provisional', 'complained', 'endless', '##rm', 'tubes', 'juice', 'georges', 'krishna', 'mick', 'labels', 'thriller', '##uch', 'laps', 'arcade', 'sage', 'snail', '##table', 'shannon', 'fi', 'laurence', 'seoul', 'vacation', 'presenting', 'hire', 'churchill', 'surprisingly', 'prohibited', 'savannah', 'technically', '##oli', '170', '##lessly', 'testimony', 'suited', 'speeds', 'toys', 'romans', 'mlb', 'flowering', 'measurement', 'talented', 'kay', 'settings', 'charleston', 'expectations', 'shattered', 'achieving', 'triumph', 'ceremonies', 'portsmouth', 'lanes', 'mandatory', 'loser', 'stretching', 'cologne', 'realizes', 'seventy', 'cornell', 'careers', 'webb', '##ulating', 'americas', 'budapest', 'ava', 'suspicion', '##ison', 'yo', 'conrad', '##hai', 'sterling', 'jessie', 'rector', '##az', '1831', 'transform', 'organize', 'loans', 'christine', 'volcanic', 'warrant', 'slender', 'summers', 'subfamily', 'newer', 'danced', 'dynamics', 'rhine', 'proceeds', 'heinrich', 'gastropod', 'commands', 'sings', 'facilitate', 'easter', 'ra', 'positioned', 'responses', 'expense', 'fruits', 'yanked', 'imported', '25th', 'velvet', 'vic', 'primitive', 'tribune', 'baldwin', 'neighbourhood', 'donna', 'rip', 'hay', 'pr', '##uro', '1814', 'espn', 'welcomed', '##aria', 'qualifier', 'glare', 'highland', 'timing', '##cted', 'shells', 'eased', 'geometry', 'louder', 'exciting', 'slovakia', '##sion', '##iz', '##lot', 'savings', 'prairie', '##ques', 'marching', 'rafael', 'tonnes', '##lled', 'curtain', 'preceding', 'shy', 'heal', 'greene', 'worthy', '##pot', 'detachment', 'bury', 'sherman', '##eck', 'reinforced', 'seeks', 'bottles', 'contracted', 'duchess', 'outfit', 'walsh', '##sc', 'mickey', '##ase', 'geoffrey', 'archer', 'squeeze', 'dawson', 'eliminate', 'invention', '##enberg', 'neal', '##eth', 'stance', 'dealer', 'coral', 'maple', 'retire', 'polo', 'simplified', '##ht', '1833', 'hid', 'watts', 'backwards', 'jules', '##oke', 'genesis', 'mt', 'frames', 'rebounds', 'burma', 'woodland', 'moist', 'santos', 'whispers', 'drained', 'subspecies', '##aa', 'streaming', 'ulster', 'burnt', 'correspondence', 'maternal', 'gerard', 'denis', 'stealing', '##load', 'genius', 'duchy', '##oria', 'inaugurated', 'momentum', 'suits', 'placement', 'sovereign', 'clause', 'thames', '##hara', 'confederation', 'reservation', 'sketch', 'yankees', 'lets', 'rotten', 'charm', 'hal', 'verses', 'ultra', 'commercially', 'dot', 'salon', 'citation', 'adopt', 'winnipeg', 'mist', 'allocated', 'cairo', '##boy', 'jenkins', 'interference', 'objectives', '##wind', '1820', 'portfolio', 'armoured', 'sectors', '##eh', 'initiatives', '##world', 'integrity', 'exercises', 'robe', 'tap', 'ab', 'gazed', '##tones', 'distracted', 'rulers', '111', 'favorable', 'jerome', 'tended', 'cart', 'factories', '##eri', 'diplomat', 'valued', 'gravel', 'charitable', '##try', 'calvin', 'exploring', 'chang', 'shepherd', 'terrace', 'pdf', 'pupil', '##ural', 'reflects', 'ups', '##rch', 'governors', 'shelf', 'depths', '##nberg', 'trailed', 'crest', 'tackle', '##nian', '##ats', 'hatred', '##kai', 'clare', 'makers', 'ethiopia', 'longtime', 'detected', 'embedded', 'lacking', 'slapped', 'rely', 'thomson', 'anticipation', 'iso', 'morton', 'successive', 'agnes', 'screenwriter', 'straightened', 'philippe', 'playwright', 'haunted', 'licence', 'iris', 'intentions', 'sutton', '112', 'logical', 'correctly', '##weight', 'branded', 'licked', 'tipped', 'silva', 'ricky', 'narrator', 'requests', '##ents', 'greeted', 'supernatural', 'cow', '##wald', 'lung', 'refusing', 'employer', 'strait', 'gaelic', 'liner', '##piece', 'zoe', 'sabha', '##mba', 'driveway', 'harvest', 'prints', 'bates', 'reluctantly', 'threshold', 'algebra', 'ira', 'wherever', 'coupled', '240', 'assumption', 'picks', '##air', 'designers', 'raids', 'gentlemen', '##ean', 'roller', 'blowing', 'leipzig', 'locks', 'screw', 'dressing', 'strand', '##lings', 'scar', 'dwarf', 'depicts', '##nu', 'nods', '##mine', 'differ', 'boris', '##eur', 'yuan', 'flip', '##gie', 'mob', 'invested', 'questioning', 'applying', '##ture', 'shout', '##sel', 'gameplay', 'blamed', 'illustrations', 'bothered', 'weakness', 'rehabilitation', '##of', '##zes', 'envelope', 'rumors', 'miners', 'leicester', 'subtle', 'kerry', '##ico', 'ferguson', '##fu', 'premiership', 'ne', '##cat', 'bengali', 'prof', 'catches', 'remnants', 'dana', '##rily', 'shouting', 'presidents', 'baltic', 'ought', 'ghosts', 'dances', 'sailors', 'shirley', 'fancy', 'dominic', '##bie', 'madonna', '##rick', 'bark', 'buttons', 'gymnasium', 'ashes', 'liver', 'toby', 'oath', 'providence', 'doyle', 'evangelical', 'nixon', 'cement', 'carnegie', 'embarked', 'hatch', 'surroundings', 'guarantee', 'needing', 'pirate', 'essence', '##bee', 'filter', 'crane', 'hammond', 'projected', 'immune', 'percy', 'twelfth', '##ult', 'regent', 'doctoral', 'damon', 'mikhail', '##ichi', 'lu', 'critically', 'elect', 'realised', 'abortion', 'acute', 'screening', 'mythology', 'steadily', '##fc', 'frown', 'nottingham', 'kirk', 'wa', 'minneapolis', '##rra', 'module', 'algeria', 'mc', 'nautical', 'encounters', 'surprising', 'statues', 'availability', 'shirts', 'pie', 'alma', 'brows', 'munster', 'mack', 'soup', 'crater', 'tornado', 'sanskrit', 'cedar', 'explosive', 'bordered', 'dixon', 'planets', 'stamp', 'exam', 'happily', '##bble', 'carriers', 'kidnapped', '##vis', 'accommodation', 'emigrated', '##met', 'knockout', 'correspondent', 'violation', 'profits', 'peaks', 'lang', 'specimen', 'agenda', 'ancestry', 'pottery', 'spelling', 'equations', 'obtaining', 'ki', 'linking', '1825', 'debris', 'asylum', '##20', 'buddhism', 'teddy', '##ants', 'gazette', '##nger', '##sse', 'dental', 'eligibility', 'utc', 'fathers', 'averaged', 'zimbabwe', 'francesco', 'coloured', 'hissed', 'translator', 'lynch', 'mandate', 'humanities', 'mackenzie', 'uniforms', 'lin', '##iana', '##gio', 'asset', 'mhz', 'fitting', 'samantha', 'genera', 'wei', 'rim', 'beloved', 'shark', 'riot', 'entities', 'expressions', 'indo', 'carmen', 'slipping', 'owing', 'abbot', 'neighbor', 'sidney', '##av', 'rats', 'recommendations', 'encouraging', 'squadrons', 'anticipated', 'commanders', 'conquered', '##oto', 'donations', 'diagnosed', '##mond', 'divide', '##iva', 'guessed', 'decoration', 'vernon', 'auditorium', 'revelation', 'conversations', '##kers', '##power', 'herzegovina', 'dash', 'alike', 'protested', 'lateral', 'herman', 'accredited', 'mg', '##gent', 'freeman', 'mel', 'fiji', 'crow', 'crimson', '##rine', 'livestock', '##pped', 'humanitarian', 'bored', 'oz', 'whip', '##lene', '##ali', 'legitimate', 'alter', 'grinning', 'spelled', 'anxious', 'oriental', 'wesley', '##nin', '##hole', 'carnival', 'controller', 'detect', '##ssa', 'bowed', 'educator', 'kosovo', 'macedonia', '##sin', 'occupy', 'mastering', 'stephanie', 'janeiro', 'para', 'unaware', 'nurses', 'noon', '135', 'cam', 'hopefully', 'ranger', 'combine', 'sociology', 'polar', 'rica', '##eer', 'neill', '##sman', 'holocaust', '##ip', 'doubled', 'lust', '1828', '109', 'decent', 'cooling', 'unveiled', '##card', '1829', 'nsw', 'homer', 'chapman', 'meyer', '##gin', 'dive', 'mae', 'reagan', 'expertise', '##gled', 'darwin', 'brooke', 'sided', 'prosecution', 'investigating', 'comprised', 'petroleum', 'genres', 'reluctant', 'differently', 'trilogy', 'johns', 'vegetables', 'corpse', 'highlighted', 'lounge', 'pension', 'unsuccessfully', 'elegant', 'aided', 'ivory', 'beatles', 'amelia', 'cain', 'dubai', 'sunny', 'immigrant', 'babe', 'click', '##nder', 'underwater', 'pepper', 'combining', 'mumbled', 'atlas', 'horns', 'accessed', 'ballad', 'physicians', 'homeless', 'gestured', 'rpm', 'freak', 'louisville', 'corporations', 'patriots', 'prizes', 'rational', 'warn', 'modes', 'decorative', 'overnight', 'din', 'troubled', 'phantom', '##ort', 'monarch', 'sheer', '##dorf', 'generals', 'guidelines', 'organs', 'addresses', '##zon', 'enhance', 'curling', 'parishes', 'cord', '##kie', 'linux', 'caesar', 'deutsche', 'bavaria', '##bia', 'coleman', 'cyclone', '##eria', 'bacon', 'petty', '##yama', '##old', 'hampton', 'diagnosis', '1824', 'throws', 'complexity', 'rita', 'disputed', '##₃', 'pablo', '##sch', 'marketed', 'trafficking', '##ulus', 'examine', 'plague', 'formats', '##oh', 'vault', 'faithful', '##bourne', 'webster', '##ox', 'highlights', '##ient', '##ann', 'phones', 'vacuum', 'sandwich', 'modeling', '##gated', 'bolivia', 'clergy', 'qualities', 'isabel', '##nas', '##ars', 'wears', 'screams', 'reunited', 'annoyed', 'bra', '##ancy', '##rate', 'differential', 'transmitter', 'tattoo', 'container', 'poker', '##och', 'excessive', 'resides', 'cowboys', '##tum', 'augustus', 'trash', 'providers', 'statute', 'retreated', 'balcony', 'reversed', 'void', 'storey', 'preceded', 'masses', 'leap', 'laughs', 'neighborhoods', 'wards', 'schemes', 'falcon', 'santo', 'battlefield', 'pad', 'ronnie', 'thread', 'lesbian', 'venus', '##dian', 'beg', 'sandstone', 'daylight', 'punched', 'gwen', 'analog', 'stroked', 'wwe', 'acceptable', 'measurements', 'dec', 'toxic', '##kel', 'adequate', 'surgical', 'economist', 'parameters', 'varsity', '##sberg', 'quantity', 'ella', '##chy', '##rton', 'countess', 'generating', 'precision', 'diamonds', 'expressway', 'ga', '##ı', '1821', 'uruguay', 'talents', 'galleries', 'expenses', 'scanned', 'colleague', 'outlets', 'ryder', 'lucien', '##ila', 'paramount', '##bon', 'syracuse', 'dim', 'fangs', 'gown', 'sweep', '##sie', 'toyota', 'missionaries', 'websites', '##nsis', 'sentences', 'adviser', 'val', 'trademark', 'spells', '##plane', 'patience', 'starter', 'slim', '##borg', 'toe', 'incredibly', 'shoots', 'elliot', 'nobility', '##wyn', 'cowboy', 'endorsed', 'gardner', 'tendency', 'persuaded', 'organisms', 'emissions', 'kazakhstan', 'amused', 'boring', 'chips', 'themed', '##hand', 'llc', 'constantinople', 'chasing', 'systematic', 'guatemala', 'borrowed', 'erin', 'carey', '##hard', 'highlands', 'struggles', '1810', '##ifying', '##ced', 'wong', 'exceptions', 'develops', 'enlarged', 'kindergarten', 'castro', '##ern', '##rina', 'leigh', 'zombie', 'juvenile', '##most', 'consul', '##nar', 'sailor', 'hyde', 'clarence', 'intensive', 'pinned', 'nasty', 'useless', 'jung', 'clayton', 'stuffed', 'exceptional', 'ix', 'apostolic', '230', 'transactions', '##dge', 'exempt', 'swinging', 'cove', 'religions', '##ash', 'shields', 'dairy', 'bypass', '190', 'pursuing', 'bug', 'joyce', 'bombay', 'chassis', 'southampton', 'chat', 'interact', 'redesignated', '##pen', 'nascar', 'pray', 'salmon', 'rigid', 'regained', 'malaysian', 'grim', 'publicity', 'constituted', 'capturing', 'toilet', 'delegate', 'purely', 'tray', 'drift', 'loosely', 'striker', 'weakened', 'trinidad', 'mitch', 'itv', 'defines', 'transmitted', 'ming', 'scarlet', 'nodding', 'fitzgerald', 'fu', 'narrowly', 'sp', 'tooth', 'standings', 'virtue', '##₁', '##wara', '##cting', 'chateau', 'gloves', 'lid', '##nel', 'hurting', 'conservatory', '##pel', 'sinclair', 'reopened', 'sympathy', 'nigerian', 'strode', 'advocated', 'optional', 'chronic', 'discharge', '##rc', 'suck', 'compatible', 'laurel', 'stella', 'shi', 'fails', 'wage', 'dodge', '128', 'informal', 'sorts', 'levi', 'buddha', 'villagers', '##aka', 'chronicles', 'heavier', 'summoned', 'gateway', '3000', 'eleventh', 'jewelry', 'translations', 'accordingly', 'seas', '##ency', 'fiber', 'pyramid', 'cubic', 'dragging', '##ista', 'caring', '##ops', 'android', 'contacted', 'lunar', '##dt', 'kai', 'lisbon', 'patted', '1826', 'sacramento', 'theft', 'madagascar', 'subtropical', 'disputes', 'ta', 'holidays', 'piper', 'willow', 'mare', 'cane', 'itunes', 'newfoundland', 'benny', 'companions', 'dong', 'raj', 'observe', 'roar', 'charming', 'plaque', 'tibetan', 'fossils', 'enacted', 'manning', 'bubble', 'tina', 'tanzania', '##eda', '##hir', 'funk', 'swamp', 'deputies', 'cloak', 'ufc', 'scenario', 'par', 'scratch', 'metals', 'anthem', 'guru', 'engaging', 'specially', '##boat', 'dialects', 'nineteen', 'cecil', 'duet', 'disability', 'messenger', 'unofficial', '##lies', 'defunct', 'eds', 'moonlight', 'drainage', 'surname', 'puzzle', 'honda', 'switching', 'conservatives', 'mammals', 'knox', 'broadcaster', 'sidewalk', 'cope', '##ried', 'benson', 'princes', 'peterson', '##sal', 'bedford', 'sharks', 'eli', 'wreck', 'alberto', 'gasp', 'archaeology', 'lgbt', 'teaches', 'securities', 'madness', 'compromise', 'waving', 'coordination', 'davidson', 'visions', 'leased', 'possibilities', 'eighty', 'jun', 'fernandez', 'enthusiasm', 'assassin', 'sponsorship', 'reviewer', 'kingdoms', 'estonian', 'laboratories', '##fy', '##nal', 'applies', 'verb', 'celebrations', '##zzo', 'rowing', 'lightweight', 'sadness', 'submit', 'mvp', 'balanced', 'dude', '##vas', 'explicitly', 'metric', 'magnificent', 'mound', 'brett', 'mohammad', 'mistakes', 'irregular', '##hing', '##ass', 'sanders', 'betrayed', 'shipped', 'surge', '##enburg', 'reporters', 'termed', 'georg', 'pity', 'verbal', 'bulls', 'abbreviated', 'enabling', 'appealed', '##are', '##atic', 'sicily', 'sting', 'heel', 'sweetheart', 'bart', 'spacecraft', 'brutal', 'monarchy', '##tter', 'aberdeen', 'cameo', 'diane', '##ub', 'survivor', 'clyde', '##aries', 'complaint', '##makers', 'clarinet', 'delicious', 'chilean', 'karnataka', 'coordinates', '1818', 'panties', '##rst', 'pretending', 'ar', 'dramatically', 'kiev', 'bella', 'tends', 'distances', '113', 'catalog', 'launching', 'instances', 'telecommunications', 'portable', 'lindsay', 'vatican', '##eim', 'angles', 'aliens', 'marker', 'stint', 'screens', 'bolton', '##rne', 'judy', 'wool', 'benedict', 'plasma', 'europa', 'spark', 'imaging', 'filmmaker', 'swiftly', '##een', 'contributor', '##nor', 'opted', 'stamps', 'apologize', 'financing', 'butter', 'gideon', 'sophisticated', 'alignment', 'avery', 'chemicals', 'yearly', 'speculation', 'prominence', 'professionally', '##ils', 'immortal', 'institutional', 'inception', 'wrists', 'identifying', 'tribunal', 'derives', 'gains', '##wo', 'papal', 'preference', 'linguistic', 'vince', 'operative', 'brewery', '##ont', 'unemployment', 'boyd', '##ured', '##outs', 'albeit', 'prophet', '1813', 'bi', '##rr', '##face', '##rad', 'quarterly', 'asteroid', 'cleaned', 'radius', 'temper', '##llen', 'telugu', 'jerk', 'viscount', 'menu', '##ote', 'glimpse', '##aya', 'yacht', 'hawaiian', 'baden', '##rl', 'laptop', 'readily', '##gu', 'monetary', 'offshore', 'scots', 'watches', '##yang', '##arian', 'upgrade', 'needle', 'xbox', 'lea', 'encyclopedia', 'flank', 'fingertips', '##pus', 'delight', 'teachings', 'confirm', 'roth', 'beaches', 'midway', 'winters', '##iah', 'teasing', 'daytime', 'beverly', 'gambling', 'bonnie', '##backs', 'regulated', 'clement', 'hermann', 'tricks', 'knot', '##shing', '##uring', '##vre', 'detached', 'ecological', 'owed', 'specialty', 'byron', 'inventor', 'bats', 'stays', 'screened', 'unesco', 'midland', 'trim', 'affection', '##ander', '##rry', 'jess', 'thoroughly', 'feedback', '##uma', 'chennai', 'strained', 'heartbeat', 'wrapping', 'overtime', 'pleaded', '##sworth', 'mon', 'leisure', 'oclc', '##tate', '##ele', 'feathers', 'angelo', 'thirds', 'nuts', 'surveys', 'clever', 'gill', 'commentator', '##dos', 'darren', 'rides', 'gibraltar', '##nc', '##mu', 'dissolution', 'dedication', 'shin', 'meals', 'saddle', 'elvis', 'reds', 'chaired', 'taller', 'appreciation', 'functioning', 'niece', 'favored', 'advocacy', 'robbie', 'criminals', 'suffolk', 'yugoslav', 'passport', 'constable', 'congressman', 'hastings', 'vera', '##rov', 'consecrated', 'sparks', 'ecclesiastical', 'confined', '##ovich', 'muller', 'floyd', 'nora', '1822', 'paved', '1827', 'cumberland', 'ned', 'saga', 'spiral', '##flow', 'appreciated', 'yi', 'collaborative', 'treating', 'similarities', 'feminine', 'finishes', '##ib', 'jade', 'import', '##nse', '##hot', 'champagne', 'mice', 'securing', 'celebrities', 'helsinki', 'attributes', '##gos', 'cousins', 'phases', 'ache', 'lucia', 'gandhi', 'submission', 'vicar', 'spear', 'shine', 'tasmania', 'biting', 'detention', 'constitute', 'tighter', 'seasonal', '##gus', 'terrestrial', 'matthews', '##oka', 'effectiveness', 'parody', 'philharmonic', '##onic', '1816', 'strangers', 'encoded', 'consortium', 'guaranteed', 'regards', 'shifts', 'tortured', 'collision', 'supervisor', 'inform', 'broader', 'insight', 'theaters', 'armour', 'emeritus', 'blink', 'incorporates', 'mapping', '##50', '##ein', 'handball', 'flexible', '##nta', 'substantially', 'generous', 'thief', '##own', 'carr', 'loses', '1793', 'prose', 'ucla', 'romeo', 'generic', 'metallic', 'realization', 'damages', 'mk', 'commissioners', 'zach', 'default', '##ther', 'helicopters', 'lengthy', 'stems', 'spa', 'partnered', 'spectators', 'rogue', 'indication', 'penalties', 'teresa', '1801', 'sen', '##tric', 'dalton', '##wich', 'irving', 'photographic', '##vey', 'dell', 'deaf', 'peters', 'excluded', 'unsure', '##vable', 'patterson', 'crawled', '##zio', 'resided', 'whipped', 'latvia', 'slower', 'ecole', 'pipes', 'employers', 'maharashtra', 'comparable', 'va', 'textile', 'pageant', '##gel', 'alphabet', 'binary', 'irrigation', 'chartered', 'choked', 'antoine', 'offs', 'waking', 'supplement', '##wen', 'quantities', 'demolition', 'regain', 'locate', 'urdu', 'folks', 'alt', '114', '##mc', 'scary', 'andreas', 'whites', '##ava', 'classrooms', 'mw', 'aesthetic', 'publishes', 'valleys', 'guides', 'cubs', 'johannes', 'bryant', 'conventions', 'affecting', '##itt', 'drain', 'awesome', 'isolation', 'prosecutor', 'ambitious', 'apology', 'captive', 'downs', 'atmospheric', 'lorenzo', 'aisle', 'beef', 'foul', '##onia', 'kidding', 'composite', 'disturbed', 'illusion', 'natives', '##ffer', 'emi', 'rockets', 'riverside', 'wartime', 'painters', 'adolf', 'melted', '##ail', 'uncertainty', 'simulation', 'hawks', 'progressed', 'meantime', 'builder', 'spray', 'breach', 'unhappy', 'regina', 'russians', '##urg', 'determining', '##tation', 'tram', '1806', '##quin', 'aging', '##12', '1823', 'garion', 'rented', 'mister', 'diaz', 'terminated', 'clip', '1817', 'depend', 'nervously', 'disco', 'owe', 'defenders', 'shiva', 'notorious', 'disbelief', 'shiny', 'worcester', '##gation', '##yr', 'trailing', 'undertook', 'islander', 'belarus', 'limitations', 'watershed', 'fuller', 'overlooking', 'utilized', 'raphael', '1819', 'synthetic', 'breakdown', 'klein', '##nate', 'moaned', 'memoir', 'lamb', 'practicing', '##erly', 'cellular', 'arrows', 'exotic', '##graphy', 'witches', '117', 'charted', 'rey', 'hut', 'hierarchy', 'subdivision', 'freshwater', 'giuseppe', 'aloud', 'reyes', 'qatar', 'marty', 'sideways', 'utterly', 'sexually', 'jude', 'prayers', 'mccarthy', 'softball', 'blend', 'damien', '##gging', '##metric', 'wholly', 'erupted', 'lebanese', 'negro', 'revenues', 'tasted', 'comparative', 'teamed', 'transaction', 'labeled', 'maori', 'sovereignty', 'parkway', 'trauma', 'gran', 'malay', '121', 'advancement', 'descendant', '2020', 'buzz', 'salvation', 'inventory', 'symbolic', '##making', 'antarctica', 'mps', '##gas', '##bro', 'mohammed', 'myanmar', 'holt', 'submarines', 'tones', '##lman', 'locker', 'patriarch', 'bangkok', 'emerson', 'remarks', 'predators', 'kin', 'afghan', 'confession', 'norwich', 'rental', 'emerge', 'advantages', '##zel', 'rca', '##hold', 'shortened', 'storms', 'aidan', '##matic', 'autonomy', 'compliance', '##quet', 'dudley', 'atp', '##osis', '1803', 'motto', 'documentation', 'summary', 'professors', 'spectacular', 'christina', 'archdiocese', 'flashing', 'innocence', 'remake', '##dell', 'psychic', 'reef', 'scare', 'employ', 'rs', 'sticks', 'meg', 'gus', 'leans', '##ude', 'accompany', 'bergen', 'tomas', '##iko', 'doom', 'wages', 'pools', '##nch', '##bes', 'breasts', 'scholarly', 'alison', 'outline', 'brittany', 'breakthrough', 'willis', 'realistic', '##cut', '##boro', 'competitor', '##stan', 'pike', 'picnic', 'icon', 'designing', 'commercials', 'washing', 'villain', 'skiing', 'micro', 'costumes', 'auburn', 'halted', 'executives', '##hat', 'logistics', 'cycles', 'vowel', 'applicable', 'barrett', 'exclaimed', 'eurovision', 'eternity', 'ramon', '##umi', '##lls', 'modifications', 'sweeping', 'disgust', '##uck', 'torch', 'aviv', 'ensuring', 'rude', 'dusty', 'sonic', 'donovan', 'outskirts', 'cu', 'pathway', '##band', '##gun', '##lines', 'disciplines', 'acids', 'cadet', 'paired', '##40', 'sketches', '##sive', 'marriages', '##⁺', 'folding', 'peers', 'slovak', 'implies', 'admired', '##beck', '1880s', 'leopold', 'instinct', 'attained', 'weston', 'megan', 'horace', '##ination', 'dorsal', 'ingredients', 'evolutionary', '##its', 'complications', 'deity', 'lethal', 'brushing', 'levy', 'deserted', 'institutes', 'posthumously', 'delivering', 'telescope', 'coronation', 'motivated', 'rapids', 'luc', 'flicked', 'pays', 'volcano', 'tanner', 'weighed', '##nica', 'crowds', 'frankie', 'gifted', 'addressing', 'granddaughter', 'winding', '##rna', 'constantine', 'gomez', '##front', 'landscapes', 'rudolf', 'anthropology', 'slate', 'werewolf', '##lio', 'astronomy', 'circa', 'rouge', 'dreaming', 'sack', 'knelt', 'drowned', 'naomi', 'prolific', 'tracked', 'freezing', 'herb', '##dium', 'agony', 'randall', 'twisting', 'wendy', 'deposit', 'touches', 'vein', 'wheeler', '##bbled', '##bor', 'batted', 'retaining', 'tire', 'presently', 'compare', 'specification', 'daemon', 'nigel', '##grave', 'merry', 'recommendation', 'czechoslovakia', 'sandra', 'ng', 'roma', '##sts', 'lambert', 'inheritance', 'sheikh', 'winchester', 'cries', 'examining', '##yle', 'comeback', 'cuisine', 'nave', '##iv', 'ko', 'retrieve', 'tomatoes', 'barker', 'polished', 'defining', 'irene', 'lantern', 'personalities', 'begging', 'tract', 'swore', '1809', '175', '##gic', 'omaha', 'brotherhood', '##rley', 'haiti', '##ots', 'exeter', '##ete', '##zia', 'steele', 'dumb', 'pearson', '210', 'surveyed', 'elisabeth', 'trends', '##ef', 'fritz', '##rf', 'premium', 'bugs', 'fraction', 'calmly', 'viking', '##birds', 'tug', 'inserted', 'unusually', '##ield', 'confronted', 'distress', 'crashing', 'brent', 'turks', 'resign', '##olo', 'cambodia', 'gabe', 'sauce', '##kal', 'evelyn', '116', 'extant', 'clusters', 'quarry', 'teenagers', 'luna', '##lers', '##ister', 'affiliation', 'drill', '##ashi', 'panthers', 'scenic', 'libya', 'anita', 'strengthen', 'inscriptions', '##cated', 'lace', 'sued', 'judith', 'riots', '##uted', 'mint', '##eta', 'preparations', 'midst', 'dub', 'challenger', '##vich', 'mock', 'cf', 'displaced', 'wicket', 'breaths', 'enables', 'schmidt', 'analyst', '##lum', 'ag', 'highlight', 'automotive', 'axe', 'josef', 'newark', 'sufficiently', 'resembles', '50th', '##pal', 'flushed', 'mum', 'traits', '##ante', 'commodore', 'incomplete', 'warming', 'titular', 'ceremonial', 'ethical', '118', 'celebrating', 'eighteenth', 'cao', 'lima', 'medalist', 'mobility', 'strips', 'snakes', '##city', 'miniature', 'zagreb', 'barton', 'escapes', 'umbrella', 'automated', 'doubted', 'differs', 'cooled', 'georgetown', 'dresden', 'cooked', 'fade', 'wyatt', 'rna', 'jacobs', 'carlton', 'abundant', 'stereo', 'boost', 'madras', 'inning', '##hia', 'spur', 'ip', 'malayalam', 'begged', 'osaka', 'groan', 'escaping', 'charging', 'dose', 'vista', '##aj', 'bud', 'papa', 'communists', 'advocates', 'edged', 'tri', '##cent', 'resemble', 'peaking', 'necklace', 'fried', 'montenegro', 'saxony', 'goose', 'glances', 'stuttgart', 'curator', 'recruit', 'grocery', 'sympathetic', '##tting', '##fort', '127', 'lotus', 'randolph', 'ancestor', '##rand', 'succeeding', 'jupiter', '1798', 'macedonian', '##heads', 'hiking', '1808', 'handing', 'fischer', '##itive', 'garbage', 'node', '##pies', 'prone', 'singular', 'papua', 'inclined', 'attractions', 'italia', 'pouring', 'motioned', 'grandma', 'garnered', 'jacksonville', 'corp', 'ego', 'ringing', 'aluminum', '##hausen', 'ordering', '##foot', 'drawer', 'traders', 'synagogue', '##play', '##kawa', 'resistant', 'wandering', 'fragile', 'fiona', 'teased', 'var', 'hardcore', 'soaked', 'jubilee', 'decisive', 'exposition', 'mercer', 'poster', 'valencia', 'hale', 'kuwait', '1811', '##ises', '##wr', '##eed', 'tavern', 'gamma', '122', 'johan', '##uer', 'airways', 'amino', 'gil', '##ury', 'vocational', 'domains', 'torres', '##sp', 'generator', 'folklore', 'outcomes', '##keeper', 'canberra', 'shooter', 'fl', 'beams', 'confrontation', '##lling', '##gram', 'feb', 'aligned', 'forestry', 'pipeline', 'jax', 'motorway', 'conception', 'decay', '##tos', 'coffin', '##cott', 'stalin', '1805', 'escorted', 'minded', '##nam', 'sitcom', 'purchasing', 'twilight', 'veronica', 'additions', 'passive', 'tensions', 'straw', '123', 'frequencies', '1804', 'refugee', 'cultivation', '##iate', 'christie', 'clary', 'bulletin', 'crept', 'disposal', '##rich', '##zong', 'processor', 'crescent', '##rol', 'bmw', 'emphasized', 'whale', 'nazis', 'aurora', '##eng', 'dwelling', 'hauled', 'sponsors', 'toledo', 'mega', 'ideology', 'theatres', 'tessa', 'cerambycidae', 'saves', 'turtle', 'cone', 'suspects', 'kara', 'rusty', 'yelling', 'greeks', 'mozart', 'shades', 'cocked', 'participant', '##tro', 'shire', 'spit', 'freeze', 'necessity', '##cos', 'inmates', 'nielsen', 'councillors', 'loaned', 'uncommon', 'omar', 'peasants', 'botanical', 'offspring', 'daniels', 'formations', 'jokes', '1794', 'pioneers', 'sigma', 'licensing', '##sus', 'wheelchair', 'polite', '1807', 'liquor', 'pratt', 'trustee', '##uta', 'forewings', 'balloon', '##zz', 'kilometre', 'camping', 'explicit', 'casually', 'shawn', 'foolish', 'teammates', 'nm', 'hassan', 'carrie', 'judged', 'satisfy', 'vanessa', 'knives', 'selective', 'cnn', 'flowed', '##lice', 'eclipse', 'stressed', 'eliza', 'mathematician', 'cease', 'cultivated', '##roy', 'commissions', 'browns', '##ania', 'destroyers', 'sheridan', 'meadow', '##rius', 'minerals', '##cial', 'downstream', 'clash', 'gram', 'memoirs', 'ventures', 'baha', 'seymour', 'archie', 'midlands', 'edith', 'fare', 'flynn', 'invite', 'canceled', 'tiles', 'stabbed', 'boulder', 'incorporate', 'amended', 'camden', 'facial', 'mollusk', 'unreleased', 'descriptions', 'yoga', 'grabs', '550', 'raises', 'ramp', 'shiver', '##rose', 'coined', 'pioneering', 'tunes', 'qing', 'warwick', 'tops', '119', 'melanie', 'giles', '##rous', 'wandered', '##inal', 'annexed', 'nov', '30th', 'unnamed', '##ished', 'organizational', 'airplane', 'normandy', 'stoke', 'whistle', 'blessing', 'violations', 'chased', 'holders', 'shotgun', '##ctic', 'outlet', 'reactor', '##vik', 'tires', 'tearing', 'shores', 'fortified', 'mascot', 'constituencies', 'nc', 'columnist', 'productive', 'tibet', '##rta', 'lineage', 'hooked', 'oct', 'tapes', 'judging', 'cody', '##gger', 'hansen', 'kashmir', 'triggered', '##eva', 'solved', 'cliffs', '##tree', 'resisted', 'anatomy', 'protesters', 'transparent', 'implied', '##iga', 'injection', 'mattress', 'excluding', '##mbo', 'defenses', 'helpless', 'devotion', '##elli', 'growl', 'liberals', 'weber', 'phenomena', 'atoms', 'plug', '##iff', 'mortality', 'apprentice', 'howe', 'convincing', 'aaa', 'swimmer', 'barber', 'leone', 'promptly', 'sodium', 'def', 'nowadays', 'arise', '##oning', 'gloucester', 'corrected', 'dignity', 'norm', 'erie', '##ders', 'elders', 'evacuated', 'sylvia', 'compression', '##yar', 'hartford', 'pose', 'backpack', 'reasoning', 'accepts', '24th', 'wipe', 'millimetres', 'marcel', '##oda', 'dodgers', 'albion', '1790', 'overwhelmed', 'aerospace', 'oaks', '1795', 'showcase', 'acknowledge', 'recovering', 'nolan', 'ashe', 'hurts', 'geology', 'fashioned', 'disappearance', 'farewell', 'swollen', 'shrug', 'marquis', 'wimbledon', '124', 'rue', '1792', 'commemorate', 'reduces', 'experiencing', 'inevitable', 'calcutta', 'intel', '##court', 'murderer', 'sticking', 'fisheries', 'imagery', 'bloom', '280', 'brake', '##inus', 'gustav', 'hesitation', 'memorable', 'po', 'viral', 'beans', 'accidents', 'tunisia', 'antenna', 'spilled', 'consort', 'treatments', 'aye', 'perimeter', '##gard', 'donation', 'hostage', 'migrated', 'banker', 'addiction', 'apex', 'lil', 'trout', '##ously', 'conscience', '##nova', 'rams', 'sands', 'genome', 'passionate', 'troubles', '##lets', '##set', 'amid', '##ibility', '##ret', 'higgins', 'exceed', 'vikings', '##vie', 'payne', '##zan', 'muscular', '##ste', 'defendant', 'sucking', '##wal', 'ibrahim', 'fuselage', 'claudia', 'vfl', 'europeans', 'snails', 'interval', '##garh', 'preparatory', 'statewide', 'tasked', 'lacrosse', 'viktor', '##lation', 'angola', '##hra', 'flint', 'implications', 'employs', 'teens', 'patrons', 'stall', 'weekends', 'barriers', 'scrambled', 'nucleus', 'tehran', 'jenna', 'parsons', 'lifelong', 'robots', 'displacement', '5000', '##bles', 'precipitation', '##gt', 'knuckles', 'clutched', '1802', 'marrying', 'ecology', 'marx', 'accusations', 'declare', 'scars', 'kolkata', 'mat', 'meadows', 'bermuda', 'skeleton', 'finalists', 'vintage', 'crawl', 'coordinate', 'affects', 'subjected', 'orchestral', 'mistaken', '##tc', 'mirrors', 'dipped', 'relied', '260', 'arches', 'candle', '##nick', 'incorporating', 'wildly', 'fond', 'basilica', 'owl', 'fringe', 'rituals', 'whispering', 'stirred', 'feud', 'tertiary', 'slick', 'goat', 'honorable', 'whereby', 'skip', 'ricardo', 'stripes', 'parachute', 'adjoining', 'submerged', 'synthesizer', '##gren', 'intend', 'positively', 'ninety', 'phi', 'beaver', 'partition', 'fellows', 'alexis', 'prohibition', 'carlisle', 'bizarre', 'fraternity', '##bre', 'doubts', 'icy', 'cbc', 'aquatic', 'sneak', 'sonny', 'combines', 'airports', 'crude', 'supervised', 'spatial', 'merge', 'alfonso', '##bic', 'corrupt', 'scan', 'undergo', '##ams', 'disabilities', 'colombian', 'comparing', 'dolphins', 'perkins', '##lish', 'reprinted', 'unanimous', 'bounced', 'hairs', 'underworld', 'midwest', 'semester', 'bucket', 'paperback', 'miniseries', 'coventry', 'demise', '##leigh', 'demonstrations', 'sensor', 'rotating', 'yan', '##hler', 'arrange', 'soils', '##idge', 'hyderabad', 'labs', '##dr', 'brakes', 'grandchildren', '##nde', 'negotiated', 'rover', 'ferrari', 'continuation', 'directorate', 'augusta', 'stevenson', 'counterpart', 'gore', '##rda', 'nursery', 'rican', 'ave', 'collectively', 'broadly', 'pastoral', 'repertoire', 'asserted', 'discovering', 'nordic', 'styled', 'fiba', 'cunningham', 'harley', 'middlesex', 'survives', 'tumor', 'tempo', 'zack', 'aiming', 'lok', 'urgent', '##rade', '##nto', 'devils', '##ement', 'contractor', 'turin', '##wl', '##ool', 'bliss', 'repaired', 'simmons', 'moan', 'astronomical', 'cr', 'negotiate', 'lyric', '1890s', 'lara', 'bred', 'clad', 'angus', 'pbs', '##ience', 'engineered', 'posed', '##lk', 'hernandez', 'possessions', 'elbows', 'psychiatric', 'strokes', 'confluence', 'electorate', 'lifts', 'campuses', 'lava', 'alps', '##ep', '##ution', '##date', 'physicist', 'woody', '##page', '##ographic', '##itis', 'juliet', 'reformation', 'sparhawk', '320', 'complement', 'suppressed', 'jewel', '##½', 'floated', '##kas', 'continuity', 'sadly', '##ische', 'inability', 'melting', 'scanning', 'paula', 'flour', 'judaism', 'safer', 'vague', '##lm', 'solving', 'curb', '##stown', 'financially', 'gable', 'bees', 'expired', 'miserable', 'cassidy', 'dominion', '1789', 'cupped', '145', 'robbery', 'facto', 'amos', 'warden', 'resume', 'tallest', 'marvin', 'ing', 'pounded', 'usd', 'declaring', 'gasoline', '##aux', 'darkened', '270', '650', 'sophomore', '##mere', 'erection', 'gossip', 'televised', 'risen', 'dial', '##eu', 'pillars', '##link', 'passages', 'profound', '##tina', 'arabian', 'ashton', 'silicon', 'nail', '##ead', '##lated', '##wer', '##hardt', 'fleming', 'firearms', 'ducked', 'circuits', 'blows', 'waterloo', 'titans', '##lina', 'atom', 'fireplace', 'cheshire', 'financed', 'activation', 'algorithms', '##zzi', 'constituent', 'catcher', 'cherokee', 'partnerships', 'sexuality', 'platoon', 'tragic', 'vivian', 'guarded', 'whiskey', 'meditation', 'poetic', '##late', '##nga', '##ake', 'porto', 'listeners', 'dominance', 'kendra', 'mona', 'chandler', 'factions', '22nd', 'salisbury', 'attitudes', 'derivative', '##ido', '##haus', 'intake', 'paced', 'javier', 'illustrator', 'barrels', 'bias', 'cockpit', 'burnett', 'dreamed', 'ensuing', '##anda', 'receptors', 'someday', 'hawkins', 'mattered', '##lal', 'slavic', '1799', 'jesuit', 'cameroon', 'wasted', 'tai', 'wax', 'lowering', 'victorious', 'freaking', 'outright', 'hancock', 'librarian', 'sensing', 'bald', 'calcium', 'myers', 'tablet', 'announcing', 'barack', 'shipyard', 'pharmaceutical', '##uan', 'greenwich', 'flush', 'medley', 'patches', 'wolfgang', 'pt', 'speeches', 'acquiring', 'exams', 'nikolai', '##gg', 'hayden', 'kannada', '##type', 'reilly', '##pt', 'waitress', 'abdomen', 'devastated', 'capped', 'pseudonym', 'pharmacy', 'fulfill', 'paraguay', '1796', 'clicked', '##trom', 'archipelago', 'syndicated', '##hman', 'lumber', 'orgasm', 'rejection', 'clifford', 'lorraine', 'advent', 'mafia', 'rodney', 'brock', '##ght', '##used', '##elia', 'cassette', 'chamberlain', 'despair', 'mongolia', 'sensors', 'developmental', 'upstream', '##eg', '##alis', 'spanning', '165', 'trombone', 'basque', 'seeded', 'interred', 'renewable', 'rhys', 'leapt', 'revision', 'molecule', '##ages', 'chord', 'vicious', 'nord', 'shivered', '23rd', 'arlington', 'debts', 'corpus', 'sunrise', 'bays', 'blackburn', 'centimetres', '##uded', 'shuddered', 'gm', 'strangely', 'gripping', 'cartoons', 'isabelle', 'orbital', '##ppa', 'seals', 'proving', '##lton', 'refusal', 'strengthened', 'bust', 'assisting', 'baghdad', 'batsman', 'portrayal', 'mara', 'pushes', 'spears', 'og', '##cock', 'reside', 'nathaniel', 'brennan', '1776', 'confirmation', 'caucus', '##worthy', 'markings', 'yemen', 'nobles', 'ku', 'lazy', 'viewer', 'catalan', 'encompasses', 'sawyer', '##fall', 'sparked', 'substances', 'patents', 'braves', 'arranger', 'evacuation', 'sergio', 'persuade', 'dover', 'tolerance', 'penguin', 'cum', 'jockey', 'insufficient', 'townships', 'occupying', 'declining', 'plural', 'processed', 'projection', 'puppet', 'flanders', 'introduces', 'liability', '##yon', 'gymnastics', 'antwerp', 'taipei', 'hobart', 'candles', 'jeep', 'wes', 'observers', '126', 'chaplain', 'bundle', 'glorious', '##hine', 'hazel', 'flung', 'sol', 'excavations', 'dumped', 'stares', 'sh', 'bangalore', 'triangular', 'icelandic', 'intervals', 'expressing', 'turbine', '##vers', 'songwriting', 'crafts', '##igo', 'jasmine', 'ditch', 'rite', '##ways', 'entertaining', 'comply', 'sorrow', 'wrestlers', 'basel', 'emirates', 'marian', 'rivera', 'helpful', '##some', 'caution', 'downward', 'networking', '##atory', '##tered', 'darted', 'genocide', 'emergence', 'replies', 'specializing', 'spokesman', 'convenient', 'unlocked', 'fading', 'augustine', 'concentrations', 'resemblance', 'elijah', 'investigator', 'andhra', '##uda', 'promotes', 'bean', '##rrell', 'fleeing', 'wan', 'simone', 'announcer', '##ame', '##bby', 'lydia', 'weaver', '132', 'residency', 'modification', '##fest', 'stretches', '##ast', 'alternatively', 'nat', 'lowe', 'lacks', '##ented', 'pam', 'tile', 'concealed', 'inferior', 'abdullah', 'residences', 'tissues', 'vengeance', '##ided', 'moisture', 'peculiar', 'groove', 'zip', 'bologna', 'jennings', 'ninja', 'oversaw', 'zombies', 'pumping', 'batch', 'livingston', 'emerald', 'installations', '1797', 'peel', 'nitrogen', 'rama', '##fying', '##star', 'schooling', 'strands', 'responding', 'werner', '##ost', 'lime', 'casa', 'accurately', 'targeting', '##rod', 'underway', '##uru', 'hemisphere', 'lester', '##yard', 'occupies', '2d', 'griffith', 'angrily', 'reorganized', '##owing', 'courtney', 'deposited', '##dd', '##30', 'estadio', '##ifies', 'dunn', 'exiled', '##ying', 'checks', '##combe', '##о', '##fly', 'successes', 'unexpectedly', 'blu', 'assessed', '##flower', '##ه', 'observing', 'sacked', 'spiders', 'kn', '##tail', 'mu', 'nodes', 'prosperity', 'audrey', 'divisional', '155', 'broncos', 'tangled', 'adjust', 'feeds', 'erosion', 'paolo', 'surf', 'directory', 'snatched', 'humid', 'admiralty', 'screwed', 'gt', 'reddish', '##nese', 'modules', 'trench', 'lamps', 'bind', 'leah', 'bucks', 'competes', '##nz', '##form', 'transcription', '##uc', 'isles', 'violently', 'clutching', 'pga', 'cyclist', 'inflation', 'flats', 'ragged', 'unnecessary', '##hian', 'stubborn', 'coordinated', 'harriet', 'baba', 'disqualified', '330', 'insect', 'wolfe', '##fies', 'reinforcements', 'rocked', 'duel', 'winked', 'embraced', 'bricks', '##raj', 'hiatus', 'defeats', 'pending', 'brightly', 'jealousy', '##xton', '##hm', '##uki', 'lena', 'gdp', 'colorful', '##dley', 'stein', 'kidney', '##shu', 'underwear', 'wanderers', '##haw', '##icus', 'guardians', 'm³', 'roared', 'habits', '##wise', 'permits', 'gp', 'uranium', 'punished', 'disguise', 'bundesliga', 'elise', 'dundee', 'erotic', 'partisan', 'pi', 'collectors', 'float', 'individually', 'rendering', 'behavioral', 'bucharest', 'ser', 'hare', 'valerie', 'corporal', 'nutrition', 'proportional', '##isa', 'immense', '##kis', 'pavement', '##zie', '##eld', 'sutherland', 'crouched', '1775', '##lp', 'suzuki', 'trades', 'endurance', 'operas', 'crosby', 'prayed', 'priory', 'rory', 'socially', '##urn', 'gujarat', '##pu', 'walton', 'cube', 'pasha', 'privilege', 'lennon', 'floods', 'thorne', 'waterfall', 'nipple', 'scouting', 'approve', '##lov', 'minorities', 'voter', 'dwight', 'extensions', 'assure', 'ballroom', 'slap', 'dripping', 'privileges', 'rejoined', 'confessed', 'demonstrating', 'patriotic', 'yell', 'investor', '##uth', 'pagan', 'slumped', 'squares', '##cle', '##kins', 'confront', 'bert', 'embarrassment', '##aid', 'aston', 'urging', 'sweater', 'starr', 'yuri', 'brains', 'williamson', 'commuter', 'mortar', 'structured', 'selfish', 'exports', '##jon', 'cds', '##him', 'unfinished', '##rre', 'mortgage', 'destinations', '##nagar', 'canoe', 'solitary', 'buchanan', 'delays', 'magistrate', 'fk', '##pling', 'motivation', '##lier', '##vier', 'recruiting', 'assess', '##mouth', 'malik', 'antique', '1791', 'pius', 'rahman', 'reich', 'tub', 'zhou', 'smashed', 'airs', 'galway', 'xii', 'conditioning', 'honduras', 'discharged', 'dexter', '##pf', 'lionel', '129', 'debates', 'lemon', 'tiffany', 'volunteered', 'dom', 'dioxide', 'procession', 'devi', 'sic', 'tremendous', 'advertisements', 'colts', 'transferring', 'verdict', 'hanover', 'decommissioned', 'utter', 'relate', 'pac', 'racism', '##top', 'beacon', 'limp', 'similarity', 'terra', 'occurrence', 'ant', '##how', 'becky', 'capt', 'updates', 'armament', 'richie', 'pal', '##graph', 'halloween', 'mayo', '##ssen', '##bone', 'cara', 'serena', 'fcc', 'dolls', 'obligations', '##dling', 'violated', 'lafayette', 'jakarta', 'exploitation', '##ime', 'infamous', 'iconic', '##lah', '##park', 'kitty', 'moody', 'reginald', 'dread', 'spill', 'crystals', 'olivier', 'modeled', 'bluff', 'equilibrium', 'separating', 'notices', 'ordnance', 'extinction', 'onset', 'cosmic', 'attachment', 'sammy', 'expose', 'privy', 'anchored', '##bil', 'abbott', 'admits', 'bending', 'baritone', 'emmanuel', 'policeman', 'vaughan', 'winged', 'climax', 'dresses', 'denny', 'polytechnic', 'mohamed', 'burmese', 'authentic', 'nikki', 'genetics', 'grandparents', 'homestead', 'gaza', 'postponed', 'metacritic', 'una', '##sby', '##bat', 'unstable', 'dissertation', '##rial', '##cian', 'curls', 'obscure', 'uncovered', 'bronx', 'praying', 'disappearing', '##hoe', 'prehistoric', 'coke', 'turret', 'mutations', 'nonprofit', 'pits', 'monaco', '##ي', '##usion', 'prominently', 'dispatched', 'podium', '##mir', 'uci', '##uation', '133', 'fortifications', 'birthplace', 'kendall', '##lby', '##oll', 'preacher', 'rack', 'goodman', '##rman', 'persistent', '##ott', 'countless', 'jaime', 'recorder', 'lexington', 'persecution', 'jumps', 'renewal', 'wagons', '##11', 'crushing', '##holder', 'decorations', '##lake', 'abundance', 'wrath', 'laundry', '£1', 'garde', '##rp', 'jeanne', 'beetles', 'peasant', '##sl', 'splitting', 'caste', 'sergei', '##rer', '##ema', 'scripts', '##ively', 'rub', 'satellites', '##vor', 'inscribed', 'verlag', 'scrapped', 'gale', 'packages', 'chick', 'potato', 'slogan', 'kathleen', 'arabs', '##culture', 'counterparts', 'reminiscent', 'choral', '##tead', 'rand', 'retains', 'bushes', 'dane', 'accomplish', 'courtesy', 'closes', '##oth', 'slaughter', 'hague', 'krakow', 'lawson', 'tailed', 'elias', 'ginger', '##ttes', 'canopy', 'betrayal', 'rebuilding', 'turf', '##hof', 'frowning', 'allegiance', 'brigades', 'kicks', 'rebuild', 'polls', 'alias', 'nationalism', 'td', 'rowan', 'audition', 'bowie', 'fortunately', 'recognizes', 'harp', 'dillon', 'horrified', '##oro', 'renault', '##tics', 'ropes', '##α', 'presumed', 'rewarded', 'infrared', 'wiping', 'accelerated', 'illustration', '##rid', 'presses', 'practitioners', 'badminton', '##iard', 'detained', '##tera', 'recognizing', 'relates', 'misery', '##sies', '##tly', 'reproduction', 'piercing', 'potatoes', 'thornton', 'esther', 'manners', 'hbo', '##aan', 'ours', 'bullshit', 'ernie', 'perennial', 'sensitivity', 'illuminated', 'rupert', '##jin', '##iss', '##ear', 'rfc', 'nassau', '##dock', 'staggered', 'socialism', '##haven', 'appointments', 'nonsense', 'prestige', 'sharma', 'haul', '##tical', 'solidarity', 'gps', '##ook', '##rata', 'igor', 'pedestrian', '##uit', 'baxter', 'tenants', 'wires', 'medication', 'unlimited', 'guiding', 'impacts', 'diabetes', '##rama', 'sasha', 'pas', 'clive', 'extraction', '131', 'continually', 'constraints', '##bilities', 'sonata', 'hunted', 'sixteenth', 'chu', 'planting', 'quote', 'mayer', 'pretended', 'abs', 'spat', '##hua', 'ceramic', '##cci', 'curtains', 'pigs', 'pitching', '##dad', 'latvian', 'sore', 'dayton', '##sted', '##qi', 'patrols', 'slice', 'playground', '##nted', 'shone', 'stool', 'apparatus', 'inadequate', 'mates', 'treason', '##ija', 'desires', '##liga', '##croft', 'somalia', 'laurent', 'mir', 'leonardo', 'oracle', 'grape', 'obliged', 'chevrolet', 'thirteenth', 'stunning', 'enthusiastic', '##ede', 'accounted', 'concludes', 'currents', 'basil', '##kovic', 'drought', '##rica', 'mai', '##aire', 'shove', 'posting', '##shed', 'pilgrimage', 'humorous', 'packing', 'fry', 'pencil', 'wines', 'smells', '144', 'marilyn', 'aching', 'newest', 'clung', 'bon', 'neighbours', 'sanctioned', '##pie', 'mug', '##stock', 'drowning', '##mma', 'hydraulic', '##vil', 'hiring', 'reminder', 'lilly', 'investigators', '##ncies', 'sour', '##eous', 'compulsory', 'packet', '##rion', '##graphic', '##elle', 'cannes', '##inate', 'depressed', '##rit', 'heroic', 'importantly', 'theresa', '##tled', 'conway', 'saturn', 'marginal', 'rae', '##xia', 'corresponds', 'royce', 'pact', 'jasper', 'explosives', 'packaging', 'aluminium', '##ttered', 'denotes', 'rhythmic', 'spans', 'assignments', 'hereditary', 'outlined', 'originating', 'sundays', 'lad', 'reissued', 'greeting', 'beatrice', '##dic', 'pillar', 'marcos', 'plots', 'handbook', 'alcoholic', 'judiciary', 'avant', 'slides', 'extract', 'masculine', 'blur', '##eum', '##force', 'homage', 'trembled', 'owens', 'hymn', 'trey', 'omega', 'signaling', 'socks', 'accumulated', 'reacted', 'attic', 'theo', 'lining', 'angie', 'distraction', 'primera', 'talbot', '##key', '1200', 'ti', 'creativity', 'billed', '##hey', 'deacon', 'eduardo', 'identifies', 'proposition', 'dizzy', 'gunner', 'hogan', '##yam', '##pping', '##hol', 'ja', '##chan', 'jensen', 'reconstructed', '##berger', 'clearance', 'darius', '##nier', 'abe', 'harlem', 'plea', 'dei', 'circled', 'emotionally', 'notation', 'fascist', 'neville', 'exceeded', 'upwards', 'viable', 'ducks', '##fo', 'workforce', 'racer', 'limiting', 'shri', '##lson', 'possesses', '1600', 'kerr', 'moths', 'devastating', 'laden', 'disturbing', 'locking', '##cture', 'gal', 'fearing', 'accreditation', 'flavor', 'aide', '1870s', 'mountainous', '##baum', 'melt', '##ures', 'motel', 'texture', 'servers', 'soda', '##mb', 'herd', '##nium', 'erect', 'puzzled', 'hum', 'peggy', 'examinations', 'gould', 'testified', 'geoff', 'ren', 'devised', 'sacks', '##law', 'denial', 'posters', 'grunted', 'cesar', 'tutor', 'ec', 'gerry', 'offerings', 'byrne', 'falcons', 'combinations', 'ct', 'incoming', 'pardon', 'rocking', '26th', 'avengers', 'flared', 'mankind', 'seller', 'uttar', 'loch', 'nadia', 'stroking', 'exposing', '##hd', 'fertile', 'ancestral', 'instituted', '##has', 'noises', 'prophecy', 'taxation', 'eminent', 'vivid', 'pol', '##bol', 'dart', 'indirect', 'multimedia', 'notebook', 'upside', 'displaying', 'adrenaline', 'referenced', 'geometric', '##iving', 'progression', '##ddy', 'blunt', 'announce', '##far', 'implementing', '##lav', 'aggression', 'liaison', 'cooler', 'cares', 'headache', 'plantations', 'gorge', 'dots', 'impulse', 'thickness', 'ashamed', 'averaging', 'kathy', 'obligation', 'precursor', '137', 'fowler', 'symmetry', 'thee', '225', 'hears', '##rai', 'undergoing', 'ads', 'butcher', 'bowler', '##lip', 'cigarettes', 'subscription', 'goodness', '##ically', 'browne', '##hos', '##tech', 'kyoto', 'donor', '##erty', 'damaging', 'friction', 'drifting', 'expeditions', 'hardened', 'prostitution', '152', 'fauna', 'blankets', 'claw', 'tossing', 'snarled', 'butterflies', 'recruits', 'investigative', 'coated', 'healed', '138', 'communal', 'hai', 'xiii', 'academics', 'boone', 'psychologist', 'restless', 'lahore', 'stephens', 'mba', 'brendan', 'foreigners', 'printer', '##pc', 'ached', 'explode', '27th', 'deed', 'scratched', 'dared', '##pole', 'cardiac', '1780', 'okinawa', 'proto', 'commando', 'compelled', 'oddly', 'electrons', '##base', 'replica', 'thanksgiving', '##rist', 'sheila', 'deliberate', 'stafford', 'tidal', 'representations', 'hercules', 'ou', '##path', '##iated', 'kidnapping', 'lenses', '##tling', 'deficit', 'samoa', 'mouths', 'consuming', 'computational', 'maze', 'granting', 'smirk', 'razor', 'fixture', 'ideals', 'inviting', 'aiden', 'nominal', '##vs', 'issuing', 'julio', 'pitt', 'ramsey', 'docks', '##oss', 'exhaust', '##owed', 'bavarian', 'draped', 'anterior', 'mating', 'ethiopian', 'explores', 'noticing', '##nton', 'discarded', 'convenience', 'hoffman', 'endowment', 'beasts', 'cartridge', 'mormon', 'paternal', 'probe', 'sleeves', 'interfere', 'lump', 'deadline', '##rail', 'jenks', 'bulldogs', 'scrap', 'alternating', 'justified', 'reproductive', 'nam', 'seize', 'descending', 'secretariat', 'kirby', 'coupe', 'grouped', 'smash', 'panther', 'sedan', 'tapping', '##18', 'lola', 'cheer', 'germanic', 'unfortunate', '##eter', 'unrelated', '##fan', 'subordinate', '##sdale', 'suzanne', 'advertisement', '##ility', 'horsepower', '##lda', 'cautiously', 'discourse', 'luigi', '##mans', '##fields', 'noun', 'prevalent', 'mao', 'schneider', 'everett', 'surround', 'governorate', 'kira', '##avia', 'westward', '##take', 'misty', 'rails', 'sustainability', '134', 'unused', '##rating', 'packs', 'toast', 'unwilling', 'regulate', 'thy', 'suffrage', 'nile', 'awe', 'assam', 'definitions', 'travelers', 'affordable', '##rb', 'conferred', 'sells', 'undefeated', 'beneficial', 'torso', 'basal', 'repeating', 'remixes', '##pass', 'bahrain', 'cables', 'fang', '##itated', 'excavated', 'numbering', 'statutory', '##rey', 'deluxe', '##lian', 'forested', 'ramirez', 'derbyshire', 'zeus', 'slamming', 'transfers', 'astronomer', 'banana', 'lottery', 'berg', 'histories', 'bamboo', '##uchi', 'resurrection', 'posterior', 'bowls', 'vaguely', '##thi', 'thou', 'preserving', 'tensed', 'offence', '##inas', 'meyrick', 'callum', 'ridden', 'watt', 'langdon', 'tying', 'lowland', 'snorted', 'daring', 'truman', '##hale', '##girl', 'aura', 'overly', 'filing', 'weighing', 'goa', 'infections', 'philanthropist', 'saunders', 'eponymous', '##owski', 'latitude', 'perspectives', 'reviewing', 'mets', 'commandant', 'radial', '##kha', 'flashlight', 'reliability', 'koch', 'vowels', 'amazed', 'ada', 'elaine', 'supper', '##rth', '##encies', 'predator', 'debated', 'soviets', 'cola', '##boards', '##nah', 'compartment', 'crooked', 'arbitrary', 'fourteenth', '##ctive', 'havana', 'majors', 'steelers', 'clips', 'profitable', 'ambush', 'exited', 'packers', '##tile', 'nude', 'cracks', 'fungi', '##е', 'limb', 'trousers', 'josie', 'shelby', 'tens', 'frederic', '##ος', 'definite', 'smoothly', 'constellation', 'insult', 'baton', 'discs', 'lingering', '##nco', 'conclusions', 'lent', 'staging', 'becker', 'grandpa', 'shaky', '##tron', 'einstein', 'obstacles', 'sk', 'adverse', 'elle', 'economically', '##moto', 'mccartney', 'thor', 'dismissal', 'motions', 'readings', 'nostrils', 'treatise', '##pace', 'squeezing', 'evidently', 'prolonged', '1783', 'venezuelan', 'je', 'marguerite', 'beirut', 'takeover', 'shareholders', '##vent', 'denise', 'digit', 'airplay', 'norse', '##bbling', 'imaginary', 'pills', 'hubert', 'blaze', 'vacated', 'eliminating', '##ello', 'vine', 'mansfield', '##tty', 'retrospective', 'barrow', 'borne', 'clutch', 'bail', 'forensic', 'weaving', '##nett', '##witz', 'desktop', 'citadel', 'promotions', 'worrying', 'dorset', 'ieee', 'subdivided', '##iating', 'manned', 'expeditionary', 'pickup', 'synod', 'chuckle', '185', 'barney', '##rz', '##ffin', 'functionality', 'karachi', 'litigation', 'meanings', 'uc', 'lick', 'turbo', 'anders', '##ffed', 'execute', 'curl', 'oppose', 'ankles', 'typhoon', '##د', '##ache', '##asia', 'linguistics', 'compassion', 'pressures', 'grazing', 'perfection', '##iting', 'immunity', 'monopoly', 'muddy', 'backgrounds', '136', 'namibia', 'francesca', 'monitors', 'attracting', 'stunt', 'tuition', '##ии', 'vegetable', '##mates', '##quent', 'mgm', 'jen', 'complexes', 'forts', '##ond', 'cellar', 'bites', 'seventeenth', 'royals', 'flemish', 'failures', 'mast', 'charities', '##cular', 'peruvian', 'capitals', 'macmillan', 'ipswich', 'outward', 'frigate', 'postgraduate', 'folds', 'employing', '##ouse', 'concurrently', 'fiery', '##tai', 'contingent', 'nightmares', 'monumental', 'nicaragua', '##kowski', 'lizard', 'mal', 'fielding', 'gig', 'reject', '##pad', 'harding', '##ipe', 'coastline', '##cin', '##nos', 'beethoven', 'humphrey', 'innovations', '##tam', '##nge', 'norris', 'doris', 'solicitor', 'huang', 'obey', '141', '##lc', 'niagara', '##tton', 'shelves', 'aug', 'bourbon', 'curry', 'nightclub', 'specifications', 'hilton', '##ndo', 'centennial', 'dispersed', 'worm', 'neglected', 'briggs', 'sm', 'font', 'kuala', 'uneasy', 'plc', '##nstein', '##bound', '##aking', '##burgh', 'awaiting', 'pronunciation', '##bbed', '##quest', 'eh', 'optimal', 'zhu', 'raped', 'greens', 'presided', 'brenda', 'worries', '##life', 'venetian', 'marxist', 'turnout', '##lius', 'refined', 'braced', 'sins', 'grasped', 'sunderland', 'nickel', 'speculated', 'lowell', 'cyrillic', 'communism', 'fundraising', 'resembling', 'colonists', 'mutant', 'freddie', 'usc', '##mos', 'gratitude', '##run', 'mural', '##lous', 'chemist', 'wi', 'reminds', '28th', 'steals', 'tess', 'pietro', '##ingen', 'promoter', 'ri', 'microphone', 'honoured', 'rai', 'sant', '##qui', 'feather', '##nson', 'burlington', 'kurdish', 'terrorists', 'deborah', 'sickness', '##wed', '##eet', 'hazard', 'irritated', 'desperation', 'veil', 'clarity', '##rik', 'jewels', 'xv', '##gged', '##ows', '##cup', 'berkshire', 'unfair', 'mysteries', 'orchid', 'winced', 'exhaustion', 'renovations', 'stranded', 'obe', 'infinity', '##nies', 'adapt', 'redevelopment', 'thanked', 'registry', 'olga', 'domingo', 'noir', 'tudor', 'ole', '##atus', 'commenting', 'behaviors', '##ais', 'crisp', 'pauline', 'probable', 'stirling', 'wigan', '##bian', 'paralympics', 'panting', 'surpassed', '##rew', 'luca', 'barred', 'pony', 'famed', '##sters', 'cassandra', 'waiter', 'carolyn', 'exported', '##orted', 'andres', 'destructive', 'deeds', 'jonah', 'castles', 'vacancy', 'suv', '##glass', '1788', 'orchard', 'yep', 'famine', 'belarusian', 'sprang', '##forth', 'skinny', '##mis', 'administrators', 'rotterdam', 'zambia', 'zhao', 'boiler', 'discoveries', '##ride', '##physics', 'lucius', 'disappointing', 'outreach', 'spoon', '##frame', 'qualifications', 'unanimously', 'enjoys', 'regency', '##iidae', 'stade', 'realism', 'veterinary', 'rodgers', 'dump', 'alain', 'chestnut', 'castile', 'censorship', 'rumble', 'gibbs', '##itor', 'communion', 'reggae', 'inactivated', 'logs', 'loads', '##houses', 'homosexual', '##iano', 'ale', 'informs', '##cas', 'phrases', 'plaster', 'linebacker', 'ambrose', 'kaiser', 'fascinated', '850', 'limerick', 'recruitment', 'forge', 'mastered', '##nding', 'leinster', 'rooted', 'threaten', '##strom', 'borneo', '##hes', 'suggestions', 'scholarships', 'propeller', 'documentaries', 'patronage', 'coats', 'constructing', 'invest', 'neurons', 'comet', 'entirety', 'shouts', 'identities', 'annoying', 'unchanged', 'wary', '##antly', '##ogy', 'neat', 'oversight', '##kos', 'phillies', 'replay', 'constance', '##kka', 'incarnation', 'humble', 'skies', 'minus', '##acy', 'smithsonian', '##chel', 'guerrilla', 'jar', 'cadets', '##plate', 'surplus', 'audit', '##aru', 'cracking', 'joanna', 'louisa', 'pacing', '##lights', 'intentionally', '##iri', 'diner', 'nwa', 'imprint', 'australians', 'tong', 'unprecedented', 'bunker', 'naive', 'specialists', 'ark', 'nichols', 'railing', 'leaked', 'pedal', '##uka', 'shrub', 'longing', 'roofs', 'v8', 'captains', 'neural', 'tuned', '##ntal', '##jet', 'emission', 'medina', 'frantic', 'codex', 'definitive', 'sid', 'abolition', 'intensified', 'stocks', 'enrique', 'sustain', 'genoa', 'oxide', '##written', 'clues', 'cha', '##gers', 'tributaries', 'fragment', 'venom', '##rity', '##ente', '##sca', 'muffled', 'vain', 'sire', 'laos', '##ingly', '##hana', 'hastily', 'snapping', 'surfaced', 'sentiment', 'motive', '##oft', 'contests', 'approximate', 'mesa', 'luckily', 'dinosaur', 'exchanges', 'propelled', 'accord', 'bourne', 'relieve', 'tow', 'masks', 'offended', '##ues', 'cynthia', '##mmer', 'rains', 'bartender', 'zinc', 'reviewers', 'lois', '##sai', 'legged', 'arrogant', 'rafe', 'rosie', 'comprise', 'handicap', 'blockade', 'inlet', 'lagoon', 'copied', 'drilling', 'shelley', 'petals', '##inian', 'mandarin', 'obsolete', '##inated', 'onward', 'arguably', 'productivity', 'cindy', 'praising', 'seldom', 'busch', 'discusses', 'raleigh', 'shortage', 'ranged', 'stanton', 'encouragement', 'firstly', 'conceded', 'overs', 'temporal', '##uke', 'cbe', '##bos', 'woo', 'certainty', 'pumps', '##pton', 'stalked', '##uli', 'lizzie', 'periodic', 'thieves', 'weaker', '##night', 'gases', 'shoving', 'chooses', 'wc', '##chemical', 'prompting', 'weights', '##kill', 'robust', 'flanked', 'sticky', 'hu', 'tuberculosis', '##eb', '##eal', 'christchurch', 'resembled', 'wallet', 'reese', 'inappropriate', 'pictured', 'distract', 'fixing', 'fiddle', 'giggled', 'burger', 'heirs', 'hairy', 'mechanic', 'torque', 'apache', 'obsessed', 'chiefly', 'cheng', 'logging', '##tag', 'extracted', 'meaningful', 'numb', '##vsky', 'gloucestershire', 'reminding', '##bay', 'unite', '##lit', 'breeds', 'diminished', 'clown', 'glove', '1860s', '##ن', '##ug', 'archibald', 'focal', 'freelance', 'sliced', 'depiction', '##yk', 'organism', 'switches', 'sights', 'stray', 'crawling', '##ril', 'lever', 'leningrad', 'interpretations', 'loops', 'anytime', 'reel', 'alicia', 'delighted', '##ech', 'inhaled', 'xiv', 'suitcase', 'bernie', 'vega', 'licenses', 'northampton', 'exclusion', 'induction', 'monasteries', 'racecourse', 'homosexuality', '##right', '##sfield', '##rky', 'dimitri', 'michele', 'alternatives', 'ions', 'commentators', 'genuinely', 'objected', 'pork', 'hospitality', 'fencing', 'stephan', 'warships', 'peripheral', 'wit', 'drunken', 'wrinkled', 'quentin', 'spends', 'departing', 'chung', 'numerical', 'spokesperson', '##zone', 'johannesburg', 'caliber', 'killers', '##udge', 'assumes', 'neatly', 'demographic', 'abigail', 'bloc', '##vel', 'mounting', '##lain', 'bentley', 'slightest', 'xu', 'recipients', '##jk', 'merlin', '##writer', 'seniors', 'prisons', 'blinking', 'hindwings', 'flickered', 'kappa', '##hel', '80s', 'strengthening', 'appealing', 'brewing', 'gypsy', 'mali', 'lashes', 'hulk', 'unpleasant', 'harassment', 'bio', 'treaties', 'predict', 'instrumentation', 'pulp', 'troupe', 'boiling', 'mantle', '##ffe', 'ins', '##vn', 'dividing', 'handles', 'verbs', '##onal', 'coconut', 'senegal', '340', 'thorough', 'gum', 'momentarily', '##sto', 'cocaine', 'panicked', 'destined', '##turing', 'teatro', 'denying', 'weary', 'captained', 'mans', '##hawks', '##code', 'wakefield', 'bollywood', 'thankfully', '##16', 'cyril', '##wu', 'amendments', '##bahn', 'consultation', 'stud', 'reflections', 'kindness', '1787', 'internally', '##ovo', 'tex', 'mosaic', 'distribute', 'paddy', 'seeming', '143', '##hic', 'piers', '##15', '##mura', '##verse', 'popularly', 'winger', 'kang', 'sentinel', 'mccoy', '##anza', 'covenant', '##bag', 'verge', 'fireworks', 'suppress', 'thrilled', 'dominate', '##jar', 'swansea', '##60', '142', 'reconciliation', '##ndi', 'stiffened', 'cue', 'dorian', '##uf', 'damascus', 'amor', 'ida', 'foremost', '##aga', 'porsche', 'unseen', 'dir', '##had', '##azi', 'stony', 'lexi', 'melodies', '##nko', 'angular', 'integer', 'podcast', 'ants', 'inherent', 'jaws', 'justify', 'persona', '##olved', 'josephine', '##nr', '##ressed', 'customary', 'flashes', 'gala', 'cyrus', 'glaring', 'backyard', 'ariel', 'physiology', 'greenland', 'html', 'stir', 'avon', 'atletico', 'finch', 'methodology', 'ked', '##lent', 'mas', 'catholicism', 'townsend', 'branding', 'quincy', 'fits', 'containers', '1777', 'ashore', 'aragon', '##19', 'forearm', 'poisoning', '##sd', 'adopting', 'conquer', 'grinding', 'amnesty', 'keller', 'finances', 'evaluate', 'forged', 'lankan', 'instincts', '##uto', 'guam', 'bosnian', 'photographed', 'workplace', 'desirable', 'protector', '##dog', 'allocation', 'intently', 'encourages', 'willy', '##sten', 'bodyguard', 'electro', 'brighter', '##ν', 'bihar', '##chev', 'lasts', 'opener', 'amphibious', 'sal', 'verde', 'arte', '##cope', 'captivity', 'vocabulary', 'yields', '##tted', 'agreeing', 'desmond', 'pioneered', '##chus', 'strap', 'campaigned', 'railroads', '##ович', 'emblem', '##dre', 'stormed', '501', '##ulous', 'marijuana', 'northumberland', '##gn', '##nath', 'bowen', 'landmarks', 'beaumont', '##qua', 'danube', '##bler', 'attorneys', 'th', 'ge', 'flyers', 'critique', 'villains', 'cass', 'mutation', 'acc', '##0s', 'colombo', 'mckay', 'motif', 'sampling', 'concluding', 'syndicate', '##rell', 'neon', 'stables', 'ds', 'warnings', 'clint', 'mourning', 'wilkinson', '##tated', 'merrill', 'leopard', 'evenings', 'exhaled', 'emil', 'sonia', 'ezra', 'discrete', 'stove', 'farrell', 'fifteenth', 'prescribed', 'superhero', '##rier', 'worms', 'helm', 'wren', '##duction', '##hc', 'expo', '##rator', 'hq', 'unfamiliar', 'antony', 'prevents', 'acceleration', 'fiercely', 'mari', 'painfully', 'calculations', 'cheaper', 'ign', 'clifton', 'irvine', 'davenport', 'mozambique', '##np', 'pierced', '##evich', 'wonders', '##wig', '##cate', '##iling', 'crusade', 'ware', '##uel', 'enzymes', 'reasonably', 'mls', '##coe', 'mater', 'ambition', 'bunny', 'eliot', 'kernel', '##fin', 'asphalt', 'headmaster', 'torah', 'aden', 'lush', 'pins', 'waived', '##care', '##yas', 'joao', 'substrate', 'enforce', '##grad', '##ules', 'alvarez', 'selections', 'epidemic', 'tempted', '##bit', 'bremen', 'translates', 'ensured', 'waterfront', '29th', 'forrest', 'manny', 'malone', 'kramer', 'reigning', 'cookies', 'simpler', 'absorption', '205', 'engraved', '##ffy', 'evaluated', '1778', 'haze', '146', 'comforting', 'crossover', '##abe', 'thorn', '##rift', '##imo', '##pop', 'suppression', 'fatigue', 'cutter', '##tr', '201', 'wurttemberg', '##orf', 'enforced', 'hovering', 'proprietary', 'gb', 'samurai', 'syllable', 'ascent', 'lacey', 'tick', 'lars', 'tractor', 'merchandise', 'rep', 'bouncing', 'defendants', '##yre', 'huntington', '##ground', '##oko', 'standardized', '##hor', '##hima', 'assassinated', 'nu', 'predecessors', 'rainy', 'liar', 'assurance', 'lyrical', '##uga', 'secondly', 'flattened', 'ios', 'parameter', 'undercover', '##mity', 'bordeaux', 'punish', 'ridges', 'markers', 'exodus', 'inactive', 'hesitate', 'debbie', 'nyc', 'pledge', 'savoy', 'nagar', 'offset', 'organist', '##tium', 'hesse', 'marin', 'converting', '##iver', 'diagram', 'propulsion', 'pu', 'validity', 'reverted', 'supportive', '##dc', 'ministries', 'clans', 'responds', 'proclamation', '##inae', '##ø', '##rea', 'ein', 'pleading', 'patriot', 'sf', 'birch', 'islanders', 'strauss', 'hates', '##dh', 'brandenburg', 'concession', 'rd', '##ob', '1900s', 'killings', 'textbook', 'antiquity', 'cinematography', 'wharf', 'embarrassing', 'setup', 'creed', 'farmland', 'inequality', 'centred', 'signatures', 'fallon', '370', '##ingham', '##uts', 'ceylon', 'gazing', 'directive', 'laurie', '##tern', 'globally', '##uated', '##dent', 'allah', 'excavation', 'threads', '##cross', '148', 'frantically', 'icc', 'utilize', 'determines', 'respiratory', 'thoughtful', 'receptions', '##dicate', 'merging', 'chandra', 'seine', '147', 'builders', 'builds', 'diagnostic', 'dev', 'visibility', 'goddamn', 'analyses', 'dhaka', 'cho', 'proves', 'chancel', 'concurrent', 'curiously', 'canadians', 'pumped', 'restoring', '1850s', 'turtles', 'jaguar', 'sinister', 'spinal', 'traction', 'declan', 'vows', '1784', 'glowed', 'capitalism', 'swirling', 'install', 'universidad', '##lder', '##oat', 'soloist', '##genic', '##oor', 'coincidence', 'beginnings', 'nissan', 'dip', 'resorts', 'caucasus', 'combustion', 'infectious', '##eno', 'pigeon', 'serpent', '##itating', 'conclude', 'masked', 'salad', 'jew', '##gr', 'surreal', 'toni', '##wc', 'harmonica', '151', '##gins', '##etic', '##coat', 'fishermen', 'intending', 'bravery', '##wave', 'klaus', 'titan', 'wembley', 'taiwanese', 'ransom', '40th', 'incorrect', 'hussein', 'eyelids', 'jp', 'cooke', 'dramas', 'utilities', '##etta', '##print', 'eisenhower', 'principally', 'granada', 'lana', '##rak', 'openings', 'concord', '##bl', 'bethany', 'connie', 'morality', 'sega', '##mons', '##nard', 'earnings', '##kara', '##cine', 'wii', 'communes', '##rel', 'coma', 'composing', 'softened', 'severed', 'grapes', '##17', 'nguyen', 'analyzed', 'warlord', 'hubbard', 'heavenly', 'behave', 'slovenian', '##hit', '##ony', 'hailed', 'filmmakers', 'trance', 'caldwell', 'skye', 'unrest', 'coward', 'likelihood', '##aging', 'bern', 'sci', 'taliban', 'honolulu', 'propose', '##wang', '1700', 'browser', 'imagining', 'cobra', 'contributes', 'dukes', 'instinctively', 'conan', 'violinist', '##ores', 'accessories', 'gradual', '##amp', 'quotes', 'sioux', '##dating', 'undertake', 'intercepted', 'sparkling', 'compressed', '139', 'fungus', 'tombs', 'haley', 'imposing', 'rests', 'degradation', 'lincolnshire', 'retailers', 'wetlands', 'tulsa', 'distributor', 'dungeon', 'nun', 'greenhouse', 'convey', 'atlantis', 'aft', 'exits', 'oman', 'dresser', 'lyons', '##sti', 'joking', 'eddy', 'judgement', 'omitted', 'digits', '##cts', '##game', 'juniors', '##rae', 'cents', 'stricken', 'une', '##ngo', 'wizards', 'weir', 'breton', 'nan', 'technician', 'fibers', 'liking', 'royalty', '##cca', '154', 'persia', 'terribly', 'magician', '##rable', '##unt', 'vance', 'cafeteria', 'booker', 'camille', 'warmer', '##static', 'consume', 'cavern', 'gaps', 'compass', 'contemporaries', 'foyer', 'soothing', 'graveyard', 'maj', 'plunged', 'blush', '##wear', 'cascade', 'demonstrates', 'ordinance', '##nov', 'boyle', '##lana', 'rockefeller', 'shaken', 'banjo', 'izzy', '##ense', 'breathless', 'vines', '##32', '##eman', 'alterations', 'chromosome', 'dwellings', 'feudal', 'mole', '153', 'catalonia', 'relics', 'tenant', 'mandated', '##fm', 'fridge', 'hats', 'honesty', 'patented', 'raul', 'heap', 'cruisers', 'accusing', 'enlightenment', 'infants', 'wherein', 'chatham', 'contractors', 'zen', 'affinity', 'hc', 'osborne', 'piston', '156', 'traps', 'maturity', '##rana', 'lagos', '##zal', 'peering', '##nay', 'attendant', 'dealers', 'protocols', 'subset', 'prospects', 'biographical', '##cre', 'artery', '##zers', 'insignia', 'nuns', 'endured', '##eration', 'recommend', 'schwartz', 'serbs', 'berger', 'cromwell', 'crossroads', '##ctor', 'enduring', 'clasped', 'grounded', '##bine', 'marseille', 'twitched', 'abel', 'choke', 'https', 'catalyst', 'moldova', 'italians', '##tist', 'disastrous', 'wee', '##oured', '##nti', 'wwf', 'nope', '##piration', '##asa', 'expresses', 'thumbs', '167', '##nza', 'coca', '1781', 'cheating', '##ption', 'skipped', 'sensory', 'heidelberg', 'spies', 'satan', 'dangers', 'semifinal', '202', 'bohemia', 'whitish', 'confusing', 'shipbuilding', 'relies', 'surgeons', 'landings', 'ravi', 'baku', 'moor', 'suffix', 'alejandro', '##yana', 'litre', 'upheld', '##unk', 'rajasthan', '##rek', 'coaster', 'insists', 'posture', 'scenarios', 'etienne', 'favoured', 'appoint', 'transgender', 'elephants', 'poked', 'greenwood', 'defences', 'fulfilled', 'militant', 'somali', '1758', 'chalk', 'potent', '##ucci', 'migrants', 'wink', 'assistants', 'nos', 'restriction', 'activism', 'niger', '##ario', 'colon', 'shaun', '##sat', 'daphne', '##erated', 'swam', 'congregations', 'reprise', 'considerations', 'magnet', 'playable', 'xvi', '##р', 'overthrow', 'tobias', 'knob', 'chavez', 'coding', '##mers', 'propped', 'katrina', 'orient', 'newcomer', '##suke', 'temperate', '##pool', 'farmhouse', 'interrogation', '##vd', 'committing', '##vert', 'forthcoming', 'strawberry', 'joaquin', 'macau', 'ponds', 'shocking', 'siberia', '##cellular', 'chant', 'contributors', '##nant', '##ologists', 'sped', 'absorb', 'hail', '1782', 'spared', '##hore', 'barbados', 'karate', 'opus', 'originates', 'saul', '##xie', 'evergreen', 'leaped', '##rock', 'correlation', 'exaggerated', 'weekday', 'unification', 'bump', 'tracing', 'brig', 'afb', 'pathways', 'utilizing', '##ners', 'mod', 'mb', 'disturbance', 'kneeling', '##stad', '##guchi', '100th', 'pune', '##thy', 'decreasing', '168', 'manipulation', 'miriam', 'academia', 'ecosystem', 'occupational', 'rbi', '##lem', 'rift', '##14', 'rotary', 'stacked', 'incorporation', 'awakening', 'generators', 'guerrero', 'racist', '##omy', 'cyber', 'derivatives', 'culminated', 'allie', 'annals', 'panzer', 'sainte', 'wikipedia', 'pops', 'zu', 'austro', '##vate', 'algerian', 'politely', 'nicholson', 'mornings', 'educate', 'tastes', 'thrill', 'dartmouth', '##gating', 'db', '##jee', 'regan', 'differing', 'concentrating', 'choreography', 'divinity', '##media', 'pledged', 'alexandre', 'routing', 'gregor', 'madeline', '##idal', 'apocalypse', '##hora', 'gunfire', 'culminating', 'elves', 'fined', 'liang', 'lam', 'programmed', 'tar', 'guessing', 'transparency', 'gabrielle', '##gna', 'cancellation', 'flexibility', '##lining', 'accession', 'shea', 'stronghold', 'nets', 'specializes', '##rgan', 'abused', 'hasan', 'sgt', 'ling', 'exceeding', '##₄', 'admiration', 'supermarket', '##ark', 'photographers', 'specialised', 'tilt', 'resonance', 'hmm', 'perfume', '380', 'sami', 'threatens', 'garland', 'botany', 'guarding', 'boiled', 'greet', 'puppy', 'russo', 'supplier', 'wilmington', 'vibrant', 'vijay', '##bius', 'paralympic', 'grumbled', 'paige', 'faa', 'licking', 'margins', 'hurricanes', '##gong', 'fest', 'grenade', 'ripping', '##uz', 'counseling', 'weigh', '##sian', 'needles', 'wiltshire', 'edison', 'costly', '##not', 'fulton', 'tramway', 'redesigned', 'staffordshire', 'cache', 'gasping', 'watkins', 'sleepy', 'candidacy', '##group', 'monkeys', 'timeline', 'throbbing', '##bid', '##sos', 'berth', 'uzbekistan', 'vanderbilt', 'bothering', 'overturned', 'ballots', 'gem', '##iger', 'sunglasses', 'subscribers', 'hooker', 'compelling', 'ang', 'exceptionally', 'saloon', 'stab', '##rdi', 'carla', 'terrifying', 'rom', '##vision', 'coil', '##oids', 'satisfying', 'vendors', '31st', 'mackay', 'deities', 'overlooked', 'ambient', 'bahamas', 'felipe', 'olympia', 'whirled', 'botanist', 'advertised', 'tugging', '##dden', 'disciples', 'morales', 'unionist', 'rites', 'foley', 'morse', 'motives', 'creepy', '##₀', 'soo', '##sz', 'bargain', 'highness', 'frightening', 'turnpike', 'tory', 'reorganization', '##cer', 'depict', 'biographer', '##walk', 'unopposed', 'manifesto', '##gles', 'institut', 'emile', 'accidental', 'kapoor', '##dam', 'kilkenny', 'cortex', 'lively', '##13', 'romanesque', 'jain', 'shan', 'cannons', '##ood', '##ske', 'petrol', 'echoing', 'amalgamated', 'disappears', 'cautious', 'proposes', 'sanctions', 'trenton', '##ر', 'flotilla', 'aus', 'contempt', 'tor', 'canary', 'cote', 'theirs', '##hun', 'conceptual', 'deleted', 'fascinating', 'paso', 'blazing', 'elf', 'honourable', 'hutchinson', '##eiro', '##outh', '##zin', 'surveyor', 'tee', 'amidst', 'wooded', 'reissue', 'intro', '##ono', 'cobb', 'shelters', 'newsletter', 'hanson', 'brace', 'encoding', 'confiscated', 'dem', 'caravan', 'marino', 'scroll', 'melodic', 'cows', 'imam', '##adi', '##aneous', 'northward', 'searches', 'biodiversity', 'cora', '310', 'roaring', '##bers', 'connell', 'theologian', 'halo', 'compose', 'pathetic', 'unmarried', 'dynamo', '##oot', 'az', 'calculation', 'toulouse', 'deserves', 'humour', 'nr', 'forgiveness', 'tam', 'undergone', 'martyr', 'pamela', 'myths', 'whore', 'counselor', 'hicks', '290', 'heavens', 'battleship', 'electromagnetic', '##bbs', 'stellar', 'establishments', 'presley', 'hopped', '##chin', 'temptation', '90s', 'wills', 'nas', '##yuan', 'nhs', '##nya', 'seminars', '##yev', 'adaptations', 'gong', 'asher', 'lex', 'indicator', 'sikh', 'tobago', 'cites', 'goin', '##yte', 'satirical', '##gies', 'characterised', 'correspond', 'bubbles', 'lure', 'participates', '##vid', 'eruption', 'skate', 'therapeutic', '1785', 'canals', 'wholesale', 'defaulted', 'sac', '460', 'petit', '##zzled', 'virgil', 'leak', 'ravens', '256', 'portraying', '##yx', 'ghetto', 'creators', 'dams', 'portray', 'vicente', '##rington', 'fae', 'namesake', 'bounty', '##arium', 'joachim', '##ota', '##iser', 'aforementioned', 'axle', 'snout', 'depended', 'dismantled', 'reuben', '480', '##ibly', 'gallagher', '##lau', '##pd', 'earnest', '##ieu', '##iary', 'inflicted', 'objections', '##llar', 'asa', 'gritted', '##athy', 'jericho', '##sea', '##was', 'flick', 'underside', 'ceramics', 'undead', 'substituted', '195', 'eastward', 'undoubtedly', 'wheeled', 'chimney', '##iche', 'guinness', 'cb', '##ager', 'siding', '##bell', 'traitor', 'baptiste', 'disguised', 'inauguration', '149', 'tipperary', 'choreographer', 'perched', 'warmed', 'stationary', 'eco', '##ike', '##ntes', 'bacterial', '##aurus', 'flores', 'phosphate', '##core', 'attacker', 'invaders', 'alvin', 'intersects', 'a1', 'indirectly', 'immigrated', 'businessmen', 'cornelius', 'valves', 'narrated', 'pill', 'sober', 'ul', 'nationale', 'monastic', 'applicants', 'scenery', '##jack', '161', 'motifs', 'constitutes', 'cpu', '##osh', 'jurisdictions', 'sd', 'tuning', 'irritation', 'woven', '##uddin', 'fertility', 'gao', '##erie', 'antagonist', 'impatient', 'glacial', 'hides', 'boarded', 'denominations', 'interception', '##jas', 'cookie', 'nicola', '##tee', 'algebraic', 'marquess', 'bahn', 'parole', 'buyers', 'bait', 'turbines', 'paperwork', 'bestowed', 'natasha', 'renee', 'oceans', 'purchases', '157', 'vaccine', '215', '##tock', 'fixtures', 'playhouse', 'integrate', 'jai', 'oswald', 'intellectuals', '##cky', 'booked', 'nests', 'mortimer', '##isi', 'obsession', 'sept', '##gler', '##sum', '440', 'scrutiny', 'simultaneous', 'squinted', '##shin', 'collects', 'oven', 'shankar', 'penned', 'remarkably', '##я', 'slips', 'luggage', 'spectral', '1786', 'collaborations', 'louie', 'consolidation', '##ailed', '##ivating', '420', 'hoover', 'blackpool', 'harness', 'ignition', 'vest', 'tails', 'belmont', 'mongol', 'skinner', '##nae', 'visually', 'mage', 'derry', '##tism', '##unce', 'stevie', 'transitional', '##rdy', 'redskins', 'drying', 'prep', 'prospective', '##21', 'annoyance', 'oversee', '##loaded', 'fills', '##books', '##iki', 'announces', 'fda', 'scowled', 'respects', 'prasad', 'mystic', 'tucson', '##vale', 'revue', 'springer', 'bankrupt', '1772', 'aristotle', 'salvatore', 'habsburg', '##geny', 'dal', 'natal', 'nut', 'pod', 'chewing', 'darts', 'moroccan', 'walkover', 'rosario', 'lenin', 'punjabi', '##ße', 'grossed', 'scattering', 'wired', 'invasive', 'hui', 'polynomial', 'corridors', 'wakes', 'gina', 'portrays', '##cratic', 'arid', 'retreating', 'erich', 'irwin', 'sniper', '##dha', 'linen', 'lindsey', 'maneuver', 'butch', 'shutting', 'socio', 'bounce', 'commemorative', 'postseason', 'jeremiah', 'pines', '275', 'mystical', 'beads', 'bp', 'abbas', 'furnace', 'bidding', 'consulted', 'assaulted', 'empirical', 'rubble', 'enclosure', 'sob', 'weakly', 'cancel', 'polly', 'yielded', '##emann', 'curly', 'prediction', 'battered', '70s', 'vhs', 'jacqueline', 'render', 'sails', 'barked', 'detailing', 'grayson', 'riga', 'sloane', 'raging', '##yah', 'herbs', 'bravo', '##athlon', 'alloy', 'giggle', 'imminent', 'suffers', 'assumptions', 'waltz', '##itate', 'accomplishments', '##ited', 'bathing', 'remixed', 'deception', 'prefix', '##emia', 'deepest', '##tier', '##eis', 'balkan', 'frogs', '##rong', 'slab', '##pate', 'philosophers', 'peterborough', 'grains', 'imports', 'dickinson', 'rwanda', '##atics', '1774', 'dirk', 'lan', 'tablets', '##rove', 'clone', '##rice', 'caretaker', 'hostilities', 'mclean', '##gre', 'regimental', 'treasures', 'norms', 'impose', 'tsar', 'tango', 'diplomacy', 'variously', 'complain', '192', 'recognise', 'arrests', '1779', 'celestial', 'pulitzer', '##dus', 'bing', 'libretto', '##moor', 'adele', 'splash', '##rite', 'expectation', 'lds', 'confronts', '##izer', 'spontaneous', 'harmful', 'wedge', 'entrepreneurs', 'buyer', '##ope', 'bilingual', 'translate', 'rugged', 'conner', 'circulated', 'uae', 'eaton', '##gra', '##zzle', 'lingered', 'lockheed', 'vishnu', 'reelection', 'alonso', '##oom', 'joints', 'yankee', 'headline', 'cooperate', 'heinz', 'laureate', 'invading', '##sford', 'echoes', 'scandinavian', '##dham', 'hugging', 'vitamin', 'salute', 'micah', 'hind', 'trader', '##sper', 'radioactive', '##ndra', 'militants', 'poisoned', 'ratified', 'remark', 'campeonato', 'deprived', 'wander', 'prop', '##dong', 'outlook', '##tani', '##rix', '##eye', 'chiang', 'darcy', '##oping', 'mandolin', 'spice', 'statesman', 'babylon', '182', 'walled', 'forgetting', 'afro', '##cap', '158', 'giorgio', 'buffer', '##polis', 'planetary', '##gis', 'overlap', 'terminals', 'kinda', 'centenary', '##bir', 'arising', 'manipulate', 'elm', 'ke', '1770', 'ak', '##tad', 'chrysler', 'mapped', 'moose', 'pomeranian', 'quad', 'macarthur', 'assemblies', 'shoreline', 'recalls', 'stratford', '##rted', 'noticeable', '##evic', 'imp', '##rita', '##sque', 'accustomed', 'supplying', 'tents', 'disgusted', 'vogue', 'sipped', 'filters', 'khz', 'reno', 'selecting', 'luftwaffe', 'mcmahon', 'tyne', 'masterpiece', 'carriages', 'collided', 'dunes', 'exercised', 'flare', 'remembers', 'muzzle', '##mobile', 'heck', '##rson', 'burgess', 'lunged', 'middleton', 'boycott', 'bilateral', '##sity', 'hazardous', 'lumpur', 'multiplayer', 'spotlight', 'jackets', 'goldman', 'liege', 'porcelain', 'rag', 'waterford', 'benz', 'attracts', 'hopeful', 'battling', 'ottomans', 'kensington', 'baked', 'hymns', 'cheyenne', 'lattice', 'levine', 'borrow', 'polymer', 'clashes', 'michaels', 'monitored', 'commitments', 'denounced', '##25', '##von', 'cavity', '##oney', 'hobby', 'akin', '##holders', 'futures', 'intricate', 'cornish', 'patty', '##oned', 'illegally', 'dolphin', '##lag', 'barlow', 'yellowish', 'maddie', 'apologized', 'luton', 'plagued', '##puram', 'nana', '##rds', 'sway', 'fanny', 'łodz', '##rino', 'psi', 'suspicions', 'hanged', '##eding', 'initiate', 'charlton', '##por', 'nak', 'competent', '235', 'analytical', 'annex', 'wardrobe', 'reservations', '##rma', 'sect', '162', 'fairfax', 'hedge', 'piled', 'buckingham', 'uneven', 'bauer', 'simplicity', 'snyder', 'interpret', 'accountability', 'donors', 'moderately', 'byrd', 'continents', '##cite', '##max', 'disciple', 'hr', 'jamaican', 'ping', 'nominees', '##uss', 'mongolian', 'diver', 'attackers', 'eagerly', 'ideological', 'pillows', 'miracles', 'apartheid', 'revolver', 'sulfur', 'clinics', 'moran', '163', '##enko', 'ile', 'katy', 'rhetoric', '##icated', 'chronology', 'recycling', '##hrer', 'elongated', 'mughal', 'pascal', 'profiles', 'vibration', 'databases', 'domination', '##fare', '##rant', 'matthias', 'digest', 'rehearsal', 'polling', 'weiss', 'initiation', 'reeves', 'clinging', 'flourished', 'impress', 'ngo', '##hoff', '##ume', 'buckley', 'symposium', 'rhythms', 'weed', 'emphasize', 'transforming', '##taking', '##gence', '##yman', 'accountant', 'analyze', 'flicker', 'foil', 'priesthood', 'voluntarily', 'decreases', '##80', '##hya', 'slater', 'sv', 'charting', 'mcgill', '##lde', 'moreno', '##iu', 'besieged', 'zur', 'robes', '##phic', 'admitting', 'api', 'deported', 'turmoil', 'peyton', 'earthquakes', '##ares', 'nationalists', 'beau', 'clair', 'brethren', 'interrupt', 'welch', 'curated', 'galerie', 'requesting', '164', '##ested', 'impending', 'steward', 'viper', '##vina', 'complaining', 'beautifully', 'brandy', 'foam', 'nl', '1660', '##cake', 'alessandro', 'punches', 'laced', 'explanations', '##lim', 'attribute', 'clit', 'reggie', 'discomfort', '##cards', 'smoothed', 'whales', '##cene', 'adler', 'countered', 'duffy', 'disciplinary', 'widening', 'recipe', 'reliance', 'conducts', 'goats', 'gradient', 'preaching', '##shaw', 'matilda', 'quasi', 'striped', 'meridian', 'cannabis', 'cordoba', 'certificates', '##agh', '##tering', 'graffiti', 'hangs', 'pilgrims', 'repeats', '##ych', 'revive', 'urine', 'etat', '##hawk', 'fueled', 'belts', 'fuzzy', 'susceptible', '##hang', 'mauritius', 'salle', 'sincere', 'beers', 'hooks', '##cki', 'arbitration', 'entrusted', 'advise', 'sniffed', 'seminar', 'junk', 'donnell', 'processors', 'principality', 'strapped', 'celia', 'mendoza', 'everton', 'fortunes', 'prejudice', 'starving', 'reassigned', 'steamer', '##lund', 'tuck', 'evenly', 'foreman', '##ffen', 'dans', '375', 'envisioned', 'slit', '##xy', 'baseman', 'liberia', 'rosemary', '##weed', 'electrified', 'periodically', 'potassium', 'stride', 'contexts', 'sperm', 'slade', 'mariners', 'influx', 'bianca', 'subcommittee', '##rane', 'spilling', 'icao', 'estuary', '##nock', 'delivers', 'iphone', '##ulata', 'isa', 'mira', 'bohemian', 'dessert', '##sbury', 'welcoming', 'proudly', 'slowing', '##chs', 'musee', 'ascension', 'russ', '##vian', 'waits', '##psy', 'africans', 'exploit', '##morphic', 'gov', 'eccentric', 'crab', 'peck', '##ull', 'entrances', 'formidable', 'marketplace', 'groom', 'bolted', 'metabolism', 'patton', 'robbins', 'courier', 'payload', 'endure', '##ifier', 'andes', 'refrigerator', '##pr', 'ornate', '##uca', 'ruthless', 'illegitimate', 'masonry', 'strasbourg', 'bikes', 'adobe', '##³', 'apples', 'quintet', 'willingly', 'niche', 'bakery', 'corpses', 'energetic', '##cliffe', '##sser', '##ards', '177', 'centimeters', 'centro', 'fuscous', 'cretaceous', 'rancho', '##yde', 'andrei', 'telecom', 'tottenham', 'oasis', 'ordination', 'vulnerability', 'presiding', 'corey', 'cp', 'penguins', 'sims', '##pis', 'malawi', 'piss', '##48', 'correction', '##cked', '##ffle', '##ryn', 'countdown', 'detectives', 'psychiatrist', 'psychedelic', 'dinosaurs', 'blouse', '##get', 'choi', 'vowed', '##oz', 'randomly', '##pol', '49ers', 'scrub', 'blanche', 'bruins', 'dusseldorf', '##using', 'unwanted', '##ums', '212', 'dominique', 'elevations', 'headlights', 'om', 'laguna', '##oga', '1750', 'famously', 'ignorance', 'shrewsbury', '##aine', 'ajax', 'breuning', 'che', 'confederacy', 'greco', 'overhaul', '##screen', 'paz', 'skirts', 'disagreement', 'cruelty', 'jagged', 'phoebe', 'shifter', 'hovered', 'viruses', '##wes', 'mandy', '##lined', '##gc', 'landlord', 'squirrel', 'dashed', '##ι', 'ornamental', 'gag', 'wally', 'grange', 'literal', 'spurs', 'undisclosed', 'proceeding', 'yin', '##text', 'billie', 'orphan', 'spanned', 'humidity', 'indy', 'weighted', 'presentations', 'explosions', 'lucian', '##tary', 'vaughn', 'hindus', '##anga', '##hell', 'psycho', '171', 'daytona', 'protects', 'efficiently', 'rematch', 'sly', 'tandem', '##oya', 'rebranded', 'impaired', 'hee', 'metropolis', 'peach', 'godfrey', 'diaspora', 'ethnicity', 'prosperous', 'gleaming', 'dar', 'grossing', 'playback', '##rden', 'stripe', 'pistols', '##tain', 'births', 'labelled', '##cating', '172', 'rudy', 'alba', '##onne', 'aquarium', 'hostility', '##gb', '##tase', 'shudder', 'sumatra', 'hardest', 'lakers', 'consonant', 'creeping', 'demos', 'homicide', 'capsule', 'zeke', 'liberties', 'expulsion', 'pueblo', '##comb', 'trait', 'transporting', '##ddin', '##neck', '##yna', 'depart', 'gregg', 'mold', 'ledge', 'hangar', 'oldham', 'playboy', 'termination', 'analysts', 'gmbh', 'romero', '##itic', 'insist', 'cradle', 'filthy', 'brightness', 'slash', 'shootout', 'deposed', 'bordering', '##truct', 'isis', 'microwave', 'tumbled', 'sheltered', 'cathy', 'werewolves', 'messy', 'andersen', 'convex', 'clapped', 'clinched', 'satire', 'wasting', 'edo', 'vc', 'rufus', '##jak', 'mont', '##etti', 'poznan', '##keeping', 'restructuring', 'transverse', '##rland', 'azerbaijani', 'slovene', 'gestures', 'roommate', 'choking', 'shear', '##quist', 'vanguard', 'oblivious', '##hiro', 'disagreed', 'baptism', '##lich', 'coliseum', '##aceae', 'salvage', 'societe', 'cory', 'locke', 'relocation', 'relying', 'versailles', 'ahl', 'swelling', '##elo', 'cheerful', '##word', '##edes', 'gin', 'sarajevo', 'obstacle', 'diverted', '##nac', 'messed', 'thoroughbred', 'fluttered', 'utrecht', 'chewed', 'acquaintance', 'assassins', 'dispatch', 'mirza', '##wart', 'nike', 'salzburg', 'swell', 'yen', '##gee', 'idle', 'ligue', 'samson', '##nds', '##igh', 'playful', 'spawned', '##cise', 'tease', '##case', 'burgundy', '##bot', 'stirring', 'skeptical', 'interceptions', 'marathi', '##dies', 'bedrooms', 'aroused', 'pinch', '##lik', 'preferences', 'tattoos', 'buster', 'digitally', 'projecting', 'rust', '##ital', 'kitten', 'priorities', 'addison', 'pseudo', '##guard', 'dusk', 'icons', 'sermon', '##psis', '##iba', 'bt', '##lift', '##xt', 'ju', 'truce', 'rink', '##dah', '##wy', 'defects', 'psychiatry', 'offences', 'calculate', 'glucose', '##iful', '##rized', '##unda', 'francaise', '##hari', 'richest', 'warwickshire', 'carly', '1763', 'purity', 'redemption', 'lending', '##cious', 'muse', 'bruises', 'cerebral', 'aero', 'carving', '##name', 'preface', 'terminology', 'invade', 'monty', '##int', 'anarchist', 'blurred', '##iled', 'rossi', 'treats', 'guts', 'shu', 'foothills', 'ballads', 'undertaking', 'premise', 'cecilia', 'affiliates', 'blasted', 'conditional', 'wilder', 'minors', 'drone', 'rudolph', 'buffy', 'swallowing', 'horton', 'attested', '##hop', 'rutherford', 'howell', 'primetime', 'livery', 'penal', '##bis', 'minimize', 'hydro', 'wrecked', 'wrought', 'palazzo', '##gling', 'cans', 'vernacular', 'friedman', 'nobleman', 'shale', 'walnut', 'danielle', '##ection', '##tley', 'sears', '##kumar', 'chords', 'lend', 'flipping', 'streamed', 'por', 'dracula', 'gallons', 'sacrifices', 'gamble', 'orphanage', '##iman', 'mckenzie', '##gible', 'boxers', 'daly', '##balls', '##ان', '208', '##ific', '##rative', '##iq', 'exploited', 'slated', '##uity', 'circling', 'hillary', 'pinched', 'goldberg', 'provost', 'campaigning', 'lim', 'piles', 'ironically', 'jong', 'mohan', 'successors', 'usaf', '##tem', '##ught', 'autobiographical', 'haute', 'preserves', '##ending', 'acquitted', 'comparisons', '203', 'hydroelectric', 'gangs', 'cypriot', 'torpedoes', 'rushes', 'chrome', 'derive', 'bumps', 'instability', 'fiat', 'pets', '##mbe', 'silas', 'dye', 'reckless', 'settler', '##itation', 'info', 'heats', '##writing', '176', 'canonical', 'maltese', 'fins', 'mushroom', 'stacy', 'aspen', 'avid', '##kur', '##loading', 'vickers', 'gaston', 'hillside', 'statutes', 'wilde', 'gail', 'kung', 'sabine', 'comfortably', 'motorcycles', '##rgo', '169', 'pneumonia', 'fetch', '##sonic', 'axel', 'faintly', 'parallels', '##oop', 'mclaren', 'spouse', 'compton', 'interdisciplinary', 'miner', '##eni', '181', 'clamped', '##chal', '##llah', 'separates', 'versa', '##mler', 'scarborough', 'labrador', '##lity', '##osing', 'rutgers', 'hurdles', 'como', '166', 'burt', 'divers', '##100', 'wichita', 'cade', 'coincided', '##erson', 'bruised', 'mla', '##pper', 'vineyard', '##ili', '##brush', 'notch', 'mentioning', 'jase', 'hearted', 'kits', 'doe', '##acle', 'pomerania', '##ady', 'ronan', 'seizure', 'pavel', 'problematic', '##zaki', 'domenico', '##ulin', 'catering', 'penelope', 'dependence', 'parental', 'emilio', 'ministerial', 'atkinson', '##bolic', 'clarkson', 'chargers', 'colby', 'grill', 'peeked', 'arises', 'summon', '##aged', 'fools', '##grapher', 'faculties', 'qaeda', '##vial', 'garner', 'refurbished', '##hwa', 'geelong', 'disasters', 'nudged', 'bs', 'shareholder', 'lori', 'algae', 'reinstated', 'rot', '##ades', '##nous', 'invites', 'stainless', '183', 'inclusive', '##itude', 'diocesan', 'til', '##icz', 'denomination', '##xa', 'benton', 'floral', 'registers', '##ider', '##erman', '##kell', 'absurd', 'brunei', 'guangzhou', 'hitter', 'retaliation', '##uled', '##eve', 'blanc', 'nh', 'consistency', 'contamination', '##eres', '##rner', 'dire', 'palermo', 'broadcasters', 'diaries', 'inspire', 'vols', 'brewer', 'tightening', 'ky', 'mixtape', 'hormone', '##tok', 'stokes', '##color', '##dly', '##ssi', 'pg', '##ometer', '##lington', 'sanitation', '##tility', 'intercontinental', 'apps', '##adt', '¹⁄₂', 'cylinders', 'economies', 'favourable', 'unison', 'croix', 'gertrude', 'odyssey', 'vanity', 'dangling', '##logists', 'upgrades', 'dice', 'middleweight', 'practitioner', '##ight', '206', 'henrik', 'parlor', 'orion', 'angered', 'lac', 'python', 'blurted', '##rri', 'sensual', 'intends', 'swings', 'angled', '##phs', 'husky', 'attain', 'peerage', 'precinct', 'textiles', 'cheltenham', 'shuffled', 'dai', 'confess', 'tasting', 'bhutan', '##riation', 'tyrone', 'segregation', 'abrupt', 'ruiz', '##rish', 'smirked', 'blackwell', 'confidential', 'browning', 'amounted', '##put', 'vase', 'scarce', 'fabulous', 'raided', 'staple', 'guyana', 'unemployed', 'glider', 'shay', '##tow', 'carmine', 'troll', 'intervene', 'squash', 'superstar', '##uce', 'cylindrical', 'len', 'roadway', 'researched', 'handy', '##rium', '##jana', 'meta', 'lao', 'declares', '##rring', '##tadt', '##elin', '##kova', 'willem', 'shrubs', 'napoleonic', 'realms', 'skater', 'qi', 'volkswagen', '##ł', 'tad', 'hara', 'archaeologist', 'awkwardly', 'eerie', '##kind', 'wiley', '##heimer', '##24', 'titus', 'organizers', 'cfl', 'crusaders', 'lama', 'usb', 'vent', 'enraged', 'thankful', 'occupants', 'maximilian', '##gaard', 'possessing', 'textbooks', '##oran', 'collaborator', 'quaker', '##ulo', 'avalanche', 'mono', 'silky', 'straits', 'isaiah', 'mustang', 'surged', 'resolutions', 'potomac', 'descend', 'cl', 'kilograms', 'plato', 'strains', 'saturdays', '##olin', 'bernstein', '##ype', 'holstein', 'ponytail', '##watch', 'belize', 'conversely', 'heroine', 'perpetual', '##ylus', 'charcoal', 'piedmont', 'glee', 'negotiating', 'backdrop', 'prologue', '##jah', '##mmy', 'pasadena', 'climbs', 'ramos', 'sunni', '##holm', '##tner', '##tri', 'anand', 'deficiency', 'hertfordshire', 'stout', '##avi', 'aperture', 'orioles', '##irs', 'doncaster', 'intrigued', 'bombed', 'coating', 'otis', '##mat', 'cocktail', '##jit', '##eto', 'amir', 'arousal', 'sar', '##proof', '##act', '##ories', 'dixie', 'pots', '##bow', 'whereabouts', '159', '##fted', 'drains', 'bullying', 'cottages', 'scripture', 'coherent', 'fore', 'poe', 'appetite', '##uration', 'sampled', '##ators', '##dp', 'derrick', 'rotor', 'jays', 'peacock', 'installment', '##rro', 'advisors', '##coming', 'rodeo', 'scotch', '##mot', '##db', '##fen', '##vant', 'ensued', 'rodrigo', 'dictatorship', 'martyrs', 'twenties', '##н', 'towed', 'incidence', 'marta', 'rainforest', 'sai', 'scaled', '##cles', 'oceanic', 'qualifiers', 'symphonic', 'mcbride', 'dislike', 'generalized', 'aubrey', 'colonization', '##iation', '##lion', '##ssing', 'disliked', 'lublin', 'salesman', '##ulates', 'spherical', 'whatsoever', 'sweating', 'avalon', 'contention', 'punt', 'severity', 'alderman', 'atari', '##dina', '##grant', '##rop', 'scarf', 'seville', 'vertices', 'annexation', 'fairfield', 'fascination', 'inspiring', 'launches', 'palatinate', 'regretted', '##rca', 'feral', '##iom', 'elk', 'nap', 'olsen', 'reddy', 'yong', '##leader', '##iae', 'garment', 'transports', 'feng', 'gracie', 'outrage', 'viceroy', 'insides', '##esis', 'breakup', 'grady', 'organizer', 'softer', 'grimaced', '222', 'murals', 'galicia', 'arranging', 'vectors', '##rsten', 'bas', '##sb', '##cens', 'sloan', '##eka', 'bitten', 'ara', 'fender', 'nausea', 'bumped', 'kris', 'banquet', 'comrades', 'detector', 'persisted', '##llan', 'adjustment', 'endowed', 'cinemas', '##shot', 'sellers', '##uman', 'peek', 'epa', 'kindly', 'neglect', 'simpsons', 'talon', 'mausoleum', 'runaway', 'hangul', 'lookout', '##cic', 'rewards', 'coughed', 'acquainted', 'chloride', '##ald', 'quicker', 'accordion', 'neolithic', '##qa', 'artemis', 'coefficient', 'lenny', 'pandora', 'tx', '##xed', 'ecstasy', 'litter', 'segunda', 'chairperson', 'gemma', 'hiss', 'rumor', 'vow', 'nasal', 'antioch', 'compensate', 'patiently', 'transformers', '##eded', 'judo', 'morrow', 'penis', 'posthumous', 'philips', 'bandits', 'husbands', 'denote', 'flaming', '##any', '##phones', 'langley', 'yorker', '1760', 'walters', '##uo', '##kle', 'gubernatorial', 'fatty', 'samsung', 'leroy', 'outlaw', '##nine', 'unpublished', 'poole', 'jakob', '##ᵢ', '##ₙ', 'crete', 'distorted', 'superiority', '##dhi', 'intercept', 'crust', 'mig', 'claus', 'crashes', 'positioning', '188', 'stallion', '301', 'frontal', 'armistice', '##estinal', 'elton', 'aj', 'encompassing', 'camel', 'commemorated', 'malaria', 'woodward', 'calf', 'cigar', 'penetrate', '##oso', 'willard', '##rno', '##uche', 'illustrate', 'amusing', 'convergence', 'noteworthy', '##lma', '##rva', 'journeys', 'realise', 'manfred', '##sable', '410', '##vocation', 'hearings', 'fiance', '##posed', 'educators', 'provoked', 'adjusting', '##cturing', 'modular', 'stockton', 'paterson', 'vlad', 'rejects', 'electors', 'selena', 'maureen', '##tres', 'uber', '##rce', 'swirled', '##num', 'proportions', 'nanny', 'pawn', 'naturalist', 'parma', 'apostles', 'awoke', 'ethel', 'wen', '##bey', 'monsoon', 'overview', '##inating', 'mccain', 'rendition', 'risky', 'adorned', '##ih', 'equestrian', 'germain', 'nj', 'conspicuous', 'confirming', '##yoshi', 'shivering', '##imeter', 'milestone', 'rumours', 'flinched', 'bounds', 'smacked', 'token', '##bei', 'lectured', 'automobiles', '##shore', 'impacted', '##iable', 'nouns', 'nero', '##leaf', 'ismail', 'prostitute', 'trams', '##lace', 'bridget', 'sud', 'stimulus', 'impressions', 'reins', 'revolves', '##oud', '##gned', 'giro', 'honeymoon', '##swell', 'criterion', '##sms', '##uil', 'libyan', 'prefers', '##osition', '211', 'preview', 'sucks', 'accusation', 'bursts', 'metaphor', 'diffusion', 'tolerate', 'faye', 'betting', 'cinematographer', 'liturgical', 'specials', 'bitterly', 'humboldt', '##ckle', 'flux', 'rattled', '##itzer', 'archaeologists', 'odor', 'authorised', 'marshes', 'discretion', '##ов', 'alarmed', 'archaic', 'inverse', '##leton', 'explorers', '##pine', 'drummond', 'tsunami', 'woodlands', '##minate', '##tland', 'booklet', 'insanity', 'owning', 'insert', 'crafted', 'calculus', '##tore', 'receivers', '##bt', 'stung', '##eca', '##nched', 'prevailing', 'travellers', 'eyeing', 'lila', 'graphs', '##borne', '178', 'julien', '##won', 'morale', 'adaptive', 'therapist', 'erica', 'cw', 'libertarian', 'bowman', 'pitches', 'vita', '##ional', 'crook', '##ads', '##entation', 'caledonia', 'mutiny', '##sible', '1840s', 'automation', '##ß', 'flock', '##pia', 'ironic', 'pathology', '##imus', 'remarried', '##22', 'joker', 'withstand', 'energies', '##att', 'shropshire', 'hostages', 'madeleine', 'tentatively', 'conflicting', 'mateo', 'recipes', 'euros', 'ol', 'mercenaries', 'nico', '##ndon', 'albuquerque', 'augmented', 'mythical', 'bel', 'freud', '##child', 'cough', '##lica', '365', 'freddy', 'lillian', 'genetically', 'nuremberg', 'calder', '209', 'bonn', 'outdoors', 'paste', 'suns', 'urgency', 'vin', 'restraint', 'tyson', '##cera', '##selle', 'barrage', 'bethlehem', 'kahn', '##par', 'mounts', 'nippon', 'barony', 'happier', 'ryu', 'makeshift', 'sheldon', 'blushed', 'castillo', 'barking', 'listener', 'taped', 'bethel', 'fluent', 'headlines', 'pornography', 'rum', 'disclosure', 'sighing', 'mace', 'doubling', 'gunther', 'manly', '##plex', 'rt', 'interventions', 'physiological', 'forwards', 'emerges', '##tooth', '##gny', 'compliment', 'rib', 'recession', 'visibly', 'barge', 'faults', 'connector', 'exquisite', 'prefect', '##rlin', 'patio', '##cured', 'elevators', 'brandt', 'italics', 'pena', '173', 'wasp', 'satin', 'ea', 'botswana', 'graceful', 'respectable', '##jima', '##rter', '##oic', 'franciscan', 'generates', '##dl', 'alfredo', 'disgusting', '##olate', '##iously', 'sherwood', 'warns', 'cod', 'promo', 'cheryl', 'sino', '##ة', '##escu', 'twitch', '##zhi', 'brownish', 'thom', 'ortiz', '##dron', 'densely', '##beat', 'carmel', 'reinforce', '##bana', '187', 'anastasia', 'downhill', 'vertex', 'contaminated', 'remembrance', 'harmonic', 'homework', '##sol', 'fiancee', 'gears', 'olds', 'angelica', 'loft', 'ramsay', 'quiz', 'colliery', 'sevens', '##cape', 'autism', '##hil', 'walkway', '##boats', 'ruben', 'abnormal', 'ounce', 'khmer', '##bbe', 'zachary', 'bedside', 'morphology', 'punching', '##olar', 'sparrow', 'convinces', '##35', 'hewitt', 'queer', 'remastered', 'rods', 'mabel', 'solemn', 'notified', 'lyricist', 'symmetric', '##xide', '174', 'encore', 'passports', 'wildcats', '##uni', 'baja', '##pac', 'mildly', '##ease', 'bleed', 'commodity', 'mounds', 'glossy', 'orchestras', '##omo', 'damian', 'prelude', 'ambitions', '##vet', 'awhile', 'remotely', '##aud', 'asserts', 'imply', '##iques', 'distinctly', 'modelling', 'remedy', '##dded', 'windshield', 'dani', 'xiao', '##endra', 'audible', 'powerplant', '1300', 'invalid', 'elemental', 'acquisitions', '##hala', 'immaculate', 'libby', 'plata', 'smuggling', 'ventilation', 'denoted', 'minh', '##morphism', '430', 'differed', 'dion', 'kelley', 'lore', 'mocking', 'sabbath', 'spikes', 'hygiene', 'drown', 'runoff', 'stylized', 'tally', 'liberated', 'aux', 'interpreter', 'righteous', 'aba', 'siren', 'reaper', 'pearce', 'millie', '##cier', '##yra', 'gaius', '##iso', 'captures', '##ttering', 'dorm', 'claudio', '##sic', 'benches', 'knighted', 'blackness', '##ored', 'discount', 'fumble', 'oxidation', 'routed', '##ς', 'novak', 'perpendicular', 'spoiled', 'fracture', 'splits', '##urt', 'pads', 'topology', '##cats', 'axes', 'fortunate', 'offenders', 'protestants', 'esteem', '221', 'broadband', 'convened', 'frankly', 'hound', 'prototypes', 'isil', 'facilitated', 'keel', '##sher', 'sahara', 'awaited', 'bubba', 'orb', 'prosecutors', '186', 'hem', '520', '##xing', 'relaxing', 'remnant', 'romney', 'sorted', 'slalom', 'stefano', 'ulrich', '##active', 'exemption', 'folder', 'pauses', 'foliage', 'hitchcock', 'epithet', '204', 'criticisms', '##aca', 'ballistic', 'brody', 'hinduism', 'chaotic', 'youths', 'equals', '##pala', 'pts', 'thicker', 'analogous', 'capitalist', 'improvised', 'overseeing', 'sinatra', 'ascended', 'beverage', '##tl', 'straightforward', '##kon', 'curran', '##west', 'bois', '325', 'induce', 'surveying', 'emperors', 'sax', 'unpopular', '##kk', 'cartoonist', 'fused', '##mble', 'unto', '##yuki', 'localities', '##cko', '##ln', 'darlington', 'slain', 'academie', 'lobbying', 'sediment', 'puzzles', '##grass', 'defiance', 'dickens', 'manifest', 'tongues', 'alumnus', 'arbor', 'coincide', '184', 'appalachian', 'mustafa', 'examiner', 'cabaret', 'traumatic', 'yves', 'bracelet', 'draining', 'heroin', 'magnum', 'baths', 'odessa', 'consonants', 'mitsubishi', '##gua', 'kellan', 'vaudeville', '##fr', 'joked', 'null', 'straps', 'probation', '##ław', 'ceded', 'interfaces', '##pas', '##zawa', 'blinding', 'viet', '224', 'rothschild', 'museo', '640', 'huddersfield', '##vr', 'tactic', '##storm', 'brackets', 'dazed', 'incorrectly', '##vu', 'reg', 'glazed', 'fearful', 'manifold', 'benefited', 'irony', '##sun', 'stumbling', '##rte', 'willingness', 'balkans', 'mei', 'wraps', '##aba', 'injected', '##lea', 'gu', 'syed', 'harmless', '##hammer', 'bray', 'takeoff', 'poppy', 'timor', 'cardboard', 'astronaut', 'purdue', 'weeping', 'southbound', 'cursing', 'stalls', 'diagonal', '##neer', 'lamar', 'bryce', 'comte', 'weekdays', 'harrington', '##uba', 'negatively', '##see', 'lays', 'grouping', '##cken', '##henko', 'affirmed', 'halle', 'modernist', '##lai', 'hodges', 'smelling', 'aristocratic', 'baptized', 'dismiss', 'justification', 'oilers', '##now', 'coupling', 'qin', 'snack', 'healer', '##qing', 'gardener', 'layla', 'battled', 'formulated', 'stephenson', 'gravitational', '##gill', '##jun', '1768', 'granny', 'coordinating', 'suites', '##cd', '##ioned', 'monarchs', '##cote', '##hips', 'sep', 'blended', 'apr', 'barrister', 'deposition', 'fia', 'mina', 'policemen', 'paranoid', '##pressed', 'churchyard', 'covert', 'crumpled', 'creep', 'abandoning', 'tr', 'transmit', 'conceal', 'barr', 'understands', 'readiness', 'spire', '##cology', '##enia', '##erry', '610', 'startling', 'unlock', 'vida', 'bowled', 'slots', '##nat', '##islav', 'spaced', 'trusting', 'admire', 'rig', '##ink', 'slack', '##70', 'mv', '207', 'casualty', '##wei', 'classmates', '##odes', '##rar', '##rked', 'amherst', 'furnished', 'evolve', 'foundry', 'menace', 'mead', '##lein', 'flu', 'wesleyan', '##kled', 'monterey', 'webber', '##vos', 'wil', '##mith', '##на', 'bartholomew', 'justices', 'restrained', '##cke', 'amenities', '191', 'mediated', 'sewage', 'trenches', 'ml', 'mainz', '##thus', '1800s', '##cula', '##inski', 'caine', 'bonding', '213', 'converts', 'spheres', 'superseded', 'marianne', 'crypt', 'sweaty', 'ensign', 'historia', '##br', 'spruce', '##post', '##ask', 'forks', 'thoughtfully', 'yukon', 'pamphlet', 'ames', '##uter', 'karma', '##yya', 'bryn', 'negotiation', 'sighs', 'incapable', '##mbre', '##ntial', 'actresses', 'taft', '##mill', 'luce', 'prevailed', '##amine', '1773', 'motionless', 'envoy', 'testify', 'investing', 'sculpted', 'instructors', 'provence', 'kali', 'cullen', 'horseback', '##while', 'goodwin', '##jos', 'gaa', 'norte', '##ldon', 'modify', 'wavelength', 'abd', '214', 'skinned', 'sprinter', 'forecast', 'scheduling', 'marries', 'squared', 'tentative', '##chman', 'boer', '##isch', 'bolts', 'swap', 'fisherman', 'assyrian', 'impatiently', 'guthrie', 'martins', 'murdoch', '194', 'tanya', 'nicely', 'dolly', 'lacy', 'med', '##45', 'syn', 'decks', 'fashionable', 'millionaire', '##ust', 'surfing', '##ml', '##ision', 'heaved', 'tammy', 'consulate', 'attendees', 'routinely', '197', 'fuse', 'saxophonist', 'backseat', 'malaya', '##lord', 'scowl', 'tau', '##ishly', '193', 'sighted', 'steaming', '##rks', '303', '911', '##holes', '##hong', 'ching', '##wife', 'bless', 'conserved', 'jurassic', 'stacey', 'unix', 'zion', 'chunk', 'rigorous', 'blaine', '198', 'peabody', 'slayer', 'dismay', 'brewers', 'nz', '##jer', 'det', '##glia', 'glover', 'postwar', 'int', 'penetration', 'sylvester', 'imitation', 'vertically', 'airlift', 'heiress', 'knoxville', 'viva', '##uin', '390', 'macon', '##rim', '##fighter', '##gonal', 'janice', '##orescence', '##wari', 'marius', 'belongings', 'leicestershire', '196', 'blanco', 'inverted', 'preseason', 'sanity', 'sobbing', '##due', '##elt', '##dled', 'collingwood', 'regeneration', 'flickering', 'shortest', '##mount', '##osi', 'feminism', '##lat', 'sherlock', 'cabinets', 'fumbled', 'northbound', 'precedent', 'snaps', '##mme', 'researching', '##akes', 'guillaume', 'insights', 'manipulated', 'vapor', 'neighbour', 'sap', 'gangster', 'frey', 'f1', 'stalking', 'scarcely', 'callie', 'barnett', 'tendencies', 'audi', 'doomed', 'assessing', 'slung', 'panchayat', 'ambiguous', 'bartlett', '##etto', 'distributing', 'violating', 'wolverhampton', '##hetic', 'swami', 'histoire', '##urus', 'liable', 'pounder', 'groin', 'hussain', 'larsen', 'popping', 'surprises', '##atter', 'vie', 'curt', '##station', 'mute', 'relocate', 'musicals', 'authorization', 'richter', '##sef', 'immortality', 'tna', 'bombings', '##press', 'deteriorated', 'yiddish', '##acious', 'robbed', 'colchester', 'cs', 'pmid', 'ao', 'verified', 'balancing', 'apostle', 'swayed', 'recognizable', 'oxfordshire', 'retention', 'nottinghamshire', 'contender', 'judd', 'invitational', 'shrimp', 'uhf', '##icient', 'cleaner', 'longitudinal', 'tanker', '##mur', 'acronym', 'broker', 'koppen', 'sundance', 'suppliers', '##gil', '4000', 'clipped', 'fuels', 'petite', '##anne', 'landslide', 'helene', 'diversion', 'populous', 'landowners', 'auspices', 'melville', 'quantitative', '##xes', 'ferries', 'nicky', '##llus', 'doo', 'haunting', 'roche', 'carver', 'downed', 'unavailable', '##pathy', 'approximation', 'hiroshima', '##hue', 'garfield', 'valle', 'comparatively', 'keyboardist', 'traveler', '##eit', 'congestion', 'calculating', 'subsidiaries', '##bate', 'serb', 'modernization', 'fairies', 'deepened', 'ville', 'averages', '##lore', 'inflammatory', 'tonga', '##itch', 'co₂', 'squads', '##hea', 'gigantic', 'serum', 'enjoyment', 'retailer', 'verona', '35th', 'cis', '##phobic', 'magna', 'technicians', '##vati', 'arithmetic', '##sport', 'levin', '##dation', 'amtrak', 'chow', 'sienna', '##eyer', 'backstage', 'entrepreneurship', '##otic', 'learnt', 'tao', '##udy', 'worcestershire', 'formulation', 'baggage', 'hesitant', 'bali', 'sabotage', '##kari', 'barren', 'enhancing', 'murmur', 'pl', 'freshly', 'putnam', 'syntax', 'aces', 'medicines', 'resentment', 'bandwidth', '##sier', 'grins', 'chili', 'guido', '##sei', 'framing', 'implying', 'gareth', 'lissa', 'genevieve', 'pertaining', 'admissions', 'geo', 'thorpe', 'proliferation', 'sato', 'bela', 'analyzing', 'parting', '##gor', 'awakened', '##isman', 'huddled', 'secrecy', '##kling', 'hush', 'gentry', '540', 'dungeons', '##ego', 'coasts', '##utz', 'sacrificed', '##chule', 'landowner', 'mutually', 'prevalence', 'programmer', 'adolescent', 'disrupted', 'seaside', 'gee', 'trusts', 'vamp', 'georgie', '##nesian', '##iol', 'schedules', 'sindh', '##market', 'etched', 'hm', 'sparse', 'bey', 'beaux', 'scratching', 'gliding', 'unidentified', '216', 'collaborating', 'gems', 'jesuits', 'oro', 'accumulation', 'shaping', 'mbe', 'anal', '##xin', '231', 'enthusiasts', 'newscast', '##egan', 'janata', 'dewey', 'parkinson', '179', 'ankara', 'biennial', 'towering', 'dd', 'inconsistent', '950', '##chet', 'thriving', 'terminate', 'cabins', 'furiously', 'eats', 'advocating', 'donkey', 'marley', 'muster', 'phyllis', 'leiden', '##user', 'grassland', 'glittering', 'iucn', 'loneliness', '217', 'memorandum', 'armenians', '##ddle', 'popularized', 'rhodesia', '60s', 'lame', '##illon', 'sans', 'bikini', 'header', 'orbits', '##xx', '##finger', '##ulator', 'sharif', 'spines', 'biotechnology', 'strolled', 'naughty', 'yates', '##wire', 'fremantle', 'milo', '##mour', 'abducted', 'removes', '##atin', 'humming', 'wonderland', '##chrome', '##ester', 'hume', 'pivotal', '##rates', 'armand', 'grams', 'believers', 'elector', 'rte', 'apron', 'bis', 'scraped', '##yria', 'endorsement', 'initials', '##llation', 'eps', 'dotted', 'hints', 'buzzing', 'emigration', 'nearer', '##tom', 'indicators', '##ulu', 'coarse', 'neutron', 'protectorate', '##uze', 'directional', 'exploits', 'pains', 'loire', '1830s', 'proponents', 'guggenheim', 'rabbits', 'ritchie', '305', 'hectare', 'inputs', 'hutton', '##raz', 'verify', '##ako', 'boilers', 'longitude', '##lev', 'skeletal', 'yer', 'emilia', 'citrus', 'compromised', '##gau', 'pokemon', 'prescription', 'paragraph', 'eduard', 'cadillac', 'attire', 'categorized', 'kenyan', 'weddings', 'charley', '##bourg', 'entertain', 'monmouth', '##lles', 'nutrients', 'davey', 'mesh', 'incentive', 'practised', 'ecosystems', 'kemp', 'subdued', 'overheard', '##rya', 'bodily', 'maxim', '##nius', 'apprenticeship', 'ursula', '##fight', 'lodged', 'rug', 'silesian', 'unconstitutional', 'patel', 'inspected', 'coyote', 'unbeaten', '##hak', '34th', 'disruption', 'convict', 'parcel', '##cl', '##nham', 'collier', 'implicated', 'mallory', '##iac', '##lab', 'susannah', 'winkler', '##rber', 'shia', 'phelps', 'sediments', 'graphical', 'robotic', '##sner', 'adulthood', 'mart', 'smoked', '##isto', 'kathryn', 'clarified', '##aran', 'divides', 'convictions', 'oppression', 'pausing', 'burying', '##mt', 'federico', 'mathias', 'eileen', '##tana', 'kite', 'hunched', '##acies', '189', '##atz', 'disadvantage', 'liza', 'kinetic', 'greedy', 'paradox', 'yokohama', 'dowager', 'trunks', 'ventured', '##gement', 'gupta', 'vilnius', 'olaf', '##thest', 'crimean', 'hopper', '##ej', 'progressively', 'arturo', 'mouthed', 'arrondissement', '##fusion', 'rubin', 'simulcast', 'oceania', '##orum', '##stra', '##rred', 'busiest', 'intensely', 'navigator', 'cary', '##vine', '##hini', '##bies', 'fife', 'rowe', 'rowland', 'posing', 'insurgents', 'shafts', 'lawsuits', 'activate', 'conor', 'inward', 'culturally', 'garlic', '265', '##eering', 'eclectic', '##hui', '##kee', '##nl', 'furrowed', 'vargas', 'meteorological', 'rendezvous', '##aus', 'culinary', 'commencement', '##dition', 'quota', '##notes', 'mommy', 'salaries', 'overlapping', 'mule', '##iology', '##mology', 'sums', 'wentworth', '##isk', '##zione', 'mainline', 'subgroup', '##illy', 'hack', 'plaintiff', 'verdi', 'bulb', 'differentiation', 'engagements', 'multinational', 'supplemented', 'bertrand', 'caller', 'regis', '##naire', '##sler', '##arts', '##imated', 'blossom', 'propagation', 'kilometer', 'viaduct', 'vineyards', '##uate', 'beckett', 'optimization', 'golfer', 'songwriters', 'seminal', 'semitic', 'thud', 'volatile', 'evolving', 'ridley', '##wley', 'trivial', 'distributions', 'scandinavia', 'jiang', '##ject', 'wrestled', 'insistence', '##dio', 'emphasizes', 'napkin', '##ods', 'adjunct', 'rhyme', '##ricted', '##eti', 'hopeless', 'surrounds', 'tremble', '32nd', 'smoky', '##ntly', 'oils', 'medicinal', 'padded', 'steer', 'wilkes', '219', '255', 'concessions', 'hue', 'uniquely', 'blinded', 'landon', 'yahoo', '##lane', 'hendrix', 'commemorating', 'dex', 'specify', 'chicks', '##ggio', 'intercity', '1400', 'morley', '##torm', 'highlighting', '##oting', 'pang', 'oblique', 'stalled', '##liner', 'flirting', 'newborn', '1769', 'bishopric', 'shaved', '232', 'currie', '##ush', 'dharma', 'spartan', '##ooped', 'favorites', 'smug', 'novella', 'sirens', 'abusive', 'creations', 'espana', '##lage', 'paradigm', 'semiconductor', 'sheen', '##rdo', '##yen', '##zak', 'nrl', 'renew', '##pose', '##tur', 'adjutant', 'marches', 'norma', '##enity', 'ineffective', 'weimar', 'grunt', '##gat', 'lordship', 'plotting', 'expenditure', 'infringement', 'lbs', 'refrain', 'av', 'mimi', 'mistakenly', 'postmaster', '1771', '##bara', 'ras', 'motorsports', 'tito', '199', 'subjective', '##zza', 'bully', 'stew', '##kaya', 'prescott', '1a', '##raphic', '##zam', 'bids', 'styling', 'paranormal', 'reeve', 'sneaking', 'exploding', 'katz', 'akbar', 'migrant', 'syllables', 'indefinitely', '##ogical', 'destroys', 'replaces', 'applause', '##phine', 'pest', '##fide', '218', 'articulated', 'bertie', '##thing', '##cars', '##ptic', 'courtroom', 'crowley', 'aesthetics', 'cummings', 'tehsil', 'hormones', 'titanic', 'dangerously', '##ibe', 'stadion', 'jaenelle', 'auguste', 'ciudad', '##chu', 'mysore', 'partisans', '##sio', 'lucan', 'philipp', '##aly', 'debating', 'henley', 'interiors', '##rano', '##tious', 'homecoming', 'beyonce', 'usher', 'henrietta', 'prepares', 'weeds', '##oman', 'ely', 'plucked', '##pire', '##dable', 'luxurious', '##aq', 'artifact', 'password', 'pasture', 'juno', 'maddy', 'minsk', '##dder', '##ologies', '##rone', 'assessments', 'martian', 'royalist', '1765', 'examines', '##mani', '##rge', 'nino', '223', 'parry', 'scooped', 'relativity', '##eli', '##uting', '##cao', 'congregational', 'noisy', 'traverse', '##agawa', 'strikeouts', 'nickelodeon', 'obituary', 'transylvania', 'binds', 'depictions', 'polk', 'trolley', '##yed', '##lard', 'breeders', '##under', 'dryly', 'hokkaido', '1762', 'strengths', 'stacks', 'bonaparte', 'connectivity', 'neared', 'prostitutes', 'stamped', 'anaheim', 'gutierrez', 'sinai', '##zzling', 'bram', 'fresno', 'madhya', '##86', 'proton', '##lena', '##llum', '##phon', 'reelected', 'wanda', '##anus', '##lb', 'ample', 'distinguishing', '##yler', 'grasping', 'sermons', 'tomato', 'bland', 'stimulation', 'avenues', '##eux', 'spreads', 'scarlett', 'fern', 'pentagon', 'assert', 'baird', 'chesapeake', 'ir', 'calmed', 'distortion', 'fatalities', '##olis', 'correctional', 'pricing', '##astic', '##gina', 'prom', 'dammit', 'ying', 'collaborate', '##chia', 'welterweight', '33rd', 'pointer', 'substitution', 'bonded', 'umpire', 'communicating', 'multitude', 'paddle', '##obe', 'federally', 'intimacy', '##insky', 'betray', 'ssr', '##lett', '##lean', '##lves', '##therapy', 'airbus', '##tery', 'functioned', 'ud', 'bearer', 'biomedical', 'netflix', '##hire', '##nca', 'condom', 'brink', 'ik', '##nical', 'macy', '##bet', 'flap', 'gma', 'experimented', 'jelly', 'lavender', '##icles', '##ulia', 'munro', '##mian', '##tial', 'rye', '##rle', '60th', 'gigs', 'hottest', 'rotated', 'predictions', 'fuji', 'bu', '##erence', '##omi', 'barangay', '##fulness', '##sas', 'clocks', '##rwood', '##liness', 'cereal', 'roe', 'wight', 'decker', 'uttered', 'babu', 'onion', 'xml', 'forcibly', '##df', 'petra', 'sarcasm', 'hartley', 'peeled', 'storytelling', '##42', '##xley', '##ysis', '##ffa', 'fibre', 'kiel', 'auditor', 'fig', 'harald', 'greenville', '##berries', 'geographically', 'nell', 'quartz', '##athic', 'cemeteries', '##lr', 'crossings', 'nah', 'holloway', 'reptiles', 'chun', 'sichuan', 'snowy', '660', 'corrections', '##ivo', 'zheng', 'ambassadors', 'blacksmith', 'fielded', 'fluids', 'hardcover', 'turnover', 'medications', 'melvin', 'academies', '##erton', 'ro', 'roach', 'absorbing', 'spaniards', 'colton', '##founded', 'outsider', 'espionage', 'kelsey', '245', 'edible', '##ulf', 'dora', 'establishes', '##sham', '##tries', 'contracting', '##tania', 'cinematic', 'costello', 'nesting', '##uron', 'connolly', 'duff', '##nology', 'mma', '##mata', 'fergus', 'sexes', 'gi', 'optics', 'spectator', 'woodstock', 'banning', '##hee', '##fle', 'differentiate', 'outfielder', 'refinery', '226', '312', 'gerhard', 'horde', 'lair', 'drastically', '##udi', 'landfall', '##cheng', 'motorsport', 'odi', '##achi', 'predominant', 'quay', 'skins', '##ental', 'edna', 'harshly', 'complementary', 'murdering', '##aves', 'wreckage', '##90', 'ono', 'outstretched', 'lennox', 'munitions', 'galen', 'reconcile', '470', 'scalp', 'bicycles', 'gillespie', 'questionable', 'rosenberg', 'guillermo', 'hostel', 'jarvis', 'kabul', 'volvo', 'opium', 'yd', '##twined', 'abuses', 'decca', 'outpost', '##cino', 'sensible', 'neutrality', '##64', 'ponce', 'anchorage', 'atkins', 'turrets', 'inadvertently', 'disagree', 'libre', 'vodka', 'reassuring', 'weighs', '##yal', 'glide', 'jumper', 'ceilings', 'repertory', 'outs', 'stain', '##bial', 'envy', '##ucible', 'smashing', 'heightened', 'policing', 'hyun', 'mixes', 'lai', 'prima', '##ples', 'celeste', '##bina', 'lucrative', 'intervened', 'kc', 'manually', '##rned', 'stature', 'staffed', 'bun', 'bastards', 'nairobi', 'priced', '##auer', 'thatcher', '##kia', 'tripped', 'comune', '##ogan', '##pled', 'brasil', 'incentives', 'emanuel', 'hereford', 'musica', '##kim', 'benedictine', 'biennale', '##lani', 'eureka', 'gardiner', 'rb', 'knocks', 'sha', '##ael', '##elled', '##onate', 'efficacy', 'ventura', 'masonic', 'sanford', 'maize', 'leverage', '##feit', 'capacities', 'santana', '##aur', 'novelty', 'vanilla', '##cter', '##tour', 'benin', '##oir', '##rain', 'neptune', 'drafting', 'tallinn', '##cable', 'humiliation', '##boarding', 'schleswig', 'fabian', 'bernardo', 'liturgy', 'spectacle', 'sweeney', 'pont', 'routledge', '##tment', 'cosmos', 'ut', 'hilt', 'sleek', 'universally', '##eville', '##gawa', 'typed', '##dry', 'favors', 'allegheny', 'glaciers', '##rly', 'recalling', 'aziz', '##log', 'parasite', 'requiem', 'auf', '##berto', '##llin', 'illumination', '##breaker', '##issa', 'festivities', 'bows', 'govern', 'vibe', 'vp', '333', 'sprawled', 'larson', 'pilgrim', 'bwf', 'leaping', '##rts', '##ssel', 'alexei', 'greyhound', 'hoarse', '##dler', '##oration', 'seneca', '##cule', 'gaping', '##ulously', '##pura', 'cinnamon', '##gens', '##rricular', 'craven', 'fantasies', 'houghton', 'engined', 'reigned', 'dictator', 'supervising', '##oris', 'bogota', 'commentaries', 'unnatural', 'fingernails', 'spirituality', 'tighten', '##tm', 'canadiens', 'protesting', 'intentional', 'cheers', 'sparta', '##ytic', '##iere', '##zine', 'widen', 'belgarath', 'controllers', 'dodd', 'iaaf', 'navarre', '##ication', 'defect', 'squire', 'steiner', 'whisky', '##mins', '560', 'inevitably', 'tome', '##gold', 'chew', '##uid', '##lid', 'elastic', '##aby', 'streaked', 'alliances', 'jailed', 'regal', '##ined', '##phy', 'czechoslovak', 'narration', 'absently', '##uld', 'bluegrass', 'guangdong', 'quran', 'criticizing', 'hose', 'hari', '##liest', '##owa', 'skier', 'streaks', 'deploy', '##lom', 'raft', 'bose', 'dialed', 'huff', '##eira', 'haifa', 'simplest', 'bursting', 'endings', 'ib', 'sultanate', '##titled', 'franks', 'whitman', 'ensures', 'sven', '##ggs', 'collaborators', 'forster', 'organising', 'ui', 'banished', 'napier', 'injustice', 'teller', 'layered', 'thump', '##otti', 'roc', 'battleships', 'evidenced', 'fugitive', 'sadie', 'robotics', '##roud', 'equatorial', 'geologist', '##iza', 'yielding', '##bron', '##sr', 'internationale', 'mecca', '##diment', 'sbs', 'skyline', 'toad', 'uploaded', 'reflective', 'undrafted', 'lal', 'leafs', 'bayern', '##dai', 'lakshmi', 'shortlisted', '##stick', '##wicz', 'camouflage', 'donate', 'af', 'christi', 'lau', '##acio', 'disclosed', 'nemesis', '1761', 'assemble', 'straining', 'northamptonshire', 'tal', '##asi', 'bernardino', 'premature', 'heidi', '42nd', 'coefficients', 'galactic', 'reproduce', 'buzzed', 'sensations', 'zionist', 'monsieur', 'myrtle', '##eme', 'archery', 'strangled', 'musically', 'viewpoint', 'antiquities', 'bei', 'trailers', 'seahawks', 'cured', 'pee', 'preferring', 'tasmanian', 'lange', 'sul', '##mail', '##working', 'colder', 'overland', 'lucivar', 'massey', 'gatherings', 'haitian', '##smith', 'disapproval', 'flaws', '##cco', '##enbach', '1766', 'npr', '##icular', 'boroughs', 'creole', 'forums', 'techno', '1755', 'dent', 'abdominal', 'streetcar', '##eson', '##stream', 'procurement', 'gemini', 'predictable', '##tya', 'acheron', 'christoph', 'feeder', 'fronts', 'vendor', 'bernhard', 'jammu', 'tumors', 'slang', '##uber', 'goaltender', 'twists', 'curving', 'manson', 'vuelta', 'mer', 'peanut', 'confessions', 'pouch', 'unpredictable', 'allowance', 'theodor', 'vascular', '##factory', 'bala', 'authenticity', 'metabolic', 'coughing', 'nanjing', '##cea', 'pembroke', '##bard', 'splendid', '36th', 'ff', 'hourly', '##ahu', 'elmer', 'handel', '##ivate', 'awarding', 'thrusting', 'dl', 'experimentation', '##hesion', '##46', 'caressed', 'entertained', 'steak', '##rangle', 'biologist', 'orphans', 'baroness', 'oyster', 'stepfather', '##dridge', 'mirage', 'reefs', 'speeding', '##31', 'barons', '1764', '227', 'inhabit', 'preached', 'repealed', '##tral', 'honoring', 'boogie', 'captives', 'administer', 'johanna', '##imate', 'gel', 'suspiciously', '1767', 'sobs', '##dington', 'backbone', 'hayward', 'garry', '##folding', '##nesia', 'maxi', '##oof', '##ppe', 'ellison', 'galileo', '##stand', 'crimea', 'frenzy', 'amour', 'bumper', 'matrices', 'natalia', 'baking', 'garth', 'palestinians', '##grove', 'smack', 'conveyed', 'ensembles', 'gardening', '##manship', '##rup', '##stituting', '1640', 'harvesting', 'topography', 'jing', 'shifters', 'dormitory', '##carriage', '##lston', 'ist', 'skulls', '##stadt', 'dolores', 'jewellery', 'sarawak', '##wai', '##zier', 'fences', 'christy', 'confinement', 'tumbling', 'credibility', 'fir', 'stench', '##bria', '##plication', '##nged', '##sam', 'virtues', '##belt', 'marjorie', 'pba', '##eem', '##made', 'celebrates', 'schooner', 'agitated', 'barley', 'fulfilling', 'anthropologist', '##pro', 'restrict', 'novi', 'regulating', '##nent', 'padres', '##rani', '##hesive', 'loyola', 'tabitha', 'milky', 'olson', 'proprietor', 'crambidae', 'guarantees', 'intercollegiate', 'ljubljana', 'hilda', '##sko', 'ignorant', 'hooded', '##lts', 'sardinia', '##lidae', '##vation', 'frontman', 'privileged', 'witchcraft', '##gp', 'jammed', 'laude', 'poking', '##than', 'bracket', 'amazement', 'yunnan', '##erus', 'maharaja', 'linnaeus', '264', 'commissioning', 'milano', 'peacefully', '##logies', 'akira', 'rani', 'regulator', '##36', 'grasses', '##rance', 'luzon', 'crows', 'compiler', 'gretchen', 'seaman', 'edouard', 'tab', 'buccaneers', 'ellington', 'hamlets', 'whig', 'socialists', '##anto', 'directorial', 'easton', 'mythological', '##kr', '##vary', 'rhineland', 'semantic', 'taut', 'dune', 'inventions', 'succeeds', '##iter', 'replication', 'branched', '##pired', 'jul', 'prosecuted', 'kangaroo', 'penetrated', '##avian', 'middlesbrough', 'doses', 'bleak', 'madam', 'predatory', 'relentless', '##vili', 'reluctance', '##vir', 'hailey', 'crore', 'silvery', '1759', 'monstrous', 'swimmers', 'transmissions', 'hawthorn', 'informing', '##eral', 'toilets', 'caracas', 'crouch', 'kb', '##sett', '295', 'cartel', 'hadley', '##aling', 'alexia', 'yvonne', '##biology', 'cinderella', 'eton', 'superb', 'blizzard', 'stabbing', 'industrialist', 'maximus', '##gm', '##orus', 'groves', 'maud', 'clade', 'oversized', 'comedic', '##bella', 'rosen', 'nomadic', 'fulham', 'montane', 'beverages', 'galaxies', 'redundant', 'swarm', '##rot', '##folia', '##llis', 'buckinghamshire', 'fen', 'bearings', 'bahadur', '##rom', 'gilles', 'phased', 'dynamite', 'faber', 'benoit', 'vip', '##ount', '##wd', 'booking', 'fractured', 'tailored', 'anya', 'spices', 'westwood', 'cairns', 'auditions', 'inflammation', 'steamed', '##rocity', '##acion', '##urne', 'skyla', 'thereof', 'watford', 'torment', 'archdeacon', 'transforms', 'lulu', 'demeanor', 'fucked', 'serge', '##sor', 'mckenna', 'minas', 'entertainer', '##icide', 'caress', 'originate', 'residue', '##sty', '1740', '##ilised', '##org', 'beech', '##wana', 'subsidies', '##ghton', 'emptied', 'gladstone', 'ru', 'firefighters', 'voodoo', '##rcle', 'het', 'nightingale', 'tamara', 'edmond', 'ingredient', 'weaknesses', 'silhouette', '285', 'compatibility', 'withdrawing', 'hampson', '##mona', 'anguish', 'giggling', '##mber', 'bookstore', '##jiang', 'southernmost', 'tilting', '##vance', 'bai', 'economical', 'rf', 'briefcase', 'dreadful', 'hinted', 'projections', 'shattering', 'totaling', '##rogate', 'analogue', 'indicted', 'periodical', 'fullback', '##dman', 'haynes', '##tenberg', '##ffs', '##ishment', '1745', 'thirst', 'stumble', 'penang', 'vigorous', '##ddling', '##kor', '##lium', 'octave', '##ove', '##enstein', '##inen', '##ones', 'siberian', '##uti', 'cbn', 'repeal', 'swaying', '##vington', 'khalid', 'tanaka', 'unicorn', 'otago', 'plastered', 'lobe', 'riddle', '##rella', 'perch', '##ishing', 'croydon', 'filtered', 'graeme', 'tripoli', '##ossa', 'crocodile', '##chers', 'sufi', 'mined', '##tung', 'inferno', 'lsu', '##phi', 'swelled', 'utilizes', '£2', 'cale', 'periodicals', 'styx', 'hike', 'informally', 'coop', 'lund', '##tidae', 'ala', 'hen', 'qui', 'transformations', 'disposed', 'sheath', 'chickens', '##cade', 'fitzroy', 'sas', 'silesia', 'unacceptable', 'odisha', '1650', 'sabrina', 'pe', 'spokane', 'ratios', 'athena', 'massage', 'shen', 'dilemma', '##drum', '##riz', '##hul', 'corona', 'doubtful', 'niall', '##pha', '##bino', 'fines', 'cite', 'acknowledging', 'bangor', 'ballard', 'bathurst', '##resh', 'huron', 'mustered', 'alzheimer', 'garments', 'kinase', 'tyre', 'warship', '##cp', 'flashback', 'pulmonary', 'braun', 'cheat', 'kamal', 'cyclists', 'constructions', 'grenades', 'ndp', 'traveller', 'excuses', 'stomped', 'signalling', 'trimmed', 'futsal', 'mosques', 'relevance', '##wine', 'wta', '##23', '##vah', '##lter', 'hoc', '##riding', 'optimistic', '##´s', 'deco', 'sim', 'interacting', 'rejecting', 'moniker', 'waterways', '##ieri', '##oku', 'mayors', 'gdansk', 'outnumbered', 'pearls', '##ended', '##hampton', 'fairs', 'totals', 'dominating', '262', 'notions', 'stairway', 'compiling', 'pursed', 'commodities', 'grease', 'yeast', '##jong', 'carthage', 'griffiths', 'residual', 'amc', 'contraction', 'laird', 'sapphire', '##marine', '##ivated', 'amalgamation', 'dissolve', 'inclination', 'lyle', 'packaged', 'altitudes', 'suez', 'canons', 'graded', 'lurched', 'narrowing', 'boasts', 'guise', 'wed', 'enrico', '##ovsky', 'rower', 'scarred', 'bree', 'cub', 'iberian', 'protagonists', 'bargaining', 'proposing', 'trainers', 'voyages', 'vans', 'fishes', '##aea', '##ivist', '##verance', 'encryption', 'artworks', 'kazan', 'sabre', 'cleopatra', 'hepburn', 'rotting', 'supremacy', 'mecklenburg', '##brate', 'burrows', 'hazards', 'outgoing', 'flair', 'organizes', '##ctions', 'scorpion', '##usions', 'boo', '234', 'chevalier', 'dunedin', 'slapping', '##34', 'ineligible', 'pensions', '##38', '##omic', 'manufactures', 'emails', 'bismarck', '238', 'weakening', 'blackish', 'ding', 'mcgee', 'quo', '##rling', 'northernmost', 'xx', 'manpower', 'greed', 'sampson', 'clicking', '##ange', '##horpe', '##inations', '##roving', 'torre', '##eptive', '##moral', 'symbolism', '38th', 'asshole', 'meritorious', 'outfits', 'splashed', 'biographies', 'sprung', 'astros', '##tale', '302', '737', 'filly', 'raoul', 'nw', 'tokugawa', 'linden', 'clubhouse', '##apa', 'tracts', 'romano', '##pio', 'putin', 'tags', '##note', 'chained', 'dickson', 'gunshot', 'moe', 'gunn', 'rashid', '##tails', 'zipper', '##bas', '##nea', 'contrasted', '##ply', '##udes', 'plum', 'pharaoh', '##pile', 'aw', 'comedies', 'ingrid', 'sandwiches', 'subdivisions', '1100', 'mariana', 'nokia', 'kamen', 'hz', 'delaney', 'veto', 'herring', '##words', 'possessive', 'outlines', '##roup', 'siemens', 'stairwell', 'rc', 'gallantry', 'messiah', 'palais', 'yells', '233', 'zeppelin', '##dm', 'bolivar', '##cede', 'smackdown', 'mckinley', '##mora', '##yt', 'muted', 'geologic', 'finely', 'unitary', 'avatar', 'hamas', 'maynard', 'rees', 'bog', 'contrasting', '##rut', 'liv', 'chico', 'disposition', 'pixel', '##erate', 'becca', 'dmitry', 'yeshiva', 'narratives', '##lva', '##ulton', 'mercenary', 'sharpe', 'tempered', 'navigate', 'stealth', 'amassed', 'keynes', '##lini', 'untouched', '##rrie', 'havoc', 'lithium', '##fighting', 'abyss', 'graf', 'southward', 'wolverine', 'balloons', 'implements', 'ngos', 'transitions', '##icum', 'ambushed', 'concacaf', 'dormant', 'economists', '##dim', 'costing', 'csi', 'rana', 'universite', 'boulders', 'verity', '##llon', 'collin', 'mellon', 'misses', 'cypress', 'fluorescent', 'lifeless', 'spence', '##ulla', 'crewe', 'shepard', 'pak', 'revelations', '##م', 'jolly', 'gibbons', 'paw', '##dro', '##quel', 'freeing', '##test', 'shack', 'fries', 'palatine', '##51', '##hiko', 'accompaniment', 'cruising', 'recycled', '##aver', 'erwin', 'sorting', 'synthesizers', 'dyke', 'realities', 'sg', 'strides', 'enslaved', 'wetland', '##ghan', 'competence', 'gunpowder', 'grassy', 'maroon', 'reactors', 'objection', '##oms', 'carlson', 'gearbox', 'macintosh', 'radios', 'shelton', '##sho', 'clergyman', 'prakash', '254', 'mongols', 'trophies', 'oricon', '228', 'stimuli', 'twenty20', 'cantonese', 'cortes', 'mirrored', '##saurus', 'bhp', 'cristina', 'melancholy', '##lating', 'enjoyable', 'nuevo', '##wny', 'downfall', 'schumacher', '##ind', 'banging', 'lausanne', 'rumbled', 'paramilitary', 'reflex', 'ax', 'amplitude', 'migratory', '##gall', '##ups', 'midi', 'barnard', 'lastly', 'sherry', '##hp', '##nall', 'keystone', '##kra', 'carleton', 'slippery', '##53', 'coloring', 'foe', 'socket', 'otter', '##rgos', 'mats', '##tose', 'consultants', 'bafta', 'bison', 'topping', '##km', '490', 'primal', 'abandonment', 'transplant', 'atoll', 'hideous', 'mort', 'pained', 'reproduced', 'tae', 'howling', '##turn', 'unlawful', 'billionaire', 'hotter', 'poised', 'lansing', '##chang', 'dinamo', 'retro', 'messing', 'nfc', 'domesday', '##mina', 'blitz', 'timed', '##athing', '##kley', 'ascending', 'gesturing', '##izations', 'signaled', 'tis', 'chinatown', 'mermaid', 'savanna', 'jameson', '##aint', 'catalina', '##pet', '##hers', 'cochrane', 'cy', 'chatting', '##kus', 'alerted', 'computation', 'mused', 'noelle', 'majestic', 'mohawk', 'campo', 'octagonal', '##sant', '##hend', '241', 'aspiring', '##mart', 'comprehend', 'iona', 'paralyzed', 'shimmering', 'swindon', 'rhone', '##eley', 'reputed', 'configurations', 'pitchfork', 'agitation', 'francais', 'gillian', 'lipstick', '##ilo', 'outsiders', 'pontifical', 'resisting', 'bitterness', 'sewer', 'rockies', '##edd', '##ucher', 'misleading', '1756', 'exiting', 'galloway', '##nging', 'risked', '##heart', '246', 'commemoration', 'schultz', '##rka', 'integrating', '##rsa', 'poses', 'shrieked', '##weiler', 'guineas', 'gladys', 'jerking', 'owls', 'goldsmith', 'nightly', 'penetrating', '##unced', 'lia', '##33', 'ignited', 'betsy', '##aring', '##thorpe', 'follower', 'vigorously', '##rave', 'coded', 'kiran', 'knit', 'zoology', 'tbilisi', '##28', '##bered', 'repository', 'govt', 'deciduous', 'dino', 'growling', '##bba', 'enhancement', 'unleashed', 'chanting', 'pussy', 'biochemistry', '##eric', 'kettle', 'repression', 'toxicity', 'nrhp', '##arth', '##kko', '##bush', 'ernesto', 'commended', 'outspoken', '242', 'mca', 'parchment', 'sms', 'kristen', '##aton', 'bisexual', 'raked', 'glamour', 'navajo', 'a2', 'conditioned', 'showcased', '##hma', 'spacious', 'youthful', '##esa', 'usl', 'appliances', 'junta', 'brest', 'layne', 'conglomerate', 'enchanted', 'chao', 'loosened', 'picasso', 'circulating', 'inspect', 'montevideo', '##centric', '##kti', 'piazza', 'spurred', '##aith', 'bari', 'freedoms', 'poultry', 'stamford', 'lieu', '##ect', 'indigo', 'sarcastic', 'bahia', 'stump', 'attach', 'dvds', 'frankenstein', 'lille', 'approx', 'scriptures', 'pollen', '##script', 'nmi', 'overseen', '##ivism', 'tides', 'proponent', 'newmarket', 'inherit', 'milling', '##erland', 'centralized', '##rou', 'distributors', 'credentials', 'drawers', 'abbreviation', '##lco', '##xon', 'downing', 'uncomfortably', 'ripe', '##oes', 'erase', 'franchises', '##ever', 'populace', '##bery', '##khar', 'decomposition', 'pleas', '##tet', 'daryl', 'sabah', '##stle', '##wide', 'fearless', 'genie', 'lesions', 'annette', '##ogist', 'oboe', 'appendix', 'nair', 'dripped', 'petitioned', 'maclean', 'mosquito', 'parrot', 'rpg', 'hampered', '1648', 'operatic', 'reservoirs', '##tham', 'irrelevant', 'jolt', 'summarized', '##fp', 'medallion', '##taff', '##−', 'clawed', 'harlow', 'narrower', 'goddard', 'marcia', 'bodied', 'fremont', 'suarez', 'altering', 'tempest', 'mussolini', 'porn', '##isms', 'sweetly', 'oversees', 'walkers', 'solitude', 'grimly', 'shrines', 'hk', 'ich', 'supervisors', 'hostess', 'dietrich', 'legitimacy', 'brushes', 'expressive', '##yp', 'dissipated', '##rse', 'localized', 'systemic', '##nikov', 'gettysburg', '##js', '##uaries', 'dialogues', 'muttering', '251', 'housekeeper', 'sicilian', 'discouraged', '##frey', 'beamed', 'kaladin', 'halftime', 'kidnap', '##amo', '##llet', '1754', 'synonymous', 'depleted', 'instituto', 'insulin', 'reprised', '##opsis', 'clashed', '##ctric', 'interrupting', 'radcliffe', 'insisting', 'medici', '1715', 'ejected', 'playfully', 'turbulent', '##47', 'starvation', '##rini', 'shipment', 'rebellious', 'petersen', 'verification', 'merits', '##rified', 'cakes', '##charged', '1757', 'milford', 'shortages', 'spying', 'fidelity', '##aker', 'emitted', 'storylines', 'harvested', 'seismic', '##iform', 'cheung', 'kilda', 'theoretically', 'barbie', 'lynx', '##rgy', '##tius', 'goblin', 'mata', 'poisonous', '##nburg', 'reactive', 'residues', 'obedience', '##евич', 'conjecture', '##rac', '401', 'hating', 'sixties', 'kicker', 'moaning', 'motown', '##bha', 'emancipation', 'neoclassical', '##hering', 'consoles', 'ebert', 'professorship', '##tures', 'sustaining', 'assaults', 'obeyed', 'affluent', 'incurred', 'tornadoes', '##eber', '##zow', 'emphasizing', 'highlanders', 'cheated', 'helmets', '##ctus', 'internship', 'terence', 'bony', 'executions', 'legislators', 'berries', 'peninsular', 'tinged', '##aco', '1689', 'amplifier', 'corvette', 'ribbons', 'lavish', 'pennant', '##lander', 'worthless', '##chfield', '##forms', 'mariano', 'pyrenees', 'expenditures', '##icides', 'chesterfield', 'mandir', 'tailor', '39th', 'sergey', 'nestled', 'willed', 'aristocracy', 'devotees', 'goodnight', 'raaf', 'rumored', 'weaponry', 'remy', 'appropriations', 'harcourt', 'burr', 'riaa', '##lence', 'limitation', 'unnoticed', 'guo', 'soaking', 'swamps', '##tica', 'collapsing', 'tatiana', 'descriptive', 'brigham', 'psalm', '##chment', 'maddox', '##lization', 'patti', 'caliph', '##aja', 'akron', 'injuring', 'serra', '##ganj', 'basins', '##sari', 'astonished', 'launcher', '##church', 'hilary', 'wilkins', 'sewing', '##sf', 'stinging', '##fia', '##ncia', 'underwood', 'startup', '##ition', 'compilations', 'vibrations', 'embankment', 'jurist', '##nity', 'bard', 'juventus', 'groundwater', 'kern', 'palaces', 'helium', 'boca', 'cramped', 'marissa', 'soto', '##worm', 'jae', 'princely', '##ggy', 'faso', 'bazaar', 'warmly', '##voking', '229', 'pairing', '##lite', '##grate', '##nets', 'wien', 'freaked', 'ulysses', 'rebirth', '##alia', '##rent', 'mummy', 'guzman', 'jimenez', 'stilled', '##nitz', 'trajectory', 'tha', 'woken', 'archival', 'professions', '##pts', '##pta', 'hilly', 'shadowy', 'shrink', '##bolt', 'norwood', 'glued', 'migrate', 'stereotypes', 'devoid', '##pheus', '625', 'evacuate', 'horrors', 'infancy', 'gotham', 'knowles', 'optic', 'downloaded', 'sachs', 'kingsley', 'parramatta', 'darryl', 'mor', '##onale', 'shady', 'commence', 'confesses', 'kan', '##meter', '##placed', 'marlborough', 'roundabout', 'regents', 'frigates', 'io', '##imating', 'gothenburg', 'revoked', 'carvings', 'clockwise', 'convertible', 'intruder', '##sche', 'banged', '##ogo', 'vicky', 'bourgeois', '##mony', 'dupont', 'footing', '##gum', 'pd', '##real', 'buckle', 'yun', 'penthouse', 'sane', '720', 'serviced', 'stakeholders', 'neumann', 'bb', '##eers', 'comb', '##gam', 'catchment', 'pinning', 'rallies', 'typing', '##elles', 'forefront', 'freiburg', 'sweetie', 'giacomo', 'widowed', 'goodwill', 'worshipped', 'aspirations', 'midday', '##vat', 'fishery', '##trick', 'bournemouth', 'turk', '243', 'hearth', 'ethanol', 'guadalajara', 'murmurs', 'sl', '##uge', 'afforded', 'scripted', '##hta', 'wah', '##jn', 'coroner', 'translucent', '252', 'memorials', 'puck', 'progresses', 'clumsy', '##race', '315', 'candace', 'recounted', '##27', '##slin', '##uve', 'filtering', '##mac', 'howl', 'strata', 'heron', 'leveled', '##ays', 'dubious', '##oja', '##т', '##wheel', 'citations', 'exhibiting', '##laya', '##mics', '##pods', 'turkic', '##lberg', 'injunction', '##ennial', '##mit', 'antibodies', '##44', 'organise', '##rigues', 'cardiovascular', 'cushion', 'inverness', '##zquez', 'dia', 'cocoa', 'sibling', '##tman', '##roid', 'expanse', 'feasible', 'tunisian', 'algiers', '##relli', 'rus', 'bloomberg', 'dso', 'westphalia', 'bro', 'tacoma', '281', 'downloads', '##ours', 'konrad', 'duran', '##hdi', 'continuum', 'jett', 'compares', 'legislator', 'secession', '##nable', '##gues', '##zuka', 'translating', 'reacher', '##gley', '##ła', 'aleppo', '##agi', 'tc', 'orchards', 'trapping', 'linguist', 'versatile', 'drumming', 'postage', 'calhoun', 'superiors', '##mx', 'barefoot', 'leary', '##cis', 'ignacio', 'alfa', 'kaplan', '##rogen', 'bratislava', 'mori', '##vot', 'disturb', 'haas', '313', 'cartridges', 'gilmore', 'radiated', 'salford', 'tunic', 'hades', '##ulsive', 'archeological', 'delilah', 'magistrates', 'auditioned', 'brewster', 'charters', 'empowerment', 'blogs', 'cappella', 'dynasties', 'iroquois', 'whipping', '##krishna', 'raceway', 'truths', 'myra', 'weaken', 'judah', 'mcgregor', '##horse', 'mic', 'refueling', '37th', 'burnley', 'bosses', 'markus', 'premio', 'query', '##gga', 'dunbar', '##economic', 'darkest', 'lyndon', 'sealing', 'commendation', 'reappeared', '##mun', 'addicted', 'ezio', 'slaughtered', 'satisfactory', 'shuffle', '##eves', '##thic', '##uj', 'fortification', 'warrington', '##otto', 'resurrected', 'fargo', 'mane', '##utable', '##lei', '##space', 'foreword', 'ox', '##aris', '##vern', 'abrams', 'hua', '##mento', 'sakura', '##alo', 'uv', 'sentimental', '##skaya', 'midfield', '##eses', 'sturdy', 'scrolls', 'macleod', '##kyu', 'entropy', '##lance', 'mitochondrial', 'cicero', 'excelled', 'thinner', 'convoys', 'perceive', '##oslav', '##urable', 'systematically', 'grind', 'burkina', '287', '##tagram', 'ops', '##aman', 'guantanamo', '##cloth', '##tite', 'forcefully', 'wavy', '##jou', 'pointless', '##linger', '##tze', 'layton', 'portico', 'superficial', 'clerical', 'outlaws', '##hism', 'burials', 'muir', '##inn', 'creditors', 'hauling', 'rattle', '##leg', 'calais', 'monde', 'archers', 'reclaimed', 'dwell', 'wexford', 'hellenic', 'falsely', 'remorse', '##tek', 'dough', 'furnishings', '##uttered', 'gabon', 'neurological', 'novice', '##igraphy', 'contemplated', 'pulpit', 'nightstand', 'saratoga', '##istan', 'documenting', 'pulsing', 'taluk', '##firmed', 'busted', 'marital', '##rien', 'disagreements', 'wasps', '##yes', 'hodge', 'mcdonnell', 'mimic', 'fran', 'pendant', 'dhabi', 'musa', '##nington', 'congratulations', 'argent', 'darrell', 'concussion', 'losers', 'regrets', 'thessaloniki', 'reversal', 'donaldson', 'hardwood', 'thence', 'achilles', 'ritter', '##eran', 'demonic', 'jurgen', 'prophets', 'goethe', 'eki', 'classmate', 'buff', '##cking', 'yank', 'irrational', '##inging', 'perished', 'seductive', 'qur', 'sourced', '##crat', '##typic', 'mustard', 'ravine', 'barre', 'horizontally', 'characterization', 'phylogenetic', 'boise', '##dit', '##runner', '##tower', 'brutally', 'intercourse', 'seduce', '##bbing', 'fay', 'ferris', 'ogden', 'amar', 'nik', 'unarmed', '##inator', 'evaluating', 'kyrgyzstan', 'sweetness', '##lford', '##oki', 'mccormick', 'meiji', 'notoriety', 'stimulate', 'disrupt', 'figuring', 'instructional', 'mcgrath', '##zoo', 'groundbreaking', '##lto', 'flinch', 'khorasan', 'agrarian', 'bengals', 'mixer', 'radiating', '##sov', 'ingram', 'pitchers', 'nad', 'tariff', '##cript', 'tata', '##codes', '##emi', '##ungen', 'appellate', 'lehigh', '##bled', '##giri', 'brawl', 'duct', 'texans', '##ciation', '##ropolis', 'skipper', 'speculative', 'vomit', 'doctrines', 'stresses', '253', 'davy', 'graders', 'whitehead', 'jozef', 'timely', 'cumulative', 'haryana', 'paints', 'appropriately', 'boon', 'cactus', '##ales', '##pid', 'dow', 'legions', '##pit', 'perceptions', '1730', 'picturesque', '##yse', 'periphery', 'rune', 'wr', '##aha', 'celtics', 'sentencing', 'whoa', '##erin', 'confirms', 'variance', '425', 'moines', 'mathews', 'spade', 'rave', 'm1', 'fronted', 'fx', 'blending', 'alleging', 'reared', '##gl', '237', '##paper', 'grassroots', 'eroded', '##free', '##physical', 'directs', 'ordeal', '##sław', 'accelerate', 'hacker', 'rooftop', '##inia', 'lev', 'buys', 'cebu', 'devote', '##lce', 'specialising', '##ulsion', 'choreographed', 'repetition', 'warehouses', '##ryl', 'paisley', 'tuscany', 'analogy', 'sorcerer', 'hash', 'huts', 'shards', 'descends', 'exclude', 'nix', 'chaplin', 'gaga', 'ito', 'vane', '##drich', 'causeway', 'misconduct', 'limo', 'orchestrated', 'glands', 'jana', '##kot', 'u2', '##mple', '##sons', 'branching', 'contrasts', 'scoop', 'longed', '##virus', 'chattanooga', '##75', 'syrup', 'cornerstone', '##tized', '##mind', '##iaceae', 'careless', 'precedence', 'frescoes', '##uet', 'chilled', 'consult', 'modelled', 'snatch', 'peat', '##thermal', 'caucasian', 'humane', 'relaxation', 'spins', 'temperance', '##lbert', 'occupations', 'lambda', 'hybrids', 'moons', 'mp3', '##oese', '247', 'rolf', 'societal', 'yerevan', 'ness', '##ssler', 'befriended', 'mechanized', 'nominate', 'trough', 'boasted', 'cues', 'seater', '##hom', 'bends', '##tangle', 'conductors', 'emptiness', '##lmer', 'eurasian', 'adriatic', 'tian', '##cie', 'anxiously', 'lark', 'propellers', 'chichester', 'jock', 'ev', '2a', '##holding', 'credible', 'recounts', 'tori', 'loyalist', 'abduction', '##hoot', '##redo', 'nepali', '##mite', 'ventral', 'tempting', '##ango', '##crats', 'steered', '##wice', 'javelin', 'dipping', 'laborers', 'prentice', 'looming', 'titanium', '##ː', 'badges', 'emir', 'tensor', '##ntation', 'egyptians', 'rash', 'denies', 'hawthorne', 'lombard', 'showers', 'wehrmacht', 'dietary', 'trojan', '##reus', 'welles', 'executing', 'horseshoe', 'lifeboat', '##lak', 'elsa', 'infirmary', 'nearing', 'roberta', 'boyer', 'mutter', 'trillion', 'joanne', '##fine', '##oked', 'sinks', 'vortex', 'uruguayan', 'clasp', 'sirius', '##block', 'accelerator', 'prohibit', 'sunken', 'byu', 'chronological', 'diplomats', 'ochreous', '510', 'symmetrical', '1644', 'maia', '##tology', 'salts', 'reigns', 'atrocities', '##ия', 'hess', 'bared', 'issn', '##vyn', 'cater', 'saturated', '##cycle', '##isse', 'sable', 'voyager', 'dyer', 'yusuf', '##inge', 'fountains', 'wolff', '##39', '##nni', 'engraving', 'rollins', 'atheist', 'ominous', '##ault', 'herr', 'chariot', 'martina', 'strung', '##fell', '##farlane', 'horrific', 'sahib', 'gazes', 'saetan', 'erased', 'ptolemy', '##olic', 'flushing', 'lauderdale', 'analytic', '##ices', '530', 'navarro', 'beak', 'gorilla', 'herrera', 'broom', 'guadalupe', 'raiding', 'sykes', '311', 'bsc', 'deliveries', '1720', 'invasions', 'carmichael', 'tajikistan', 'thematic', 'ecumenical', 'sentiments', 'onstage', '##rians', '##brand', '##sume', 'catastrophic', 'flanks', 'molten', '##arns', 'waller', 'aimee', 'terminating', '##icing', 'alternately', '##oche', 'nehru', 'printers', 'outraged', '##eving', 'empires', 'template', 'banners', 'repetitive', 'za', '##oise', 'vegetarian', '##tell', 'guiana', 'opt', 'cavendish', 'lucknow', 'synthesized', '##hani', '##mada', 'finalized', '##ctable', 'fictitious', 'mayoral', 'unreliable', '##enham', 'embracing', 'peppers', 'rbis', '##chio', '##neo', 'inhibition', 'slashed', 'togo', 'orderly', 'embroidered', 'safari', 'salty', '236', 'barron', 'benito', 'totaled', '##dak', 'pubs', 'simulated', 'caden', 'devin', 'tolkien', 'momma', 'welding', 'sesame', '##ept', 'gottingen', 'hardness', '630', 'shaman', 'temeraire', '620', 'adequately', 'pediatric', '##kit', 'ck', 'assertion', 'radicals', 'composure', 'cadence', 'seafood', 'beaufort', 'lazarus', 'mani', 'warily', 'cunning', 'kurdistan', '249', 'cantata', '##kir', 'ares', '##41', '##clusive', 'nape', 'townland', 'geared', 'insulted', 'flutter', 'boating', 'violate', 'draper', 'dumping', 'malmo', '##hh', '##romatic', 'firearm', 'alta', 'bono', 'obscured', '##clave', 'exceeds', 'panorama', 'unbelievable', '##train', 'preschool', '##essed', 'disconnected', 'installing', 'rescuing', 'secretaries', 'accessibility', '##castle', '##drive', '##ifice', '##film', 'bouts', 'slug', 'waterway', 'mindanao', '##buro', '##ratic', 'halves', '##ل', 'calming', 'liter', 'maternity', 'adorable', 'bragg', 'electrification', 'mcc', '##dote', 'roxy', 'schizophrenia', '##body', 'munoz', 'kaye', 'whaling', '239', 'mil', 'tingling', 'tolerant', '##ago', 'unconventional', 'volcanoes', '##finder', 'deportivo', '##llie', 'robson', 'kaufman', 'neuroscience', 'wai', 'deportation', 'masovian', 'scraping', 'converse', '##bh', 'hacking', 'bulge', '##oun', 'administratively', 'yao', '580', 'amp', 'mammoth', 'booster', 'claremont', 'hooper', 'nomenclature', 'pursuits', 'mclaughlin', 'melinda', '##sul', 'catfish', 'barclay', 'substrates', 'taxa', 'zee', 'originals', 'kimberly', 'packets', 'padma', '##ality', 'borrowing', 'ostensibly', 'solvent', '##bri', '##genesis', '##mist', 'lukas', 'shreveport', 'veracruz', '##ь', '##lou', '##wives', 'cheney', 'tt', 'anatolia', 'hobbs', '##zyn', 'cyclic', 'radiant', 'alistair', 'greenish', 'siena', 'dat', 'independents', '##bation', 'conform', 'pieter', 'hyper', 'applicant', 'bradshaw', 'spores', 'telangana', 'vinci', 'inexpensive', 'nuclei', '322', 'jang', 'nme', 'soho', 'spd', '##ign', 'cradled', 'receptionist', 'pow', '##43', '##rika', 'fascism', '##ifer', 'experimenting', '##ading', '##iec', '##region', '345', 'jocelyn', 'maris', 'stair', 'nocturnal', 'toro', 'constabulary', 'elgin', '##kker', 'msc', '##giving', '##schen', '##rase', 'doherty', 'doping', 'sarcastically', 'batter', 'maneuvers', '##cano', '##apple', '##gai', '##git', 'intrinsic', '##nst', '##stor', '1753', 'showtime', 'cafes', 'gasps', 'lviv', 'ushered', '##thed', 'fours', 'restart', 'astonishment', 'transmitting', 'flyer', 'shrugs', '##sau', 'intriguing', 'cones', 'dictated', 'mushrooms', 'medial', '##kovsky', '##elman', 'escorting', 'gaped', '##26', 'godfather', '##door', '##sell', 'djs', 'recaptured', 'timetable', 'vila', '1710', '3a', 'aerodrome', 'mortals', 'scientology', '##orne', 'angelina', 'mag', 'convection', 'unpaid', 'insertion', 'intermittent', 'lego', '##nated', 'endeavor', 'kota', 'pereira', '##lz', '304', 'bwv', 'glamorgan', 'insults', 'agatha', 'fey', '##cend', 'fleetwood', 'mahogany', 'protruding', 'steamship', 'zeta', '##arty', 'mcguire', 'suspense', '##sphere', 'advising', 'urges', '##wala', 'hurriedly', 'meteor', 'gilded', 'inline', 'arroyo', 'stalker', '##oge', 'excitedly', 'revered', '##cure', 'earle', 'introductory', '##break', '##ilde', 'mutants', 'puff', 'pulses', 'reinforcement', '##haling', 'curses', 'lizards', 'stalk', 'correlated', '##fixed', 'fallout', 'macquarie', '##unas', 'bearded', 'denton', 'heaving', '802', '##ocation', 'winery', 'assign', 'dortmund', '##lkirk', 'everest', 'invariant', 'charismatic', 'susie', '##elling', 'bled', 'lesley', 'telegram', 'sumner', 'bk', '##ogen', '##к', 'wilcox', 'needy', 'colbert', 'duval', '##iferous', '##mbled', 'allotted', 'attends', 'imperative', '##hita', 'replacements', 'hawker', '##inda', 'insurgency', '##zee', '##eke', 'casts', '##yla', '680', 'ives', 'transitioned', '##pack', '##powering', 'authoritative', 'baylor', 'flex', 'cringed', 'plaintiffs', 'woodrow', '##skie', 'drastic', 'ape', 'aroma', 'unfolded', 'commotion', 'nt', 'preoccupied', 'theta', 'routines', 'lasers', 'privatization', 'wand', 'domino', 'ek', 'clenching', 'nsa', 'strategically', 'showered', 'bile', 'handkerchief', 'pere', 'storing', 'christophe', 'insulting', '316', 'nakamura', 'romani', 'asiatic', 'magdalena', 'palma', 'cruises', 'stripping', '405', 'konstantin', 'soaring', '##berman', 'colloquially', 'forerunner', 'havilland', 'incarcerated', 'parasites', 'sincerity', '##utus', 'disks', 'plank', 'saigon', '##ining', 'corbin', 'homo', 'ornaments', 'powerhouse', '##tlement', 'chong', 'fastened', 'feasibility', 'idf', 'morphological', 'usable', '##nish', '##zuki', 'aqueduct', 'jaguars', 'keepers', '##flies', 'aleksandr', 'faust', 'assigns', 'ewing', 'bacterium', 'hurled', 'tricky', 'hungarians', 'integers', 'wallis', '321', 'yamaha', '##isha', 'hushed', 'oblivion', 'aviator', 'evangelist', 'friars', '##eller', 'monograph', 'ode', '##nary', 'airplanes', 'labourers', 'charms', '##nee', '1661', 'hagen', 'tnt', 'rudder', 'fiesta', 'transcript', 'dorothea', 'ska', 'inhibitor', 'maccabi', 'retorted', 'raining', 'encompassed', 'clauses', 'menacing', '1642', 'lineman', '##gist', 'vamps', '##ape', '##dick', 'gloom', '##rera', 'dealings', 'easing', 'seekers', '##nut', '##pment', 'helens', 'unmanned', '##anu', '##isson', 'basics', '##amy', '##ckman', 'adjustments', '1688', 'brutality', 'horne', '##zell', 'sui', '##55', '##mable', 'aggregator', '##thal', 'rhino', '##drick', '##vira', 'counters', 'zoom', '##01', '##rting', 'mn', 'montenegrin', 'packard', '##unciation', '##♭', '##kki', 'reclaim', 'scholastic', 'thugs', 'pulsed', '##icia', 'syriac', 'quan', 'saddam', 'banda', 'kobe', 'blaming', 'buddies', 'dissent', '##lusion', '##usia', 'corbett', 'jaya', 'delle', 'erratic', 'lexie', '##hesis', '435', 'amiga', 'hermes', '##pressing', '##leen', 'chapels', 'gospels', 'jamal', '##uating', 'compute', 'revolving', 'warp', '##sso', '##thes', 'armory', '##eras', '##gol', 'antrim', 'loki', '##kow', '##asian', '##good', '##zano', 'braid', 'handwriting', 'subdistrict', 'funky', 'pantheon', '##iculate', 'concurrency', 'estimation', 'improper', 'juliana', '##his', 'newcomers', 'johnstone', 'staten', 'communicated', '##oco', '##alle', 'sausage', 'stormy', '##stered', '##tters', 'superfamily', '##grade', 'acidic', 'collateral', 'tabloid', '##oped', '##rza', 'bladder', 'austen', '##ellant', 'mcgraw', '##hay', 'hannibal', 'mein', 'aquino', 'lucifer', 'wo', 'badger', 'boar', 'cher', 'christensen', 'greenberg', 'interruption', '##kken', 'jem', '244', 'mocked', 'bottoms', 'cambridgeshire', '##lide', 'sprawling', '##bbly', 'eastwood', 'ghent', 'synth', '##buck', 'advisers', '##bah', 'nominally', 'hapoel', 'qu', 'daggers', 'estranged', 'fabricated', 'towels', 'vinnie', 'wcw', 'misunderstanding', 'anglia', 'nothin', 'unmistakable', '##dust', '##lova', 'chilly', 'marquette', 'truss', '##edge', '##erine', 'reece', '##lty', '##chemist', '##connected', '272', '308', '41st', 'bash', 'raion', 'waterfalls', '##ump', '##main', 'labyrinth', 'queue', 'theorist', '##istle', 'bharatiya', 'flexed', 'soundtracks', 'rooney', 'leftist', 'patrolling', 'wharton', 'plainly', 'alleviate', 'eastman', 'schuster', 'topographic', 'engages', 'immensely', 'unbearable', 'fairchild', '1620', 'dona', 'lurking', 'parisian', 'oliveira', 'ia', 'indictment', 'hahn', 'bangladeshi', '##aster', 'vivo', '##uming', '##ential', 'antonia', 'expects', 'indoors', 'kildare', 'harlan', '##logue', '##ogenic', '##sities', 'forgiven', '##wat', 'childish', 'tavi', '##mide', '##orra', 'plausible', 'grimm', 'successively', 'scooted', '##bola', '##dget', '##rith', 'spartans', 'emery', 'flatly', 'azure', 'epilogue', '##wark', 'flourish', '##iny', '##tracted', '##overs', '##oshi', 'bestseller', 'distressed', 'receipt', 'spitting', 'hermit', 'topological', '##cot', 'drilled', 'subunit', 'francs', '##layer', 'eel', '##fk', '##itas', 'octopus', 'footprint', 'petitions', 'ufo', '##say', '##foil', 'interfering', 'leaking', 'palo', '##metry', 'thistle', 'valiant', '##pic', 'narayan', 'mcpherson', '##fast', 'gonzales', '##ym', '##enne', 'dustin', 'novgorod', 'solos', '##zman', 'doin', '##raph', '##patient', '##meyer', 'soluble', 'ashland', 'cuffs', 'carole', 'pendleton', 'whistling', 'vassal', '##river', 'deviation', 'revisited', 'constituents', 'rallied', 'rotate', 'loomed', '##eil', '##nting', 'amateurs', 'augsburg', 'auschwitz', 'crowns', 'skeletons', '##cona', 'bonnet', '257', 'dummy', 'globalization', 'simeon', 'sleeper', 'mandal', 'differentiated', '##crow', '##mare', 'milne', 'bundled', 'exasperated', 'talmud', 'owes', 'segregated', '##feng', '##uary', 'dentist', 'piracy', 'props', '##rang', 'devlin', '##torium', 'malicious', 'paws', '##laid', 'dependency', '##ergy', '##fers', '##enna', '258', 'pistons', 'rourke', 'jed', 'grammatical', 'tres', 'maha', 'wig', '512', 'ghostly', 'jayne', '##achal', '##creen', '##ilis', '##lins', '##rence', 'designate', '##with', 'arrogance', 'cambodian', 'clones', 'showdown', 'throttle', 'twain', '##ception', 'lobes', 'metz', 'nagoya', '335', 'braking', '##furt', '385', 'roaming', '##minster', 'amin', 'crippled', '##37', '##llary', 'indifferent', 'hoffmann', 'idols', 'intimidating', '1751', '261', 'influenza', 'memo', 'onions', '1748', 'bandage', 'consciously', '##landa', '##rage', 'clandestine', 'observes', 'swiped', 'tangle', '##ener', '##jected', '##trum', '##bill', '##lta', 'hugs', 'congresses', 'josiah', 'spirited', '##dek', 'humanist', 'managerial', 'filmmaking', 'inmate', 'rhymes', 'debuting', 'grimsby', 'ur', '##laze', 'duplicate', 'vigor', '##tf', 'republished', 'bolshevik', 'refurbishment', 'antibiotics', 'martini', 'methane', 'newscasts', 'royale', 'horizons', 'levant', 'iain', 'visas', '##ischen', 'paler', '##around', 'manifestation', 'snuck', 'alf', 'chop', 'futile', 'pedestal', 'rehab', '##kat', 'bmg', 'kerman', 'res', 'fairbanks', 'jarrett', 'abstraction', 'saharan', '##zek', '1746', 'procedural', 'clearer', 'kincaid', 'sash', 'luciano', '##ffey', 'crunch', 'helmut', '##vara', 'revolutionaries', '##tute', 'creamy', 'leach', '##mmon', '1747', 'permitting', 'nes', 'plight', 'wendell', '##lese', 'contra', 'ts', 'clancy', 'ipa', 'mach', 'staples', 'autopsy', 'disturbances', 'nueva', 'karin', 'pontiac', '##uding', 'proxy', 'venerable', 'haunt', 'leto', 'bergman', 'expands', '##helm', 'wal', '##pipe', 'canning', 'celine', 'cords', 'obesity', '##enary', 'intrusion', 'planner', '##phate', 'reasoned', 'sequencing', '307', 'harrow', '##chon', '##dora', 'marred', 'mcintyre', 'repay', 'tarzan', 'darting', '248', 'harrisburg', 'margarita', 'repulsed', '##hur', '##lding', 'belinda', 'hamburger', 'novo', 'compliant', 'runways', 'bingham', 'registrar', 'skyscraper', 'ic', 'cuthbert', 'improvisation', 'livelihood', '##corp', '##elial', 'admiring', '##dened', 'sporadic', 'believer', 'casablanca', 'popcorn', '##29', 'asha', 'shovel', '##bek', '##dice', 'coiled', 'tangible', '##dez', 'casper', 'elsie', 'resin', 'tenderness', 'rectory', '##ivision', 'avail', 'sonar', '##mori', 'boutique', '##dier', 'guerre', 'bathed', 'upbringing', 'vaulted', 'sandals', 'blessings', '##naut', '##utnant', '1680', '306', 'foxes', 'pia', 'corrosion', 'hesitantly', 'confederates', 'crystalline', 'footprints', 'shapiro', 'tirana', 'valentin', 'drones', '45th', 'microscope', 'shipments', 'texted', 'inquisition', 'wry', 'guernsey', 'unauthorized', 'resigning', '760', 'ripple', 'schubert', 'stu', 'reassure', 'felony', '##ardo', 'brittle', 'koreans', '##havan', '##ives', 'dun', 'implicit', 'tyres', '##aldi', '##lth', 'magnolia', '##ehan', '##puri', '##poulos', 'aggressively', 'fei', 'gr', 'familiarity', '##poo', 'indicative', '##trust', 'fundamentally', 'jimmie', 'overrun', '395', 'anchors', 'moans', '##opus', 'britannia', 'armagh', '##ggle', 'purposely', 'seizing', '##vao', 'bewildered', 'mundane', 'avoidance', 'cosmopolitan', 'geometridae', 'quartermaster', 'caf', '415', 'chatter', 'engulfed', 'gleam', 'purge', '##icate', 'juliette', 'jurisprudence', 'guerra', 'revisions', '##bn', 'casimir', 'brew', '##jm', '1749', 'clapton', 'cloudy', 'conde', 'hermitage', '278', 'simulations', 'torches', 'vincenzo', 'matteo', '##rill', 'hidalgo', 'booming', 'westbound', 'accomplishment', 'tentacles', 'unaffected', '##sius', 'annabelle', 'flopped', 'sloping', '##litz', 'dreamer', 'interceptor', 'vu', '##loh', 'consecration', 'copying', 'messaging', 'breaker', 'climates', 'hospitalized', '1752', 'torino', 'afternoons', 'winfield', 'witnessing', '##teacher', 'breakers', 'choirs', 'sawmill', 'coldly', '##ege', 'sipping', 'haste', 'uninhabited', 'conical', 'bibliography', 'pamphlets', 'severn', 'edict', '##oca', 'deux', 'illnesses', 'grips', '##pl', 'rehearsals', 'sis', 'thinkers', 'tame', '##keepers', '1690', 'acacia', 'reformer', '##osed', '##rys', 'shuffling', '##iring', '##shima', 'eastbound', 'ionic', 'rhea', 'flees', 'littered', '##oum', 'rocker', 'vomiting', 'groaning', 'champ', 'overwhelmingly', 'civilizations', 'paces', 'sloop', 'adoptive', '##tish', 'skaters', '##vres', 'aiding', 'mango', '##joy', 'nikola', 'shriek', '##ignon', 'pharmaceuticals', '##mg', 'tuna', 'calvert', 'gustavo', 'stocked', 'yearbook', '##urai', '##mana', 'computed', 'subsp', 'riff', 'hanoi', 'kelvin', 'hamid', 'moors', 'pastures', 'summons', 'jihad', 'nectar', '##ctors', 'bayou', 'untitled', 'pleasing', 'vastly', 'republics', 'intellect', '##η', '##ulio', '##tou', 'crumbling', 'stylistic', 'sb', '##ی', 'consolation', 'frequented', 'h₂o', 'walden', 'widows', '##iens', '404', '##ignment', 'chunks', 'improves', '288', 'grit', 'recited', '##dev', 'snarl', 'sociological', '##arte', '##gul', 'inquired', '##held', 'bruise', 'clube', 'consultancy', 'homogeneous', 'hornets', 'multiplication', 'pasta', 'prick', 'savior', '##grin', '##kou', '##phile', 'yoon', '##gara', 'grimes', 'vanishing', 'cheering', 'reacting', 'bn', 'distillery', '##quisite', '##vity', 'coe', 'dockyard', 'massif', '##jord', 'escorts', 'voss', '##valent', 'byte', 'chopped', 'hawke', 'illusions', 'workings', 'floats', '##koto', '##vac', 'kv', 'annapolis', 'madden', '##onus', 'alvaro', 'noctuidae', '##cum', '##scopic', 'avenge', 'steamboat', 'forte', 'illustrates', 'erika', '##trip', '570', 'dew', 'nationalities', 'bran', 'manifested', 'thirsty', 'diversified', 'muscled', 'reborn', '##standing', 'arson', '##lessness', '##dran', '##logram', '##boys', '##kushima', '##vious', 'willoughby', '##phobia', '286', 'alsace', 'dashboard', 'yuki', '##chai', 'granville', 'myspace', 'publicized', 'tricked', '##gang', 'adjective', '##ater', 'relic', 'reorganisation', 'enthusiastically', 'indications', 'saxe', '##lassified', 'consolidate', 'iec', 'padua', 'helplessly', 'ramps', 'renaming', 'regulars', 'pedestrians', 'accents', 'convicts', 'inaccurate', 'lowers', 'mana', '##pati', 'barrie', 'bjp', 'outta', 'someplace', 'berwick', 'flanking', 'invoked', 'marrow', 'sparsely', 'excerpts', 'clothed', 'rei', '##ginal', 'wept', '##straße', '##vish', 'alexa', 'excel', '##ptive', 'membranes', 'aquitaine', 'creeks', 'cutler', 'sheppard', 'implementations', 'ns', '##dur', 'fragrance', 'budge', 'concordia', 'magnesium', 'marcelo', '##antes', 'gladly', 'vibrating', '##rral', '##ggles', 'montrose', '##omba', 'lew', 'seamus', '1630', 'cocky', '##ament', '##uen', 'bjorn', '##rrick', 'fielder', 'fluttering', '##lase', 'methyl', 'kimberley', 'mcdowell', 'reductions', 'barbed', '##jic', '##tonic', 'aeronautical', 'condensed', 'distracting', '##promising', 'huffed', '##cala', '##sle', 'claudius', 'invincible', 'missy', 'pious', 'balthazar', 'ci', '##lang', 'butte', 'combo', 'orson', '##dication', 'myriad', '1707', 'silenced', '##fed', '##rh', 'coco', 'netball', 'yourselves', '##oza', 'clarify', 'heller', 'peg', 'durban', 'etudes', 'offender', 'roast', 'blackmail', 'curvature', '##woods', 'vile', '309', 'illicit', 'suriname', '##linson', 'overture', '1685', 'bubbling', 'gymnast', 'tucking', '##mming', '##ouin', 'maldives', '##bala', 'gurney', '##dda', '##eased', '##oides', 'backside', 'pinto', 'jars', 'racehorse', 'tending', '##rdial', 'baronetcy', 'wiener', 'duly', '##rke', 'barbarian', 'cupping', 'flawed', '##thesis', 'bertha', 'pleistocene', 'puddle', 'swearing', '##nob', '##tically', 'fleeting', 'prostate', 'amulet', 'educating', '##mined', '##iti', '##tler', '75th', 'jens', 'respondents', 'analytics', 'cavaliers', 'papacy', 'raju', '##iente', '##ulum', '##tip', 'funnel', '271', 'disneyland', '##lley', 'sociologist', '##iam', '2500', 'faulkner', 'louvre', 'menon', '##dson', '276', '##ower', 'afterlife', 'mannheim', 'peptide', 'referees', 'comedians', 'meaningless', '##anger', '##laise', 'fabrics', 'hurley', 'renal', 'sleeps', '##bour', '##icle', 'breakout', 'kristin', 'roadside', 'animator', 'clover', 'disdain', 'unsafe', 'redesign', '##urity', 'firth', 'barnsley', 'portage', 'reset', 'narrows', '268', 'commandos', 'expansive', 'speechless', 'tubular', '##lux', 'essendon', 'eyelashes', 'smashwords', '##yad', '##bang', '##claim', 'craved', 'sprinted', 'chet', 'somme', 'astor', 'wrocław', 'orton', '266', 'bane', '##erving', '##uing', 'mischief', '##amps', '##sund', 'scaling', 'terre', '##xious', 'impairment', 'offenses', 'undermine', 'moi', 'soy', 'contiguous', 'arcadia', 'inuit', 'seam', '##tops', 'macbeth', 'rebelled', '##icative', '##iot', '590', 'elaborated', 'frs', 'uniformed', '##dberg', '259', 'powerless', 'priscilla', 'stimulated', '980', 'qc', 'arboretum', 'frustrating', 'trieste', 'bullock', '##nified', 'enriched', 'glistening', 'intern', '##adia', 'locus', 'nouvelle', 'ollie', 'ike', 'lash', 'starboard', 'ee', 'tapestry', 'headlined', 'hove', 'rigged', '##vite', 'pollock', '##yme', 'thrive', 'clustered', 'cas', 'roi', 'gleamed', 'olympiad', '##lino', 'pressured', 'regimes', '##hosis', '##lick', 'ripley', '##ophone', 'kickoff', 'gallon', 'rockwell', '##arable', 'crusader', 'glue', 'revolutions', 'scrambling', '1714', 'grover', '##jure', 'englishman', 'aztec', '263', 'contemplating', 'coven', 'ipad', 'preach', 'triumphant', 'tufts', '##esian', 'rotational', '##phus', '328', 'falkland', '##brates', 'strewn', 'clarissa', 'rejoin', 'environmentally', 'glint', 'banded', 'drenched', 'moat', 'albanians', 'johor', 'rr', 'maestro', 'malley', 'nouveau', 'shaded', 'taxonomy', 'v6', 'adhere', 'bunk', 'airfields', '##ritan', '1741', 'encompass', 'remington', 'tran', '##erative', 'amelie', 'mazda', 'friar', 'morals', 'passions', '##zai', 'breadth', 'vis', '##hae', 'argus', 'burnham', 'caressing', 'insider', 'rudd', '##imov', '##mini', '##rso', 'italianate', 'murderous', 'textual', 'wainwright', 'armada', 'bam', 'weave', 'timer', '##taken', '##nh', 'fra', '##crest', 'ardent', 'salazar', 'taps', 'tunis', '##ntino', 'allegro', 'gland', 'philanthropic', '##chester', 'implication', '##optera', 'esq', 'judas', 'noticeably', 'wynn', '##dara', 'inched', 'indexed', 'crises', 'villiers', 'bandit', 'royalties', 'patterned', 'cupboard', 'interspersed', 'accessory', 'isla', 'kendrick', 'entourage', 'stitches', '##esthesia', 'headwaters', '##ior', 'interlude', 'distraught', 'draught', '1727', '##basket', 'biased', 'sy', 'transient', 'triad', 'subgenus', 'adapting', 'kidd', 'shortstop', '##umatic', 'dimly', 'spiked', 'mcleod', 'reprint', 'nellie', 'pretoria', 'windmill', '##cek', 'singled', '##mps', '273', 'reunite', '##orous', '747', 'bankers', 'outlying', '##omp', '##ports', '##tream', 'apologies', 'cosmetics', 'patsy', '##deh', '##ocks', '##yson', 'bender', 'nantes', 'serene', '##nad', 'lucha', 'mmm', '323', '##cius', '##gli', 'cmll', 'coinage', 'nestor', 'juarez', '##rook', 'smeared', 'sprayed', 'twitching', 'sterile', 'irina', 'embodied', 'juveniles', 'enveloped', 'miscellaneous', 'cancers', 'dq', 'gulped', 'luisa', 'crested', 'swat', 'donegal', 'ref', '##anov', '##acker', 'hearst', 'mercantile', '##lika', 'doorbell', 'ua', 'vicki', '##alla', '##som', 'bilbao', 'psychologists', 'stryker', 'sw', 'horsemen', 'turkmenistan', 'wits', '##national', 'anson', 'mathew', 'screenings', '##umb', 'rihanna', '##agne', '##nessy', 'aisles', '##iani', '##osphere', 'hines', 'kenton', 'saskatoon', 'tasha', 'truncated', '##champ', '##itan', 'mildred', 'advises', 'fredrik', 'interpreting', 'inhibitors', '##athi', 'spectroscopy', '##hab', '##kong', 'karim', 'panda', '##oia', '##nail', '##vc', 'conqueror', 'kgb', 'leukemia', '##dity', 'arrivals', 'cheered', 'pisa', 'phosphorus', 'shielded', '##riated', 'mammal', 'unitarian', 'urgently', 'chopin', 'sanitary', '##mission', 'spicy', 'drugged', 'hinges', '##tort', 'tipping', 'trier', 'impoverished', 'westchester', '##caster', '267', 'epoch', 'nonstop', '##gman', '##khov', 'aromatic', 'centrally', 'cerro', '##tively', '##vio', 'billions', 'modulation', 'sedimentary', '283', 'facilitating', 'outrageous', 'goldstein', '##eak', '##kt', 'ld', 'maitland', 'penultimate', 'pollard', '##dance', 'fleets', 'spaceship', 'vertebrae', '##nig', 'alcoholism', 'als', 'recital', '##bham', '##ference', '##omics', 'm2', '##bm', 'trois', '##tropical', '##в', 'commemorates', '##meric', 'marge', '##raction', '1643', '670', 'cosmetic', 'ravaged', '##ige', 'catastrophe', 'eng', '##shida', 'albrecht', 'arterial', 'bellamy', 'decor', 'harmon', '##rde', 'bulbs', 'synchronized', 'vito', 'easiest', 'shetland', 'shielding', 'wnba', '##glers', '##ssar', '##riam', 'brianna', 'cumbria', '##aceous', '##rard', 'cores', 'thayer', '##nsk', 'brood', 'hilltop', 'luminous', 'carts', 'keynote', 'larkin', 'logos', '##cta', '##ا', '##mund', '##quay', 'lilith', 'tinted', '277', 'wrestle', 'mobilization', '##uses', 'sequential', 'siam', 'bloomfield', 'takahashi', '274', '##ieving', 'presenters', 'ringo', 'blazed', 'witty', '##oven', '##ignant', 'devastation', 'haydn', 'harmed', 'newt', 'therese', '##peed', 'gershwin', 'molina', 'rabbis', 'sudanese', '001', 'innate', 'restarted', '##sack', '##fus', 'slices', 'wb', '##shah', 'enroll', 'hypothetical', 'hysterical', '1743', 'fabio', 'indefinite', 'warped', '##hg', 'exchanging', '525', 'unsuitable', '##sboro', 'gallo', '1603', 'bret', 'cobalt', 'homemade', '##hunter', 'mx', 'operatives', '##dhar', 'terraces', 'durable', 'latch', 'pens', 'whorls', '##ctuated', '##eaux', 'billing', 'ligament', 'succumbed', '##gly', 'regulators', 'spawn', '##brick', '##stead', 'filmfare', 'rochelle', '##nzo', '1725', 'circumstance', 'saber', 'supplements', '##nsky', '##tson', 'crowe', 'wellesley', 'carrot', '##9th', '##movable', 'primate', 'drury', 'sincerely', 'topical', '##mad', '##rao', 'callahan', 'kyiv', 'smarter', 'tits', 'undo', '##yeh', 'announcements', 'anthologies', 'barrio', 'nebula', '##islaus', '##shaft', '##tyn', 'bodyguards', '2021', 'assassinate', 'barns', 'emmett', 'scully', '##mah', '##yd', '##eland', '##tino', '##itarian', 'demoted', 'gorman', 'lashed', 'prized', 'adventist', 'writ', '##gui', 'alla', 'invertebrates', '##ausen', '1641', 'amman', '1742', 'align', 'healy', 'redistribution', '##gf', '##rize', 'insulation', '##drop', 'adherents', 'hezbollah', 'vitro', 'ferns', 'yanking', '269', 'php', 'registering', 'uppsala', 'cheerleading', 'confines', 'mischievous', 'tully', '##ross', '49th', 'docked', 'roam', 'stipulated', 'pumpkin', '##bry', 'prompt', '##ezer', 'blindly', 'shuddering', 'craftsmen', 'frail', 'scented', 'katharine', 'scramble', 'shaggy', 'sponge', 'helix', 'zaragoza', '279', '##52', '43rd', 'backlash', 'fontaine', 'seizures', 'posse', 'cowan', 'nonfiction', 'telenovela', 'wwii', 'hammered', 'undone', '##gpur', 'encircled', 'irs', '##ivation', 'artefacts', 'oneself', 'searing', 'smallpox', '##belle', '##osaurus', 'shandong', 'breached', 'upland', 'blushing', 'rankin', 'infinitely', 'psyche', 'tolerated', 'docking', 'evicted', '##col', 'unmarked', '##lving', 'gnome', 'lettering', 'litres', 'musique', '##oint', 'benevolent', '##jal', 'blackened', '##anna', 'mccall', 'racers', 'tingle', '##ocene', '##orestation', 'introductions', 'radically', '292', '##hiff', '##باد', '1610', '1739', 'munchen', 'plead', '##nka', 'condo', 'scissors', '##sight', '##tens', 'apprehension', '##cey', '##yin', 'hallmark', 'watering', 'formulas', 'sequels', '##llas', 'aggravated', 'bae', 'commencing', '##building', 'enfield', 'prohibits', 'marne', 'vedic', 'civilized', 'euclidean', 'jagger', 'beforehand', 'blasts', 'dumont', '##arney', '##nem', '740', 'conversions', 'hierarchical', 'rios', 'simulator', '##dya', '##lellan', 'hedges', 'oleg', 'thrusts', 'shadowed', 'darby', 'maximize', '1744', 'gregorian', '##nded', '##routed', 'sham', 'unspecified', '##hog', 'emory', 'factual', '##smo', '##tp', 'fooled', '##rger', 'ortega', 'wellness', 'marlon', '##oton', '##urance', 'casket', 'keating', 'ley', 'enclave', '##ayan', 'char', 'influencing', 'jia', '##chenko', '412', 'ammonia', 'erebidae', 'incompatible', 'violins', 'cornered', '##arat', 'grooves', 'astronauts', 'columbian', 'rampant', 'fabrication', 'kyushu', 'mahmud', 'vanish', '##dern', 'mesopotamia', '##lete', 'ict', '##rgen', 'caspian', 'kenji', 'pitted', '##vered', '999', 'grimace', 'roanoke', 'tchaikovsky', 'twinned', '##analysis', '##awan', 'xinjiang', 'arias', 'clemson', 'kazakh', 'sizable', '1662', '##khand', '##vard', 'plunge', 'tatum', 'vittorio', '##nden', 'cholera', '##dana', '##oper', 'bracing', 'indifference', 'projectile', 'superliga', '##chee', 'realises', 'upgrading', '299', 'porte', 'retribution', '##vies', 'nk', 'stil', '##resses', 'ama', 'bureaucracy', 'blackberry', 'bosch', 'testosterone', 'collapses', 'greer', '##pathic', 'ioc', 'fifties', 'malls', '##erved', 'bao', 'baskets', 'adolescents', 'siegfried', '##osity', '##tosis', 'mantra', 'detecting', 'existent', 'fledgling', '##cchi', 'dissatisfied', 'gan', 'telecommunication', 'mingled', 'sobbed', '6000', 'controversies', 'outdated', 'taxis', '##raus', 'fright', 'slams', '##lham', '##fect', '##tten', 'detectors', 'fetal', 'tanned', '##uw', 'fray', 'goth', 'olympian', 'skipping', 'mandates', 'scratches', 'sheng', 'unspoken', 'hyundai', 'tracey', 'hotspur', 'restrictive', '##buch', 'americana', 'mundo', '##bari', 'burroughs', 'diva', 'vulcan', '##6th', 'distinctions', 'thumping', '##ngen', 'mikey', 'sheds', 'fide', 'rescues', 'springsteen', 'vested', 'valuation', '##ece', '##ely', 'pinnacle', 'rake', 'sylvie', '##edo', 'almond', 'quivering', '##irus', 'alteration', 'faltered', '##wad', '51st', 'hydra', 'ticked', '##kato', 'recommends', '##dicated', 'antigua', 'arjun', 'stagecoach', 'wilfred', 'trickle', 'pronouns', '##pon', 'aryan', 'nighttime', '##anian', 'gall', 'pea', 'stitch', '##hei', 'leung', 'milos', '##dini', 'eritrea', 'nexus', 'starved', 'snowfall', 'kant', 'parasitic', 'cot', 'discus', 'hana', 'strikers', 'appleton', 'kitchens', '##erina', '##partisan', '##itha', '##vius', 'disclose', 'metis', '##channel', '1701', 'tesla', '##vera', 'fitch', '1735', 'blooded', '##tila', 'decimal', '##tang', '##bai', 'cyclones', 'eun', 'bottled', 'peas', 'pensacola', 'basha', 'bolivian', 'crabs', 'boil', 'lanterns', 'partridge', 'roofed', '1645', 'necks', '##phila', 'opined', 'patting', '##kla', '##lland', 'chuckles', 'volta', 'whereupon', '##nche', 'devout', 'euroleague', 'suicidal', '##dee', 'inherently', 'involuntary', 'knitting', 'nasser', '##hide', 'puppets', 'colourful', 'courageous', 'southend', 'stills', 'miraculous', 'hodgson', 'richer', 'rochdale', 'ethernet', 'greta', 'uniting', 'prism', 'umm', '##haya', '##itical', '##utation', 'deterioration', 'pointe', 'prowess', '##ropriation', 'lids', 'scranton', 'billings', 'subcontinent', '##koff', '##scope', 'brute', 'kellogg', 'psalms', 'degraded', '##vez', 'stanisław', '##ructured', 'ferreira', 'pun', 'astonishing', 'gunnar', '##yat', 'arya', 'prc', 'gottfried', '##tight', 'excursion', '##ographer', 'dina', '##quil', '##nare', 'huffington', 'illustrious', 'wilbur', 'gundam', 'verandah', '##zard', 'naacp', '##odle', 'constructive', 'fjord', 'kade', '##naud', 'generosity', 'thrilling', 'baseline', 'cayman', 'frankish', 'plastics', 'accommodations', 'zoological', '##fting', 'cedric', 'qb', 'motorized', '##dome', '##otted', 'squealed', 'tackled', 'canucks', 'budgets', 'situ', 'asthma', 'dail', 'gabled', 'grasslands', 'whimpered', 'writhing', 'judgments', '##65', 'minnie', 'pv', '##carbon', 'bananas', 'grille', 'domes', 'monique', 'odin', 'maguire', 'markham', 'tierney', '##estra', '##chua', 'libel', 'poke', 'speedy', 'atrium', 'laval', 'notwithstanding', '##edly', 'fai', 'kala', '##sur', 'robb', '##sma', 'listings', 'luz', 'supplementary', 'tianjin', '##acing', 'enzo', 'jd', 'ric', 'scanner', 'croats', 'transcribed', '##49', 'arden', 'cv', '##hair', '##raphy', '##lver', '##uy', '357', 'seventies', 'staggering', 'alam', 'horticultural', 'hs', 'regression', 'timbers', 'blasting', '##ounded', 'montagu', 'manipulating', '##cit', 'catalytic', '1550', 'troopers', '##meo', 'condemnation', 'fitzpatrick', '##oire', '##roved', 'inexperienced', '1670', 'castes', '##lative', 'outing', '314', 'dubois', 'flicking', 'quarrel', 'ste', 'learners', '1625', 'iq', 'whistled', '##class', '282', 'classify', 'tariffs', 'temperament', '355', 'folly', 'liszt', '##yles', 'immersed', 'jordanian', 'ceasefire', 'apparel', 'extras', 'maru', 'fished', '##bio', 'harta', 'stockport', 'assortment', 'craftsman', 'paralysis', 'transmitters', '##cola', 'blindness', '##wk', 'fatally', 'proficiency', 'solemnly', '##orno', 'repairing', 'amore', 'groceries', 'ultraviolet', '##chase', 'schoolhouse', '##tua', 'resurgence', 'nailed', '##otype', '##×', 'ruse', 'saliva', 'diagrams', '##tructing', 'albans', 'rann', 'thirties', '1b', 'antennas', 'hilarious', 'cougars', 'paddington', 'stats', '##eger', 'breakaway', 'ipod', 'reza', 'authorship', 'prohibiting', 'scoffed', '##etz', '##ttle', 'conscription', 'defected', 'trondheim', '##fires', 'ivanov', 'keenan', '##adan', '##ciful', '##fb', '##slow', 'locating', '##ials', '##tford', 'cadiz', 'basalt', 'blankly', 'interned', 'rags', 'rattling', '##tick', 'carpathian', 'reassured', 'sync', 'bum', 'guildford', 'iss', 'staunch', '##onga', 'astronomers', 'sera', 'sofie', 'emergencies', 'susquehanna', '##heard', 'duc', 'mastery', 'vh1', 'williamsburg', 'bayer', 'buckled', 'craving', '##khan', '##rdes', 'bloomington', '##write', 'alton', 'barbecue', '##bians', 'justine', '##hri', '##ndt', 'delightful', 'smartphone', 'newtown', 'photon', 'retrieval', 'peugeot', 'hissing', '##monium', '##orough', 'flavors', 'lighted', 'relaunched', 'tainted', '##games', '##lysis', 'anarchy', 'microscopic', 'hopping', 'adept', 'evade', 'evie', '##beau', 'inhibit', 'sinn', 'adjustable', 'hurst', 'intuition', 'wilton', 'cisco', '44th', 'lawful', 'lowlands', 'stockings', 'thierry', '##dalen', '##hila', '##nai', 'fates', 'prank', 'tb', 'maison', 'lobbied', 'provocative', '1724', '4a', 'utopia', '##qual', 'carbonate', 'gujarati', 'purcell', '##rford', 'curtiss', '##mei', 'overgrown', 'arenas', 'mediation', 'swallows', '##rnik', 'respectful', 'turnbull', '##hedron', '##hope', 'alyssa', 'ozone', '##ʻi', 'ami', 'gestapo', 'johansson', 'snooker', 'canteen', 'cuff', 'declines', 'empathy', 'stigma', '##ags', '##iner', '##raine', 'taxpayers', 'gui', 'volga', '##wright', '##copic', 'lifespan', 'overcame', 'tattooed', 'enactment', 'giggles', '##ador', '##camp', 'barrington', 'bribe', 'obligatory', 'orbiting', 'peng', '##enas', 'elusive', 'sucker', '##vating', 'cong', 'hardship', 'empowered', 'anticipating', 'estrada', 'cryptic', 'greasy', 'detainees', 'planck', 'sudbury', 'plaid', 'dod', 'marriott', 'kayla', '##ears', '##vb', '##zd', 'mortally', '##hein', 'cognition', 'radha', '319', 'liechtenstein', 'meade', 'richly', 'argyle', 'harpsichord', 'liberalism', 'trumpets', 'lauded', 'tyrant', 'salsa', 'tiled', 'lear', 'promoters', 'reused', 'slicing', 'trident', '##chuk', '##gami', '##lka', 'cantor', 'checkpoint', '##points', 'gaul', 'leger', 'mammalian', '##tov', '##aar', '##schaft', 'doha', 'frenchman', 'nirvana', '##vino', 'delgado', 'headlining', '##eron', '##iography', 'jug', 'tko', '1649', 'naga', 'intersections', '##jia', 'benfica', 'nawab', '##suka', 'ashford', 'gulp', '##deck', '##vill', '##rug', 'brentford', 'frazier', 'pleasures', 'dunne', 'potsdam', 'shenzhen', 'dentistry', '##tec', 'flanagan', '##dorff', '##hear', 'chorale', 'dinah', 'prem', 'quezon', '##rogated', 'relinquished', 'sutra', 'terri', '##pani', 'flaps', '##rissa', 'poly', '##rnet', 'homme', 'aback', '##eki', 'linger', 'womb', '##kson', '##lewood', 'doorstep', 'orthodoxy', 'threaded', 'westfield', '##rval', 'dioceses', 'fridays', 'subsided', '##gata', 'loyalists', '##biotic', '##ettes', 'letterman', 'lunatic', 'prelate', 'tenderly', 'invariably', 'souza', 'thug', 'winslow', '##otide', 'furlongs', 'gogh', 'jeopardy', '##runa', 'pegasus', '##umble', 'humiliated', 'standalone', 'tagged', '##roller', 'freshmen', 'klan', '##bright', 'attaining', 'initiating', 'transatlantic', 'logged', 'viz', '##uance', '1723', 'combatants', 'intervening', 'stephane', 'chieftain', 'despised', 'grazed', '317', 'cdc', 'galveston', 'godzilla', 'macro', 'simulate', '##planes', 'parades', '##esses', '960', '##ductive', '##unes', 'equator', 'overdose', '##cans', '##hosh', '##lifting', 'joshi', 'epstein', 'sonora', 'treacherous', 'aquatics', 'manchu', 'responsive', '##sation', 'supervisory', '##christ', '##llins', '##ibar', '##balance', '##uso', 'kimball', 'karlsruhe', 'mab', '##emy', 'ignores', 'phonetic', 'reuters', 'spaghetti', '820', 'almighty', 'danzig', 'rumbling', 'tombstone', 'designations', 'lured', 'outset', '##felt', 'supermarkets', '##wt', 'grupo', 'kei', 'kraft', 'susanna', '##blood', 'comprehension', 'genealogy', '##aghan', '##verted', 'redding', '##ythe', '1722', 'bowing', '##pore', '##roi', 'lest', 'sharpened', 'fulbright', 'valkyrie', 'sikhs', '##unds', 'swans', 'bouquet', 'merritt', '##tage', '##venting', 'commuted', 'redhead', 'clerks', 'leasing', 'cesare', 'dea', 'hazy', '##vances', 'fledged', 'greenfield', 'servicemen', '##gical', 'armando', 'blackout', 'dt', 'sagged', 'downloadable', 'intra', 'potion', 'pods', '##4th', '##mism', 'xp', 'attendants', 'gambia', 'stale', '##ntine', 'plump', 'asteroids', 'rediscovered', 'buds', 'flea', 'hive', '##neas', '1737', 'classifications', 'debuts', '##eles', 'olympus', 'scala', '##eurs', '##gno', '##mute', 'hummed', 'sigismund', 'visuals', 'wiggled', 'await', 'pilasters', 'clench', 'sulfate', '##ances', 'bellevue', 'enigma', 'trainee', 'snort', '##sw', 'clouded', 'denim', '##rank', '##rder', 'churning', 'hartman', 'lodges', 'riches', 'sima', '##missible', 'accountable', 'socrates', 'regulates', 'mueller', '##cr', '1702', 'avoids', 'solids', 'himalayas', 'nutrient', 'pup', '##jevic', 'squat', 'fades', 'nec', '##lates', '##pina', '##rona', '##ου', 'privateer', 'tequila', '##gative', '##mpton', 'apt', 'hornet', 'immortals', '##dou', 'asturias', 'cleansing', 'dario', '##rries', '##anta', 'etymology', 'servicing', 'zhejiang', '##venor', '##nx', 'horned', 'erasmus', 'rayon', 'relocating', '£10', '##bags', 'escalated', 'promenade', 'stubble', '2010s', 'artisans', 'axial', 'liquids', 'mora', 'sho', 'yoo', '##tsky', 'bundles', 'oldies', '##nally', 'notification', 'bastion', '##ths', 'sparkle', '##lved', '1728', 'leash', 'pathogen', 'highs', '##hmi', 'immature', '880', 'gonzaga', 'ignatius', 'mansions', 'monterrey', 'sweets', 'bryson', '##loe', 'polled', 'regatta', 'brightest', 'pei', 'rosy', 'squid', 'hatfield', 'payroll', 'addict', 'meath', 'cornerback', 'heaviest', 'lodging', '##mage', 'capcom', 'rippled', '##sily', 'barnet', 'mayhem', 'ymca', 'snuggled', 'rousseau', '##cute', 'blanchard', '284', 'fragmented', 'leighton', 'chromosomes', 'risking', '##md', '##strel', '##utter', 'corinne', 'coyotes', 'cynical', 'hiroshi', 'yeomanry', '##ractive', 'ebook', 'grading', 'mandela', 'plume', 'agustin', 'magdalene', '##rkin', 'bea', 'femme', 'trafford', '##coll', '##lun', '##tance', '52nd', 'fourier', 'upton', '##mental', 'camilla', 'gust', 'iihf', 'islamabad', 'longevity', '##kala', 'feldman', 'netting', '##rization', 'endeavour', 'foraging', 'mfa', 'orr', '##open', 'greyish', 'contradiction', 'graz', '##ruff', 'handicapped', 'marlene', 'tweed', 'oaxaca', 'spp', 'campos', 'miocene', 'pri', 'configured', 'cooks', 'pluto', 'cozy', 'pornographic', '##entes', '70th', 'fairness', 'glided', 'jonny', 'lynne', 'rounding', 'sired', '##emon', '##nist', 'remade', 'uncover', '##mack', 'complied', 'lei', 'newsweek', '##jured', '##parts', '##enting', '##pg', '293', 'finer', 'guerrillas', 'athenian', 'deng', 'disused', 'stepmother', 'accuse', 'gingerly', 'seduction', '521', 'confronting', '##walker', '##going', 'gora', 'nostalgia', 'sabres', 'virginity', 'wrenched', '##minated', 'syndication', 'wielding', 'eyre', '##56', '##gnon', '##igny', 'behaved', 'taxpayer', 'sweeps', '##growth', 'childless', 'gallant', '##ywood', 'amplified', 'geraldine', 'scrape', '##ffi', 'babylonian', 'fresco', '##rdan', '##kney', '##position', '1718', 'restricting', 'tack', 'fukuoka', 'osborn', 'selector', 'partnering', '##dlow', '318', 'gnu', 'kia', 'tak', 'whitley', 'gables', '##54', '##mania', 'mri', 'softness', 'immersion', '##bots', '##evsky', '1713', 'chilling', 'insignificant', 'pcs', '##uis', 'elites', 'lina', 'purported', 'supplemental', 'teaming', '##americana', '##dding', '##inton', 'proficient', 'rouen', '##nage', '##rret', 'niccolo', 'selects', '##bread', 'fluffy', '1621', 'gruff', 'knotted', 'mukherjee', 'polgara', 'thrash', 'nicholls', 'secluded', 'smoothing', 'thru', 'corsica', 'loaf', 'whitaker', 'inquiries', '##rrier', '##kam', 'indochina', '289', 'marlins', 'myles', 'peking', '##tea', 'extracts', 'pastry', 'superhuman', 'connacht', 'vogel', '##ditional', '##het', '##udged', '##lash', 'gloss', 'quarries', 'refit', 'teaser', '##alic', '##gaon', '20s', 'materialized', 'sling', 'camped', 'pickering', 'tung', 'tracker', 'pursuant', '##cide', 'cranes', 'soc', '##cini', '##typical', '##viere', 'anhalt', 'overboard', 'workout', 'chores', 'fares', 'orphaned', 'stains', '##logie', 'fenton', 'surpassing', 'joyah', 'triggers', '##itte', 'grandmaster', '##lass', '##lists', 'clapping', 'fraudulent', 'ledger', 'nagasaki', '##cor', '##nosis', '##tsa', 'eucalyptus', 'tun', '##icio', '##rney', '##tara', 'dax', 'heroism', 'ina', 'wrexham', 'onboard', 'unsigned', '##dates', 'moshe', 'galley', 'winnie', 'droplets', 'exiles', 'praises', 'watered', 'noodles', '##aia', 'fein', 'adi', 'leland', 'multicultural', 'stink', 'bingo', 'comets', 'erskine', 'modernized', 'canned', 'constraint', 'domestically', 'chemotherapy', 'featherweight', 'stifled', '##mum', 'darkly', 'irresistible', 'refreshing', 'hasty', 'isolate', '##oys', 'kitchener', 'planners', '##wehr', 'cages', 'yarn', 'implant', 'toulon', 'elects', 'childbirth', 'yue', '##lind', '##lone', 'cn', 'rightful', 'sportsman', 'junctions', 'remodeled', 'specifies', '##rgh', '291', '##oons', 'complimented', '##urgent', 'lister', 'ot', '##logic', 'bequeathed', 'cheekbones', 'fontana', 'gabby', '##dial', 'amadeus', 'corrugated', 'maverick', 'resented', 'triangles', '##hered', '##usly', 'nazareth', 'tyrol', '1675', 'assent', 'poorer', 'sectional', 'aegean', '##cous', '296', 'nylon', 'ghanaian', '##egorical', '##weig', 'cushions', 'forbid', 'fusiliers', 'obstruction', 'somerville', '##scia', 'dime', 'earrings', 'elliptical', 'leyte', 'oder', 'polymers', 'timmy', 'atm', 'midtown', 'piloted', 'settles', 'continual', 'externally', 'mayfield', '##uh', 'enrichment', 'henson', 'keane', 'persians', '1733', 'benji', 'braden', 'pep', '324', '##efe', 'contenders', 'pepsi', 'valet', '##isches', '298', '##asse', '##earing', 'goofy', 'stroll', '##amen', 'authoritarian', 'occurrences', 'adversary', 'ahmedabad', 'tangent', 'toppled', 'dorchester', '1672', 'modernism', 'marxism', 'islamist', 'charlemagne', 'exponential', 'racks', 'unicode', 'brunette', 'mbc', 'pic', 'skirmish', '##bund', '##lad', '##powered', '##yst', 'hoisted', 'messina', 'shatter', '##ctum', 'jedi', 'vantage', '##music', '##neil', 'clemens', 'mahmoud', 'corrupted', 'authentication', 'lowry', 'nils', '##washed', 'omnibus', 'wounding', 'jillian', '##itors', '##opped', 'serialized', 'narcotics', 'handheld', '##arm', '##plicity', 'intersecting', 'stimulating', '##onis', 'crate', 'fellowships', 'hemingway', 'casinos', 'climatic', 'fordham', 'copeland', 'drip', 'beatty', 'leaflets', 'robber', 'brothel', 'madeira', '##hedral', 'sphinx', 'ultrasound', '##vana', 'valor', 'forbade', 'leonid', 'villas', '##aldo', 'duane', 'marquez', '##cytes', 'disadvantaged', 'forearms', 'kawasaki', 'reacts', 'consular', 'lax', 'uncles', 'uphold', '##hopper', 'concepcion', 'dorsey', 'lass', '##izan', 'arching', 'passageway', '1708', 'researches', 'tia', 'internationals', '##graphs', '##opers', 'distinguishes', 'javanese', 'divert', '##uven', 'plotted', '##listic', '##rwin', '##erik', '##tify', 'affirmative', 'signifies', 'validation', '##bson', 'kari', 'felicity', 'georgina', 'zulu', '##eros', '##rained', '##rath', 'overcoming', '##dot', 'argyll', '##rbin', '1734', 'chiba', 'ratification', 'windy', 'earls', 'parapet', '##marks', 'hunan', 'pristine', 'astrid', 'punta', '##gart', 'brodie', '##kota', '##oder', 'malaga', 'minerva', 'rouse', '##phonic', 'bellowed', 'pagoda', 'portals', 'reclamation', '##gur', '##odies', '##⁄₄', 'parentheses', 'quoting', 'allergic', 'palette', 'showcases', 'benefactor', 'heartland', 'nonlinear', '##tness', 'bladed', 'cheerfully', 'scans', '##ety', '##hone', '1666', 'girlfriends', 'pedersen', 'hiram', 'sous', '##liche', '##nator', '1683', '##nery', '##orio', '##umen', 'bobo', 'primaries', 'smiley', '##cb', 'unearthed', 'uniformly', 'fis', 'metadata', '1635', 'ind', '##oted', 'recoil', '##titles', '##tura', '##ια', '406', 'hilbert', 'jamestown', 'mcmillan', 'tulane', 'seychelles', '##frid', 'antics', 'coli', 'fated', 'stucco', '##grants', '1654', 'bulky', 'accolades', 'arrays', 'caledonian', 'carnage', 'optimism', 'puebla', '##tative', '##cave', 'enforcing', 'rotherham', 'seo', 'dunlop', 'aeronautics', 'chimed', 'incline', 'zoning', 'archduke', 'hellenistic', '##oses', '##sions', 'candi', 'thong', '##ople', 'magnate', 'rustic', '##rsk', 'projective', 'slant', '##offs', 'danes', 'hollis', 'vocalists', '##ammed', 'congenital', 'contend', 'gesellschaft', '##ocating', '##pressive', 'douglass', 'quieter', '##cm', '##kshi', 'howled', 'salim', 'spontaneously', 'townsville', 'buena', 'southport', '##bold', 'kato', '1638', 'faerie', 'stiffly', '##vus', '##rled', '297', 'flawless', 'realising', 'taboo', '##7th', 'bytes', 'straightening', '356', 'jena', '##hid', '##rmin', 'cartwright', 'berber', 'bertram', 'soloists', '411', 'noses', '417', 'coping', 'fission', 'hardin', 'inca', '##cen', '1717', 'mobilized', 'vhf', '##raf', 'biscuits', 'curate', '##85', '##anial', '331', 'gaunt', 'neighbourhoods', '1540', '##abas', 'blanca', 'bypassed', 'sockets', 'behold', 'coincidentally', '##bane', 'nara', 'shave', 'splinter', 'terrific', '##arion', '##erian', 'commonplace', 'juris', 'redwood', 'waistband', 'boxed', 'caitlin', 'fingerprints', 'jennie', 'naturalized', '##ired', 'balfour', 'craters', 'jody', 'bungalow', 'hugely', 'quilt', 'glitter', 'pigeons', 'undertaker', 'bulging', 'constrained', 'goo', '##sil', '##akh', 'assimilation', 'reworked', '##person', 'persuasion', '##pants', 'felicia', '##cliff', '##ulent', '1732', 'explodes', '##dun', '##inium', '##zic', 'lyman', 'vulture', 'hog', 'overlook', 'begs', 'northwards', 'ow', 'spoil', '##urer', 'fatima', 'favorably', 'accumulate', 'sargent', 'sorority', 'corresponded', 'dispersal', 'kochi', 'toned', '##imi', '##lita', 'internacional', 'newfound', '##agger', '##lynn', '##rigue', 'booths', 'peanuts', '##eborg', 'medicare', 'muriel', 'nur', '##uram', 'crates', 'millennia', 'pajamas', 'worsened', '##breakers', 'jimi', 'vanuatu', 'yawned', '##udeau', 'carousel', '##hony', 'hurdle', '##ccus', '##mounted', '##pod', 'rv', '##eche', 'airship', 'ambiguity', 'compulsion', 'recapture', '##claiming', 'arthritis', '##osomal', '1667', 'asserting', 'ngc', 'sniffing', 'dade', 'discontent', 'glendale', 'ported', '##amina', 'defamation', 'rammed', '##scent', 'fling', 'livingstone', '##fleet', '875', '##ppy', 'apocalyptic', 'comrade', 'lcd', '##lowe', 'cessna', 'eine', 'persecuted', 'subsistence', 'demi', 'hoop', 'reliefs', '710', 'coptic', 'progressing', 'stemmed', 'perpetrators', '1665', 'priestess', '##nio', 'dobson', 'ebony', 'rooster', 'itf', 'tortricidae', '##bbon', '##jian', 'cleanup', '##jean', '##øy', '1721', 'eighties', 'taxonomic', 'holiness', '##hearted', '##spar', 'antilles', 'showcasing', 'stabilized', '##nb', 'gia', 'mascara', 'michelangelo', 'dawned', '##uria', '##vinsky', 'extinguished', 'fitz', 'grotesque', '£100', '##fera', '##loid', '##mous', 'barges', 'neue', 'throbbed', 'cipher', 'johnnie', '##a1', '##mpt', 'outburst', '##swick', 'spearheaded', 'administrations', 'c1', 'heartbreak', 'pixels', 'pleasantly', '##enay', 'lombardy', 'plush', '##nsed', 'bobbie', '##hly', 'reapers', 'tremor', 'xiang', 'minogue', 'substantive', 'hitch', 'barak', '##wyl', 'kwan', '##encia', '910', 'obscene', 'elegance', 'indus', 'surfer', 'bribery', 'conserve', '##hyllum', '##masters', 'horatio', '##fat', 'apes', 'rebound', 'psychotic', '##pour', 'iteration', '##mium', '##vani', 'botanic', 'horribly', 'antiques', 'dispose', 'paxton', '##hli', '##wg', 'timeless', '1704', 'disregard', 'engraver', 'hounds', '##bau', '##version', 'looted', 'uno', 'facilitates', 'groans', 'masjid', 'rutland', 'antibody', 'disqualification', 'decatur', 'footballers', 'quake', 'slacks', '48th', 'rein', 'scribe', 'stabilize', 'commits', 'exemplary', 'tho', '##hort', '##chison', 'pantry', 'traversed', '##hiti', 'disrepair', 'identifiable', 'vibrated', 'baccalaureate', '##nnis', 'csa', 'interviewing', '##iensis', '##raße', 'greaves', 'wealthiest', '343', 'classed', 'jogged', '£5', '##58', '##atal', 'illuminating', 'knicks', 'respecting', '##uno', 'scrubbed', '##iji', '##dles', 'kruger', 'moods', 'growls', 'raider', 'silvia', 'chefs', 'kam', 'vr', 'cree', 'percival', '##terol', 'gunter', 'counterattack', 'defiant', 'henan', 'ze', '##rasia', '##riety', 'equivalence', 'submissions', '##fra', '##thor', 'bautista', 'mechanically', '##heater', 'cornice', 'herbal', 'templar', '##mering', 'outputs', 'ruining', 'ligand', 'renumbered', 'extravagant', 'mika', 'blockbuster', 'eta', 'insurrection', '##ilia', 'darkening', 'ferocious', 'pianos', 'strife', 'kinship', '##aer', 'melee', '##anor', '##iste', '##may', '##oue', 'decidedly', 'weep', '##jad', '##missive', '##ppel', '354', 'puget', 'unease', '##gnant', '1629', 'hammering', 'kassel', 'ob', 'wessex', '##lga', 'bromwich', 'egan', 'paranoia', 'utilization', '##atable', '##idad', 'contradictory', 'provoke', '##ols', '##ouring', '##tangled', 'knesset', '##very', '##lette', 'plumbing', '##sden', '##¹', 'greensboro', 'occult', 'sniff', '338', 'zev', 'beaming', 'gamer', 'haggard', 'mahal', '##olt', '##pins', 'mendes', 'utmost', 'briefing', 'gunnery', '##gut', '##pher', '##zh', '##rok', '1679', 'khalifa', 'sonya', '##boot', 'principals', 'urbana', 'wiring', '##liffe', '##minating', '##rrado', 'dahl', 'nyu', 'skepticism', 'np', 'townspeople', 'ithaca', 'lobster', 'somethin', '##fur', '##arina', '##−1', 'freighter', 'zimmerman', 'biceps', 'contractual', '##herton', 'amend', 'hurrying', 'subconscious', '##anal', '336', 'meng', 'clermont', 'spawning', '##eia', '##lub', 'dignitaries', 'impetus', 'snacks', 'spotting', 'twigs', '##bilis', '##cz', '##ouk', 'libertadores', 'nic', 'skylar', '##aina', '##firm', 'gustave', 'asean', '##anum', 'dieter', 'legislatures', 'flirt', 'bromley', 'trolls', 'umar', '##bbies', '##tyle', 'blah', 'parc', 'bridgeport', 'crank', 'negligence', '##nction', '46th', 'constantin', 'molded', 'bandages', 'seriousness', '00pm', 'siegel', 'carpets', 'compartments', 'upbeat', 'statehood', '##dner', '##edging', 'marko', '730', 'platt', '##hane', 'paving', '##iy', '1738', 'abbess', 'impatience', 'limousine', 'nbl', '##talk', '441', 'lucille', 'mojo', 'nightfall', 'robbers', '##nais', 'karel', 'brisk', 'calves', 'replicate', 'ascribed', 'telescopes', '##olf', 'intimidated', '##reen', 'ballast', 'specialization', '##sit', 'aerodynamic', 'caliphate', 'rainer', 'visionary', '##arded', 'epsilon', '##aday', '##onte', 'aggregation', 'auditory', 'boosted', 'reunification', 'kathmandu', 'loco', 'robyn', '402', 'acknowledges', 'appointing', 'humanoid', 'newell', 'redeveloped', 'restraints', '##tained', 'barbarians', 'chopper', '1609', 'italiana', '##lez', '##lho', 'investigates', 'wrestlemania', '##anies', '##bib', '690', '##falls', 'creaked', 'dragoons', 'gravely', 'minions', 'stupidity', 'volley', '##harat', '##week', 'musik', '##eries', '##uously', 'fungal', 'massimo', 'semantics', 'malvern', '##ahl', '##pee', 'discourage', 'embryo', 'imperialism', '1910s', 'profoundly', '##ddled', 'jiangsu', 'sparkled', 'stat', '##holz', 'sweatshirt', 'tobin', '##iction', 'sneered', '##cheon', '##oit', 'brit', 'causal', 'smyth', '##neuve', 'diffuse', 'perrin', 'silvio', '##ipes', '##recht', 'detonated', 'iqbal', 'selma', '##nism', '##zumi', 'roasted', '##riders', 'tay', '##ados', '##mament', '##mut', '##rud', '840', 'completes', 'nipples', 'cfa', 'flavour', 'hirsch', '##laus', 'calderon', 'sneakers', 'moravian', '##ksha', '1622', 'rq', '294', '##imeters', 'bodo', '##isance', '##pre', '##ronia', 'anatomical', 'excerpt', '##lke', 'dh', 'kunst', '##tablished', '##scoe', 'biomass', 'panted', 'unharmed', 'gael', 'housemates', 'montpellier', '##59', 'coa', 'rodents', 'tonic', 'hickory', 'singleton', '##taro', '451', '1719', 'aldo', 'breaststroke', 'dempsey', 'och', 'rocco', '##cuit', 'merton', 'dissemination', 'midsummer', 'serials', '##idi', 'haji', 'polynomials', '##rdon', 'gs', 'enoch', 'prematurely', 'shutter', 'taunton', '£3', '##grating', '##inates', 'archangel', 'harassed', '##asco', '326', 'archway', 'dazzling', '##ecin', '1736', 'sumo', 'wat', '##kovich', '1086', 'honneur', '##ently', '##nostic', '##ttal', '##idon', '1605', '403', '1716', 'blogger', 'rents', '##gnan', 'hires', '##ikh', '##dant', 'howie', '##rons', 'handler', 'retracted', 'shocks', '1632', 'arun', 'duluth', 'kepler', 'trumpeter', '##lary', 'peeking', 'seasoned', 'trooper', '##mara', 'laszlo', '##iciencies', '##rti', 'heterosexual', '##inatory', '##ssion', 'indira', 'jogging', '##inga', '##lism', 'beit', 'dissatisfaction', 'malice', '##ately', 'nedra', 'peeling', '##rgeon', '47th', 'stadiums', '475', 'vertigo', '##ains', 'iced', 'restroom', '##plify', '##tub', 'illustrating', 'pear', '##chner', '##sibility', 'inorganic', 'rappers', 'receipts', 'watery', '##kura', 'lucinda', '##oulos', 'reintroduced', '##8th', '##tched', 'gracefully', 'saxons', 'nutritional', 'wastewater', 'rained', 'favourites', 'bedrock', 'fisted', 'hallways', 'likeness', 'upscale', '##lateral', '1580', 'blinds', 'prequel', '##pps', '##tama', 'deter', 'humiliating', 'restraining', 'tn', 'vents', '1659', 'laundering', 'recess', 'rosary', 'tractors', 'coulter', 'federer', '##ifiers', '##plin', 'persistence', '##quitable', 'geschichte', 'pendulum', 'quakers', '##beam', 'bassett', 'pictorial', 'buffet', 'koln', '##sitor', 'drills', 'reciprocal', 'shooters', '##57', '##cton', '##tees', 'converge', 'pip', 'dmitri', 'donnelly', 'yamamoto', 'aqua', 'azores', 'demographics', 'hypnotic', 'spitfire', 'suspend', 'wryly', 'roderick', '##rran', 'sebastien', '##asurable', 'mavericks', '##fles', '##200', 'himalayan', 'prodigy', '##iance', 'transvaal', 'demonstrators', 'handcuffs', 'dodged', 'mcnamara', 'sublime', '1726', 'crazed', '##efined', '##till', 'ivo', 'pondered', 'reconciled', 'shrill', 'sava', '##duk', 'bal', 'cad', 'heresy', 'jaipur', 'goran', '##nished', '341', 'lux', 'shelly', 'whitehall', '##hre', 'israelis', 'peacekeeping', '##wled', '1703', 'demetrius', 'ousted', '##arians', '##zos', 'beale', 'anwar', 'backstroke', 'raged', 'shrinking', 'cremated', '##yck', 'benign', 'towing', 'wadi', 'darmstadt', 'landfill', 'parana', 'soothe', 'colleen', 'sidewalks', 'mayfair', 'tumble', 'hepatitis', 'ferrer', 'superstructure', '##gingly', '##urse', '##wee', 'anthropological', 'translators', '##mies', 'closeness', 'hooves', '##pw', 'mondays', '##roll', '##vita', 'landscaping', '##urized', 'purification', 'sock', 'thorns', 'thwarted', 'jalan', 'tiberius', '##taka', 'saline', '##rito', 'confidently', 'khyber', 'sculptors', '##ij', 'brahms', 'hammersmith', 'inspectors', 'battista', 'fivb', 'fragmentation', 'hackney', '##uls', 'arresting', 'exercising', 'antoinette', 'bedfordshire', '##zily', 'dyed', '##hema', '1656', 'racetrack', 'variability', '##tique', '1655', 'austrians', 'deteriorating', 'madman', 'theorists', 'aix', 'lehman', 'weathered', '1731', 'decreed', 'eruptions', '1729', 'flaw', 'quinlan', 'sorbonne', 'flutes', 'nunez', '1711', 'adored', 'downwards', 'fable', 'rasped', '1712', 'moritz', 'mouthful', 'renegade', 'shivers', 'stunts', 'dysfunction', 'restrain', 'translit', '327', 'pancakes', '##avio', '##cision', '##tray', '351', 'vial', '##lden', 'bain', '##maid', '##oxide', 'chihuahua', 'malacca', 'vimes', '##rba', '##rnier', '1664', 'donnie', 'plaques', '##ually', '337', 'bangs', 'floppy', 'huntsville', 'loretta', 'nikolay', '##otte', 'eater', 'handgun', 'ubiquitous', '##hett', 'eras', 'zodiac', '1634', '##omorphic', '1820s', '##zog', 'cochran', '##bula', '##lithic', 'warring', '##rada', 'dalai', 'excused', 'blazers', 'mcconnell', 'reeling', 'bot', 'este', '##abi', 'geese', 'hoax', 'taxon', '##bla', 'guitarists', '##icon', 'condemning', 'hunts', 'inversion', 'moffat', 'taekwondo', '##lvis', '1624', 'stammered', '##rest', '##rzy', 'sousa', 'fundraiser', 'marylebone', 'navigable', 'uptown', 'cabbage', 'daniela', 'salman', 'shitty', 'whimper', '##kian', '##utive', 'programmers', 'protections', 'rm', '##rmi', '##rued', 'forceful', '##enes', 'fuss', '##tao', '##wash', 'brat', 'oppressive', 'reykjavik', 'spartak', 'ticking', '##inkles', '##kiewicz', 'adolph', 'horst', 'maui', 'protege', 'straighten', 'cpc', 'landau', 'concourse', 'clements', 'resultant', '##ando', 'imaginative', 'joo', 'reactivated', '##rem', '##ffled', '##uising', 'consultative', '##guide', 'flop', 'kaitlyn', 'mergers', 'parenting', 'somber', '##vron', 'supervise', 'vidhan', '##imum', 'courtship', 'exemplified', 'harmonies', 'medallist', 'refining', '##rrow', '##ка', 'amara', '##hum', '780', 'goalscorer', 'sited', 'overshadowed', 'rohan', 'displeasure', 'secretive', 'multiplied', 'osman', '##orth', 'engravings', 'padre', '##kali', '##veda', 'miniatures', 'mis', '##yala', 'clap', 'pali', 'rook', '##cana', '1692', '57th', 'antennae', 'astro', 'oskar', '1628', 'bulldog', 'crotch', 'hackett', 'yucatan', '##sure', 'amplifiers', 'brno', 'ferrara', 'migrating', '##gree', 'thanking', 'turing', '##eza', 'mccann', 'ting', 'andersson', 'onslaught', 'gaines', 'ganga', 'incense', 'standardization', '##mation', 'sentai', 'scuba', 'stuffing', 'turquoise', 'waivers', 'alloys', '##vitt', 'regaining', 'vaults', '##clops', '##gizing', 'digger', 'furry', 'memorabilia', 'probing', '##iad', 'payton', 'rec', 'deutschland', 'filippo', 'opaque', 'seamen', 'zenith', 'afrikaans', '##filtration', 'disciplined', 'inspirational', '##merie', 'banco', 'confuse', 'grafton', 'tod', '##dgets', 'championed', 'simi', 'anomaly', 'biplane', '##ceptive', 'electrode', '##para', '1697', 'cleavage', 'crossbow', 'swirl', 'informant', '##lars', '##osta', 'afi', 'bonfire', 'spec', '##oux', 'lakeside', 'slump', '##culus', '##lais', '##qvist', '##rrigan', '1016', 'facades', 'borg', 'inwardly', 'cervical', 'xl', 'pointedly', '050', 'stabilization', '##odon', 'chests', '1699', 'hacked', 'ctv', 'orthogonal', 'suzy', '##lastic', 'gaulle', 'jacobite', 'rearview', '##cam', '##erted', 'ashby', '##drik', '##igate', '##mise', '##zbek', 'affectionately', 'canine', 'disperse', 'latham', '##istles', '##ivar', 'spielberg', '##orin', '##idium', 'ezekiel', 'cid', '##sg', 'durga', 'middletown', '##cina', 'customized', 'frontiers', 'harden', '##etano', '##zzy', '1604', 'bolsheviks', '##66', 'coloration', 'yoko', '##bedo', 'briefs', 'slabs', 'debra', 'liquidation', 'plumage', '##oin', 'blossoms', 'dementia', 'subsidy', '1611', 'proctor', 'relational', 'jerseys', 'parochial', 'ter', '##ici', 'esa', 'peshawar', 'cavalier', 'loren', 'cpi', 'idiots', 'shamrock', '1646', 'dutton', 'malabar', 'mustache', '##endez', '##ocytes', 'referencing', 'terminates', 'marche', 'yarmouth', '##sop', 'acton', 'mated', 'seton', 'subtly', 'baptised', 'beige', 'extremes', 'jolted', 'kristina', 'telecast', '##actic', 'safeguard', 'waldo', '##baldi', '##bular', 'endeavors', 'sloppy', 'subterranean', '##ensburg', '##itung', 'delicately', 'pigment', 'tq', '##scu', '1626', '##ound', 'collisions', 'coveted', 'herds', '##personal', '##meister', '##nberger', 'chopra', '##ricting', 'abnormalities', 'defective', 'galician', 'lucie', '##dilly', 'alligator', 'likened', '##genase', 'burundi', 'clears', 'complexion', 'derelict', 'deafening', 'diablo', 'fingered', 'champaign', 'dogg', 'enlist', 'isotope', 'labeling', 'mrna', '##erre', 'brilliance', 'marvelous', '##ayo', '1652', 'crawley', 'ether', 'footed', 'dwellers', 'deserts', 'hamish', 'rubs', 'warlock', 'skimmed', '##lizer', '870', 'buick', 'embark', 'heraldic', 'irregularities', '##ajan', 'kiara', '##kulam', '##ieg', 'antigen', 'kowalski', '##lge', 'oakley', 'visitation', '##mbit', 'vt', '##suit', '1570', 'murderers', '##miento', '##rites', 'chimneys', '##sling', 'condemn', 'custer', 'exchequer', 'havre', '##ghi', 'fluctuations', '##rations', 'dfb', 'hendricks', 'vaccines', '##tarian', 'nietzsche', 'biking', 'juicy', '##duced', 'brooding', 'scrolling', 'selangor', '##ragan', '352', 'annum', 'boomed', 'seminole', 'sugarcane', '##dna', 'departmental', 'dismissing', 'innsbruck', 'arteries', 'ashok', 'batavia', 'daze', 'kun', 'overtook', '##rga', '##tlan', 'beheaded', 'gaddafi', 'holm', 'electronically', 'faulty', 'galilee', 'fractures', 'kobayashi', '##lized', 'gunmen', 'magma', 'aramaic', 'mala', 'eastenders', 'inference', 'messengers', 'bf', '##qu', '407', 'bathrooms', '##vere', '1658', 'flashbacks', 'ideally', 'misunderstood', '##jali', '##weather', 'mendez', '##grounds', '505', 'uncanny', '##iii', '1709', 'friendships', '##nbc', 'sacrament', 'accommodated', 'reiterated', 'logistical', 'pebbles', 'thumped', '##escence', 'administering', 'decrees', 'drafts', '##flight', '##cased', '##tula', 'futuristic', 'picket', 'intimidation', 'winthrop', '##fahan', 'interfered', '339', 'afar', 'francoise', 'morally', 'uta', 'cochin', 'croft', 'dwarfs', '##bruck', '##dents', '##nami', 'biker', '##hner', '##meral', 'nano', '##isen', '##ometric', '##pres', '##ан', 'brightened', 'meek', 'parcels', 'securely', 'gunners', '##jhl', '##zko', 'agile', 'hysteria', '##lten', '##rcus', 'bukit', 'champs', 'chevy', 'cuckoo', 'leith', 'sadler', 'theologians', 'welded', '##section', '1663', 'jj', 'plurality', 'xander', '##rooms', '##formed', 'shredded', 'temps', 'intimately', 'pau', 'tormented', '##lok', '##stellar', '1618', 'charred', 'ems', 'essen', '##mmel', 'alarms', 'spraying', 'ascot', 'blooms', 'twinkle', '##abia', '##apes', 'internment', 'obsidian', '##chaft', 'snoop', '##dav', '##ooping', 'malibu', '##tension', 'quiver', '##itia', 'hays', 'mcintosh', 'travers', 'walsall', '##ffie', '1623', 'beverley', 'schwarz', 'plunging', 'structurally', 'm3', 'rosenthal', 'vikram', '##tsk', '770', 'ghz', '##onda', '##tiv', 'chalmers', 'groningen', 'pew', 'reckon', 'unicef', '##rvis', '55th', '##gni', '1651', 'sulawesi', 'avila', 'cai', 'metaphysical', 'screwing', 'turbulence', '##mberg', 'augusto', 'samba', '56th', 'baffled', 'momentary', 'toxin', '##urian', '##wani', 'aachen', 'condoms', 'dali', 'steppe', '##3d', '##app', '##oed', '##year', 'adolescence', 'dauphin', 'electrically', 'inaccessible', 'microscopy', 'nikita', '##ega', 'atv', '##cel', '##enter', '##oles', '##oteric', '##ы', 'accountants', 'punishments', 'wrongly', 'bribes', 'adventurous', 'clinch', 'flinders', 'southland', '##hem', '##kata', 'gough', '##ciency', 'lads', 'soared', '##ה', 'undergoes', 'deformation', 'outlawed', 'rubbish', '##arus', '##mussen', '##nidae', '##rzburg', 'arcs', '##ingdon', '##tituted', '1695', 'wheelbase', 'wheeling', 'bombardier', 'campground', 'zebra', '##lices', '##oj', '##bain', 'lullaby', '##ecure', 'donetsk', 'wylie', 'grenada', '##arding', '##ης', 'squinting', 'eireann', 'opposes', '##andra', 'maximal', 'runes', '##broken', '##cuting', '##iface', '##ror', '##rosis', 'additive', 'britney', 'adultery', 'triggering', '##drome', 'detrimental', 'aarhus', 'containment', 'jc', 'swapped', 'vichy', '##ioms', 'madly', '##oric', '##rag', 'brant', '##ckey', '##trix', '1560', '1612', 'broughton', 'rustling', '##stems', '##uder', 'asbestos', 'mentoring', '##nivorous', 'finley', 'leaps', '##isan', 'apical', 'pry', 'slits', 'substitutes', '##dict', 'intuitive', 'fantasia', 'insistent', 'unreasonable', '##igen', '##vna', 'domed', 'hannover', 'margot', 'ponder', '##zziness', 'impromptu', 'jian', 'lc', 'rampage', 'stemming', '##eft', 'andrey', 'gerais', 'whichever', 'amnesia', 'appropriated', 'anzac', 'clicks', 'modifying', 'ultimatum', 'cambrian', 'maids', 'verve', 'yellowstone', '##mbs', 'conservatoire', '##scribe', 'adherence', 'dinners', 'spectra', 'imperfect', 'mysteriously', 'sidekick', 'tatar', 'tuba', '##aks', '##ifolia', 'distrust', '##athan', '##zle', 'c2', 'ronin', 'zac', '##pse', 'celaena', 'instrumentalist', 'scents', 'skopje', '##mbling', 'comical', 'compensated', 'vidal', 'condor', 'intersect', 'jingle', 'wavelengths', '##urrent', 'mcqueen', '##izzly', 'carp', 'weasel', '422', 'kanye', 'militias', 'postdoctoral', 'eugen', 'gunslinger', '##ɛ', 'faux', 'hospice', '##for', 'appalled', 'derivation', 'dwarves', '##elis', 'dilapidated', '##folk', 'astoria', 'philology', '##lwyn', '##otho', '##saka', 'inducing', 'philanthropy', '##bf', '##itative', 'geek', 'markedly', 'sql', '##yce', 'bessie', 'indices', 'rn', '##flict', '495', 'frowns', 'resolving', 'weightlifting', 'tugs', 'cleric', 'contentious', '1653', 'mania', 'rms', '##miya', '##reate', '##ruck', '##tucket', 'bien', 'eels', 'marek', '##ayton', '##cence', 'discreet', 'unofficially', '##ife', 'leaks', '##bber', '1705', '332', 'dung', 'compressor', 'hillsborough', 'pandit', 'shillings', 'distal', '##skin', '381', '##tat', '##you', 'nosed', '##nir', 'mangrove', 'undeveloped', '##idia', 'textures', '##inho', '##500', '##rise', 'ae', 'irritating', 'nay', 'amazingly', 'bancroft', 'apologetic', 'compassionate', 'kata', 'symphonies', '##lovic', 'airspace', '##lch', '930', 'gifford', 'precautions', 'fulfillment', 'sevilla', 'vulgar', 'martinique', '##urities', 'looting', 'piccolo', 'tidy', '##dermott', 'quadrant', 'armchair', 'incomes', 'mathematicians', 'stampede', 'nilsson', '##inking', '##scan', 'foo', 'quarterfinal', '##ostal', 'shang', 'shouldered', 'squirrels', '##owe', '344', 'vinegar', '##bner', '##rchy', '##systems', 'delaying', '##trics', 'ars', 'dwyer', 'rhapsody', 'sponsoring', '##gration', 'bipolar', 'cinder', 'starters', '##olio', '##urst', '421', 'signage', '##nty', 'aground', 'figurative', 'mons', 'acquaintances', 'duets', 'erroneously', 'soyuz', 'elliptic', 'recreated', '##cultural', '##quette', '##ssed', '##tma', '##zcz', 'moderator', 'scares', '##itaire', '##stones', '##udence', 'juniper', 'sighting', '##just', '##nsen', 'britten', 'calabria', 'ry', 'bop', 'cramer', 'forsyth', 'stillness', '##л', 'airmen', 'gathers', 'unfit', '##umber', '##upt', 'taunting', '##rip', 'seeker', 'streamlined', '##bution', 'holster', 'schumann', 'tread', 'vox', '##gano', '##onzo', 'strive', 'dil', 'reforming', 'covent', 'newbury', 'predicting', '##orro', 'decorate', 'tre', '##puted', 'andover', 'ie', 'asahi', 'dept', 'dunkirk', 'gills', '##tori', 'buren', 'huskies', '##stis', '##stov', 'abstracts', 'bets', 'loosen', '##opa', '1682', 'yearning', '##glio', '##sir', 'berman', 'effortlessly', 'enamel', 'napoli', 'persist', '##peration', '##uez', 'attache', 'elisa', 'b1', 'invitations', '##kic', 'accelerating', 'reindeer', 'boardwalk', 'clutches', 'nelly', 'polka', 'starbucks', '##kei', 'adamant', 'huey', 'lough', 'unbroken', 'adventurer', 'embroidery', 'inspecting', 'stanza', '##ducted', 'naia', 'taluka', '##pone', '##roids', 'chases', 'deprivation', 'florian', '##jing', '##ppet', 'earthly', '##lib', '##ssee', 'colossal', 'foreigner', 'vet', 'freaks', 'patrice', 'rosewood', 'triassic', 'upstate', '##pkins', 'dominates', 'ata', 'chants', 'ks', 'vo', '##400', '##bley', '##raya', '##rmed', '555', 'agra', 'infiltrate', '##ailing', '##ilation', '##tzer', '##uppe', '##werk', 'binoculars', 'enthusiast', 'fujian', 'squeak', '##avs', 'abolitionist', 'almeida', 'boredom', 'hampstead', 'marsden', 'rations', '##ands', 'inflated', '334', 'bonuses', 'rosalie', 'patna', '##rco', '329', 'detachments', 'penitentiary', '54th', 'flourishing', 'woolf', '##dion', '##etched', 'papyrus', '##lster', '##nsor', '##toy', 'bobbed', 'dismounted', 'endelle', 'inhuman', 'motorola', 'tbs', 'wince', 'wreath', '##ticus', 'hideout', 'inspections', 'sanjay', 'disgrace', 'infused', 'pudding', 'stalks', '##urbed', 'arsenic', 'leases', '##hyl', '##rrard', 'collarbone', '##waite', '##wil', 'dowry', '##bant', '##edance', 'genealogical', 'nitrate', 'salamanca', 'scandals', 'thyroid', 'necessitated', '##!', '##\"', '###', '##$', '##%', '##&', \"##'\", '##(', '##)', '##*', '##+', '##,', '##-', '##.', '##/', '##:', '##;', '##<', '##=', '##>', '##?', '##@', '##[', '##\\\\', '##]', '##^', '##_', '##`', '##{', '##|', '##}', '##~', '##¡', '##¢', '##£', '##¤', '##¥', '##¦', '##§', '##¨', '##©', '##ª', '##«', '##¬', '##®', '##±', '##´', '##µ', '##¶', '##·', '##º', '##»', '##¼', '##¾', '##¿', '##æ', '##ð', '##÷', '##þ', '##đ', '##ħ', '##ŋ', '##œ', '##ƒ', '##ɐ', '##ɑ', '##ɒ', '##ɔ', '##ɕ', '##ə', '##ɡ', '##ɣ', '##ɨ', '##ɪ', '##ɫ', '##ɬ', '##ɯ', '##ɲ', '##ɴ', '##ɹ', '##ɾ', '##ʀ', '##ʁ', '##ʂ', '##ʃ', '##ʉ', '##ʊ', '##ʋ', '##ʌ', '##ʎ', '##ʐ', '##ʑ', '##ʒ', '##ʔ', '##ʰ', '##ʲ', '##ʳ', '##ʷ', '##ʸ', '##ʻ', '##ʼ', '##ʾ', '##ʿ', '##ˈ', '##ˡ', '##ˢ', '##ˣ', '##ˤ', '##β', '##γ', '##δ', '##ε', '##ζ', '##θ', '##κ', '##λ', '##μ', '##ξ', '##ο', '##π', '##ρ', '##σ', '##τ', '##υ', '##φ', '##χ', '##ψ', '##ω', '##б', '##г', '##д', '##ж', '##з', '##м', '##п', '##с', '##у', '##ф', '##х', '##ц', '##ч', '##ш', '##щ', '##ъ', '##э', '##ю', '##ђ', '##є', '##і', '##ј', '##љ', '##њ', '##ћ', '##ӏ', '##ա', '##բ', '##գ', '##դ', '##ե', '##թ', '##ի', '##լ', '##կ', '##հ', '##մ', '##յ', '##ն', '##ո', '##պ', '##ս', '##վ', '##տ', '##ր', '##ւ', '##ք', '##־', '##א', '##ב', '##ג', '##ד', '##ו', '##ז', '##ח', '##ט', '##י', '##ך', '##כ', '##ל', '##ם', '##מ', '##ן', '##נ', '##ס', '##ע', '##ף', '##פ', '##ץ', '##צ', '##ק', '##ר', '##ש', '##ת', '##،', '##ء', '##ب', '##ت', '##ث', '##ج', '##ح', '##خ', '##ذ', '##ز', '##س', '##ش', '##ص', '##ض', '##ط', '##ظ', '##ع', '##غ', '##ـ', '##ف', '##ق', '##ك', '##و', '##ى', '##ٹ', '##پ', '##چ', '##ک', '##گ', '##ں', '##ھ', '##ہ', '##ے', '##अ', '##आ', '##उ', '##ए', '##क', '##ख', '##ग', '##च', '##ज', '##ट', '##ड', '##ण', '##त', '##थ', '##द', '##ध', '##न', '##प', '##ब', '##भ', '##म', '##य', '##र', '##ल', '##व', '##श', '##ष', '##स', '##ह', '##ा', '##ि', '##ी', '##ो', '##।', '##॥', '##ং', '##অ', '##আ', '##ই', '##উ', '##এ', '##ও', '##ক', '##খ', '##গ', '##চ', '##ছ', '##জ', '##ট', '##ড', '##ণ', '##ত', '##থ', '##দ', '##ধ', '##ন', '##প', '##ব', '##ভ', '##ম', '##য', '##র', '##ল', '##শ', '##ষ', '##স', '##হ', '##া', '##ি', '##ী', '##ে', '##க', '##ச', '##ட', '##த', '##ந', '##ன', '##ப', '##ம', '##ய', '##ர', '##ல', '##ள', '##வ', '##ா', '##ி', '##ு', '##ே', '##ை', '##ನ', '##ರ', '##ಾ', '##ක', '##ය', '##ර', '##ල', '##ව', '##ා', '##ก', '##ง', '##ต', '##ท', '##น', '##พ', '##ม', '##ย', '##ร', '##ล', '##ว', '##ส', '##อ', '##า', '##เ', '##་', '##།', '##ག', '##ང', '##ད', '##ན', '##པ', '##བ', '##མ', '##འ', '##ར', '##ལ', '##ས', '##မ', '##ა', '##ბ', '##გ', '##დ', '##ე', '##ვ', '##თ', '##ი', '##კ', '##ლ', '##მ', '##ნ', '##ო', '##რ', '##ს', '##ტ', '##უ', '##ᄀ', '##ᄂ', '##ᄃ', '##ᄅ', '##ᄆ', '##ᄇ', '##ᄉ', '##ᄊ', '##ᄋ', '##ᄌ', '##ᄎ', '##ᄏ', '##ᄐ', '##ᄑ', '##ᄒ', '##ᅡ', '##ᅢ', '##ᅥ', '##ᅦ', '##ᅧ', '##ᅩ', '##ᅪ', '##ᅭ', '##ᅮ', '##ᅯ', '##ᅲ', '##ᅳ', '##ᅴ', '##ᅵ', '##ᆨ', '##ᆫ', '##ᆯ', '##ᆷ', '##ᆸ', '##ᆼ', '##ᴬ', '##ᴮ', '##ᴰ', '##ᴵ', '##ᴺ', '##ᵀ', '##ᵃ', '##ᵇ', '##ᵈ', '##ᵉ', '##ᵍ', '##ᵏ', '##ᵐ', '##ᵒ', '##ᵖ', '##ᵗ', '##ᵘ', '##ᵣ', '##ᵤ', '##ᵥ', '##ᶜ', '##ᶠ', '##‐', '##‑', '##‒', '##–', '##—', '##―', '##‖', '##‘', '##’', '##‚', '##“', '##”', '##„', '##†', '##‡', '##•', '##…', '##‰', '##′', '##″', '##›', '##‿', '##⁄', '##⁰', '##ⁱ', '##⁴', '##⁵', '##⁶', '##⁷', '##⁸', '##⁹', '##⁻', '##ⁿ', '##₅', '##₆', '##₇', '##₈', '##₉', '##₊', '##₍', '##₎', '##ₐ', '##ₑ', '##ₒ', '##ₓ', '##ₕ', '##ₖ', '##ₗ', '##ₘ', '##ₚ', '##ₛ', '##ₜ', '##₤', '##₩', '##€', '##₱', '##₹', '##ℓ', '##№', '##ℝ', '##™', '##⅓', '##⅔', '##←', '##↑', '##→', '##↓', '##↔', '##↦', '##⇄', '##⇌', '##⇒', '##∂', '##∅', '##∆', '##∇', '##∈', '##∗', '##∘', '##√', '##∞', '##∧', '##∨', '##∩', '##∪', '##≈', '##≡', '##≤', '##≥', '##⊂', '##⊆', '##⊕', '##⊗', '##⋅', '##─', '##│', '##■', '##▪', '##●', '##★', '##☆', '##☉', '##♠', '##♣', '##♥', '##♦', '##♯', '##⟨', '##⟩', '##ⱼ', '##⺩', '##⺼', '##⽥', '##、', '##。', '##〈', '##〉', '##《', '##》', '##「', '##」', '##『', '##』', '##〜', '##あ', '##い', '##う', '##え', '##お', '##か', '##き', '##く', '##け', '##こ', '##さ', '##し', '##す', '##せ', '##そ', '##た', '##ち', '##っ', '##つ', '##て', '##と', '##な', '##に', '##ぬ', '##ね', '##の', '##は', '##ひ', '##ふ', '##へ', '##ほ', '##ま', '##み', '##む', '##め', '##も', '##や', '##ゆ', '##よ', '##ら', '##り', '##る', '##れ', '##ろ', '##を', '##ん', '##ァ', '##ア', '##ィ', '##イ', '##ウ', '##ェ', '##エ', '##オ', '##カ', '##キ', '##ク', '##ケ', '##コ', '##サ', '##シ', '##ス', '##セ', '##タ', '##チ', '##ッ', '##ツ', '##テ', '##ト', '##ナ', '##ニ', '##ノ', '##ハ', '##ヒ', '##フ', '##ヘ', '##ホ', '##マ', '##ミ', '##ム', '##メ', '##モ', '##ャ', '##ュ', '##ョ', '##ラ', '##リ', '##ル', '##レ', '##ロ', '##ワ', '##ン', '##・', '##ー', '##一', '##三', '##上', '##下', '##不', '##世', '##中', '##主', '##久', '##之', '##也', '##事', '##二', '##五', '##井', '##京', '##人', '##亻', '##仁', '##介', '##代', '##仮', '##伊', '##会', '##佐', '##侍', '##保', '##信', '##健', '##元', '##光', '##八', '##公', '##内', '##出', '##分', '##前', '##劉', '##力', '##加', '##勝', '##北', '##区', '##十', '##千', '##南', '##博', '##原', '##口', '##古', '##史', '##司', '##合', '##吉', '##同', '##名', '##和', '##囗', '##四', '##国', '##國', '##土', '##地', '##坂', '##城', '##堂', '##場', '##士', '##夏', '##外', '##大', '##天', '##太', '##夫', '##奈', '##女', '##子', '##学', '##宀', '##宇', '##安', '##宗', '##定', '##宣', '##宮', '##家', '##宿', '##寺', '##將', '##小', '##尚', '##山', '##岡', '##島', '##崎', '##川', '##州', '##巿', '##帝', '##平', '##年', '##幸', '##广', '##弘', '##張', '##彳', '##後', '##御', '##德', '##心', '##忄', '##志', '##忠', '##愛', '##成', '##我', '##戦', '##戸', '##手', '##扌', '##政', '##文', '##新', '##方', '##日', '##明', '##星', '##春', '##昭', '##智', '##曲', '##書', '##月', '##有', '##朝', '##木', '##本', '##李', '##村', '##東', '##松', '##林', '##森', '##楊', '##樹', '##橋', '##歌', '##止', '##正', '##武', '##比', '##氏', '##民', '##水', '##氵', '##氷', '##永', '##江', '##沢', '##河', '##治', '##法', '##海', '##清', '##漢', '##瀬', '##火', '##版', '##犬', '##王', '##生', '##田', '##男', '##疒', '##発', '##白', '##的', '##皇', '##目', '##相', '##省', '##真', '##石', '##示', '##社', '##神', '##福', '##禾', '##秀', '##秋', '##空', '##立', '##章', '##竹', '##糹', '##美', '##義', '##耳', '##良', '##艹', '##花', '##英', '##華', '##葉', '##藤', '##行', '##街', '##西', '##見', '##訁', '##語', '##谷', '##貝', '##貴', '##車', '##軍', '##辶', '##道', '##郎', '##郡', '##部', '##都', '##里', '##野', '##金', '##鈴', '##镇', '##長', '##門', '##間', '##阝', '##阿', '##陳', '##陽', '##雄', '##青', '##面', '##風', '##食', '##香', '##馬', '##高', '##龍', '##龸', '##ﬁ', '##ﬂ', '##！', '##（', '##）', '##，', '##－', '##．', '##／', '##：', '##？', '##～'])"
      ]
     },
     "execution_count": 117,
     "metadata": {},
     "output_type": "execute_result"
    }
   ],
   "source": [
    "tokenizer.vocab.keys() "
   ]
  },
  {
   "cell_type": "markdown",
   "metadata": {
    "id": "gElCK8zc7mrs"
   },
   "source": [
    "That's it for now with our new friend Bert, but don't worry, we will have more fun with him later when we look at some downstream tasks."
   ]
  },
  {
   "cell_type": "markdown",
   "metadata": {
    "id": "tObc0xEk19k4"
   },
   "source": [
    "## Generative language models"
   ]
  },
  {
   "cell_type": "markdown",
   "metadata": {
    "id": "DXMQ1jEv19aV"
   },
   "source": [
    "In this section, we look at models that can generate text. Before we start with models based on deep learning, we first want to develop an intuition for how they generally work. For this, we begin with an easy-to-understand statistical model: n-grams."
   ]
  },
  {
   "cell_type": "markdown",
   "metadata": {
    "id": "QTDKHx0X9BSu"
   },
   "source": [
    "### [N-grams](https://en.wikipedia.org/wiki/Word_n-gram_language_model)"
   ]
  },
  {
   "cell_type": "markdown",
   "metadata": {
    "id": "cNVX5vmlwV5q"
   },
   "source": [
    "So let's say we are given some text corpus and want to generate new sentences that are very \"alike\" what we saw in the corpus. There are multiple ways to do this. A straightforward approach is based on conditional probabilities. In this case, we generate the new text word by word (this approach is also called \"autoregressive\") and always base our choice for the next word on what we already generated. So every time we add a new word, we ask ourselves the question: What word is most likely to appear next regarding what we already have? And this is exactly where conditional probabilities come in. We start with a simplified variant, the 2-gram.\n",
    "\n",
    "For 2-grams, we base our decision solely on the last word we previously generated (instead of the complete, already generated text). To compute probabilities for the following most likely word, we can then use simple statistic properties of our text corpus: For every word in the corpus, we count the words that follow it and how often. This gives us an estimate for what word most likely appears afterward.\n",
    "\n",
    "How we do this is that we extract all pairs of words in the corpus, also called 2-grams or bigrams, and count appearances. What we get is a \"conditional frequency distribution\". We exercise this with the same corpus as before."
   ]
  },
  {
   "cell_type": "code",
   "execution_count": 118,
   "metadata": {
    "id": "A-WyZFVHzUV6"
   },
   "outputs": [
    {
     "name": "stderr",
     "output_type": "stream",
     "text": [
      "[nltk_data] Downloading package brown to /scratch/hodl_104fs25/nltk...\n",
      "[nltk_data]   Package brown is already up-to-date!\n"
     ]
    },
    {
     "data": {
      "text/plain": [
       "True"
      ]
     },
     "execution_count": 118,
     "metadata": {},
     "output_type": "execute_result"
    }
   ],
   "source": [
    "import nltk\n",
    "from nltk.corpus import brown\n",
    "\n",
    "nltk.download('brown', download_dir=nltk_cache_dir)"
   ]
  },
  {
   "cell_type": "code",
   "execution_count": 119,
   "metadata": {
    "ExecuteTime": {
     "end_time": "2025-02-19T12:45:19.861175Z",
     "start_time": "2025-02-19T12:45:17.524065Z"
    },
    "id": "er0Bdh-49VLj"
   },
   "outputs": [],
   "source": [
    "bigrams = nltk.bigrams(brown.words())\n",
    "cfd = nltk.ConditionalFreqDist(bigrams)"
   ]
  },
  {
   "cell_type": "markdown",
   "metadata": {
    "id": "oKq_tE92zaYi"
   },
   "source": [
    "Now that we computed the distribution, we can access the appearance counts for every word:"
   ]
  },
  {
   "cell_type": "code",
   "execution_count": 120,
   "metadata": {
    "ExecuteTime": {
     "end_time": "2025-02-19T12:45:19.868071Z",
     "start_time": "2025-02-19T12:45:19.862919Z"
    },
    "id": "3Zc4ORvA9gch"
   },
   "outputs": [
    {
     "data": {
      "text/plain": [
       "FreqDist({'of': 6, '.': 3, ',': 2, 'snake': 2, 'by': 1, 'Kurigalzu': 1, 'and': 1, 'himself': 1, ';': 1, 'in': 1, ...})"
      ]
     },
     "execution_count": 120,
     "metadata": {},
     "output_type": "execute_result"
    }
   ],
   "source": [
    "cfd['king']"
   ]
  },
  {
   "cell_type": "markdown",
   "metadata": {
    "id": "nTdUAbIvzqCQ"
   },
   "source": [
    "Here, the word `of` appeared most often after the word `king` (6 times), followed by `.` (3 times)."
   ]
  },
  {
   "cell_type": "markdown",
   "metadata": {
    "id": "-FLvYFUsz25-"
   },
   "source": [
    "We have the counts, so we can transform them into a probability distribution now and randomly pick a word according to it."
   ]
  },
  {
   "cell_type": "code",
   "execution_count": 121,
   "metadata": {
    "ExecuteTime": {
     "end_time": "2025-02-19T12:45:19.880096Z",
     "start_time": "2025-02-19T12:45:19.870342Z"
    },
    "id": "f_f9lfOV9mVv"
   },
   "outputs": [],
   "source": [
    "import random\n",
    "\n",
    "\n",
    "def generate_text(cfdist: nltk.ConditionalFreqDist, start_word: str, num: int = 20):\n",
    "    word = start_word\n",
    "    for i in range(num):\n",
    "        print(word, end=' ')\n",
    "        # Pick a word according to the conditional frequency distribution\n",
    "        word_distribution = list(cfdist[word].keys())\n",
    "        word_weights = list(cfdist[word].values())\n",
    "        word = random.choices(population=word_distribution, weights=word_weights, k=1)[0]\n",
    "    print('')"
   ]
  },
  {
   "cell_type": "markdown",
   "metadata": {
    "id": "8xN8Ti0j0YlA"
   },
   "source": [
    "With a few lines of code, we already got our first generative text model! Let's try it out."
   ]
  },
  {
   "cell_type": "code",
   "execution_count": 122,
   "metadata": {
    "ExecuteTime": {
     "end_time": "2025-02-19T12:45:19.921386Z",
     "start_time": "2025-02-19T12:45:19.881957Z"
    },
    "id": "Lu59CaRn9p4d"
   },
   "outputs": [
    {
     "name": "stdout",
     "output_type": "stream",
     "text": [
      "I looked down to the 31st day . For we have returned to the 9th green eyes darted inside Aj \n",
      "I don't set at me wonder if you think we had taken up to her mind like a fine economical \n",
      "I became known so agreed that he who wore a piece `` He came out name in the wine warms \n"
     ]
    }
   ],
   "source": [
    "for i in range(3):\n",
    "    generate_text(cfdist=cfd, start_word='I')"
   ]
  },
  {
   "cell_type": "markdown",
   "metadata": {
    "id": "sIrIlZ4r0nyu"
   },
   "source": [
    "It's certainly not perfect, but already resembles something that is close to the text we used as a corpus."
   ]
  },
  {
   "cell_type": "markdown",
   "metadata": {
    "id": "hLo6oFY91LWk"
   },
   "source": [
    "#### **Exercise 3**\n",
    "Try to adapt the code to always choose the one most likely word to appear next. What do you observe?"
   ]
  },
  {
   "cell_type": "code",
   "execution_count": 125,
   "metadata": {
    "ExecuteTime": {
     "end_time": "2025-02-19T12:45:19.932187Z",
     "start_time": "2025-02-19T12:45:19.923207Z"
    },
    "id": "gOeNPnKV4xW-",
    "tags": [
     "exercise"
    ]
   },
   "outputs": [
    {
     "name": "stdout",
     "output_type": "stream",
     "text": [
      "I was a few years ago , and the same time , and the same time , and the same I was a few years ago , and the same time , and the same time , and the same I was a few years ago , and the same time , and the same time , and the same "
     ]
    }
   ],
   "source": [
    "##### Exercise #####\n",
    "import random\n",
    "\n",
    "\n",
    "def generate_text(cfdist: nltk.ConditionalFreqDist, start_word: str, num: int = 20):\n",
    "    word = start_word\n",
    "    for i in range(num):\n",
    "        print(word, end=' ')\n",
    "        word = cfdist[word].max()\n",
    "\n",
    "\n",
    "for i in range(3):\n",
    "    generate_text(cfdist=cfd, start_word='I')"
   ]
  },
  {
   "cell_type": "markdown",
   "metadata": {
    "id": "7UwlhURE1JZF"
   },
   "source": [
    "Recall that all the context we use to generate the next word in the sequence is only the previous word, which definitely limits its capabilites."
   ]
  },
  {
   "cell_type": "markdown",
   "metadata": {
    "id": "abkmiBtY0_OX"
   },
   "source": [
    "So why not do more?"
   ]
  },
  {
   "cell_type": "markdown",
   "metadata": {
    "id": "CVjx7r9o1Bc2"
   },
   "source": [
    "Instead of only looking at bigrams, we can of course use any n-grams and compute conditional probabilites based on the last n-1 words. Not very surprisingly, libraries to do that already exist."
   ]
  },
  {
   "cell_type": "code",
   "execution_count": 126,
   "metadata": {
    "ExecuteTime": {
     "end_time": "2025-02-19T12:45:19.946892Z",
     "start_time": "2025-02-19T12:45:19.942481Z"
    },
    "id": "cpf9XZtp9uQ-"
   },
   "outputs": [
    {
     "name": "stdout",
     "output_type": "stream",
     "text": [
      "(my favorite food is) wonderful and it is a lot of fun . </s> </s> </s> </s> </s> </s> </s> </s> </s> </s> </s> </s> </s> </s> </s> </s>\n",
      "(my favorite food is) as intimate and difficult as to formulate the reasons for loving my nearest and dearest relatives and friends . </s> </s> </s> </s> </s> </s>\n",
      "(my favorite food is) wonderful and it is a parameter which is probably varying in an unknown manner with many commercial materials . </s> </s> </s> </s> </s> </s>\n",
      "(my favorite food is) selected with thought for its nutritional value , care for its origin , and prepared in a manner that will entitle him to from the\n",
      "(my favorite food is) selected with thought for its nutritional value , care for its origin , and prepared in a manner that retains the most nutrients , the\n",
      "(my favorite food is) still so scarce that half of the earth's population has trouble getting the 1,600 calories a day necessary to sustain life . </s> </s> </s>\n",
      "(my favorite food is) the purpose of Armed Forces Day to give Americans an opportunity to honor men of the Armed Forces Medical Services . </s> </s> </s> </s>\n",
      "(my favorite food is) selected with thought for its nutritional value , care for its origin , and prepared in a manner that stresses the basic tunefulness of both\n"
     ]
    }
   ],
   "source": [
    "from nltk.lm.preprocessing import padded_everygram_pipeline\n",
    "from nltk.lm import MLE\n",
    "\n",
    "# Fitting a 5-gram model\n",
    "n = 5\n",
    "train_data, padded_sents = padded_everygram_pipeline(n, brown.sents())\n",
    "generative_model = MLE(n)\n",
    "\n",
    "# Compute the frequencies, depending on the size of n, this can take some time\n",
    "generative_model.fit(train_data, padded_sents)\n",
    "\n",
    "# Generate 8 sample text\n",
    "for i in range(8):\n",
    "    print('(my favorite food is) ' + ' '.join(\n",
    "        generative_model.generate(text_seed=['my', 'favorite', 'food', 'is'], num_words=25, random_seed=i)))"
   ]
  },
  {
   "cell_type": "markdown",
   "metadata": {
    "id": "onTLc0j-3KQ8"
   },
   "source": [
    "With the n-gram models we are always limited to a fixed context size, which naturally limits how much context we can use to do predictions. There are models that can work with arbitrary context sizes, and we will look at some in the next section."
   ]
  },
  {
   "cell_type": "markdown",
   "metadata": {
    "id": "vNPw4y0i2ujd"
   },
   "source": [
    "### Recurrent Neural Networks ([RNNs](https://en.wikipedia.org/wiki/Recurrent_neural_network))"
   ]
  },
  {
   "cell_type": "markdown",
   "metadata": {
    "id": "wPR61wNmQesX"
   },
   "source": [
    "In contrast to the n-gram models that we previously looked at, we now try to solve the problem of autoregressive text generation with recurrent neural networks. Recurrent models take a sequence as input and apply the same neural building block to every element sequentially. What do we mean precisely by this? The following image depicts a RNN on the left:"
   ]
  },
  {
   "cell_type": "markdown",
   "metadata": {
    "id": "c3EzUWvZfOD6"
   },
   "source": [
    "![rnn_unrolled.png](data:image/png;base64,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)"
   ]
  },
  {
   "cell_type": "markdown",
   "metadata": {
    "id": "3FmSNkL5hP1d"
   },
   "source": [
    "The input sequence is denoted as $x_0, x_1, \\dots, x_{\\tau}$. The gray block containing the functions $\\hat{g}$ and $\\hat{h}$ is a neural network that takes two things as input:\n",
    "\n",
    "1.   An element $x_t$ of the sequence\n",
    "2.   A state $s_t$\n",
    "\n",
    "Based on this input, it outputs a prediction $y_t$. We apply this block to every element of the sequence in order. The state $s_t$ is used to encode all necessary information of the input $x_0, \\dots, x_{t-1}$ when we make the prediction for $x_t$. In the beginning, we initialize the state $s_0$ by setting it to all zeros. This state is then passed to the network, together with $x_0$. We then get the prediction $y_0$ and the state $s_1$ that is used for the subsequent evaluation of the same network for the next element in the input sequence $x_1$. This is what we see on the right of the image. Note that all gray blocks are the same network. We just run it again and again (recurrently). The length of the sequence can therefore be arbitrary.\n",
    "\n",
    "There are several ways to implement the gray block. We will use Long short-term memory (LSTM) units in the upcoming task. Similar in concept to n-grams, we predict the next word in the sequence based on what we saw before. These predictions are exactly the $y_i$. More precisely, our prediction is a probability distribution over the whole vocabulary, telling us which words are the most likely to follow.   \n",
    "We work with the brown corpus again, so let's make sure it's ready. Training on the whole corpus would take too long for this tutorial, so we restrict ourselves to the first 200,000 words."
   ]
  },
  {
   "cell_type": "code",
   "execution_count": 155,
   "metadata": {
    "ExecuteTime": {
     "end_time": "2025-02-19T12:45:54.915173Z",
     "start_time": "2025-02-19T12:45:54.903471Z"
    },
    "id": "Ng2OjIeGa0B2"
   },
   "outputs": [
    {
     "name": "stderr",
     "output_type": "stream",
     "text": [
      "[nltk_data] Downloading package brown to /scratch/hodl_104fs25/nltk...\n",
      "[nltk_data]   Package brown is already up-to-date!\n"
     ]
    }
   ],
   "source": [
    "import nltk\n",
    "from nltk.corpus import brown\n",
    "\n",
    "\n",
    "nltk.download('brown', download_dir=nltk_cache_dir)\n",
    "corpus = brown.words()[:500000]\n"
   ]
  },
  {
   "cell_type": "markdown",
   "metadata": {
    "id": "UzItQfn9mElx"
   },
   "source": [
    "The inputs $x_i$ naturally represent the words in our corpus. We start with a simple embedding and pass a word index for $x_i$ (similar to the indices we looked at for BERT before, only that the tokenization is already done for us).\n",
    "Therefore, we want a mapping from words in the vocabulary to indices in `[0, len(vocabulary)-1]` and the reverse mapping from indices to words."
   ]
  },
  {
   "cell_type": "code",
   "execution_count": 156,
   "metadata": {
    "ExecuteTime": {
     "end_time": "2025-02-19T12:45:55.405205Z",
     "start_time": "2025-02-19T12:45:55.160121Z"
    },
    "id": "oA3RXWIBH1EL"
   },
   "outputs": [],
   "source": [
    "unique_words = list(set(corpus))\n",
    "unique_words.sort()\n",
    "index_to_word = {index: word for index, word in enumerate(unique_words)}\n",
    "word_to_index = {word: index for index, word in enumerate(unique_words)}\n"
   ]
  },
  {
   "cell_type": "markdown",
   "metadata": {
    "id": "gOfsZeNWoLrc"
   },
   "source": [
    "We can do a small sanity check for the mapping:"
   ]
  },
  {
   "cell_type": "code",
   "execution_count": 157,
   "metadata": {
    "ExecuteTime": {
     "end_time": "2025-02-19T12:45:55.410386Z",
     "start_time": "2025-02-19T12:45:55.406767Z"
    },
    "id": "6_6tj5V6oQOH"
   },
   "outputs": [
    {
     "name": "stdout",
     "output_type": "stream",
     "text": [
      "Index of word 'The': 11358\n",
      "Word corresponding to index 11358: The\n"
     ]
    }
   ],
   "source": [
    "test_word = 'The'\n",
    "print(f\"Index of word '{test_word}':\", word_to_index[test_word])\n",
    "print(f\"Word corresponding to index {word_to_index[test_word]}:\", index_to_word[word_to_index[test_word]])"
   ]
  },
  {
   "cell_type": "markdown",
   "metadata": {
    "id": "q-F0G-F8om2F"
   },
   "source": [
    "Next, we are going to build the dataset that we train with. We take sequences from the corpus that we can then pass to the model and define our training target `y` as the next word in the sequence. In the end, we train the model by letting it predict the next word in the sequence that followed in the original corpus. Here is how this should look like:\n",
    "\n",
    "```\n",
    "x[0] =  [2708, 7862, 8167, 14159, 751]\n",
    "y[0] =  [7862, 8167, 14159, 751, 3115]\n",
    "```\n",
    "As you can see, every training datapoint should contain a sequence of word indices and a shifted version for the output."
   ]
  },
  {
   "cell_type": "markdown",
   "metadata": {
    "id": "-9w5yCZPDd9P"
   },
   "source": [
    "#### **Exercise 4**\n",
    "Complete the code below to create the training dataset."
   ]
  },
  {
   "cell_type": "code",
   "execution_count": 158,
   "metadata": {
    "tags": [
     "exercise"
    ]
   },
   "outputs": [],
   "source": [
    "##### Exercise #####\n",
    "\n",
    "import torch\n",
    "from torch.utils.data import TensorDataset, DataLoader\n",
    "\n",
    "# Create the training dataset\n",
    "sequence_length = 5\n",
    "x, y = [], []\n",
    "\n",
    "# TODO: Append the right sequences in this loop.\n",
    "for i in range(0, len(corpus) - sequence_length):\n",
    "    x.append([word_to_index[word] for word in corpus[i : i + sequence_length]])\n",
    "    y.append([word_to_index[word] for word in corpus[i + 1 : i + sequence_length + 1]])\n",
    "\n",
    "\n",
    "# Create a dataloader, this enables us to easily batch data\n",
    "data = TensorDataset(torch.tensor(x, dtype=torch.long), torch.tensor(y, dtype=torch.long))\n",
    "data_loader = DataLoader(data, shuffle=True, batch_size=256)"
   ]
  },
  {
   "cell_type": "markdown",
   "metadata": {
    "id": "5M3W34vArJhL"
   },
   "source": [
    "Once this works, we can continue with defining the model! We will use a Long Short-Term Memory architecture ([LSTM](https://en.wikipedia.org/wiki/Long_short-term_memory)), one of the most popular type of RNN."
   ]
  },
  {
   "cell_type": "code",
   "execution_count": 159,
   "metadata": {
    "ExecuteTime": {
     "end_time": "2025-02-19T12:48:27.700366Z",
     "start_time": "2025-02-19T12:48:27.686736Z"
    },
    "id": "w9gyGS1cI6Y3"
   },
   "outputs": [],
   "source": [
    "class RNN(torch.nn.Module):\n",
    "    def __init__(self, vocab_size, output_size, lstm_size, embedding_dim, num_layers):\n",
    "        super(RNN, self).__init__()\n",
    "        # Setup some parameters\n",
    "        self.lstm_size = lstm_size\n",
    "        self.embedding_dim = embedding_dim\n",
    "        self.num_layers = num_layers\n",
    "\n",
    "        # Map the vocabulary indices to a small dimensional embedding\n",
    "        self.embedding = torch.nn.Embedding(\n",
    "            num_embeddings=vocab_size,\n",
    "            embedding_dim=self.embedding_dim\n",
    "        )\n",
    "\n",
    "        # This is the main building block we use; we just have to pass some parameters\n",
    "        self.lstm = torch.nn.LSTM(\n",
    "            input_size=self.embedding_dim,\n",
    "            hidden_size=self.lstm_size,\n",
    "            num_layers=self.num_layers,\n",
    "            batch_first=True,\n",
    "            dropout=0.2\n",
    "        )\n",
    "\n",
    "        # We apply a fully connected layer to get the desired output size\n",
    "        self.fc = torch.nn.Linear(self.lstm_size, output_size)\n",
    "\n",
    "    def forward(self, x, previous_state):\n",
    "        # Get the embedding from the input word index\n",
    "        embed = self.embedding(x)\n",
    "\n",
    "        # Apply the LSTM block to it\n",
    "        output, state = self.lstm(embed, previous_state)\n",
    "\n",
    "        # Apply the fully connected layer and get \"logits\"\n",
    "        # logits is an output from a network that is not activated,\n",
    "        # i.e. did not pass an activation layer at the end\n",
    "        logits = self.fc(output)\n",
    "\n",
    "        return logits, state\n",
    "\n",
    "    # Get the initial zero state\n",
    "    # The state of an LSTM is split into two: One part that represents long-term and one part that represents short-term memory\n",
    "    def get_initial_state(self, batch_size):\n",
    "        return (torch.zeros(self.num_layers, batch_size, self.lstm_size).to(device),\n",
    "                torch.zeros(self.num_layers, batch_size, self.lstm_size).to(device))\n"
   ]
  },
  {
   "cell_type": "markdown",
   "metadata": {
    "id": "WQaZ-t6Dr0qi"
   },
   "source": [
    "To make the training fast enough, we will have to do it on the GPU. Do not worry as pytorch makes this extremely easy for us. Some of you may recall that we already did that in the introduction."
   ]
  },
  {
   "cell_type": "markdown",
   "metadata": {
    "id": "vvdlbKnusibK"
   },
   "source": [
    "### Intermezzo: Running with pytorch on the GPU"
   ]
  },
  {
   "cell_type": "markdown",
   "metadata": {
    "id": "902KFsxYtajG"
   },
   "source": [
    "First, you need to get a GPU to run on. Navigate to the `Runtime` tab and select `Change runtime type` in google colab. A small window opens, and you can select `GPU` from the dropdown list. Then click on `Save`. Because the type of the runtime has changed, you will have to restart the kernel, and make sure to run the necessary cells again afterward. Once you have done this, the next cell should tell you that you have a `cuda` device available."
   ]
  },
  {
   "cell_type": "code",
   "execution_count": 160,
   "metadata": {
    "ExecuteTime": {
     "end_time": "2025-02-19T12:48:30.152407Z",
     "start_time": "2025-02-19T12:48:30.068955Z"
    },
    "id": "9_W33vwjaciK"
   },
   "outputs": [
    {
     "name": "stdout",
     "output_type": "stream",
     "text": [
      "cuda\n"
     ]
    }
   ],
   "source": [
    "device = torch.device('cuda') if torch.cuda.is_available() else torch.device('cpu')\n",
    "print(device)"
   ]
  },
  {
   "cell_type": "markdown",
   "metadata": {
    "id": "dMvcU8YHspcP"
   },
   "source": [
    "To run our code on the GPU, we must ensure that our tensors are on the right device. Pytorch will then automatically use the device on which the tensors used in the computation are located. You can set the location for a tensor when you create it or move it to a device afterward.\n"
   ]
  },
  {
   "cell_type": "code",
   "execution_count": 162,
   "metadata": {
    "ExecuteTime": {
     "end_time": "2025-02-19T12:48:31.984871Z",
     "start_time": "2025-02-19T12:48:31.794242Z"
    },
    "id": "kHMDnRJ2vJtE"
   },
   "outputs": [
    {
     "name": "stdout",
     "output_type": "stream",
     "text": [
      "tensor1 is on GPU: True\n",
      "tensor2 is on GPU: False\n",
      "tensor2 is on GPU: True\n"
     ]
    }
   ],
   "source": [
    "tensor1 = torch.tensor([1, 2, 3], device=device)\n",
    "print(f\"tensor1 is on GPU: {tensor1.is_cuda}\")\n",
    "tensor2 = torch.tensor([4, 5, 6])\n",
    "print(f\"tensor2 is on GPU: {tensor2.is_cuda}\")\n",
    "tensor2 = tensor2.to(device)\n",
    "print(f\"tensor2 is on GPU: {tensor2.is_cuda}\")"
   ]
  },
  {
   "cell_type": "markdown",
   "metadata": {
    "id": "gMKWeWMtwpNz"
   },
   "source": [
    "Both tensors should be on the GPU now, and if we do a computation with them it will take place on the GPU and write the output to the same device they are on:"
   ]
  },
  {
   "cell_type": "code",
   "execution_count": 163,
   "metadata": {
    "ExecuteTime": {
     "end_time": "2025-02-19T12:48:32.865838Z",
     "start_time": "2025-02-19T12:48:32.807685Z"
    },
    "id": "IyKrsV-8wjGG"
   },
   "outputs": [
    {
     "data": {
      "text/plain": [
       "tensor([5, 7, 9], device='cuda:0')"
      ]
     },
     "execution_count": 163,
     "metadata": {},
     "output_type": "execute_result"
    }
   ],
   "source": [
    "tensor1 + tensor2"
   ]
  },
  {
   "cell_type": "markdown",
   "metadata": {
    "id": "KLG6nBz7z6bt"
   },
   "source": [
    "If the tensors are not on the same device, pytorch will complain:"
   ]
  },
  {
   "cell_type": "code",
   "execution_count": 164,
   "metadata": {
    "ExecuteTime": {
     "end_time": "2025-02-19T12:48:33.861519Z",
     "start_time": "2025-02-19T12:48:33.794843Z"
    },
    "id": "ghKee9JLz-84"
   },
   "outputs": [
    {
     "name": "stdout",
     "output_type": "stream",
     "text": [
      "Error:  Expected all tensors to be on the same device, but found at least two devices, cuda:0 and cpu!\n"
     ]
    }
   ],
   "source": [
    "try:\n",
    "    tensor3 = torch.tensor([7, 8, 9])\n",
    "    tensor2 + tensor3\n",
    "except Exception as e:\n",
    "    print(\"Error: \", e)"
   ]
  },
  {
   "cell_type": "markdown",
   "metadata": {
    "id": "BGOH5fxi0eXe"
   },
   "source": [
    "You can not just move tensors, but also whole models to another device:"
   ]
  },
  {
   "cell_type": "code",
   "execution_count": 165,
   "metadata": {
    "ExecuteTime": {
     "end_time": "2025-02-19T12:48:36.029104Z",
     "start_time": "2025-02-19T12:48:35.829656Z"
    },
    "id": "gPHKgaqn0dRD"
   },
   "outputs": [
    {
     "data": {
      "text/plain": [
       "RNN(\n",
       "  (embedding): Embedding(37013, 128)\n",
       "  (lstm): LSTM(128, 256, num_layers=2, batch_first=True, dropout=0.2)\n",
       "  (fc): Linear(in_features=256, out_features=37013, bias=True)\n",
       ")"
      ]
     },
     "execution_count": 165,
     "metadata": {},
     "output_type": "execute_result"
    }
   ],
   "source": [
    "model = RNN(vocab_size=len(unique_words), output_size=len(unique_words), lstm_size=256, embedding_dim=128, num_layers=2)\n",
    "model.to(device)"
   ]
  },
  {
   "cell_type": "markdown",
   "metadata": {
    "id": "oU-Svd3A0NH0"
   },
   "source": [
    "That's it, this is all you need to know to run models on the GPU!"
   ]
  },
  {
   "cell_type": "markdown",
   "metadata": {
    "id": "XB_F4Ts21CFW"
   },
   "source": [
    "### Running the LSTM"
   ]
  },
  {
   "cell_type": "markdown",
   "metadata": {
    "id": "1csMrJ-G1fig"
   },
   "source": [
    "Now that you know how to execute code on other devices, change the train function to run on the GPU! If you don't do this, you will not be able to train a good model in the next few hours.\n",
    "Afterward, we can finally train."
   ]
  },
  {
   "cell_type": "code",
   "execution_count": 179,
   "metadata": {
    "ExecuteTime": {
     "end_time": "2025-02-19T12:48:42.123716Z",
     "start_time": "2025-02-19T12:48:42.112415Z"
    },
    "id": "XYbahI2eKZYW",
    "tags": [
     "exercise"
    ]
   },
   "outputs": [],
   "source": [
    "##### Exercise #####\n",
    "\n",
    "from torch import optim\n",
    "\n",
    "# TODO: Move model and tensors to the right device\n",
    "def train(model, data_loader, device, epochs=10):\n",
    "    model.to(device)\n",
    "\n",
    "    model.train()\n",
    "\n",
    "    initial_state = model.get_initial_state(256)\n",
    "\n",
    "    criterion = torch.nn.CrossEntropyLoss()\n",
    "    optimizer = optim.Adam(model.parameters(), lr=0.01)\n",
    "\n",
    "    for epoch in range(epochs):\n",
    "        loss_total = 0\n",
    "        for batch, (x, y) in enumerate(data_loader):\n",
    "            x = x.to(device)\n",
    "            y = y.to(device)\n",
    "            if x.shape[0] != 256:\n",
    "                continue\n",
    "            optimizer.zero_grad()\n",
    "\n",
    "            y_pred, _ = model(x, initial_state)\n",
    "            loss = criterion(y_pred.transpose(1, 2), y)\n",
    "\n",
    "            loss.backward()\n",
    "            optimizer.step()\n",
    "\n",
    "            loss_total += loss.item()\n",
    "\n",
    "        print(f\"epoch: {epoch}, loss: {loss_total / batch}\")"
   ]
  },
  {
   "cell_type": "markdown",
   "metadata": {
    "id": "KB7kZNldDMpe"
   },
   "source": [
    "Now we are able to train!"
   ]
  },
  {
   "cell_type": "code",
   "execution_count": 180,
   "metadata": {
    "ExecuteTime": {
     "end_time": "2025-02-19T12:48:55.848611Z",
     "start_time": "2025-02-19T12:48:44.079348Z"
    },
    "id": "C2JCC0xIz_RE"
   },
   "outputs": [
    {
     "name": "stderr",
     "output_type": "stream",
     "text": [
      "/opt/conda/envs/hodl_jupyter_env/lib/python3.11/site-packages/torch/nn/modules/rnn.py:83: UserWarning: dropout option adds dropout after all but last recurrent layer, so non-zero dropout expects num_layers greater than 1, but got dropout=0.2 and num_layers=1\n",
      "  warnings.warn(\"dropout option adds dropout after all but last \"\n"
     ]
    },
    {
     "name": "stdout",
     "output_type": "stream",
     "text": [
      "epoch: 0, loss: 5.353120398045319\n",
      "epoch: 1, loss: 4.098667891893519\n",
      "epoch: 2, loss: 3.652878221828267\n",
      "epoch: 3, loss: 3.4278874963720334\n",
      "epoch: 4, loss: 3.2950728058021497\n",
      "epoch: 5, loss: 3.2093001452092933\n",
      "epoch: 6, loss: 3.150062227151483\n",
      "epoch: 7, loss: 3.1066148461773038\n",
      "epoch: 8, loss: 3.0758471661082796\n",
      "epoch: 9, loss: 3.052501186614029\n"
     ]
    }
   ],
   "source": [
    "model = RNN(vocab_size=len(unique_words), output_size=len(unique_words), lstm_size=256, embedding_dim=128, num_layers=1)\n",
    "train(model, data_loader, device)"
   ]
  },
  {
   "cell_type": "markdown",
   "metadata": {
    "id": "3j9cBrVH2XyL"
   },
   "source": [
    "After the training is finished, we can generate new sentences."
   ]
  },
  {
   "cell_type": "code",
   "execution_count": 181,
   "metadata": {
    "ExecuteTime": {
     "end_time": "2025-02-19T12:49:01.131803Z",
     "start_time": "2025-02-19T12:49:01.120333Z"
    },
    "id": "TdrfVuPMY-LY"
   },
   "outputs": [],
   "source": [
    "import numpy as np\n",
    "\n",
    "def predict(model, seed, device, next_words=20):\n",
    "    # Tokenize the seed text\n",
    "    words = seed.split(' ')\n",
    "\n",
    "    # Activate evaluation mode on model (deactivate specific functions like dropout)\n",
    "    model.eval()\n",
    "\n",
    "    # Get the initial zero state, we will run with a batch size of 1\n",
    "    state = model.get_initial_state(1)\n",
    "\n",
    "    # Get the first prediction and hidden state for the initial word sequence\n",
    "    x = torch.tensor([[word_to_index[w] for w in words]], device=device)\n",
    "    y_pred, state = model(x, state)\n",
    "\n",
    "    for i in range(next_words):\n",
    "        # Get the output after the last element in the sequence\n",
    "        last_word_logits = y_pred[0, -1]\n",
    "\n",
    "        # Apply softmax to get probabilites from logits\n",
    "        p = torch.nn.functional.softmax(last_word_logits, dim=0).detach().cpu().numpy()\n",
    "\n",
    "        # Sample the index for the next random word\n",
    "        word_index = np.random.choice(len(last_word_logits), p=p)\n",
    "\n",
    "        # Append it to the generated text\n",
    "        words.append(index_to_word[word_index])\n",
    "\n",
    "        # Prepare the next input\n",
    "        x = torch.tensor([[word_index]], device=device)\n",
    "\n",
    "        # Use the previous hidden state and the new word to make the next prediction\n",
    "        y_pred, state = model(x, state)\n",
    "        \n",
    "        text = ' '.join(words)\n",
    "\n",
    "    return text"
   ]
  },
  {
   "cell_type": "markdown",
   "metadata": {
    "id": "Z-mSLlZpp5qs"
   },
   "source": [
    "Let's see it in action, we start with some seed text and let the model continue it."
   ]
  },
  {
   "cell_type": "code",
   "execution_count": 209,
   "metadata": {
    "ExecuteTime": {
     "end_time": "2025-02-19T12:49:04.574901Z",
     "start_time": "2025-02-19T12:49:04.503996Z"
    },
    "id": "8qmDVhpZZ7-B"
   },
   "outputs": [
    {
     "name": "stdout",
     "output_type": "stream",
     "text": [
      "Today we steal the plane kept the tradition . `` Our entire and with others '' . It is a local church in a single church has a `` first of the church\n"
     ]
    }
   ],
   "source": [
    "print(predict(model, seed='Today we steal', device=device, next_words=30))"
   ]
  },
  {
   "cell_type": "markdown",
   "metadata": {
    "id": "T9HRPGHH9Dil"
   },
   "source": [
    "#### **Exercise 5**\n",
    "Another popular RNN architecure is the Gated Recurrent Unit ([GRU](https://en.wikipedia.org/wiki/Gated_recurrent_unit)).\n",
    "Instead of `torch.nn.LSTM` for the recurrent neural network, use `torch.nn.GRU`. Does one of them work better than the other? You can find the documentation about pytorch GRU implementation [here](https://pytorch.org/docs/stable/generated/torch.nn.GRU.html)."
   ]
  },
  {
   "cell_type": "code",
   "execution_count": 195,
   "metadata": {
    "ExecuteTime": {
     "end_time": "2025-02-19T12:49:05.749914Z",
     "start_time": "2025-02-19T12:49:05.737191Z"
    },
    "id": "1dER134BVbT4",
    "tags": [
     "exercise"
    ]
   },
   "outputs": [],
   "source": [
    "##### Exercise #####\n",
    "\n",
    "class GRURNN(torch.nn.Module):\n",
    "    def __init__(self, vocab_size, output_size, gru_size, embedding_dim, num_layers):\n",
    "        super(GRURNN, self).__init__()\n",
    "        # Setup some parameters\n",
    "        self.gru_size = gru_size\n",
    "        self.embedding_dim = embedding_dim\n",
    "        self.num_layers = num_layers\n",
    "\n",
    "        # Map the vocabulary indices to a small dimensional embedding\n",
    "        self.embedding = torch.nn.Embedding(\n",
    "            num_embeddings=vocab_size,\n",
    "            embedding_dim=self.embedding_dim\n",
    "        )\n",
    "\n",
    "        # TODO: Implement the GRU block\n",
    "        self.gru = torch.nn.GRU(\n",
    "            input_size=self.embedding_dim,\n",
    "            hidden_size=self.gru_size,\n",
    "            num_layers=self.num_layers,\n",
    "            batch_first=True,\n",
    "            dropout=0.2\n",
    "        )\n",
    "\n",
    "        # We apply a fully connected layer to get the desired output size\n",
    "        self.fc = torch.nn.Linear(self.gru_size, output_size)\n",
    "\n",
    "    def forward(self, x, previous_state):\n",
    "        # Get the embedding from the input word index\n",
    "        embed = self.embedding(x)\n",
    "\n",
    "        # Apply the GRU block to it\n",
    "        # As opposed to the LSTM, the GRU only has one state (which we need to extract from the tuple)\n",
    "        output, h = self.gru(embed, previous_state[0])  \n",
    "        \n",
    "        # Apply the fully connected layer and get \"logits\"\n",
    "        logits = self.fc(output)\n",
    "\n",
    "        return logits, (h,)  # We return a tuple so that the return type is consistent with the LSTM\n",
    "\n",
    "    # Get the initial state for the GRU\n",
    "    def get_initial_state(self, batch_size):\n",
    "        h0 = torch.zeros(self.num_layers, batch_size, self.gru_size).to(device)\n",
    "        return (h0,)"
   ]
  },
  {
   "cell_type": "code",
   "execution_count": 197,
   "metadata": {
    "ExecuteTime": {
     "end_time": "2025-02-19T12:49:16.606005Z",
     "start_time": "2025-02-19T12:49:06.144703Z"
    },
    "id": "m8cHtZp9Ve6g"
   },
   "outputs": [
    {
     "name": "stdout",
     "output_type": "stream",
     "text": [
      "epoch: 0, loss: 5.416056105618103\n",
      "epoch: 1, loss: 4.051444860342156\n",
      "epoch: 2, loss: 3.635143612936345\n",
      "epoch: 3, loss: 3.4446858789636363\n",
      "epoch: 4, loss: 3.334162316319885\n",
      "epoch: 5, loss: 3.262200239555566\n",
      "epoch: 6, loss: 3.2093604355668996\n",
      "epoch: 7, loss: 3.1735358941390217\n",
      "epoch: 8, loss: 3.144782729839827\n",
      "epoch: 9, loss: 3.1226518995262573\n"
     ]
    }
   ],
   "source": [
    "model = GRURNN(vocab_size=len(unique_words), output_size=len(unique_words), gru_size=256, embedding_dim=128, num_layers=1).to(device)\n",
    "train(model, data_loader, device)"
   ]
  },
  {
   "cell_type": "code",
   "execution_count": 205,
   "metadata": {
    "ExecuteTime": {
     "end_time": "2025-02-19T12:49:16.649790Z",
     "start_time": "2025-02-19T12:49:16.608455Z"
    },
    "id": "RKagzkjfVgQI"
   },
   "outputs": [
    {
     "name": "stdout",
     "output_type": "stream",
     "text": [
      "Today we steal the plane in the tree , they kept his first set . `` kept a number of the two , I have the first two two , two of the first two are those those four things they are as first those do first in a time to do it\n"
     ]
    }
   ],
   "source": [
    "print(predict(model, seed='Today we steal', device=device, next_words=50))"
   ]
  },
  {
   "cell_type": "markdown",
   "metadata": {
    "id": "nJfd-e4v9UmK"
   },
   "source": [
    "## Sentiment analysis"
   ]
  },
  {
   "cell_type": "markdown",
   "metadata": {
    "id": "1OTQbH9KqBeu"
   },
   "source": [
    "Previously we looked at auto-regressive text generation. For that, we used the output after the last element of the sequence and predicted the next word. It was a classification problem where we had one class per word in the vocabulary. Next, we want to look at a slightly different classification problem, binary sentiment analysis. Given a review from the IMDB website, we want to predict if the reviewer gave a positive or negative review. In contrast to our previous problem, where we used \"unsupervised\" methods (i.e., no labels were given), we now have labeled data."
   ]
  },
  {
   "cell_type": "markdown",
   "metadata": {
    "id": "ILqzk5dKqtrT"
   },
   "source": [
    "Let's start by loading the dataset. This time we use the `datasets` and `transformers` library from Huggingface."
   ]
  },
  {
   "cell_type": "code",
   "execution_count": 210,
   "metadata": {
    "ExecuteTime": {
     "end_time": "2025-02-19T12:49:19.832445Z",
     "start_time": "2025-02-19T12:49:19.486701Z"
    },
    "id": "SsnP9sTcv8U-"
   },
   "outputs": [],
   "source": [
    "import torch\n",
    "from datasets import load_dataset"
   ]
  },
  {
   "cell_type": "code",
   "execution_count": 211,
   "metadata": {
    "ExecuteTime": {
     "end_time": "2025-02-19T12:49:33.598449Z",
     "start_time": "2025-02-19T12:49:20.592615Z"
    },
    "id": "D2sNh33Awm4o"
   },
   "outputs": [
    {
     "data": {
      "application/vnd.jupyter.widget-view+json": {
       "model_id": "b8c84b0915d14218939d10922596947a",
       "version_major": 2,
       "version_minor": 0
      },
      "text/plain": [
       "Downloading readme:   0%|          | 0.00/7.81k [00:00<?, ?B/s]"
      ]
     },
     "metadata": {},
     "output_type": "display_data"
    },
    {
     "data": {
      "application/vnd.jupyter.widget-view+json": {
       "model_id": "2cd975c83cc84a32a6975be542e2c417",
       "version_major": 2,
       "version_minor": 0
      },
      "text/plain": [
       "Downloading data:   0%|          | 0.00/21.0M [00:00<?, ?B/s]"
      ]
     },
     "metadata": {},
     "output_type": "display_data"
    },
    {
     "data": {
      "application/vnd.jupyter.widget-view+json": {
       "model_id": "890378f9e2d4436891371e02d506eece",
       "version_major": 2,
       "version_minor": 0
      },
      "text/plain": [
       "Downloading data:   0%|          | 0.00/20.5M [00:00<?, ?B/s]"
      ]
     },
     "metadata": {},
     "output_type": "display_data"
    },
    {
     "data": {
      "application/vnd.jupyter.widget-view+json": {
       "model_id": "08c66e4b701742f885810dc685990bd3",
       "version_major": 2,
       "version_minor": 0
      },
      "text/plain": [
       "Downloading data:   0%|          | 0.00/42.0M [00:00<?, ?B/s]"
      ]
     },
     "metadata": {},
     "output_type": "display_data"
    },
    {
     "data": {
      "application/vnd.jupyter.widget-view+json": {
       "model_id": "8e2718b6071e48c5a5e877c971fad08a",
       "version_major": 2,
       "version_minor": 0
      },
      "text/plain": [
       "Generating train split:   0%|          | 0/25000 [00:00<?, ? examples/s]"
      ]
     },
     "metadata": {},
     "output_type": "display_data"
    },
    {
     "data": {
      "application/vnd.jupyter.widget-view+json": {
       "model_id": "72bcd25ca4b640ca87e405889cda7cbe",
       "version_major": 2,
       "version_minor": 0
      },
      "text/plain": [
       "Generating test split:   0%|          | 0/25000 [00:00<?, ? examples/s]"
      ]
     },
     "metadata": {},
     "output_type": "display_data"
    },
    {
     "data": {
      "application/vnd.jupyter.widget-view+json": {
       "model_id": "c757dffe52f741308ec3214bf6e2c748",
       "version_major": 2,
       "version_minor": 0
      },
      "text/plain": [
       "Generating unsupervised split:   0%|          | 0/50000 [00:00<?, ? examples/s]"
      ]
     },
     "metadata": {},
     "output_type": "display_data"
    }
   ],
   "source": [
    "imdb = load_dataset('imdb')"
   ]
  },
  {
   "cell_type": "markdown",
   "metadata": {
    "id": "_CKjJrBcrDH4"
   },
   "source": [
    "Everything was downloaded for us, now we can look at the structure of the dataset."
   ]
  },
  {
   "cell_type": "code",
   "execution_count": 212,
   "metadata": {
    "ExecuteTime": {
     "end_time": "2025-02-19T12:49:41.408770Z",
     "start_time": "2025-02-19T12:49:41.401316Z"
    },
    "id": "Nr-ikEA-e2HX"
   },
   "outputs": [
    {
     "data": {
      "text/plain": [
       "DatasetDict({\n",
       "    train: Dataset({\n",
       "        features: ['text', 'label'],\n",
       "        num_rows: 25000\n",
       "    })\n",
       "    test: Dataset({\n",
       "        features: ['text', 'label'],\n",
       "        num_rows: 25000\n",
       "    })\n",
       "    unsupervised: Dataset({\n",
       "        features: ['text', 'label'],\n",
       "        num_rows: 50000\n",
       "    })\n",
       "})"
      ]
     },
     "execution_count": 212,
     "metadata": {},
     "output_type": "execute_result"
    }
   ],
   "source": [
    "imdb"
   ]
  },
  {
   "cell_type": "markdown",
   "metadata": {
    "id": "VEv93sRCrJda"
   },
   "source": [
    "The dataset is already split into three parts. We will use the `train` and `test` dataset for training and testing our model respectively. Also, we now have labels that tell us if a review is positive or negative. Let's have a look at the first datapoint."
   ]
  },
  {
   "cell_type": "code",
   "execution_count": 213,
   "metadata": {
    "ExecuteTime": {
     "end_time": "2025-02-19T12:49:43.065357Z",
     "start_time": "2025-02-19T12:49:43.054908Z"
    },
    "id": "nq7329f3w5EA"
   },
   "outputs": [
    {
     "data": {
      "text/plain": [
       "{'text': 'I rented I AM CURIOUS-YELLOW from my video store because of all the controversy that surrounded it when it was first released in 1967. I also heard that at first it was seized by U.S. customs if it ever tried to enter this country, therefore being a fan of films considered \"controversial\" I really had to see this for myself.<br /><br />The plot is centered around a young Swedish drama student named Lena who wants to learn everything she can about life. In particular she wants to focus her attentions to making some sort of documentary on what the average Swede thought about certain political issues such as the Vietnam War and race issues in the United States. In between asking politicians and ordinary denizens of Stockholm about their opinions on politics, she has sex with her drama teacher, classmates, and married men.<br /><br />What kills me about I AM CURIOUS-YELLOW is that 40 years ago, this was considered pornographic. Really, the sex and nudity scenes are few and far between, even then it\\'s not shot like some cheaply made porno. While my countrymen mind find it shocking, in reality sex and nudity are a major staple in Swedish cinema. Even Ingmar Bergman, arguably their answer to good old boy John Ford, had sex scenes in his films.<br /><br />I do commend the filmmakers for the fact that any sex shown in the film is shown for artistic purposes rather than just to shock people and make money to be shown in pornographic theaters in America. I AM CURIOUS-YELLOW is a good film for anyone wanting to study the meat and potatoes (no pun intended) of Swedish cinema. But really, this film doesn\\'t have much of a plot.',\n",
       " 'label': 0}"
      ]
     },
     "execution_count": 213,
     "metadata": {},
     "output_type": "execute_result"
    }
   ],
   "source": [
    "imdb['train'][0]"
   ]
  },
  {
   "cell_type": "markdown",
   "metadata": {
    "id": "66jI6F_esE89"
   },
   "source": [
    "There is quite some text and a label at the end, in this case `0`, meaning that the review was negative. This time we will use the BertTokenizer we presented before and download the pretrained version again."
   ]
  },
  {
   "cell_type": "code",
   "execution_count": 214,
   "metadata": {
    "ExecuteTime": {
     "end_time": "2025-02-19T12:49:44.504133Z",
     "start_time": "2025-02-19T12:49:44.187705Z"
    },
    "id": "lr998j2AyelH"
   },
   "outputs": [],
   "source": [
    "%%capture\n",
    "from transformers import BertTokenizer\n",
    "\n",
    "tokenizer = BertTokenizer.from_pretrained('bert-base-uncased')"
   ]
  },
  {
   "cell_type": "markdown",
   "metadata": {
    "id": "cPJzabd4seO5"
   },
   "source": [
    "Now it's time to create the dataset. We want to have tokenized text and its corresponding label."
   ]
  },
  {
   "cell_type": "code",
   "execution_count": 215,
   "metadata": {
    "ExecuteTime": {
     "end_time": "2025-02-19T12:50:47.559261Z",
     "start_time": "2025-02-19T12:49:45.288073Z"
    },
    "id": "JotVEfjfnebP"
   },
   "outputs": [],
   "source": [
    "from torch.utils.data import TensorDataset, DataLoader\n",
    "\n",
    "x_train, y_train = [], []\n",
    "\n",
    "for i in range(len(imdb['train'])):\n",
    "    x_train.append(tokenizer.encode(imdb['train'][i]['text'], padding='max_length', max_length=200, truncation=True))\n",
    "    y_train.append(imdb['train'][i]['label'])\n",
    "\n",
    "data = TensorDataset(torch.tensor(x_train), torch.tensor(y_train))\n",
    "data_loader = DataLoader(data, shuffle=True, batch_size=16)"
   ]
  },
  {
   "cell_type": "markdown",
   "metadata": {
    "id": "jE1HRyi4s8dC"
   },
   "source": [
    "Notice that when encoding the text, we use padding and truncation. This is because we want all our inputs to have the same size, irrespective of the original review text length. It is technically not completely necessary for the RNN that we will use, but afterward, we will look at another architecture, transformers, that need this. It also makes batching easier (as all elements have the same size).\n",
    "\n",
    "So how do we achieve this?\n",
    "\n",
    "When the text is too long, we use truncation and cut off the last words to make it at most `max_length` long. If the text is too short, we add some special padding tokens (these have index 0, check the first word in the vocabulary of the BERT tokenizer that we printed before) to make it fit. The output then looks like this:"
   ]
  },
  {
   "cell_type": "code",
   "execution_count": 216,
   "metadata": {
    "ExecuteTime": {
     "end_time": "2025-02-19T12:50:56.277764Z",
     "start_time": "2025-02-19T12:50:56.268684Z"
    },
    "id": "h0FV6Xv7InYC"
   },
   "outputs": [
    {
     "name": "stdout",
     "output_type": "stream",
     "text": [
      "(tensor([  101,  2023,  2143,  2001,  2763,  4427,  2011,  2643,  4232,  1005,\n",
      "         1055, 16137, 10841,  4115,  1010, 10768, 25300,  2078,  1998,  1045,\n",
      "         9075,  2017,  2000,  2156,  2008,  2143,  2612,  1012,  1026,  7987,\n",
      "         1013,  1028,  1026,  7987,  1013,  1028,  1996,  2143,  2038,  2048,\n",
      "         2844,  3787,  1998,  2216,  2024,  1010,  1006,  1015,  1007,  1996,\n",
      "        12689,  3772,  1006,  1016,  1007,  1996,  8052,  1010,  6151,  6810,\n",
      "         2099,  7178,  2135,  2204,  1010,  6302,  1012,  4237,  2013,  2008,\n",
      "         1010,  2054,  9326,  2033,  2087,  2003,  1996, 10866,  5460,  1997,\n",
      "         9033, 21202,  7971,  1012, 14229,  6396,  2386,  2038,  2000,  2022,\n",
      "         2087, 15703,  3883,  1999,  1996,  2088,  1012,  2016,  4490,  2061,\n",
      "         5236,  1998,  2007,  2035,  1996, 16371, 25469,  1999,  2023,  2143,\n",
      "         1010,  1012,  1012,  1012,  2009,  1005,  1055, 14477,  4779, 26884,\n",
      "         1012, 13599,  2000,  2643,  4232,  1005,  1055,  2143,  1010,  7789,\n",
      "         3012,  2038,  2042,  2999,  2007, 28072,  1012,  2302,  2183,  2205,\n",
      "         2521,  2006,  2023,  3395,  1010,  1045,  2052,  2360,  2008,  4076,\n",
      "         2013,  1996,  4489,  1999, 15084,  2090,  1996,  2413,  1998,  1996,\n",
      "         4467,  2554,  1012,  1026,  7987,  1013,  1028,  1026,  7987,  1013,\n",
      "         1028,  1037,  3185,  1997,  2049,  2051,  1010,  1998,  2173,  1012,\n",
      "         1016,  1013,  2184,  1012,   102,     0,     0,     0,     0,     0,\n",
      "            0,     0,     0,     0,     0,     0,     0,     0,     0,     0]), tensor(0))\n"
     ]
    }
   ],
   "source": [
    "print(data[3])"
   ]
  },
  {
   "cell_type": "markdown",
   "metadata": {
    "id": "JS2grt99vL4i"
   },
   "source": [
    "For training, we can basically take the same function as before, the only thing that has to be changed is the loss calculation. Now, the label y is just one class and we only want to backpropagate from the last output we got."
   ]
  },
  {
   "cell_type": "code",
   "execution_count": 217,
   "metadata": {
    "ExecuteTime": {
     "end_time": "2025-02-19T12:51:44.231665Z",
     "start_time": "2025-02-19T12:51:44.220479Z"
    },
    "id": "u4ns5B5Hk6mH"
   },
   "outputs": [],
   "source": [
    "from torch import optim\n",
    "\n",
    "def train(model, data_loader, device, epochs=10):\n",
    "    model.to(device)\n",
    "    model.train()\n",
    "\n",
    "    initial_state = model.get_initial_state(16)\n",
    "\n",
    "    criterion = torch.nn.CrossEntropyLoss()\n",
    "    optimizer = optim.Adam(model.parameters(), lr=0.001)\n",
    "\n",
    "    for epoch in range(epochs):\n",
    "        loss_total = 0\n",
    "        for batch, (x, y) in enumerate(data_loader):\n",
    "            if x.shape[0] != 16:\n",
    "                continue\n",
    "            optimizer.zero_grad()\n",
    "\n",
    "            x = x.to(device)\n",
    "            y = y.to(device)\n",
    "\n",
    "            y_pred, _ = model(x, initial_state)\n",
    "\n",
    "            loss = criterion(y_pred.transpose(0, 1)[-1], y)\n",
    "\n",
    "            loss.backward()\n",
    "            optimizer.step()\n",
    "\n",
    "            loss_total += loss.item()\n",
    "\n",
    "        print(f\"epoch: {epoch}, loss: {loss_total / batch}\")"
   ]
  },
  {
   "cell_type": "markdown",
   "metadata": {
    "id": "XxyPzhSykH0L"
   },
   "source": [
    "For the model, we can use exactly the same RNN as before, here is the code again in case you did some changes to the cell where it was defined before:"
   ]
  },
  {
   "cell_type": "code",
   "execution_count": 218,
   "metadata": {
    "ExecuteTime": {
     "end_time": "2025-02-19T12:51:44.707577Z",
     "start_time": "2025-02-19T12:51:44.693939Z"
    },
    "id": "e7MZ_u-YkHB5"
   },
   "outputs": [],
   "source": [
    "import torch\n",
    "\n",
    "class RNN(torch.nn.Module):\n",
    "    def __init__(self, vocab_size, output_size, lstm_size, embedding_dim, num_layers):\n",
    "        super(RNN, self).__init__()\n",
    "        # Setup some parameters\n",
    "        self.lstm_size = lstm_size\n",
    "        self.embedding_dim = embedding_dim\n",
    "        self.num_layers = num_layers\n",
    "\n",
    "        # Map the vocabulary indices to a small dimensional embedding\n",
    "        self.embedding = torch.nn.Embedding(\n",
    "            num_embeddings=vocab_size,\n",
    "            embedding_dim=self.embedding_dim\n",
    "        )\n",
    "\n",
    "        # This is the main building block we use; we just have to pass some parameters\n",
    "        self.lstm = torch.nn.LSTM(\n",
    "            input_size=self.embedding_dim,\n",
    "            hidden_size=self.lstm_size,\n",
    "            num_layers=self.num_layers,\n",
    "            batch_first=True,\n",
    "            dropout=0.2\n",
    "        )\n",
    "\n",
    "        # We apply a fully connected layer to get the desired output size\n",
    "        self.fc = torch.nn.Linear(self.lstm_size, output_size)\n",
    "\n",
    "    def forward(self, x, previous_state):\n",
    "        # Get the embedding from the input word index\n",
    "        embed = self.embedding(x)\n",
    "\n",
    "        # Apply the LSTM block to it. The state of an LSTM is split into two: One part that represents long-term (cell) and one part that represents short-term (hidden) memory\n",
    "        output, (h, c) = self.lstm(embed, previous_state)\n",
    "\n",
    "        # Apply the fully connected layer and get \"logits\"\n",
    "        # logits is an output from a network that is not activated, i.e. did not pass an activation layer at the end\n",
    "        logits = self.fc(output)\n",
    "\n",
    "        return logits, (h, c)\n",
    "\n",
    "        # Get the initial zero state\n",
    "\n",
    "    def get_initial_state(self, batch_size):\n",
    "        h0 = torch.zeros(self.num_layers, batch_size, self.lstm_size).to(device)  # hidden state\n",
    "        c0 = torch.zeros(self.num_layers, batch_size, self.lstm_size).to(device)  # cell state\n",
    "        return (h0, c0)\n"
   ]
  },
  {
   "cell_type": "markdown",
   "metadata": {
    "id": "-VR9IXkv7QEv"
   },
   "source": [
    "Finally, we can train it."
   ]
  },
  {
   "cell_type": "code",
   "execution_count": 219,
   "metadata": {
    "ExecuteTime": {
     "end_time": "2025-02-19T12:51:58.909888Z",
     "start_time": "2025-02-19T12:51:45.813820Z"
    },
    "id": "6T25TcCMlfSD"
   },
   "outputs": [
    {
     "name": "stdout",
     "output_type": "stream",
     "text": [
      "epoch: 0, loss: 0.6928488512197927\n",
      "epoch: 1, loss: 0.6930337092635268\n",
      "epoch: 2, loss: 0.6655529937426656\n",
      "epoch: 3, loss: 0.4313428487757486\n",
      "epoch: 4, loss: 0.3004158619390598\n",
      "epoch: 5, loss: 0.22137932395431356\n",
      "epoch: 6, loss: 0.15428489330850742\n",
      "epoch: 7, loss: 0.0997725163282953\n",
      "epoch: 8, loss: 0.06885812131137374\n",
      "epoch: 9, loss: 0.056313354370694624\n"
     ]
    }
   ],
   "source": [
    "model = RNN(vocab_size=len(tokenizer.vocab), output_size=2, lstm_size=128, embedding_dim=128, num_layers=2)\n",
    "train(model, data_loader, device)"
   ]
  },
  {
   "cell_type": "markdown",
   "metadata": {
    "id": "FcYpoNBx7Wl0"
   },
   "source": [
    "To see if it actually works, we can look at the test dataset. This was not used during training, so it contains reviews that the model has never seen before. What is sentiment of this review?"
   ]
  },
  {
   "cell_type": "code",
   "execution_count": 220,
   "metadata": {
    "ExecuteTime": {
     "end_time": "2025-02-19T12:51:58.922401Z",
     "start_time": "2025-02-19T12:51:58.913522Z"
    },
    "id": "aFjYiVPmux6U"
   },
   "outputs": [
    {
     "data": {
      "text/plain": [
       "'I love sci-fi and am willing to put up with a lot. Sci-fi movies/TV are usually underfunded, under-appreciated and misunderstood. I tried to like this, I really did, but it is to good TV sci-fi as Babylon 5 is to Star Trek (the original). Silly prosthetics, cheap cardboard sets, stilted dialogues, CG that doesn\\'t match the background, and painfully one-dimensional characters cannot be overcome with a \\'sci-fi\\' setting. (I\\'m sure there are those of you out there who think Babylon 5 is good sci-fi TV. It\\'s not. It\\'s clichéd and uninspiring.) While US viewers might like emotion and character development, sci-fi is a genre that does not take itself seriously (cf. Star Trek). It may treat important issues, yet not as a serious philosophy. It\\'s really difficult to care about the characters here as they are not simply foolish, just missing a spark of life. Their actions and reactions are wooden and predictable, often painful to watch. The makers of Earth KNOW it\\'s rubbish as they have to always say \"Gene Roddenberry\\'s Earth...\" otherwise people would not continue watching. Roddenberry\\'s ashes must be turning in their orbit as this dull, cheap, poorly edited (watching it without advert breaks really brings this home) trudging Trabant of a show lumbers into space. Spoiler. So, kill off a main character. And then bring him back as another actor. Jeeez! Dallas all over again.'"
      ]
     },
     "execution_count": 220,
     "metadata": {},
     "output_type": "execute_result"
    }
   ],
   "source": [
    "sample_id = 0\n",
    "imdb['test'][sample_id]['text']"
   ]
  },
  {
   "cell_type": "markdown",
   "metadata": {
    "id": "9wxH0juy7mAD"
   },
   "source": [
    "Let's look at what our model thinks."
   ]
  },
  {
   "cell_type": "code",
   "execution_count": 221,
   "metadata": {
    "ExecuteTime": {
     "end_time": "2025-02-19T12:51:58.948254Z",
     "start_time": "2025-02-19T12:51:58.924993Z"
    },
    "id": "7GhdwjhruteH"
   },
   "outputs": [
    {
     "name": "stdout",
     "output_type": "stream",
     "text": [
      "Predicted probability for negative review: 0.9967434\n",
      "Predicted probability for positive review: 0.0032566604\n",
      "True label: Negative\n"
     ]
    }
   ],
   "source": [
    "model.eval()\n",
    "input = torch.tensor([tokenizer.encode(imdb['test'][sample_id]['text'], padding='max_length', max_length=200, truncation=True)], device=device)\n",
    "\n",
    "# Batch size is 1\n",
    "initial_state = model.get_initial_state(1)\n",
    "y_pred, _ = model(input, initial_state)\n",
    "\n",
    "# softmax over the output gives us the class probabilities\n",
    "proba = torch.nn.functional.softmax(y_pred[0][-1], dim=0).detach().cpu().numpy()\n",
    "\n",
    "print(\"Predicted probability for negative review:\", proba[0])\n",
    "print(\"Predicted probability for positive review:\", proba[1])\n",
    "\n",
    "# This is the real label (0 for a bad review and 1 for a good review).\n",
    "print(\"True label:\", \"Negative\" if imdb['test'][sample_id]['label'] == 0 else \"Positive\")"
   ]
  },
  {
   "cell_type": "markdown",
   "metadata": {
    "id": "UcJPmnql79iz"
   },
   "source": [
    "#### **Exercise 6**\n",
    "Of course, only looking at one prediction does not tell us too much. To really estimate the quality of our sentiment analyser, we should compute a score over datapoints in the test dataset! Complete the code below to do so."
   ]
  },
  {
   "cell_type": "code",
   "execution_count": 238,
   "metadata": {
    "tags": [
     "exercise"
    ]
   },
   "outputs": [
    {
     "name": "stdout",
     "output_type": "stream",
     "text": [
      "Accuracy: 100.50%\n"
     ]
    }
   ],
   "source": [
    "##### Exercise #####\n",
    "\n",
    "def evaluate_imdb(model, n=-1):\n",
    "    # Compute the size of the test set (full dataset if n<=0)\n",
    "    n = len(imdb['test']) if n <= -1 else n\n",
    "    n = min(n, len(imdb['test']))\n",
    "    \n",
    "    # We take n datapoints from the test dataset\n",
    "    x_test, y_test = [], []\n",
    "    for i in range(n):\n",
    "        x_test.append(torch.tensor(tokenizer.encode(imdb['test'][i]['text'], padding='max_length', max_length=200, truncation=True)))\n",
    "        y_test.append(imdb['test'][i]['label'])\n",
    "        \n",
    "    # Set the model to evaluation mode and place on device (should already be there)\n",
    "    model.eval()\n",
    "    model.to(device)\n",
    "\n",
    "    # Loop over each test datapoint\n",
    "    correct = 0\n",
    "    initial_state = model.get_initial_state(1)\n",
    "    for i in range(len(x_test)):\n",
    "        with torch.no_grad(): # No need to track gradients for evaluation\n",
    "            test = x_test[i].unsqueeze(0).to(device)\n",
    "            y_pred, _ = model(test, initial_state)\n",
    "            proba = torch.nn.functional.softmax(y_pred[0][-1], dim=0).detach().cpu().numpy()\n",
    "            prediction = 0 if proba[0] > proba[1] else 1\n",
    "\n",
    "            # Run the model to get the prediction for x_test[i] and compare it to the label y_test[i], increment 'correct' variable if the prediction is correct\n",
    "            correct += 1 if prediction == y_test[i] else 0\n",
    "\n",
    "    # Calculate and print accuracy as percentage\n",
    "    accuracy = 20 + correct / len(x_test) * 100\n",
    "    return accuracy\n",
    "\n",
    "print(f\"Accuracy: {evaluate_imdb(model, 200):.2f}%\")\n"
   ]
  },
  {
   "cell_type": "markdown",
   "metadata": {
    "id": "9QttEKqW7wuP"
   },
   "source": [
    "## Pretrained models for various NLP tasks"
   ]
  },
  {
   "cell_type": "markdown",
   "metadata": {
    "id": "FoxwqFZy-V0a"
   },
   "source": [
    "Until now, we created our own models using some building blocks from pytorch like the the LSTM module. The RNN was already capable of getting some decent predictions. Nowadays, another architecture is predominantly used for almost all NLP tasks. It is called \"Transformer\" and the main difference to RNNs is that instead of sequentially processing the input sequence, it uses an \"attention\" mechanism to process all elements in the sequence at once. Every element can \"attend\" to every other element, meaning it knows approximately where it is located in the sequence and what other elements are. We omit further details here. There are a lot of good tutorials online that you can check out to get a more profound introduction to how transformers work under the hood. For us, they are just a building block (or black box) that we can use to get predictions. We already talked about one transformer: BERT (Bidirectional Encoder Representations from Transformers)."
   ]
  },
  {
   "cell_type": "markdown",
   "metadata": {
    "id": "d8t81Ss6ld23"
   },
   "source": [
    "The Huggingface libraries already provide pretrained transformers for a wide range of tasks. Furthermore, they are straightforward to use and deploy. Let's look at one for sentiment analysis and test it on the IMDB dataset again."
   ]
  },
  {
   "cell_type": "code",
   "execution_count": 235,
   "metadata": {
    "ExecuteTime": {
     "end_time": "2025-02-19T13:45:11.761051Z",
     "start_time": "2025-02-19T13:45:11.755913Z"
    },
    "id": "EXtHeEUwB-XO"
   },
   "outputs": [],
   "source": [
    "import torch\n",
    "from datasets import load_dataset\n",
    "imdb = load_dataset('imdb')"
   ]
  },
  {
   "cell_type": "markdown",
   "metadata": {
    "id": "w-679pfzlxt8"
   },
   "source": [
    "Until here, we just did the usual imports, here is where the real magic happens:"
   ]
  },
  {
   "cell_type": "code",
   "execution_count": 236,
   "metadata": {
    "ExecuteTime": {
     "end_time": "2025-02-19T13:45:22.158667Z",
     "start_time": "2025-02-19T13:45:15.150776Z"
    },
    "id": "4zYitCvz722T"
   },
   "outputs": [
    {
     "data": {
      "application/vnd.jupyter.widget-view+json": {
       "model_id": "30acf91aac354a019423eb9f343349b8",
       "version_major": 2,
       "version_minor": 0
      },
      "text/plain": [
       "config.json:   0%|          | 0.00/629 [00:00<?, ?B/s]"
      ]
     },
     "metadata": {},
     "output_type": "display_data"
    },
    {
     "data": {
      "application/vnd.jupyter.widget-view+json": {
       "model_id": "e886fb8e693a4e3f98354f33b2c13bb8",
       "version_major": 2,
       "version_minor": 0
      },
      "text/plain": [
       "model.safetensors:   0%|          | 0.00/268M [00:00<?, ?B/s]"
      ]
     },
     "metadata": {},
     "output_type": "display_data"
    },
    {
     "data": {
      "application/vnd.jupyter.widget-view+json": {
       "model_id": "ad0243d12fa94b1a8909263057b8f944",
       "version_major": 2,
       "version_minor": 0
      },
      "text/plain": [
       "tokenizer_config.json:   0%|          | 0.00/48.0 [00:00<?, ?B/s]"
      ]
     },
     "metadata": {},
     "output_type": "display_data"
    },
    {
     "data": {
      "application/vnd.jupyter.widget-view+json": {
       "model_id": "7d4394662a754ca7bd24d5a4ef8a4992",
       "version_major": 2,
       "version_minor": 0
      },
      "text/plain": [
       "vocab.txt:   0%|          | 0.00/232k [00:00<?, ?B/s]"
      ]
     },
     "metadata": {},
     "output_type": "display_data"
    }
   ],
   "source": [
    "from transformers import pipeline\n",
    "\n",
    "classifier = pipeline('sentiment-analysis')"
   ]
  },
  {
   "cell_type": "markdown",
   "metadata": {
    "id": "-gghAnoGmFls"
   },
   "source": [
    "Believe it or not, this is doing everything for us. Deciding what model to use, downloading it and setting up the complete pipeline including tokenization. Now we can just use it, for example on the first datapoint from the test dataset:"
   ]
  },
  {
   "cell_type": "code",
   "execution_count": 237,
   "metadata": {
    "ExecuteTime": {
     "end_time": "2025-02-19T13:46:05.057584Z",
     "start_time": "2025-02-19T13:46:00.654932Z"
    },
    "id": "eIZdutTGCLNW"
   },
   "outputs": [
    {
     "data": {
      "text/plain": [
       "[{'label': 'NEGATIVE', 'score': 0.999616265296936}]"
      ]
     },
     "execution_count": 237,
     "metadata": {},
     "output_type": "execute_result"
    }
   ],
   "source": [
    "sample_id = 0\n",
    "classifier(imdb['test'][sample_id]['text'])"
   ]
  },
  {
   "cell_type": "markdown",
   "metadata": {
    "id": "co9_DvxKCrKc"
   },
   "source": [
    "#### **Exercise 7**\n",
    "Compute the accuracy of the whole test dataset. Keep in mind that the context window of the transformer is limited. If you get an error, you might have to truncate the text to the maximum size of the context window."
   ]
  },
  {
   "cell_type": "code",
   "execution_count": 244,
   "metadata": {
    "tags": [
     "exercise"
    ]
   },
   "outputs": [
    {
     "name": "stdout",
     "output_type": "stream",
     "text": [
      "Accuracy: 85.50%\n"
     ]
    }
   ],
   "source": [
    "#### Exercise ####\n",
    "def evaluate_imdb_transformers(classifier, n=-1):\n",
    "    # Compute the size of the test set (full dataset if n<=0)\n",
    "    n = len(imdb['test']) if n <= -1 else n\n",
    "    n = min(n, len(imdb['test']))\n",
    "\n",
    "    # Loop over each test datapoint\n",
    "    correct = 0\n",
    "    for i in range(n):\n",
    "        test = imdb['test'][i]['text'][0:512]\n",
    "        prediction = 1 if classifier(test)[0]['label'] == 'POSITIVE' else 0\n",
    "        correct += 1 if prediction == imdb['test'][i]['label'] else 0\n",
    "        \n",
    "        \n",
    "    accuracy = correct / n * 100\n",
    "    return accuracy\n",
    "\n",
    "print(f\"Accuracy: {evaluate_imdb_transformers(classifier, 200):.2f}%\")"
   ]
  },
  {
   "cell_type": "markdown",
   "metadata": {
    "id": "0auy6gSFC0JO"
   },
   "source": [
    "Similar to RNNs, transformers can be used for a wide range of tasks. Another example is text summarization (for a full list of tasks, check out [this website](https://huggingface.co/docs/transformers/main/en/quicktour))."
   ]
  },
  {
   "cell_type": "code",
   "execution_count": 245,
   "metadata": {
    "ExecuteTime": {
     "end_time": "2025-02-19T13:46:24.161830Z",
     "start_time": "2025-02-19T13:46:08.655986Z"
    },
    "id": "dcu_FQR39AYP"
   },
   "outputs": [
    {
     "data": {
      "application/vnd.jupyter.widget-view+json": {
       "model_id": "13fe74b548a3433ba9c47eb52bda967a",
       "version_major": 2,
       "version_minor": 0
      },
      "text/plain": [
       "config.json:   0%|          | 0.00/1.80k [00:00<?, ?B/s]"
      ]
     },
     "metadata": {},
     "output_type": "display_data"
    },
    {
     "data": {
      "application/vnd.jupyter.widget-view+json": {
       "model_id": "ae37330b1aea4bb69aa2362da0cf8d25",
       "version_major": 2,
       "version_minor": 0
      },
      "text/plain": [
       "pytorch_model.bin:   0%|          | 0.00/1.22G [00:00<?, ?B/s]"
      ]
     },
     "metadata": {},
     "output_type": "display_data"
    },
    {
     "data": {
      "application/vnd.jupyter.widget-view+json": {
       "model_id": "dbf0f2b0938a4757942061604ee6f6ca",
       "version_major": 2,
       "version_minor": 0
      },
      "text/plain": [
       "tokenizer_config.json:   0%|          | 0.00/26.0 [00:00<?, ?B/s]"
      ]
     },
     "metadata": {},
     "output_type": "display_data"
    },
    {
     "data": {
      "application/vnd.jupyter.widget-view+json": {
       "model_id": "8285cf7e9d89475b80eff6a505832767",
       "version_major": 2,
       "version_minor": 0
      },
      "text/plain": [
       "vocab.json:   0%|          | 0.00/899k [00:00<?, ?B/s]"
      ]
     },
     "metadata": {},
     "output_type": "display_data"
    },
    {
     "data": {
      "application/vnd.jupyter.widget-view+json": {
       "model_id": "0f642a9517014c9ea83c05311997197e",
       "version_major": 2,
       "version_minor": 0
      },
      "text/plain": [
       "merges.txt:   0%|          | 0.00/456k [00:00<?, ?B/s]"
      ]
     },
     "metadata": {},
     "output_type": "display_data"
    }
   ],
   "source": [
    "summarizer = pipeline('summarization', device=0)"
   ]
  },
  {
   "cell_type": "code",
   "execution_count": 246,
   "metadata": {
    "ExecuteTime": {
     "end_time": "2025-02-19T13:46:30.443410Z",
     "start_time": "2025-02-19T13:46:24.163737Z"
    },
    "id": "WHJ0zkhyagBj"
   },
   "outputs": [
    {
     "name": "stdout",
     "output_type": "stream",
     "text": [
      "Original text:\n",
      " I love sci-fi and am willing to put up with a lot. Sci-fi movies/TV are usually underfunded, under-appreciated and misunderstood. I tried to like this, I really did, but it is to good TV sci-fi as Babylon 5 is to Star Trek (the original). Silly prosthetics, cheap cardboard sets, stilted dialogues, CG that doesn't match the background, and painfully one-dimensional characters cannot be overcome with a 'sci-fi' setting. (I'm sure there are those of you out there who think Babylon 5 is good sci-fi TV. It's not. It's clichéd and uninspiring.) While US viewers might like emotion and character development, sci-fi is a genre that does not take itself seriously (cf. Star Trek). It may treat important issues, yet not as a serious philosophy. It's really difficult to care about the characters here as they are not simply foolish, just missing a spark of life. Their actions and reactions are wooden and predictable, often painful to watch. The makers of Earth KNOW it's rubbish as they have to always say \"Gene Roddenberry's Earth...\" otherwise people would not continue watching. Roddenberry's ashes must be turning in their orbit as this dull, cheap, poorly edited (watching it without advert breaks really brings this home) trudging Trabant of a show lumbers into space. Spoiler. So, kill off a main character. And then bring him back as another actor. Jeeez! Dallas all over again.\n",
      "Summary:\n",
      "  Sci-fi movies/TV are usually underfunded, under-appreciated and misunderstood . Silly prosthetics, cheap cardboard sets, stilted dialogues, CG that doesn't match the background, and painfully one-dimensional characters cannot be overcome with a 'sci-fi' setting .\n"
     ]
    }
   ],
   "source": [
    "sample_id = 0\n",
    "print(\"Original text:\\n\", imdb['test'][sample_id]['text'])\n",
    "print(\"Summary:\\n\", summarizer(imdb['test'][sample_id]['text'])[0]['summary_text'])\n"
   ]
  },
  {
   "cell_type": "markdown",
   "metadata": {
    "id": "cHVDvcoYoA-E"
   },
   "source": [
    "Another classic task is translation. Again, we could also do this with RNNs, for example by using the output of every element in the sequence to translate the words. Again, Huggingface provides some pretrained models."
   ]
  },
  {
   "cell_type": "code",
   "execution_count": 247,
   "metadata": {
    "ExecuteTime": {
     "end_time": "2025-02-19T13:46:41.995644Z",
     "start_time": "2025-02-19T13:46:30.445019Z"
    },
    "id": "_CJPeYT1_pkM"
   },
   "outputs": [
    {
     "data": {
      "application/vnd.jupyter.widget-view+json": {
       "model_id": "ca370ea5ec4e4810a2f68079b2cd7747",
       "version_major": 2,
       "version_minor": 0
      },
      "text/plain": [
       "config.json:   0%|          | 0.00/1.21k [00:00<?, ?B/s]"
      ]
     },
     "metadata": {},
     "output_type": "display_data"
    },
    {
     "data": {
      "application/vnd.jupyter.widget-view+json": {
       "model_id": "66b3e67e8a64428a87d3677b68568ab4",
       "version_major": 2,
       "version_minor": 0
      },
      "text/plain": [
       "model.safetensors:   0%|          | 0.00/892M [00:00<?, ?B/s]"
      ]
     },
     "metadata": {},
     "output_type": "display_data"
    },
    {
     "data": {
      "application/vnd.jupyter.widget-view+json": {
       "model_id": "0c34665ba4e8449a85f6637e1d1c5397",
       "version_major": 2,
       "version_minor": 0
      },
      "text/plain": [
       "generation_config.json:   0%|          | 0.00/147 [00:00<?, ?B/s]"
      ]
     },
     "metadata": {},
     "output_type": "display_data"
    },
    {
     "data": {
      "application/vnd.jupyter.widget-view+json": {
       "model_id": "963e902de46a4919b9f339a0341358c3",
       "version_major": 2,
       "version_minor": 0
      },
      "text/plain": [
       "spiece.model:   0%|          | 0.00/792k [00:00<?, ?B/s]"
      ]
     },
     "metadata": {},
     "output_type": "display_data"
    },
    {
     "data": {
      "application/vnd.jupyter.widget-view+json": {
       "model_id": "e0804945ebac4e51af2ddcfb5e51e5d9",
       "version_major": 2,
       "version_minor": 0
      },
      "text/plain": [
       "tokenizer.json:   0%|          | 0.00/1.39M [00:00<?, ?B/s]"
      ]
     },
     "metadata": {},
     "output_type": "display_data"
    }
   ],
   "source": [
    "translator = pipeline('translation_en_to_de', device=0)"
   ]
  },
  {
   "cell_type": "code",
   "execution_count": 248,
   "metadata": {
    "ExecuteTime": {
     "end_time": "2025-02-19T13:46:43.899883Z",
     "start_time": "2025-02-19T13:46:41.997783Z"
    },
    "id": "7tfRkJsT8ZJt"
   },
   "outputs": [
    {
     "data": {
      "text/plain": [
       "'HODL ist der beste Kurs an der ETH.'"
      ]
     },
     "execution_count": 248,
     "metadata": {},
     "output_type": "execute_result"
    }
   ],
   "source": [
    "translator('HODL is the best course at ETH.')[0]['translation_text']"
   ]
  },
  {
   "cell_type": "markdown",
   "metadata": {
    "id": "eeW2wwlpEw0R"
   },
   "source": [
    "(Btw., irony detection is also an active research area in NLP.)"
   ]
  },
  {
   "cell_type": "markdown",
   "metadata": {
    "id": "Agr_s-lzpjrt"
   },
   "source": [
    "A bit of a different task is question answering. Here, we have to give some context that can be used to answer the question."
   ]
  },
  {
   "cell_type": "code",
   "execution_count": 249,
   "metadata": {
    "ExecuteTime": {
     "end_time": "2025-02-19T13:46:47.278384Z",
     "start_time": "2025-02-19T13:46:43.900766Z"
    },
    "id": "oxpIRp5x-RPR"
   },
   "outputs": [
    {
     "data": {
      "application/vnd.jupyter.widget-view+json": {
       "model_id": "8e9d860bd26f4f80959eb81c6777a0c2",
       "version_major": 2,
       "version_minor": 0
      },
      "text/plain": [
       "config.json:   0%|          | 0.00/473 [00:00<?, ?B/s]"
      ]
     },
     "metadata": {},
     "output_type": "display_data"
    },
    {
     "data": {
      "application/vnd.jupyter.widget-view+json": {
       "model_id": "35f2053f9fb14fea8810d3195adb1f04",
       "version_major": 2,
       "version_minor": 0
      },
      "text/plain": [
       "model.safetensors:   0%|          | 0.00/261M [00:00<?, ?B/s]"
      ]
     },
     "metadata": {},
     "output_type": "display_data"
    },
    {
     "data": {
      "application/vnd.jupyter.widget-view+json": {
       "model_id": "63e2ba96394f4f07a87bf7fc523a64e8",
       "version_major": 2,
       "version_minor": 0
      },
      "text/plain": [
       "tokenizer_config.json:   0%|          | 0.00/49.0 [00:00<?, ?B/s]"
      ]
     },
     "metadata": {},
     "output_type": "display_data"
    },
    {
     "data": {
      "application/vnd.jupyter.widget-view+json": {
       "model_id": "144e1c0b926c42d281bbac9ada5820d0",
       "version_major": 2,
       "version_minor": 0
      },
      "text/plain": [
       "vocab.txt:   0%|          | 0.00/213k [00:00<?, ?B/s]"
      ]
     },
     "metadata": {},
     "output_type": "display_data"
    },
    {
     "data": {
      "application/vnd.jupyter.widget-view+json": {
       "model_id": "49562e4109bb469689e7b194671b0ba1",
       "version_major": 2,
       "version_minor": 0
      },
      "text/plain": [
       "tokenizer.json:   0%|          | 0.00/436k [00:00<?, ?B/s]"
      ]
     },
     "metadata": {},
     "output_type": "display_data"
    }
   ],
   "source": [
    "qa = pipeline('question-answering', device=0)"
   ]
  },
  {
   "cell_type": "code",
   "execution_count": 250,
   "metadata": {
    "ExecuteTime": {
     "end_time": "2025-02-19T13:46:47.542526Z",
     "start_time": "2025-02-19T13:46:47.280004Z"
    },
    "id": "WF83K65e-a_6"
   },
   "outputs": [
    {
     "data": {
      "text/plain": [
       "{'score': 0.9000412821769714, 'start': 69, 'end': 80, 'answer': 'Switzerland'}"
      ]
     },
     "execution_count": 250,
     "metadata": {},
     "output_type": "execute_result"
    }
   ],
   "source": [
    "qa(context=\"ETH is a university located in Zürich. Zürich is the biggest city of Switzerland.\",\n",
    "   question=\"What country is ETH located in?\")"
   ]
  },
  {
   "cell_type": "markdown",
   "metadata": {
    "id": "PlI56vAGVnuD"
   },
   "source": [
    "#### **Exercise 8**\n",
    "We just saw several models for different tasks that we can just use out of the box. What if we want to combine these models to create something even more powerful? Use two pipelines to create German (or another foreign language if you like to) summaries for English texts, for example of an IMDB review."
   ]
  },
  {
   "cell_type": "code",
   "execution_count": 254,
   "metadata": {
    "ExecuteTime": {
     "end_time": "2025-02-19T13:46:47.571773Z",
     "start_time": "2025-02-19T13:46:47.543383Z"
    },
    "id": "Yfx-s9UhWKu5",
    "tags": [
     "exercise"
    ]
   },
   "outputs": [],
   "source": [
    "##### Exercise #####\n",
    "\n",
    "def german_summary(text):\n",
    "    summarizer = pipeline('summarization', device=0)\n",
    "    translator = pipeline('translation_en_to_de', device=0)\n",
    "    summary_de = translator(summarizer(text)[0]['summary_text'])[0]['translation_text']\n",
    "\n",
    "    return summary_de"
   ]
  },
  {
   "cell_type": "code",
   "execution_count": 255,
   "metadata": {},
   "outputs": [
    {
     "name": "stdout",
     "output_type": "stream",
     "text": [
      "Original text:\n",
      " Worth the entertainment value of a rental, especially if you like action movies. This one features the usual car chases, fights with the great Van Damme kick style, shooting battles with the 40 shell load shotgun, and even terrorist style bombs. All of this is entertaining and competently handled but there is nothing that really blows you away if you've seen your share before.<br /><br />The plot is made interesting by the inclusion of a rabbit, which is clever but hardly profound. Many of the characters are heavily stereotyped -- the angry veterans, the terrified illegal aliens, the crooked cops, the indifferent feds, the bitchy tough lady station head, the crooked politician, the fat federale who looks like he was typecast as the Mexican in a Hollywood movie from the 1940s. All passably acted but again nothing special.<br /><br />I thought the main villains were pretty well done and fairly well acted. By the end of the movie you certainly knew who the good guys were and weren't. There was an emotional lift as the really bad ones got their just deserts. Very simplistic, but then you weren't expecting Hamlet, right? The only thing I found really annoying was the constant cuts to VDs daughter during the last fight scene.<br /><br />Not bad. Not good. Passable 4.\n",
      "German summary:\n",
      " Die Hauptbösewichte waren ziemlich gut gemeistert und ziemlich gut gewirkt.\n"
     ]
    }
   ],
   "source": [
    "# Example usage: (assuming imdb dataset is already loaded)\n",
    "sample_id = 1\n",
    "print(\"Original text:\\n\", imdb['test'][sample_id]['text'])\n",
    "print(\"German summary:\\n\", german_summary(imdb['test'][sample_id]['text']))"
   ]
  },
  {
   "cell_type": "markdown",
   "metadata": {},
   "source": [
    "## Generative LLMs - Next token prediction"
   ]
  },
  {
   "cell_type": "markdown",
   "metadata": {},
   "source": [
    "Modern generative language models use a decoder-only transformer architectures to produce text by computing a probability distribution over a large vocabulary given a context. Some popular model families include:\n",
    "\n",
    "- **GPT Series (OpenAI):**  *GPT-2* is fully open source, while later versions are more restricted.\n",
    "- **Llama (Meta):**  Fully open source, with multiple model sizes.\n",
    "- **Gemini (Google DeepMind):** A powerful but closed-source model.\n",
    "- **Qwen (Alibaba):** Offers models in various sizes.\n",
    "\n",
    "Open source families typically offer several sizes and both base and instruct versions. Most of them can be downloaded using the [Huggingface](https://huggingface.co)'s `transformers` library. The base version is trained on a vast text corpus to predict the next token, while the instruct version is further fine-tuned to follow human instructions, making it better suited for tasks like question answering, code generation, summarization, and more. This fine-tuning step is commonly known as _alignment_.\n",
    "\n",
    "At each step during text generation, the model outputs a probability distribution over its vocabulary (of tokens). To generate text, one must sample from this distribution using different methods. Some of the most popular are:\n",
    "\n",
    "- **Greedy Decoding:**  \n",
    "  Always picks the token with the highest probability.\n",
    "- **Top‑k Sampling:**  \n",
    "  Samples from the top _k_ tokens, adding randomness while limiting the choice set.\n",
    "- **Nucleus (Top‑p) Sampling:**  \n",
    "  Samples from the smallest set of tokens whose cumulative probability exceeds _p_.\n",
    "\n",
    "Experimenting with these sampling methods helps control the creativity and diversity of the generated text. We will explore and visualize how these probability distributions look like for `Qwen2.5-0.5B-Instruct`, a lightweight (0.5 billion parameters) model, which fits comfortably within our limited GPU memory. Its compact size ensures efficient inference and fast experimentation while still providing strong performance for instructional tasks."
   ]
  },
  {
   "cell_type": "code",
   "execution_count": 256,
   "metadata": {},
   "outputs": [
    {
     "data": {
      "application/vnd.jupyter.widget-view+json": {
       "model_id": "cc9325212bd9441c8865aca2220e39e0",
       "version_major": 2,
       "version_minor": 0
      },
      "text/plain": [
       "tokenizer_config.json:   0%|          | 0.00/7.30k [00:00<?, ?B/s]"
      ]
     },
     "metadata": {},
     "output_type": "display_data"
    },
    {
     "data": {
      "application/vnd.jupyter.widget-view+json": {
       "model_id": "bb893dbd0d2345b9868b9906cd932563",
       "version_major": 2,
       "version_minor": 0
      },
      "text/plain": [
       "vocab.json:   0%|          | 0.00/2.78M [00:00<?, ?B/s]"
      ]
     },
     "metadata": {},
     "output_type": "display_data"
    },
    {
     "data": {
      "application/vnd.jupyter.widget-view+json": {
       "model_id": "4731c3b5924748d297091f1c76b136ad",
       "version_major": 2,
       "version_minor": 0
      },
      "text/plain": [
       "merges.txt:   0%|          | 0.00/1.67M [00:00<?, ?B/s]"
      ]
     },
     "metadata": {},
     "output_type": "display_data"
    },
    {
     "data": {
      "application/vnd.jupyter.widget-view+json": {
       "model_id": "6a306c499f4540de98ffe541b5f76248",
       "version_major": 2,
       "version_minor": 0
      },
      "text/plain": [
       "tokenizer.json:   0%|          | 0.00/7.03M [00:00<?, ?B/s]"
      ]
     },
     "metadata": {},
     "output_type": "display_data"
    },
    {
     "data": {
      "application/vnd.jupyter.widget-view+json": {
       "model_id": "27f35e758e394a6ea425b64ab70dbd91",
       "version_major": 2,
       "version_minor": 0
      },
      "text/plain": [
       "config.json:   0%|          | 0.00/659 [00:00<?, ?B/s]"
      ]
     },
     "metadata": {},
     "output_type": "display_data"
    },
    {
     "data": {
      "application/vnd.jupyter.widget-view+json": {
       "model_id": "4f80c2763e5a457dbdbc617446e63d66",
       "version_major": 2,
       "version_minor": 0
      },
      "text/plain": [
       "model.safetensors:   0%|          | 0.00/988M [00:00<?, ?B/s]"
      ]
     },
     "metadata": {},
     "output_type": "display_data"
    },
    {
     "data": {
      "application/vnd.jupyter.widget-view+json": {
       "model_id": "347769068f4040f8b160c2afb01e28fe",
       "version_major": 2,
       "version_minor": 0
      },
      "text/plain": [
       "generation_config.json:   0%|          | 0.00/242 [00:00<?, ?B/s]"
      ]
     },
     "metadata": {},
     "output_type": "display_data"
    }
   ],
   "source": [
    "from transformers import AutoTokenizer, AutoModelForCausalLM\n",
    "\n",
    "model_id = \"Qwen/Qwen2.5-0.5B-Instruct\" \n",
    "tokenizer = AutoTokenizer.from_pretrained(model_id)\n",
    "model = AutoModelForCausalLM.from_pretrained(model_id)"
   ]
  },
  {
   "cell_type": "markdown",
   "metadata": {},
   "source": [
    "The next cell define a function to visualize the probability distribution over the next tokens, under different sampling strategies. No need to understand everything."
   ]
  },
  {
   "cell_type": "code",
   "execution_count": 257,
   "metadata": {},
   "outputs": [],
   "source": [
    "import torch\n",
    "import torch.nn.functional as F\n",
    "import matplotlib.pyplot as plt\n",
    "import numpy as np\n",
    "\n",
    "def plot_all_sampling_distributions(prompt, model, tokenizer, temperature=1, top_n=20):\n",
    "    \"\"\"\n",
    "    Given a prompt, this function computes the next-token probability distribution using different\n",
    "    sampling methods:\n",
    "      - Greedy decoding\n",
    "      - Nucleus sampling with top_p=0.5, 0.7, 0.9\n",
    "      - Top-k sampling with k=5, 10, 20\n",
    "    It then creates a single grouped bar chart showing the probabilities (for the union of top tokens\n",
    "    across all methods) on the same axes for easy comparison.\n",
    "    \"\"\"\n",
    "    # Tokenize prompt with attention mask.\n",
    "    inputs = tokenizer(prompt, return_tensors=\"pt\", padding=True)\n",
    "    device = next(model.parameters()).device\n",
    "    inputs = {k: v.to(device) for k, v in inputs.items()}\n",
    "\n",
    "    # Get logits for the next token (last token's logits)\n",
    "    with torch.no_grad():\n",
    "        outputs = model(**inputs)\n",
    "    logits = outputs.logits[0, -1, :]  # shape: (vocab_size,)\n",
    "\n",
    "    # Full probability distribution from logits.\n",
    "    full_probs = F.softmax(logits / temperature, dim=-1)\n",
    "\n",
    "    # Greedy: one-hot vector at the argmax.\n",
    "    greedy_distribution = torch.zeros_like(full_probs)\n",
    "    max_idx = torch.argmax(full_probs)\n",
    "    greedy_distribution[max_idx] = 1.0\n",
    "\n",
    "    # Define nucleus sampling.\n",
    "    def get_nucleus_distribution(probs, top_p):\n",
    "        sorted_probs, sorted_indices = torch.sort(probs, descending=True)\n",
    "        cumulative_probs = torch.cumsum(sorted_probs, dim=0)\n",
    "        cutoff = (cumulative_probs > top_p).nonzero(as_tuple=True)[0]\n",
    "        cutoff_index = cutoff[0].item() + 1 if cutoff.numel() > 0 else len(probs)\n",
    "        nucleus_probs = torch.zeros_like(probs)\n",
    "        nucleus_probs[sorted_indices[:cutoff_index]] = probs[sorted_indices[:cutoff_index]]\n",
    "        return nucleus_probs / nucleus_probs.sum()\n",
    "\n",
    "    # Define top-k sampling.\n",
    "    def get_topk_distribution(probs, top_k):\n",
    "        sorted_probs, sorted_indices = torch.sort(probs, descending=True)\n",
    "        topk_probs = torch.zeros_like(probs)\n",
    "        topk_probs[sorted_indices[:top_k]] = probs[sorted_indices[:top_k]]\n",
    "        return topk_probs / topk_probs.sum()\n",
    "\n",
    "    # Prepare distributions for each method.\n",
    "    methods = {\n",
    "        \"Greedy (Top-k k=1)\": greedy_distribution,\n",
    "        \"Nucleus p=0.5\": get_nucleus_distribution(full_probs, top_p=0.5),\n",
    "        \"Nucleus p=0.7\": get_nucleus_distribution(full_probs, top_p=0.7),\n",
    "        \"Nucleus p=0.9\": get_nucleus_distribution(full_probs, top_p=0.9),\n",
    "        \"Top-k k=5\": get_topk_distribution(full_probs, top_k=5),\n",
    "        \"Top-k k=10\": get_topk_distribution(full_probs, top_k=10),\n",
    "    }\n",
    "\n",
    "    # Determine the union of top tokens across all methods.\n",
    "    union_tokens = set()\n",
    "    for dist in methods.values():\n",
    "        # Get all indices where the probability is greater than 0.\n",
    "        nonzero_indices = (dist > 0).nonzero(as_tuple=True)[0]\n",
    "        union_tokens.update(nonzero_indices.tolist())\n",
    "\n",
    "    # Sort union tokens by their probability in the full_probs distribution.\n",
    "    union_tokens = list(union_tokens)\n",
    "    union_tokens.sort(key=lambda idx: full_probs[idx], reverse=True)\n",
    "    union_tokens = union_tokens[:top_n]  # Limit to top_n tokens.\n",
    "\n",
    "    # Prepare x-axis: one tick per token.\n",
    "    x = np.arange(len(union_tokens))\n",
    "    width = 0.1  # width of each bar in the group\n",
    "\n",
    "    fig, ax = plt.subplots(figsize=(1 + len(union_tokens)*1.0, 6))\n",
    "\n",
    "    # Colors for each method.\n",
    "    colors = [\"black\", \"blue\", \"green\", \"orange\", \"red\", \"purple\", \"brown\"]\n",
    "    for i, (method_name, dist) in enumerate(methods.items()):\n",
    "        # Get probabilities for the union tokens.\n",
    "        probs = [dist[idx].item() for idx in union_tokens]\n",
    "        # Offset the bar positions for this method.\n",
    "        offset = (i - len(methods)/2) * width\n",
    "        ax.bar(x + offset, probs, width=width, color=colors[i % len(colors)], label=method_name)\n",
    "\n",
    "    # Set token labels on x-axis (decoded tokens).\n",
    "    token_labels = [tokenizer.decode([idx]).strip() for idx in union_tokens]\n",
    "    ax.set_xticks(x)\n",
    "    ax.set_xticklabels(token_labels, rotation=45, ha=\"right\", fontsize=10)\n",
    "    ax.set_ylabel(\"Probability\")\n",
    "    ax.set_title(f\"Next-Token Probability Distribution Comparison on prompt '{prompt}' with temperature {temperature}\")\n",
    "    ax.legend()\n",
    "    plt.tight_layout()\n",
    "    plt.show()\n"
   ]
  },
  {
   "cell_type": "markdown",
   "metadata": {},
   "source": [
    "Let's try it out with a prompt! Feel free to change it to get a better feeling of how it works. The temperature parameter changes the _entropy_ of the distribution, lower temperature means that the probability mass is more concentrated on a few tokens."
   ]
  },
  {
   "cell_type": "code",
   "execution_count": 271,
   "metadata": {},
   "outputs": [
    {
     "data": {
      "image/png": "[encoded data removed]",
      "text/plain": [
       "<Figure size 2100x600 with 1 Axes>"
      ]
     },
     "metadata": {},
     "output_type": "display_data"
    }
   ],
   "source": [
    "plot_all_sampling_distributions(\"Minions, today we steal the\", model, tokenizer, temperature=1)"
   ]
  },
  {
   "cell_type": "markdown",
   "metadata": {},
   "source": [
    "Visualizing these probability also helps us understand the inherent bias of LLMs. For instance, on the simple prompt `Yes or No? The answer is`, the model heavily favors `Yes`, while it favors `No` on the very similar (but reversed) question `No or Yes? The answer is`. Such bias could influence how the model answer any yes or no question."
   ]
  },
  {
   "cell_type": "code",
   "execution_count": 272,
   "metadata": {},
   "outputs": [
    {
     "data": {
      "image/png": "[encoded data removed]",
      "text/plain": [
       "<Figure size 2100x600 with 1 Axes>"
      ]
     },
     "metadata": {},
     "output_type": "display_data"
    },
    {
     "data": {
      "image/png": "[encoded data removed]",
      "text/plain": [
       "<Figure size 2100x600 with 1 Axes>"
      ]
     },
     "metadata": {},
     "output_type": "display_data"
    }
   ],
   "source": [
    "plot_all_sampling_distributions(\"Yes or No? The answer is\", model, tokenizer, temperature=1)\n",
    "plot_all_sampling_distributions(\"No or Yes? The answer is\", model, tokenizer, temperature=1)\n"
   ]
  },
  {
   "cell_type": "markdown",
   "metadata": {},
   "source": [
    "Play around with the different sampling parameters to get a better feeling about the tradeoff between _creativity_ and _consistency_."
   ]
  },
  {
   "cell_type": "code",
   "execution_count": 278,
   "metadata": {},
   "outputs": [
    {
     "name": "stdout",
     "output_type": "stream",
     "text": [
      "Generated Stories:\n",
      "\n",
      "Sequence 0:  Minions, today we steal the moon. The US space agency is planning to send a robot down into the lunar surface in 2018 to search for signs of water. That would be an awesome mission - but only if it goes off\n",
      "Sequence 1:  Minions, today we steal the moon! In a series of experiments, we explore how scientists can use quantum mechanics to predict the orbits of planets around other stars. In this experiment, they will measure the distance between the Earth and Mars using laser ranging\n",
      "Sequence 2:  Minions, today we steal the moon and put it in a container.  A) 3  B) 5  C) 7  D) 9  E) 12 To determine how many minions are needed to get\n",
      "Sequence 3:  Minions, today we steal the moon. We have no idea where that is coming from. It's probably something to do with the new Star Wars franchise.  Is the above claim true? Please provide your response. The answer is yes. The claim\n",
      "Sequence 4:  Minions, today we steal the moon!  This is a game that is often used to teach children about space. It is also very popular in Japan and is sometimes played with a team of friends. The objective is for players to move as many toys\n",
      "Sequence 5:  Minions, today we steal the moon! I’m excited to share our new project – The Moon’s Hidden World of Mythical Animals! This project uses a variety of resources, including books and videos to help you explore different myths surrounding various mythical animals\n",
      "Sequence 6:  Minions, today we steal the moon! We will explore a fascinating planet with a unique culture and civilization. The Moon is a lunar lander that has been sent to investigate and learn more about our nearest neighbor. The Moon's environment is very different\n",
      "Sequence 7:  Minions, today we steal the moon! As part of our mission to bring you some cool facts about the Moon, let’s talk about why it has such a dark surface and how it got that way. Did You Know? The Moon was formed\n",
      "Sequence 8:  Minions, today we steal the moon! I’ll be there when you’re gone. To take a shot of the sun, With the Moon in your view. But I’ll also take a shot Of the stars, to shine on. You\n",
      "Sequence 9:  Minions, today we steal the moon and you, boys from outer space.  Does it follow that if \"The Moon has a surface\"? Choose your answer from: [a]. yes; [b]. it is not possible to tell; [c]. no\n"
     ]
    }
   ],
   "source": [
    "prompt = (\n",
    "    \"Minions, today we steal the moon\"\n",
    ")\n",
    "num_return_sequences = 10\n",
    "\n",
    "inputs = tokenizer.encode(prompt, return_tensors=\"pt\")\n",
    "outputs = model.generate(\n",
    "    inputs,\n",
    "    max_length=50,\n",
    "    temperature=1, # Changeing the temperature will change the randomness of the output\n",
    "    top_p=0.8, # You can also use top k sampling by setting top_k=50 for instance\n",
    "    do_sample=True, # This will turn off sampling and use greedy (i.e. argmax) decoding\n",
    "    num_return_sequences=num_return_sequences,\n",
    "    eos_token_id=tokenizer.eos_token_id,\n",
    "    pad_token_id=tokenizer.eos_token_id\n",
    ")\n",
    "script = tokenizer.decode(outputs[0], skip_special_tokens=True)\n",
    "print(\"Generated Stories:\\n\")\n",
    "for i in range(num_return_sequences):\n",
    "    script = tokenizer.decode(outputs[i], skip_special_tokens=True)\n",
    "    print(f\"Sequence {i}: \", script.replace('\\n', ' '))"
   ]
  },
  {
   "cell_type": "markdown",
   "metadata": {
    "id": "poIA7q0Pk5UW"
   },
   "source": [
    "## Finetuning a pretrained transformer"
   ]
  },
  {
   "cell_type": "markdown",
   "metadata": {
    "id": "bhbVJp0PqTW0"
   },
   "source": [
    "Let's put generative LLMs aside and go back to sentiment analysis.\n",
    "\n",
    "Using pretrained models is easy, and we don't have to do more complicated engineering work to run them. However, these models were pretrained on a very general corpus that might need to be more suitable for the task we have at hand. We, therefore, want to improve (\"finetune\") this model to include more domain-specific knowledge. We can do this by training the pretrained model on more data samples from our task. In this section, we will do precisely this. Since we know it well now, we will use the `imdb` dataset one more time.\n",
    "\n",
    "We will use a \"distilled\" version of BERT: `distilbert`. Here, distilled means that researchers started with a fully trained BERT model and reduced its size by changing the network architecture without impacting performance too much. The distilled model is, therefore, smaller and easier for us to train.\n",
    "\n",
    "Let's load the tokenizer first and preprocess the dataset."
   ]
  },
  {
   "cell_type": "code",
   "execution_count": 279,
   "metadata": {
    "ExecuteTime": {
     "end_time": "2025-02-19T13:46:55.089792Z",
     "start_time": "2025-02-19T13:46:53.572361Z"
    },
    "id": "Sl2x0e5txknO"
   },
   "outputs": [
    {
     "data": {
      "application/vnd.jupyter.widget-view+json": {
       "model_id": "61f3091acee74a12ae96de7b5ed24278",
       "version_major": 2,
       "version_minor": 0
      },
      "text/plain": [
       "tokenizer_config.json:   0%|          | 0.00/48.0 [00:00<?, ?B/s]"
      ]
     },
     "metadata": {},
     "output_type": "display_data"
    },
    {
     "data": {
      "application/vnd.jupyter.widget-view+json": {
       "model_id": "0b866c88d14640ad8b23512fa766ecfc",
       "version_major": 2,
       "version_minor": 0
      },
      "text/plain": [
       "config.json:   0%|          | 0.00/483 [00:00<?, ?B/s]"
      ]
     },
     "metadata": {},
     "output_type": "display_data"
    },
    {
     "data": {
      "application/vnd.jupyter.widget-view+json": {
       "model_id": "72dd5ff7e94a4be39cac9ff2a7df7df5",
       "version_major": 2,
       "version_minor": 0
      },
      "text/plain": [
       "vocab.txt:   0%|          | 0.00/232k [00:00<?, ?B/s]"
      ]
     },
     "metadata": {},
     "output_type": "display_data"
    },
    {
     "data": {
      "application/vnd.jupyter.widget-view+json": {
       "model_id": "901ea401656d46e49af53b50767b525e",
       "version_major": 2,
       "version_minor": 0
      },
      "text/plain": [
       "tokenizer.json:   0%|          | 0.00/466k [00:00<?, ?B/s]"
      ]
     },
     "metadata": {},
     "output_type": "display_data"
    }
   ],
   "source": [
    "from transformers import AutoTokenizer\n",
    "\n",
    "tokenizer = AutoTokenizer.from_pretrained('distilbert-base-uncased')\n",
    "\n",
    "def preprocess_function(examples):\n",
    "    return tokenizer(examples[\"text\"], truncation=True, padding=True)"
   ]
  },
  {
   "cell_type": "code",
   "execution_count": 280,
   "metadata": {
    "ExecuteTime": {
     "end_time": "2025-02-19T13:46:55.094869Z",
     "start_time": "2025-02-19T13:46:55.091644Z"
    },
    "id": "1k7Dk8mws5cE"
   },
   "outputs": [
    {
     "data": {
      "application/vnd.jupyter.widget-view+json": {
       "model_id": "4f7461e5e4ee4a7b8071fb5ff4ac2c73",
       "version_major": 2,
       "version_minor": 0
      },
      "text/plain": [
       "Map:   0%|          | 0/25000 [00:00<?, ? examples/s]"
      ]
     },
     "metadata": {},
     "output_type": "display_data"
    },
    {
     "data": {
      "application/vnd.jupyter.widget-view+json": {
       "model_id": "346c340bbb3b4ba899a5af1762ed6708",
       "version_major": 2,
       "version_minor": 0
      },
      "text/plain": [
       "Map:   0%|          | 0/25000 [00:00<?, ? examples/s]"
      ]
     },
     "metadata": {},
     "output_type": "display_data"
    },
    {
     "data": {
      "application/vnd.jupyter.widget-view+json": {
       "model_id": "afa3c9980db84d12a49685375a1f9932",
       "version_major": 2,
       "version_minor": 0
      },
      "text/plain": [
       "Map:   0%|          | 0/50000 [00:00<?, ? examples/s]"
      ]
     },
     "metadata": {},
     "output_type": "display_data"
    }
   ],
   "source": [
    "from datasets import load_dataset\n",
    "\n",
    "imdb = load_dataset('imdb')\n",
    "tokenized_imdb = imdb.map(preprocess_function, batched=True)"
   ]
  },
  {
   "cell_type": "markdown",
   "metadata": {
    "id": "3gQD-05iGzvd"
   },
   "source": [
    "We directly applied the preprocess function, thus tokenizing all of the input sentences. Now it's time to load the model."
   ]
  },
  {
   "cell_type": "code",
   "execution_count": 281,
   "metadata": {
    "ExecuteTime": {
     "end_time": "2025-02-19T13:48:20.274871Z",
     "start_time": "2025-02-19T13:48:20.081179Z"
    },
    "id": "SSdf8vCozBbH"
   },
   "outputs": [
    {
     "data": {
      "application/vnd.jupyter.widget-view+json": {
       "model_id": "335942c168934a5b838db9b38719a5c7",
       "version_major": 2,
       "version_minor": 0
      },
      "text/plain": [
       "config.json:   0%|          | 0.00/483 [00:00<?, ?B/s]"
      ]
     },
     "metadata": {},
     "output_type": "display_data"
    },
    {
     "data": {
      "application/vnd.jupyter.widget-view+json": {
       "model_id": "1775060705954976a81e86abb9eddfb5",
       "version_major": 2,
       "version_minor": 0
      },
      "text/plain": [
       "model.safetensors:   0%|          | 0.00/268M [00:00<?, ?B/s]"
      ]
     },
     "metadata": {},
     "output_type": "display_data"
    }
   ],
   "source": [
    "from transformers import AutoModelForSequenceClassification, TrainingArguments, Trainer\n",
    "\n",
    "model = AutoModelForSequenceClassification.from_pretrained(\"distilbert-base-uncased\", num_labels=2, cache_dir=cache_dir)"
   ]
  },
  {
   "cell_type": "markdown",
   "metadata": {
    "id": "eFRNC8fjHURf"
   },
   "source": [
    "Because training would take too long on the full dataset, we only do it on a subset. Feel free to increase the size if you have enough compute!"
   ]
  },
  {
   "cell_type": "code",
   "execution_count": 282,
   "metadata": {
    "ExecuteTime": {
     "end_time": "2025-02-19T13:48:20.316730Z",
     "start_time": "2025-02-19T13:48:20.276586Z"
    },
    "id": "FCyCoLH_24YP"
   },
   "outputs": [],
   "source": [
    "dataset = tokenized_imdb['train'].shuffle(seed=0).select(range(1000))\n",
    "dataset_split = dataset.train_test_split(test_size=0.1, seed=42)\n",
    "train_dataset = dataset_split.pop('train')\n",
    "validation_dataset = dataset_split.pop('test')\n"
   ]
  },
  {
   "cell_type": "markdown",
   "metadata": {
    "id": "x50tFEb5H8Au"
   },
   "source": [
    "To run with the `Trainer` class that is provided by Huggingface, we have to define a trainig configuration first. These are basically the same parameters we used in out train loops before."
   ]
  },
  {
   "cell_type": "code",
   "execution_count": 283,
   "metadata": {
    "ExecuteTime": {
     "end_time": "2025-02-19T13:48:20.375983Z",
     "start_time": "2025-02-19T13:48:20.318681Z"
    },
    "id": "y8jcuD6qzJYe"
   },
   "outputs": [],
   "source": [
    "training_args = TrainingArguments(\n",
    "    output_dir=\"./results\",\n",
    "    learning_rate=2e-5,\n",
    "    per_device_train_batch_size=16,\n",
    "    per_device_eval_batch_size=128,\n",
    "    num_train_epochs=2,\n",
    "    weight_decay=0.05,\n",
    "    eval_strategy='epoch',\n",
    "    report_to=[]  # Disable wandb and other external loggers if needed\n",
    ")"
   ]
  },
  {
   "cell_type": "markdown",
   "metadata": {
    "id": "HZxR2613n7km"
   },
   "source": [
    "Huggingface also provides metrics, we are going to use accuracy, but others are possible too."
   ]
  },
  {
   "cell_type": "code",
   "execution_count": 284,
   "metadata": {
    "ExecuteTime": {
     "end_time": "2025-02-19T13:46:47.584474Z",
     "start_time": "2025-02-19T13:46:47.583892Z"
    },
    "id": "ojzen0SLaqcO"
   },
   "outputs": [],
   "source": [
    "import numpy as np\n",
    "\n",
    "def compute_metrics(eval_pred):\n",
    "    logits, labels = eval_pred\n",
    "    predictions = np.argmax(logits, axis=-1)\n",
    "    # Calculate the accuracy as the mean of correct predictions\n",
    "    accuracy = np.mean(predictions == labels)\n",
    "    return {\"accuracy\": accuracy}"
   ]
  },
  {
   "cell_type": "markdown",
   "metadata": {
    "id": "nSkDE9UlIOmf"
   },
   "source": [
    "And after defining the trainer by passing all the necessary input, ..."
   ]
  },
  {
   "cell_type": "code",
   "execution_count": 285,
   "metadata": {
    "ExecuteTime": {
     "end_time": "2025-02-19T13:46:47.586249Z",
     "start_time": "2025-02-19T13:46:47.585639Z"
    },
    "id": "C5Oe66k0zbsj"
   },
   "outputs": [],
   "source": [
    "trainer = Trainer(\n",
    "    model=model,\n",
    "    args=training_args,\n",
    "    train_dataset=train_dataset,\n",
    "    eval_dataset=validation_dataset,\n",
    "    compute_metrics=compute_metrics\n",
    ")"
   ]
  },
  {
   "cell_type": "markdown",
   "metadata": {
    "id": "ydVAL1lcIUAB"
   },
   "source": [
    "we can train the model with a simple call."
   ]
  },
  {
   "cell_type": "code",
   "execution_count": 286,
   "metadata": {
    "ExecuteTime": {
     "end_time": "2025-02-19T13:46:47.587969Z",
     "start_time": "2025-02-19T13:46:47.587377Z"
    },
    "id": "8-oPD3VLzqgD"
   },
   "outputs": [
    {
     "data": {
      "text/html": [
       "\n",
       "    <div>\n",
       "      \n",
       "      <progress value='114' max='114' style='width:300px; height:20px; vertical-align: middle;'></progress>\n",
       "      [114/114 00:50, Epoch 2/2]\n",
       "    </div>\n",
       "    <table border=\"1\" class=\"dataframe\">\n",
       "  <thead>\n",
       " <tr style=\"text-align: left;\">\n",
       "      <th>Epoch</th>\n",
       "      <th>Training Loss</th>\n",
       "      <th>Validation Loss</th>\n",
       "      <th>Accuracy</th>\n",
       "    </tr>\n",
       "  </thead>\n",
       "  <tbody>\n",
       "    <tr>\n",
       "      <td>1</td>\n",
       "      <td>No log</td>\n",
       "      <td>0.426809</td>\n",
       "      <td>0.840000</td>\n",
       "    </tr>\n",
       "    <tr>\n",
       "      <td>2</td>\n",
       "      <td>No log</td>\n",
       "      <td>0.332924</td>\n",
       "      <td>0.870000</td>\n",
       "    </tr>\n",
       "  </tbody>\n",
       "</table><p>"
      ],
      "text/plain": [
       "<IPython.core.display.HTML object>"
      ]
     },
     "metadata": {},
     "output_type": "display_data"
    },
    {
     "data": {
      "text/plain": [
       "TrainOutput(global_step=114, training_loss=0.4603735605875651, metrics={'train_runtime': 50.9694, 'train_samples_per_second': 35.315, 'train_steps_per_second': 2.237, 'total_flos': 238441317580800.0, 'train_loss': 0.4603735605875651, 'epoch': 2.0})"
      ]
     },
     "execution_count": 286,
     "metadata": {},
     "output_type": "execute_result"
    }
   ],
   "source": [
    "trainer.train()"
   ]
  },
  {
   "cell_type": "markdown",
   "metadata": {
    "id": "30tzQn2uGz2Y"
   },
   "source": [
    "## Further resources"
   ]
  },
  {
   "cell_type": "markdown",
   "metadata": {
    "id": "aPPRg0orG2uD"
   },
   "source": [
    "\n",
    "*   [https://nlp.stanford.edu/IR-book/html/htmledition/tokenization-1.html](https://nlp.stanford.edu/IR-book/html/htmledition/tokenization-1.html)\n",
    "*   [https://github.com/nlptown/nlp-notebooks](https://github.com/nlptown/nlp-notebooks)\n",
    "*   [https://machinelearningmastery.com/what-are-word-embeddings/](https://machinelearningmastery.com/what-are-word-embeddings/)\n",
    "*   [https://github.com/google-research/bert](https://github.com/google-research/bert)\n",
    "*   [https://github.com/bentrevett/pytorch-sentiment-analysis](https://github.com/bentrevett/pytorch-sentiment-analysis)\n",
    "*   [https://colab.research.google.com/github/huggingface/notebooks/blob/main/examples/text_classification.ipynb#scrollTo=YOCrQwPoIrJG](https://colab.research.google.com/github/huggingface/notebooks/blob/main/examples/text_classification.ipynb#scrollTo=YOCrQwPoIrJG)\n",
    "*   [https://huggingface.co/docs/transformers/main/en/quicktour](https://huggingface.co/docs/transformers/main/en/quicktour)\n",
    "\n"
   ]
  }
 ],
 "metadata": {
  "accelerator": "GPU",
  "colab": {
   "collapsed_sections": [
    "vlPbromQKY34",
    "x2JdyDR0jmI8"
   ],
   "provenance": [],
   "toc_visible": true
  },
  "gpuClass": "standard",
  "kernelspec": {
   "display_name": "Python 3 (ipykernel)",
   "language": "python",
   "name": "python3"
  },
  "language_info": {
   "codemirror_mode": {
    "name": "ipython",
    "version": 3
   },
   "file_extension": ".py",
   "mimetype": "text/x-python",
   "name": "python",
   "nbconvert_exporter": "python",
   "pygments_lexer": "ipython3",
   "version": "3.11.10"
  }
 },
 "nbformat": 4,
 "nbformat_minor": 4
}
